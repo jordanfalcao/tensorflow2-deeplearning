{
  "nbformat": 4,
  "nbformat_minor": 0,
  "metadata": {
    "colab": {
      "name": "NumPy-Arrays.ipynb",
      "provenance": []
    },
    "kernelspec": {
      "name": "python3",
      "display_name": "Python 3"
    },
    "language_info": {
      "name": "python"
    }
  },
  "cells": [
    {
      "cell_type": "markdown",
      "metadata": {
        "id": "-mfKF2P6E4Gn"
      },
      "source": [
        "# NumPy Arrays"
      ]
    },
    {
      "cell_type": "code",
      "metadata": {
        "id": "FT4An0Dy-rSu"
      },
      "source": [
        "import numpy as np"
      ],
      "execution_count": 3,
      "outputs": []
    },
    {
      "cell_type": "code",
      "metadata": {
        "colab": {
          "base_uri": "https://localhost:8080/"
        },
        "id": "ymRARHyf-ts3",
        "outputId": "e2e0f763-5dde-44c4-f301-ff142c62d8a1"
      },
      "source": [
        "# lista\n",
        "mylist = [1, 2, 3]\n",
        "mylist"
      ],
      "execution_count": 6,
      "outputs": [
        {
          "output_type": "execute_result",
          "data": {
            "text/plain": [
              "[1, 2, 3]"
            ]
          },
          "metadata": {
            "tags": []
          },
          "execution_count": 6
        }
      ]
    },
    {
      "cell_type": "code",
      "metadata": {
        "colab": {
          "base_uri": "https://localhost:8080/"
        },
        "id": "1JmNEqkv-yqK",
        "outputId": "2dd7fb77-cf86-4e48-9753-8f57273ffc93"
      },
      "source": [
        "# criando array numpy\n",
        "np.array(mylist)"
      ],
      "execution_count": 7,
      "outputs": [
        {
          "output_type": "execute_result",
          "data": {
            "text/plain": [
              "array([1, 2, 3])"
            ]
          },
          "metadata": {
            "tags": []
          },
          "execution_count": 7
        }
      ]
    },
    {
      "cell_type": "code",
      "metadata": {
        "colab": {
          "base_uri": "https://localhost:8080/"
        },
        "id": "fHCNNmtjECrv",
        "outputId": "2ef20812-f61a-4cc0-dd67-1cc3ef197a9c"
      },
      "source": [
        "nested_list = [[1,2], [3,4], [5,6]]\n",
        "nested_list\n"
      ],
      "execution_count": 8,
      "outputs": [
        {
          "output_type": "execute_result",
          "data": {
            "text/plain": [
              "[[1, 2], [3, 4], [5, 6]]"
            ]
          },
          "metadata": {
            "tags": []
          },
          "execution_count": 8
        }
      ]
    },
    {
      "cell_type": "code",
      "metadata": {
        "colab": {
          "base_uri": "https://localhost:8080/"
        },
        "id": "9bgOLRu1ER8l",
        "outputId": "dcd7e399-77a5-4671-f171-b9bd7f669e5e"
      },
      "source": [
        "# numpy array de nested list\n",
        "np.array(nested_list)"
      ],
      "execution_count": 9,
      "outputs": [
        {
          "output_type": "execute_result",
          "data": {
            "text/plain": [
              "array([[1, 2],\n",
              "       [3, 4],\n",
              "       [5, 6]])"
            ]
          },
          "metadata": {
            "tags": []
          },
          "execution_count": 9
        }
      ]
    },
    {
      "cell_type": "markdown",
      "metadata": {
        "id": "eME256FYEv1x"
      },
      "source": [
        "## Built-in Methods"
      ]
    },
    {
      "cell_type": "markdown",
      "metadata": {
        "id": "XKGX3E0aE9iD"
      },
      "source": [
        "### arange"
      ]
    },
    {
      "cell_type": "code",
      "metadata": {
        "colab": {
          "base_uri": "https://localhost:8080/"
        },
        "id": "k37NOdDBEVc8",
        "outputId": "b1a642b0-dd19-454e-e0da-2505e80f629e"
      },
      "source": [
        "# np.arange(start, stop, step, dtype) [x, y)\n",
        "np.arange(0, 10)"
      ],
      "execution_count": 10,
      "outputs": [
        {
          "output_type": "execute_result",
          "data": {
            "text/plain": [
              "array([0, 1, 2, 3, 4, 5, 6, 7, 8, 9])"
            ]
          },
          "metadata": {
            "tags": []
          },
          "execution_count": 10
        }
      ]
    },
    {
      "cell_type": "code",
      "metadata": {
        "colab": {
          "base_uri": "https://localhost:8080/"
        },
        "id": "_cPphaRjFPJr",
        "outputId": "bfda97ec-aae8-45a6-ddbb-91b76f9541e0"
      },
      "source": [
        "# step = 2\n",
        "np.arange(0, 10, 2)"
      ],
      "execution_count": 11,
      "outputs": [
        {
          "output_type": "execute_result",
          "data": {
            "text/plain": [
              "array([0, 2, 4, 6, 8])"
            ]
          },
          "metadata": {
            "tags": []
          },
          "execution_count": 11
        }
      ]
    },
    {
      "cell_type": "markdown",
      "metadata": {
        "id": "isACFZC8Fvkm"
      },
      "source": [
        "### zeros and ones\n",
        "\n",
        "Generate arrays of zeros or ones. [[reference](https://docs.scipy.org/doc/numpy-1.15.0/reference/generated/numpy.zeros.html)]"
      ]
    },
    {
      "cell_type": "code",
      "metadata": {
        "colab": {
          "base_uri": "https://localhost:8080/"
        },
        "id": "xq3AQ-r0FgV9",
        "outputId": "ccb62580-1849-45e8-ae92-65a1fa955784"
      },
      "source": [
        "# cria matriz de zeros\n",
        "np.zeros(3)"
      ],
      "execution_count": 12,
      "outputs": [
        {
          "output_type": "execute_result",
          "data": {
            "text/plain": [
              "array([0., 0., 0.])"
            ]
          },
          "metadata": {
            "tags": []
          },
          "execution_count": 12
        }
      ]
    },
    {
      "cell_type": "code",
      "metadata": {
        "colab": {
          "base_uri": "https://localhost:8080/"
        },
        "id": "aoBH-V8IFzK4",
        "outputId": "6777a05b-ae3a-4b1d-9704-b8e114e7335c"
      },
      "source": [
        "# inserindo o shape\n",
        "np.zeros((4,8))"
      ],
      "execution_count": 16,
      "outputs": [
        {
          "output_type": "execute_result",
          "data": {
            "text/plain": [
              "array([[0., 0., 0., 0., 0., 0., 0., 0.],\n",
              "       [0., 0., 0., 0., 0., 0., 0., 0.],\n",
              "       [0., 0., 0., 0., 0., 0., 0., 0.],\n",
              "       [0., 0., 0., 0., 0., 0., 0., 0.]])"
            ]
          },
          "metadata": {
            "tags": []
          },
          "execution_count": 16
        }
      ]
    },
    {
      "cell_type": "code",
      "metadata": {
        "colab": {
          "base_uri": "https://localhost:8080/"
        },
        "id": "NOmVTS35GHlW",
        "outputId": "a2af348c-6c80-4727-b0b2-d0057ebb421d"
      },
      "source": [
        "# matriz de '1'\n",
        "np.ones(2)"
      ],
      "execution_count": 17,
      "outputs": [
        {
          "output_type": "execute_result",
          "data": {
            "text/plain": [
              "array([1., 1.])"
            ]
          },
          "metadata": {
            "tags": []
          },
          "execution_count": 17
        }
      ]
    },
    {
      "cell_type": "code",
      "metadata": {
        "colab": {
          "base_uri": "https://localhost:8080/"
        },
        "id": "gHxod1P_Gasj",
        "outputId": "4382d48a-3e08-46a6-e410-7cde32fa74cf"
      },
      "source": [
        "# shape\n",
        "np.ones((3,9))"
      ],
      "execution_count": 18,
      "outputs": [
        {
          "output_type": "execute_result",
          "data": {
            "text/plain": [
              "array([[1., 1., 1., 1., 1., 1., 1., 1., 1.],\n",
              "       [1., 1., 1., 1., 1., 1., 1., 1., 1.],\n",
              "       [1., 1., 1., 1., 1., 1., 1., 1., 1.]])"
            ]
          },
          "metadata": {
            "tags": []
          },
          "execution_count": 18
        }
      ]
    },
    {
      "cell_type": "markdown",
      "metadata": {
        "id": "-jkh9LxOG1mT"
      },
      "source": [
        "### linspace \n",
        "Return evenly spaced numbers over a specified interval. [[reference](https://www.numpy.org/devdocs/reference/generated/numpy.linspace.html)]"
      ]
    },
    {
      "cell_type": "code",
      "metadata": {
        "colab": {
          "base_uri": "https://localhost:8080/"
        },
        "id": "aENq-5T8GeBT",
        "outputId": "40c81da4-fa7f-43b6-ae6f-16d2bf84bc3f"
      },
      "source": [
        "# np.linspace(start, stop, interval) [intervalos fechados]\n",
        "np.linspace(0, 10, 3)"
      ],
      "execution_count": 21,
      "outputs": [
        {
          "output_type": "execute_result",
          "data": {
            "text/plain": [
              "array([ 0.,  5., 10.])"
            ]
          },
          "metadata": {
            "tags": []
          },
          "execution_count": 21
        }
      ]
    },
    {
      "cell_type": "code",
      "metadata": {
        "colab": {
          "base_uri": "https://localhost:8080/"
        },
        "id": "AGK02-oKG_Xp",
        "outputId": "f2f8b2f2-28b5-47cf-b3a2-a4dede8d1623"
      },
      "source": [
        "# inclui o stop point, atenção para adicionar uma unidade pro intervalo ficar simétrico\n",
        "np.linspace(0, 10, 21)"
      ],
      "execution_count": 23,
      "outputs": [
        {
          "output_type": "execute_result",
          "data": {
            "text/plain": [
              "array([ 0. ,  0.5,  1. ,  1.5,  2. ,  2.5,  3. ,  3.5,  4. ,  4.5,  5. ,\n",
              "        5.5,  6. ,  6.5,  7. ,  7.5,  8. ,  8.5,  9. ,  9.5, 10. ])"
            ]
          },
          "metadata": {
            "tags": []
          },
          "execution_count": 23
        }
      ]
    },
    {
      "cell_type": "code",
      "metadata": {
        "colab": {
          "base_uri": "https://localhost:8080/"
        },
        "id": "rc5hHXAvHK7Z",
        "outputId": "b1c7dfd7-1d5d-40c0-af99-1045829db0e8"
      },
      "source": [
        "# matriz identidade\n",
        "np.eye(5)"
      ],
      "execution_count": 24,
      "outputs": [
        {
          "output_type": "execute_result",
          "data": {
            "text/plain": [
              "array([[1., 0., 0., 0., 0.],\n",
              "       [0., 1., 0., 0., 0.],\n",
              "       [0., 0., 1., 0., 0.],\n",
              "       [0., 0., 0., 1., 0.],\n",
              "       [0., 0., 0., 0., 1.]])"
            ]
          },
          "metadata": {
            "tags": []
          },
          "execution_count": 24
        }
      ]
    },
    {
      "cell_type": "markdown",
      "metadata": {
        "id": "n4e579aJIhIp"
      },
      "source": [
        "## Random \n",
        "Numpy also has lots of ways to create random number arrays:\n",
        "\n",
        "### rand\n",
        "Creates an array of the given shape and populates it with random samples from a uniform distribution over ``[0, 1)``. [[reference](https://docs.scipy.org/doc/numpy-1.15.0/reference/generated/numpy.random.rand.html)]"
      ]
    },
    {
      "cell_type": "code",
      "metadata": {
        "colab": {
          "base_uri": "https://localhost:8080/"
        },
        "id": "Xr73EHdfHmQz",
        "outputId": "52ddeb9b-3142-4699-d42d-265fb84ee8c1"
      },
      "source": [
        "# cria um array com valores aleatórios e o shape atribuido, entre [0, 1)\n",
        "np.random.rand(2)"
      ],
      "execution_count": 25,
      "outputs": [
        {
          "output_type": "execute_result",
          "data": {
            "text/plain": [
              "array([0.62218767, 0.97446624])"
            ]
          },
          "metadata": {
            "tags": []
          },
          "execution_count": 25
        }
      ]
    },
    {
      "cell_type": "code",
      "metadata": {
        "colab": {
          "base_uri": "https://localhost:8080/"
        },
        "id": "IKXm5FYQI_z7",
        "outputId": "0bc1b985-8dbc-4e2c-f581-2f68e1d2c11d"
      },
      "source": [
        "# matriz\n",
        "np.random.rand(3, 4)"
      ],
      "execution_count": 26,
      "outputs": [
        {
          "output_type": "execute_result",
          "data": {
            "text/plain": [
              "array([[0.03704339, 0.73464856, 0.13204644, 0.99424426],\n",
              "       [0.42062821, 0.7161721 , 0.92340129, 0.36747603],\n",
              "       [0.11677075, 0.15573873, 0.98618956, 0.69953155]])"
            ]
          },
          "metadata": {
            "tags": []
          },
          "execution_count": 26
        }
      ]
    },
    {
      "cell_type": "markdown",
      "metadata": {
        "id": "r8WfYpLqJg73"
      },
      "source": [
        "### randn\n",
        "\n",
        "Returns a sample (or samples) from the \"standard normal\" distribution [σ = 1]. Unlike **rand** which is uniform, values closer to zero are more likely to appear. [[reference](https://docs.scipy.org/doc/numpy-1.15.0/reference/generated/numpy.random.randn.html)]"
      ]
    },
    {
      "cell_type": "code",
      "metadata": {
        "colab": {
          "base_uri": "https://localhost:8080/"
        },
        "id": "YXUdblZYJNVx",
        "outputId": "c6fe89f4-0f40-4d68-dc49-cc91b7371d16"
      },
      "source": [
        "# mesma função acima, mas seguindo uma distribuição normal: média = 0 e variÂncia = 1\n",
        "np.random.randn(5, 5)"
      ],
      "execution_count": 27,
      "outputs": [
        {
          "output_type": "execute_result",
          "data": {
            "text/plain": [
              "array([[-0.06300049, -1.59732971, -0.04791037, -0.41891192, -0.98052304],\n",
              "       [ 0.40122033, -0.78430927,  1.28768034,  1.55859332,  1.37487041],\n",
              "       [ 1.21742429,  1.32153518, -0.24180817, -0.102458  , -0.14489818],\n",
              "       [-0.56451682,  0.69951233,  1.08488835,  0.22394358,  0.83867097],\n",
              "       [-0.54682053,  0.3387173 , -0.18117732, -0.33291384, -1.81830339]])"
            ]
          },
          "metadata": {
            "tags": []
          },
          "execution_count": 27
        }
      ]
    },
    {
      "cell_type": "markdown",
      "metadata": {
        "id": "y0yGV3HkKuSt"
      },
      "source": [
        "### randint\n",
        "Returns random integers from `low` (inclusive) to `high` (exclusive).  [[reference](https://docs.scipy.org/doc/numpy-1.15.0/reference/generated/numpy.random.randint.html)]"
      ]
    },
    {
      "cell_type": "code",
      "metadata": {
        "colab": {
          "base_uri": "https://localhost:8080/"
        },
        "id": "klbuF4m8JxjO",
        "outputId": "4689a10a-f389-4ed4-dadf-d0f5be4f3911"
      },
      "source": [
        "# um inteiro entre [1, 100)\n",
        "np.random.randint(1,100)"
      ],
      "execution_count": 28,
      "outputs": [
        {
          "output_type": "execute_result",
          "data": {
            "text/plain": [
              "71"
            ]
          },
          "metadata": {
            "tags": []
          },
          "execution_count": 28
        }
      ]
    },
    {
      "cell_type": "code",
      "metadata": {
        "colab": {
          "base_uri": "https://localhost:8080/"
        },
        "id": "ALvbJ4DRK0fv",
        "outputId": "bae44ca4-afa4-47e7-924d-143e6dbe240d"
      },
      "source": [
        "# 10 números inteiros\n",
        "np.random.randint(1,100,10)"
      ],
      "execution_count": 29,
      "outputs": [
        {
          "output_type": "execute_result",
          "data": {
            "text/plain": [
              "array([11, 30, 87, 71, 14, 85, 55,  8, 82, 29])"
            ]
          },
          "metadata": {
            "tags": []
          },
          "execution_count": 29
        }
      ]
    },
    {
      "cell_type": "code",
      "metadata": {
        "colab": {
          "base_uri": "https://localhost:8080/"
        },
        "id": "Vh-bCn4gK8E2",
        "outputId": "8ecd577c-37ee-47a7-96b4-4f89737fd844"
      },
      "source": [
        "# matriz\n",
        "np.random.randint(1,100,(3, 5))"
      ],
      "execution_count": 30,
      "outputs": [
        {
          "output_type": "execute_result",
          "data": {
            "text/plain": [
              "array([[ 2,  3, 23, 26, 16],\n",
              "       [63, 99, 39, 24, 46],\n",
              "       [81, 65, 66, 33, 37]])"
            ]
          },
          "metadata": {
            "tags": []
          },
          "execution_count": 30
        }
      ]
    },
    {
      "cell_type": "markdown",
      "metadata": {
        "id": "u2_RlabmLWIn"
      },
      "source": [
        "### seed\n",
        "Can be used to set the random state, so that the same \"random\" results can be reproduced. [[reference](https://docs.scipy.org/doc/numpy-1.15.0/reference/generated/numpy.random.seed.html)]"
      ]
    },
    {
      "cell_type": "code",
      "metadata": {
        "colab": {
          "base_uri": "https://localhost:8080/"
        },
        "id": "scpjkt9dLRzw",
        "outputId": "430cface-28e4-4c17-e41f-6ce46d55de4a"
      },
      "source": [
        "# lançando uma semente, sempre teremos o mesmo resultado, para que possa ser replicado\n",
        "# deve estar na mesma célula para funcionar \n",
        "np.random.seed(42)\n",
        "np.random.rand(4)"
      ],
      "execution_count": 32,
      "outputs": [
        {
          "output_type": "execute_result",
          "data": {
            "text/plain": [
              "array([0.37454012, 0.95071431, 0.73199394, 0.59865848])"
            ]
          },
          "metadata": {
            "tags": []
          },
          "execution_count": 32
        }
      ]
    },
    {
      "cell_type": "code",
      "metadata": {
        "colab": {
          "base_uri": "https://localhost:8080/"
        },
        "id": "qIbzPWwILaMq",
        "outputId": "23f73a15-ba89-40eb-a130-cf8ead8bc91a"
      },
      "source": [
        "np.arange(25)"
      ],
      "execution_count": 33,
      "outputs": [
        {
          "output_type": "execute_result",
          "data": {
            "text/plain": [
              "array([ 0,  1,  2,  3,  4,  5,  6,  7,  8,  9, 10, 11, 12, 13, 14, 15, 16,\n",
              "       17, 18, 19, 20, 21, 22, 23, 24])"
            ]
          },
          "metadata": {
            "tags": []
          },
          "execution_count": 33
        }
      ]
    },
    {
      "cell_type": "markdown",
      "metadata": {
        "id": "3Er23gfIMTCT"
      },
      "source": [
        "## Array Attributes and Methods\n",
        "\n",
        "Let's discuss some useful attributes and methods for an array:"
      ]
    },
    {
      "cell_type": "code",
      "metadata": {
        "id": "lkH6I08_MIXs"
      },
      "source": [
        "# criando dois arrays\n",
        "arr = np.arange(25)\n",
        "ranarr = np.random.randint(0,50,10)"
      ],
      "execution_count": 34,
      "outputs": []
    },
    {
      "cell_type": "code",
      "metadata": {
        "colab": {
          "base_uri": "https://localhost:8080/"
        },
        "id": "TldxjOlcMWDW",
        "outputId": "c6d53b70-4d4a-4ad8-9c20-53b8840a753e"
      },
      "source": [
        "arr"
      ],
      "execution_count": 35,
      "outputs": [
        {
          "output_type": "execute_result",
          "data": {
            "text/plain": [
              "array([ 0,  1,  2,  3,  4,  5,  6,  7,  8,  9, 10, 11, 12, 13, 14, 15, 16,\n",
              "       17, 18, 19, 20, 21, 22, 23, 24])"
            ]
          },
          "metadata": {
            "tags": []
          },
          "execution_count": 35
        }
      ]
    },
    {
      "cell_type": "code",
      "metadata": {
        "colab": {
          "base_uri": "https://localhost:8080/"
        },
        "id": "OjiMaVBfMXCa",
        "outputId": "c8546c03-7707-49aa-8e3f-ab1f930ef888"
      },
      "source": [
        "ranarr"
      ],
      "execution_count": 36,
      "outputs": [
        {
          "output_type": "execute_result",
          "data": {
            "text/plain": [
              "array([38, 18, 22, 10, 10, 23, 35, 39, 23,  2])"
            ]
          },
          "metadata": {
            "tags": []
          },
          "execution_count": 36
        }
      ]
    },
    {
      "cell_type": "markdown",
      "metadata": {
        "id": "k8QTgsF9Mqoz"
      },
      "source": [
        "## Reshape\n",
        "Returns an array containing the same data with a new shape. [[reference](https://docs.scipy.org/doc/numpy-1.15.0/reference/generated/numpy.reshape.html)]"
      ]
    },
    {
      "cell_type": "code",
      "metadata": {
        "colab": {
          "base_uri": "https://localhost:8080/"
        },
        "id": "oZT3FGgDMYE3",
        "outputId": "f59f5297-cb43-40db-d816-f4864f5b2a41"
      },
      "source": [
        "# reorganiza o array\n",
        "arr.reshape(5,5)"
      ],
      "execution_count": 43,
      "outputs": [
        {
          "output_type": "execute_result",
          "data": {
            "text/plain": [
              "array([[ 0,  1,  2,  3,  4],\n",
              "       [ 5,  6,  7,  8,  9],\n",
              "       [10, 11, 12, 13, 14],\n",
              "       [15, 16, 17, 18, 19],\n",
              "       [20, 21, 22, 23, 24]])"
            ]
          },
          "metadata": {
            "tags": []
          },
          "execution_count": 43
        }
      ]
    },
    {
      "cell_type": "markdown",
      "metadata": {
        "id": "8sCcxPs9NOOU"
      },
      "source": [
        "### max, min, argmax, argmin\n",
        "\n",
        "These are useful methods for finding max or min values. Or to find their index locations using argmin or argmax"
      ]
    },
    {
      "cell_type": "code",
      "metadata": {
        "colab": {
          "base_uri": "https://localhost:8080/"
        },
        "id": "EAkefGUDMtPx",
        "outputId": "6400bb50-a09a-4aa9-8c82-fd22bcb38a42"
      },
      "source": [
        "# valor máximo\n",
        "ranarr.max()"
      ],
      "execution_count": 44,
      "outputs": [
        {
          "output_type": "execute_result",
          "data": {
            "text/plain": [
              "39"
            ]
          },
          "metadata": {
            "tags": []
          },
          "execution_count": 44
        }
      ]
    },
    {
      "cell_type": "code",
      "metadata": {
        "colab": {
          "base_uri": "https://localhost:8080/"
        },
        "id": "yqbMgoQxNRbA",
        "outputId": "2c082614-2986-4fe9-bf7e-05cf08908fe4"
      },
      "source": [
        "# mínimo \n",
        "ranarr.min()"
      ],
      "execution_count": 46,
      "outputs": [
        {
          "output_type": "execute_result",
          "data": {
            "text/plain": [
              "2"
            ]
          },
          "metadata": {
            "tags": []
          },
          "execution_count": 46
        }
      ]
    },
    {
      "cell_type": "code",
      "metadata": {
        "colab": {
          "base_uri": "https://localhost:8080/"
        },
        "id": "eqfD8GY5NT27",
        "outputId": "f07afa27-20fb-4800-fbb8-04371c9e16af"
      },
      "source": [
        "# posição do mínimo\n",
        "ranarr.argmin()"
      ],
      "execution_count": 47,
      "outputs": [
        {
          "output_type": "execute_result",
          "data": {
            "text/plain": [
              "9"
            ]
          },
          "metadata": {
            "tags": []
          },
          "execution_count": 47
        }
      ]
    },
    {
      "cell_type": "code",
      "metadata": {
        "colab": {
          "base_uri": "https://localhost:8080/"
        },
        "id": "aiyuB0LmNd71",
        "outputId": "08a74143-f4fd-4c57-d3f7-09a43fea8449"
      },
      "source": [
        "# posição do máximo\n",
        "ranarr.argmax()"
      ],
      "execution_count": 48,
      "outputs": [
        {
          "output_type": "execute_result",
          "data": {
            "text/plain": [
              "7"
            ]
          },
          "metadata": {
            "tags": []
          },
          "execution_count": 48
        }
      ]
    },
    {
      "cell_type": "code",
      "metadata": {
        "id": "zMKkBqOaNgth"
      },
      "source": [
        ""
      ],
      "execution_count": null,
      "outputs": []
    }
  ]
}