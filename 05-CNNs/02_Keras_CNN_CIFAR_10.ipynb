{
  "nbformat": 4,
  "nbformat_minor": 0,
  "metadata": {
    "colab": {
      "name": "02-Keras-CNN-CIFAR-10.ipynb",
      "provenance": []
    },
    "kernelspec": {
      "name": "python3",
      "display_name": "Python 3"
    },
    "language_info": {
      "name": "python"
    }
  },
  "cells": [
    {
      "cell_type": "markdown",
      "metadata": {
        "id": "fdXA60OIeFFG"
      },
      "source": [
        "# CIFAR-10 Multiple Classes\n",
        "\n",
        "Let's go over another example of using Keras and building out CNNs. This time will use another famous data set, the CIFAR-10 dataset which consists of 10 different image types."
      ]
    },
    {
      "cell_type": "code",
      "metadata": {
        "id": "wBcc0iRPd23L"
      },
      "source": [
        "import pandas as pd\n",
        "import numpy as np\n",
        "import matplotlib.pyplot as plt"
      ],
      "execution_count": 2,
      "outputs": []
    },
    {
      "cell_type": "markdown",
      "metadata": {
        "id": "rbE7qTpSeqJC"
      },
      "source": [
        "# The Data\n",
        "\n",
        "CIFAR-10 is a dataset of 50,000 32x32 color training images, labeled over 10 categories, and 10,000 test images."
      ]
    },
    {
      "cell_type": "markdown",
      "metadata": {
        "id": "MVe9ybVNe4_P"
      },
      "source": [
        "Label\tDescription:\n",
        "* 0\tairplane\n",
        "* 1\tautomobile\n",
        "* 2\tbird\n",
        "* 3\tcat\n",
        "* 4\tdeer\n",
        "* 5\tdog\n",
        "* 6\tfrog\n",
        "* 7\thorse\n",
        "* 8\tship\n",
        "* 9\ttruck\n"
      ]
    },
    {
      "cell_type": "code",
      "metadata": {
        "id": "xbQRr93YeiLy"
      },
      "source": [
        "from tensorflow.keras.datasets import cifar10"
      ],
      "execution_count": 3,
      "outputs": []
    },
    {
      "cell_type": "code",
      "metadata": {
        "colab": {
          "base_uri": "https://localhost:8080/"
        },
        "id": "ibyXV2pOeyZ0",
        "outputId": "24985bab-fe1b-41a7-dd3c-f0b75acbc033"
      },
      "source": [
        "(x_train, y_train), (x_test, y_test) = cifar10.load_data()"
      ],
      "execution_count": 5,
      "outputs": [
        {
          "output_type": "stream",
          "text": [
            "Downloading data from https://www.cs.toronto.edu/~kriz/cifar-10-python.tar.gz\n",
            "170500096/170498071 [==============================] - 2s 0us/step\n"
          ],
          "name": "stdout"
        }
      ]
    },
    {
      "cell_type": "code",
      "metadata": {
        "colab": {
          "base_uri": "https://localhost:8080/"
        },
        "id": "W2My8pH0fK6T",
        "outputId": "d647d8d8-c259-4a53-c1cc-7750ceec8256"
      },
      "source": [
        "x_train.shape"
      ],
      "execution_count": 6,
      "outputs": [
        {
          "output_type": "execute_result",
          "data": {
            "text/plain": [
              "(50000, 32, 32, 3)"
            ]
          },
          "metadata": {
            "tags": []
          },
          "execution_count": 6
        }
      ]
    },
    {
      "cell_type": "code",
      "metadata": {
        "colab": {
          "base_uri": "https://localhost:8080/"
        },
        "id": "qdvRd1icfV2C",
        "outputId": "16c2284f-a762-4503-ce7d-f795f6a02b12"
      },
      "source": [
        "x_train[0].shape"
      ],
      "execution_count": 8,
      "outputs": [
        {
          "output_type": "execute_result",
          "data": {
            "text/plain": [
              "(32, 32, 3)"
            ]
          },
          "metadata": {
            "tags": []
          },
          "execution_count": 8
        }
      ]
    },
    {
      "cell_type": "code",
      "metadata": {
        "colab": {
          "base_uri": "https://localhost:8080/",
          "height": 105
        },
        "id": "r46xSv3HfXUx",
        "outputId": "858a667e-79d0-4553-ecdb-f6ad08ad16b5"
      },
      "source": [
        "# frog\n",
        "plt.figure(figsize = (1,1))\n",
        "plt.imshow(x_train[0])\n",
        "plt.show()"
      ],
      "execution_count": 17,
      "outputs": [
        {
          "output_type": "display_data",
          "data": {
            "image/png": "[encoded data removed]",
            "text/plain": [
              "<Figure size 72x72 with 1 Axes>"
            ]
          },
          "metadata": {
            "tags": [],
            "needs_background": "light"
          }
        }
      ]
    },
    {
      "cell_type": "code",
      "metadata": {
        "colab": {
          "base_uri": "https://localhost:8080/",
          "height": 105
        },
        "id": "Ndkb8Ffafe3n",
        "outputId": "9e5d6943-19f6-4009-f874-b7b0ea3e41b1"
      },
      "source": [
        "# HORSE\n",
        "plt.figure(figsize = (1,1))\n",
        "plt.imshow(x_train[12])\n",
        "plt.show()"
      ],
      "execution_count": 16,
      "outputs": [
        {
          "output_type": "display_data",
          "data": {
            "image/png": "[encoded data removed]",
            "text/plain": [
              "<Figure size 72x72 with 1 Axes>"
            ]
          },
          "metadata": {
            "tags": [],
            "needs_background": "light"
          }
        }
      ]
    },
    {
      "cell_type": "markdown",
      "metadata": {
        "id": "6JCvd2h4f79P"
      },
      "source": [
        "# PreProcessing"
      ]
    },
    {
      "cell_type": "code",
      "metadata": {
        "colab": {
          "base_uri": "https://localhost:8080/"
        },
        "id": "wKa0N9-9f3EQ",
        "outputId": "19e2de61-0ba1-4626-e0ae-9469a629440f"
      },
      "source": [
        "x_train[0]"
      ],
      "execution_count": 18,
      "outputs": [
        {
          "output_type": "execute_result",
          "data": {
            "text/plain": [
              "array([[[ 59,  62,  63],\n",
              "        [ 43,  46,  45],\n",
              "        [ 50,  48,  43],\n",
              "        ...,\n",
              "        [158, 132, 108],\n",
              "        [152, 125, 102],\n",
              "        [148, 124, 103]],\n",
              "\n",
              "       [[ 16,  20,  20],\n",
              "        [  0,   0,   0],\n",
              "        [ 18,   8,   0],\n",
              "        ...,\n",
              "        [123,  88,  55],\n",
              "        [119,  83,  50],\n",
              "        [122,  87,  57]],\n",
              "\n",
              "       [[ 25,  24,  21],\n",
              "        [ 16,   7,   0],\n",
              "        [ 49,  27,   8],\n",
              "        ...,\n",
              "        [118,  84,  50],\n",
              "        [120,  84,  50],\n",
              "        [109,  73,  42]],\n",
              "\n",
              "       ...,\n",
              "\n",
              "       [[208, 170,  96],\n",
              "        [201, 153,  34],\n",
              "        [198, 161,  26],\n",
              "        ...,\n",
              "        [160, 133,  70],\n",
              "        [ 56,  31,   7],\n",
              "        [ 53,  34,  20]],\n",
              "\n",
              "       [[180, 139,  96],\n",
              "        [173, 123,  42],\n",
              "        [186, 144,  30],\n",
              "        ...,\n",
              "        [184, 148,  94],\n",
              "        [ 97,  62,  34],\n",
              "        [ 83,  53,  34]],\n",
              "\n",
              "       [[177, 144, 116],\n",
              "        [168, 129,  94],\n",
              "        [179, 142,  87],\n",
              "        ...,\n",
              "        [216, 184, 140],\n",
              "        [151, 118,  84],\n",
              "        [123,  92,  72]]], dtype=uint8)"
            ]
          },
          "metadata": {
            "tags": []
          },
          "execution_count": 18
        }
      ]
    },
    {
      "cell_type": "code",
      "metadata": {
        "colab": {
          "base_uri": "https://localhost:8080/"
        },
        "id": "4m9Ql7eEgTd-",
        "outputId": "f441d7f8-e1b4-4d57-a766-9824cb80ee9f"
      },
      "source": [
        "x_train.max()"
      ],
      "execution_count": 19,
      "outputs": [
        {
          "output_type": "execute_result",
          "data": {
            "text/plain": [
              "255"
            ]
          },
          "metadata": {
            "tags": []
          },
          "execution_count": 19
        }
      ]
    },
    {
      "cell_type": "code",
      "metadata": {
        "colab": {
          "base_uri": "https://localhost:8080/"
        },
        "id": "-CeUigp5gYzk",
        "outputId": "71ba1124-62c1-4d3d-9adc-504b509b96ff"
      },
      "source": [
        "x_train.min()"
      ],
      "execution_count": 20,
      "outputs": [
        {
          "output_type": "execute_result",
          "data": {
            "text/plain": [
              "0"
            ]
          },
          "metadata": {
            "tags": []
          },
          "execution_count": 20
        }
      ]
    },
    {
      "cell_type": "code",
      "metadata": {
        "id": "M34kUKXVga3Q"
      },
      "source": [
        "x_train = x_train/255\n",
        "x_test = x_test/255"
      ],
      "execution_count": 21,
      "outputs": []
    },
    {
      "cell_type": "code",
      "metadata": {
        "colab": {
          "base_uri": "https://localhost:8080/"
        },
        "id": "KKdqoAeugvqM",
        "outputId": "097f0246-0f6a-4d91-a8bb-919bca21fd3a"
      },
      "source": [
        "x_test.shape"
      ],
      "execution_count": 23,
      "outputs": [
        {
          "output_type": "execute_result",
          "data": {
            "text/plain": [
              "(10000, 32, 32, 3)"
            ]
          },
          "metadata": {
            "tags": []
          },
          "execution_count": 23
        }
      ]
    },
    {
      "cell_type": "code",
      "metadata": {
        "colab": {
          "base_uri": "https://localhost:8080/"
        },
        "id": "05LPF23Rgp6H",
        "outputId": "eb5c71ba-6048-449e-c43c-a705c637bf86"
      },
      "source": [
        "x_train.max()"
      ],
      "execution_count": 22,
      "outputs": [
        {
          "output_type": "execute_result",
          "data": {
            "text/plain": [
              "1.0"
            ]
          },
          "metadata": {
            "tags": []
          },
          "execution_count": 22
        }
      ]
    },
    {
      "cell_type": "markdown",
      "metadata": {
        "id": "wrPOL_kOg1Mn"
      },
      "source": [
        "## Labels"
      ]
    },
    {
      "cell_type": "code",
      "metadata": {
        "id": "BDb9NFWYgrei"
      },
      "source": [
        "from tensorflow.keras.utils import to_categorical"
      ],
      "execution_count": 24,
      "outputs": []
    },
    {
      "cell_type": "code",
      "metadata": {
        "colab": {
          "base_uri": "https://localhost:8080/"
        },
        "id": "HAQ25ohRg8Wl",
        "outputId": "48116b61-dc1d-4ed2-929f-97bb53eb0583"
      },
      "source": [
        "y_test"
      ],
      "execution_count": 25,
      "outputs": [
        {
          "output_type": "execute_result",
          "data": {
            "text/plain": [
              "array([[3],\n",
              "       [8],\n",
              "       [8],\n",
              "       ...,\n",
              "       [5],\n",
              "       [1],\n",
              "       [7]], dtype=uint8)"
            ]
          },
          "metadata": {
            "tags": []
          },
          "execution_count": 25
        }
      ]
    },
    {
      "cell_type": "code",
      "metadata": {
        "colab": {
          "base_uri": "https://localhost:8080/"
        },
        "id": "mMTEUb1qmbcG",
        "outputId": "ea3c937f-ca6b-4e7d-8c83-b51b098a7777"
      },
      "source": [
        "y_test.shape"
      ],
      "execution_count": 27,
      "outputs": [
        {
          "output_type": "execute_result",
          "data": {
            "text/plain": [
              "(10000, 1)"
            ]
          },
          "metadata": {
            "tags": []
          },
          "execution_count": 27
        }
      ]
    },
    {
      "cell_type": "code",
      "metadata": {
        "id": "YCU_02Z6g9z6"
      },
      "source": [
        "y_cat_test = to_categorical(y_test, 10)"
      ],
      "execution_count": 26,
      "outputs": []
    },
    {
      "cell_type": "code",
      "metadata": {
        "colab": {
          "base_uri": "https://localhost:8080/"
        },
        "id": "LJY760G8mZ77",
        "outputId": "26bb9040-558a-4904-c1d9-2c05c44b36a8"
      },
      "source": [
        "y_cat_test.shape"
      ],
      "execution_count": 28,
      "outputs": [
        {
          "output_type": "execute_result",
          "data": {
            "text/plain": [
              "(10000, 10)"
            ]
          },
          "metadata": {
            "tags": []
          },
          "execution_count": 28
        }
      ]
    },
    {
      "cell_type": "code",
      "metadata": {
        "id": "s9tb-1gFmej8"
      },
      "source": [
        "y_cat_train = to_categorical(y_train, 10)"
      ],
      "execution_count": 29,
      "outputs": []
    },
    {
      "cell_type": "code",
      "metadata": {
        "colab": {
          "base_uri": "https://localhost:8080/"
        },
        "id": "mE6qXrf5mqUD",
        "outputId": "e663d944-c000-434b-e663-435e5a32d9f0"
      },
      "source": [
        "y_train[0]"
      ],
      "execution_count": 31,
      "outputs": [
        {
          "output_type": "execute_result",
          "data": {
            "text/plain": [
              "array([6], dtype=uint8)"
            ]
          },
          "metadata": {
            "tags": []
          },
          "execution_count": 31
        }
      ]
    },
    {
      "cell_type": "code",
      "metadata": {
        "colab": {
          "base_uri": "https://localhost:8080/"
        },
        "id": "Nhb_j-WFmjf1",
        "outputId": "211f81eb-9e50-401a-b4ee-7e1c8043d205"
      },
      "source": [
        "y_cat_train[0]"
      ],
      "execution_count": 30,
      "outputs": [
        {
          "output_type": "execute_result",
          "data": {
            "text/plain": [
              "array([0., 0., 0., 0., 0., 0., 1., 0., 0., 0.], dtype=float32)"
            ]
          },
          "metadata": {
            "tags": []
          },
          "execution_count": 30
        }
      ]
    },
    {
      "cell_type": "markdown",
      "metadata": {
        "id": "4Fqf8bd8muwh"
      },
      "source": [
        "----------\n",
        "# Building the Model"
      ]
    },
    {
      "cell_type": "code",
      "metadata": {
        "id": "zDFHWCQ4mmyb"
      },
      "source": [
        "from tensorflow.keras.models import Sequential\n",
        "from tensorflow.keras.layers import Conv2D, MaxPool2D, Flatten, Dense"
      ],
      "execution_count": 32,
      "outputs": []
    },
    {
      "cell_type": "code",
      "metadata": {
        "id": "d1aV5cj_nRTb"
      },
      "source": [
        "model = Sequential()\n",
        "\n",
        "## FIRST SET OF LAYERS\n",
        "\n",
        "# CONVOLUTIONAL LAYER\n",
        "model.add(Conv2D(filters=32, kernel_size=(4,4), input_shape=(32,32,3), activation='relu'))\n",
        "# POOLING LAYER\n",
        "model.add(MaxPool2D(pool_size=(2,2)))\n",
        "\n",
        "## SECOND SET OF LAYERS\n",
        "\n",
        "# CONVOLUTIONAL LAYER\n",
        "model.add(Conv2D(filters=32, kernel_size=(4,4), input_shape=(32,32,3), activation='relu'))\n",
        "# POOLING LAYER\n",
        "model.add(MaxPool2D(pool_size=(2,2)))\n",
        "\n",
        "# FLATTEN IMAGES FROM 32 by 32 by 3 to 3,072 BEFORE FINAL LAYER\n",
        "model.add(Flatten())\n",
        "\n",
        "# 256 NEURONS IN DENSE HIDDEN LAYER (YOU CAN CHANGE THIS NUMBER OF NEURONS)\n",
        "model.add(Dense(256, activation='relu'))\n",
        "\n",
        "# LAST LAYER IS THE CLASSIFIER, THUS 10 POSSIBLE CLASSES\n",
        "model.add(Dense(10, activation='softmax'))\n",
        "\n",
        "# COMPILING THE MODEL\n",
        "model.compile(loss='categorical_crossentropy',\n",
        "              optimizer='adam',\n",
        "              metrics=['accuracy'])"
      ],
      "execution_count": 34,
      "outputs": []
    },
    {
      "cell_type": "code",
      "metadata": {
        "colab": {
          "base_uri": "https://localhost:8080/"
        },
        "id": "sMHx1akDonwm",
        "outputId": "05da9320-f08f-402e-efd8-664ce44b8d85"
      },
      "source": [
        "model.summary()"
      ],
      "execution_count": 36,
      "outputs": [
        {
          "output_type": "stream",
          "text": [
            "Model: \"sequential\"\n",
            "_________________________________________________________________\n",
            "Layer (type)                 Output Shape              Param #   \n",
            "=================================================================\n",
            "conv2d (Conv2D)              (None, 29, 29, 32)        1568      \n",
            "_________________________________________________________________\n",
            "max_pooling2d (MaxPooling2D) (None, 14, 14, 32)        0         \n",
            "_________________________________________________________________\n",
            "conv2d_1 (Conv2D)            (None, 11, 11, 32)        16416     \n",
            "_________________________________________________________________\n",
            "max_pooling2d_1 (MaxPooling2 (None, 5, 5, 32)          0         \n",
            "_________________________________________________________________\n",
            "flatten (Flatten)            (None, 800)               0         \n",
            "_________________________________________________________________\n",
            "dense (Dense)                (None, 256)               205056    \n",
            "_________________________________________________________________\n",
            "dense_1 (Dense)              (None, 10)                2570      \n",
            "=================================================================\n",
            "Total params: 225,610\n",
            "Trainable params: 225,610\n",
            "Non-trainable params: 0\n",
            "_________________________________________________________________\n"
          ],
          "name": "stdout"
        }
      ]
    },
    {
      "cell_type": "code",
      "metadata": {
        "id": "X2u1IJ7WpABz"
      },
      "source": [
        "from tensorflow.keras.callbacks import EarlyStopping"
      ],
      "execution_count": 37,
      "outputs": []
    },
    {
      "cell_type": "code",
      "metadata": {
        "id": "MB423J0dqas1"
      },
      "source": [
        "early_stop = EarlyStopping(monitor='val_loss', patience=3)"
      ],
      "execution_count": 38,
      "outputs": []
    },
    {
      "cell_type": "code",
      "metadata": {
        "colab": {
          "base_uri": "https://localhost:8080/"
        },
        "id": "HMWKEPuGqi1l",
        "outputId": "71443832-0860-4994-f178-9f7b0c1edda4"
      },
      "source": [
        "model.fit(x_train, y_cat_train, epochs=15, validation_data=(x_test, y_cat_test), callbacks=[early_stop])"
      ],
      "execution_count": 39,
      "outputs": [
        {
          "output_type": "stream",
          "text": [
            "Epoch 1/15\n",
            "1563/1563 [==============================] - 58s 36ms/step - loss: 1.4986 - accuracy: 0.4575 - val_loss: 1.2509 - val_accuracy: 0.5535\n",
            "Epoch 2/15\n",
            "1563/1563 [==============================] - 56s 36ms/step - loss: 1.1964 - accuracy: 0.5775 - val_loss: 1.1582 - val_accuracy: 0.5928\n",
            "Epoch 3/15\n",
            "1563/1563 [==============================] - 56s 36ms/step - loss: 1.0523 - accuracy: 0.6320 - val_loss: 1.0430 - val_accuracy: 0.6302\n",
            "Epoch 4/15\n",
            "1563/1563 [==============================] - 56s 36ms/step - loss: 0.9455 - accuracy: 0.6693 - val_loss: 0.9973 - val_accuracy: 0.6499\n",
            "Epoch 5/15\n",
            "1563/1563 [==============================] - 56s 36ms/step - loss: 0.8615 - accuracy: 0.6995 - val_loss: 0.9778 - val_accuracy: 0.6574\n",
            "Epoch 6/15\n",
            "1563/1563 [==============================] - 56s 36ms/step - loss: 0.7969 - accuracy: 0.7212 - val_loss: 0.9964 - val_accuracy: 0.6620\n",
            "Epoch 7/15\n",
            "1563/1563 [==============================] - 56s 36ms/step - loss: 0.7348 - accuracy: 0.7420 - val_loss: 0.9479 - val_accuracy: 0.6798\n",
            "Epoch 8/15\n",
            "1563/1563 [==============================] - 56s 36ms/step - loss: 0.6730 - accuracy: 0.7639 - val_loss: 1.0012 - val_accuracy: 0.6771\n",
            "Epoch 9/15\n",
            "1563/1563 [==============================] - 57s 36ms/step - loss: 0.6227 - accuracy: 0.7825 - val_loss: 0.9755 - val_accuracy: 0.6816\n",
            "Epoch 10/15\n",
            "1563/1563 [==============================] - 57s 37ms/step - loss: 0.5794 - accuracy: 0.7947 - val_loss: 1.0228 - val_accuracy: 0.6847\n"
          ],
          "name": "stdout"
        },
        {
          "output_type": "execute_result",
          "data": {
            "text/plain": [
              "<tensorflow.python.keras.callbacks.History at 0x7f8963c84cd0>"
            ]
          },
          "metadata": {
            "tags": []
          },
          "execution_count": 39
        }
      ]
    },
    {
      "cell_type": "markdown",
      "metadata": {
        "id": "Rs2mvt9msReJ"
      },
      "source": [
        "## Evaluate the Model"
      ]
    },
    {
      "cell_type": "code",
      "metadata": {
        "id": "-jkvpRMErywZ"
      },
      "source": [
        "metrics = pd.DataFrame(model.history.history)"
      ],
      "execution_count": 40,
      "outputs": []
    },
    {
      "cell_type": "code",
      "metadata": {
        "colab": {
          "base_uri": "https://localhost:8080/",
          "height": 359
        },
        "id": "di1f7u1Er7m5",
        "outputId": "e12dc9ca-aa7c-4622-ad4a-2a1a6094f785"
      },
      "source": [
        "metrics"
      ],
      "execution_count": 49,
      "outputs": [
        {
          "output_type": "execute_result",
          "data": {
            "text/html": [
              "<div>\n",
              "<style scoped>\n",
              "    .dataframe tbody tr th:only-of-type {\n",
              "        vertical-align: middle;\n",
              "    }\n",
              "\n",
              "    .dataframe tbody tr th {\n",
              "        vertical-align: top;\n",
              "    }\n",
              "\n",
              "    .dataframe thead th {\n",
              "        text-align: right;\n",
              "    }\n",
              "</style>\n",
              "<table border=\"1\" class=\"dataframe\">\n",
              "  <thead>\n",
              "    <tr style=\"text-align: right;\">\n",
              "      <th></th>\n",
              "      <th>loss</th>\n",
              "      <th>accuracy</th>\n",
              "      <th>val_loss</th>\n",
              "      <th>val_accuracy</th>\n",
              "    </tr>\n",
              "  </thead>\n",
              "  <tbody>\n",
              "    <tr>\n",
              "      <th>0</th>\n",
              "      <td>1.498572</td>\n",
              "      <td>0.45754</td>\n",
              "      <td>1.250908</td>\n",
              "      <td>0.5535</td>\n",
              "    </tr>\n",
              "    <tr>\n",
              "      <th>1</th>\n",
              "      <td>1.196450</td>\n",
              "      <td>0.57746</td>\n",
              "      <td>1.158159</td>\n",
              "      <td>0.5928</td>\n",
              "    </tr>\n",
              "    <tr>\n",
              "      <th>2</th>\n",
              "      <td>1.052318</td>\n",
              "      <td>0.63204</td>\n",
              "      <td>1.042992</td>\n",
              "      <td>0.6302</td>\n",
              "    </tr>\n",
              "    <tr>\n",
              "      <th>3</th>\n",
              "      <td>0.945462</td>\n",
              "      <td>0.66932</td>\n",
              "      <td>0.997287</td>\n",
              "      <td>0.6499</td>\n",
              "    </tr>\n",
              "    <tr>\n",
              "      <th>4</th>\n",
              "      <td>0.861531</td>\n",
              "      <td>0.69950</td>\n",
              "      <td>0.977761</td>\n",
              "      <td>0.6574</td>\n",
              "    </tr>\n",
              "    <tr>\n",
              "      <th>5</th>\n",
              "      <td>0.796872</td>\n",
              "      <td>0.72122</td>\n",
              "      <td>0.996362</td>\n",
              "      <td>0.6620</td>\n",
              "    </tr>\n",
              "    <tr>\n",
              "      <th>6</th>\n",
              "      <td>0.734807</td>\n",
              "      <td>0.74198</td>\n",
              "      <td>0.947883</td>\n",
              "      <td>0.6798</td>\n",
              "    </tr>\n",
              "    <tr>\n",
              "      <th>7</th>\n",
              "      <td>0.672969</td>\n",
              "      <td>0.76394</td>\n",
              "      <td>1.001208</td>\n",
              "      <td>0.6771</td>\n",
              "    </tr>\n",
              "    <tr>\n",
              "      <th>8</th>\n",
              "      <td>0.622679</td>\n",
              "      <td>0.78252</td>\n",
              "      <td>0.975468</td>\n",
              "      <td>0.6816</td>\n",
              "    </tr>\n",
              "    <tr>\n",
              "      <th>9</th>\n",
              "      <td>0.579382</td>\n",
              "      <td>0.79468</td>\n",
              "      <td>1.022766</td>\n",
              "      <td>0.6847</td>\n",
              "    </tr>\n",
              "  </tbody>\n",
              "</table>\n",
              "</div>"
            ],
            "text/plain": [
              "       loss  accuracy  val_loss  val_accuracy\n",
              "0  1.498572   0.45754  1.250908        0.5535\n",
              "1  1.196450   0.57746  1.158159        0.5928\n",
              "2  1.052318   0.63204  1.042992        0.6302\n",
              "3  0.945462   0.66932  0.997287        0.6499\n",
              "4  0.861531   0.69950  0.977761        0.6574\n",
              "5  0.796872   0.72122  0.996362        0.6620\n",
              "6  0.734807   0.74198  0.947883        0.6798\n",
              "7  0.672969   0.76394  1.001208        0.6771\n",
              "8  0.622679   0.78252  0.975468        0.6816\n",
              "9  0.579382   0.79468  1.022766        0.6847"
            ]
          },
          "metadata": {
            "tags": []
          },
          "execution_count": 49
        }
      ]
    },
    {
      "cell_type": "code",
      "metadata": {
        "colab": {
          "base_uri": "https://localhost:8080/",
          "height": 265
        },
        "id": "hSOkgNCYr8tQ",
        "outputId": "340d2d8b-249f-4c3a-d952-7c2a4e29413c"
      },
      "source": [
        "metrics[['accuracy', 'val_accuracy']].plot()\n",
        "plt.show()"
      ],
      "execution_count": 42,
      "outputs": [
        {
          "output_type": "display_data",
          "data": {
            "image/png": "[encoded data removed]",
            "text/plain": [
              "<Figure size 432x288 with 1 Axes>"
            ]
          },
          "metadata": {
            "tags": [],
            "needs_background": "light"
          }
        }
      ]
    },
    {
      "cell_type": "code",
      "metadata": {
        "colab": {
          "base_uri": "https://localhost:8080/",
          "height": 265
        },
        "id": "IhzQLj67sGwr",
        "outputId": "2f58738e-5f37-4221-ac7c-cfc1d4d27d85"
      },
      "source": [
        "metrics[['loss', 'val_loss']].plot()\n",
        "plt.show()"
      ],
      "execution_count": 43,
      "outputs": [
        {
          "output_type": "display_data",
          "data": {
            "image/png": "[encoded data removed]",
            "text/plain": [
              "<Figure size 432x288 with 1 Axes>"
            ]
          },
          "metadata": {
            "tags": [],
            "needs_background": "light"
          }
        }
      ]
    },
    {
      "cell_type": "code",
      "metadata": {
        "colab": {
          "base_uri": "https://localhost:8080/"
        },
        "id": "EWlOfn4mtd-8",
        "outputId": "30a2ef12-b156-46f8-d7b8-6afae2eac73c"
      },
      "source": [
        "print(model.metrics_names)\n",
        "print(model.evaluate(x_test,y_cat_test,verbose=0))"
      ],
      "execution_count": 47,
      "outputs": [
        {
          "output_type": "stream",
          "text": [
            "['loss', 'accuracy']\n",
            "[1.0227662324905396, 0.6847000122070312]\n"
          ],
          "name": "stdout"
        }
      ]
    },
    {
      "cell_type": "code",
      "metadata": {
        "colab": {
          "base_uri": "https://localhost:8080/"
        },
        "id": "YsTqA6Kft5Su",
        "outputId": "fe8487f3-f601-49eb-9e05-aa1932250ba4"
      },
      "source": [
        "print(model.metrics_names)\n",
        "print(model.evaluate(x_train,y_cat_train,verbose=0))"
      ],
      "execution_count": 48,
      "outputs": [
        {
          "output_type": "stream",
          "text": [
            "['loss', 'accuracy']\n",
            "[0.4916881322860718, 0.8300600051879883]\n"
          ],
          "name": "stdout"
        }
      ]
    },
    {
      "cell_type": "code",
      "metadata": {
        "id": "Oy6wJ8J4ulqM"
      },
      "source": [
        "from sklearn.metrics import classification_report, confusion_matrix"
      ],
      "execution_count": 50,
      "outputs": []
    },
    {
      "cell_type": "code",
      "metadata": {
        "colab": {
          "base_uri": "https://localhost:8080/"
        },
        "id": "QnsuqlHkuolE",
        "outputId": "d4df2a61-c1f5-48d5-949f-c495e7722625"
      },
      "source": [
        "predictions = model.predict_classes(x_test)"
      ],
      "execution_count": 51,
      "outputs": [
        {
          "output_type": "stream",
          "text": [
            "/usr/local/lib/python3.7/dist-packages/tensorflow/python/keras/engine/sequential.py:455: UserWarning: `model.predict_classes()` is deprecated and will be removed after 2021-01-01. Please use instead:* `np.argmax(model.predict(x), axis=-1)`,   if your model does multi-class classification   (e.g. if it uses a `softmax` last-layer activation).* `(model.predict(x) > 0.5).astype(\"int32\")`,   if your model does binary classification   (e.g. if it uses a `sigmoid` last-layer activation).\n",
            "  warnings.warn('`model.predict_classes()` is deprecated and '\n"
          ],
          "name": "stderr"
        }
      ]
    },
    {
      "cell_type": "code",
      "metadata": {
        "id": "CoWkcZCUus59"
      },
      "source": [
        "predictions_2 = np.argmax(model.predict(x_test), axis=-1)"
      ],
      "execution_count": 52,
      "outputs": []
    },
    {
      "cell_type": "code",
      "metadata": {
        "colab": {
          "base_uri": "https://localhost:8080/"
        },
        "id": "U8y3U6rmux3O",
        "outputId": "e782a6ba-7678-4785-832a-b9d3b3e7d446"
      },
      "source": [
        "print(classification_report(y_test, predictions))"
      ],
      "execution_count": 53,
      "outputs": [
        {
          "output_type": "stream",
          "text": [
            "              precision    recall  f1-score   support\n",
            "\n",
            "           0       0.79      0.66      0.71      1000\n",
            "           1       0.82      0.77      0.80      1000\n",
            "           2       0.56      0.59      0.58      1000\n",
            "           3       0.55      0.45      0.50      1000\n",
            "           4       0.62      0.65      0.63      1000\n",
            "           5       0.62      0.55      0.58      1000\n",
            "           6       0.66      0.84      0.74      1000\n",
            "           7       0.73      0.75      0.74      1000\n",
            "           8       0.73      0.85      0.79      1000\n",
            "           9       0.78      0.72      0.75      1000\n",
            "\n",
            "    accuracy                           0.68     10000\n",
            "   macro avg       0.69      0.68      0.68     10000\n",
            "weighted avg       0.69      0.68      0.68     10000\n",
            "\n"
          ],
          "name": "stdout"
        }
      ]
    },
    {
      "cell_type": "code",
      "metadata": {
        "colab": {
          "base_uri": "https://localhost:8080/"
        },
        "id": "2s5ur5cou0UU",
        "outputId": "9cd3e93f-621e-4d75-b935-a39695e69cc1"
      },
      "source": [
        "print(classification_report(y_test, predictions_2))"
      ],
      "execution_count": 54,
      "outputs": [
        {
          "output_type": "stream",
          "text": [
            "              precision    recall  f1-score   support\n",
            "\n",
            "           0       0.79      0.66      0.71      1000\n",
            "           1       0.82      0.77      0.80      1000\n",
            "           2       0.56      0.59      0.58      1000\n",
            "           3       0.55      0.45      0.50      1000\n",
            "           4       0.62      0.65      0.63      1000\n",
            "           5       0.62      0.55      0.58      1000\n",
            "           6       0.66      0.84      0.74      1000\n",
            "           7       0.73      0.75      0.74      1000\n",
            "           8       0.73      0.85      0.79      1000\n",
            "           9       0.78      0.72      0.75      1000\n",
            "\n",
            "    accuracy                           0.68     10000\n",
            "   macro avg       0.69      0.68      0.68     10000\n",
            "weighted avg       0.69      0.68      0.68     10000\n",
            "\n"
          ],
          "name": "stdout"
        }
      ]
    },
    {
      "cell_type": "code",
      "metadata": {
        "colab": {
          "base_uri": "https://localhost:8080/"
        },
        "id": "DdUhjQRfu3Rn",
        "outputId": "63da23c3-65f6-4417-cd1f-fdac16a8872a"
      },
      "source": [
        "print(confusion_matrix(y_test,predictions))"
      ],
      "execution_count": 55,
      "outputs": [
        {
          "output_type": "stream",
          "text": [
            "[[656  29  72  24  30   9  22  10 115  33]\n",
            " [ 16 774  16  16   7   8  21   4  59  79]\n",
            " [ 49   5 595  54  92  53  78  38  22  14]\n",
            " [ 11   9  90 452  86 155 117  41  19  20]\n",
            " [ 15   1  77  42 652  30  82  82  15   4]\n",
            " [  6   3  88 142  65 553  60  70   5   8]\n",
            " [  0   3  56  32  37   9 841  11   6   5]\n",
            " [  9   4  38  28  72  56  20 753   8  12]\n",
            " [ 40  23  12  16  10   7  13   5 846  28]\n",
            " [ 33  96  16  16   9  13  17  15  60 725]]\n"
          ],
          "name": "stdout"
        }
      ]
    },
    {
      "cell_type": "code",
      "metadata": {
        "colab": {
          "base_uri": "https://localhost:8080/",
          "height": 374
        },
        "id": "xtPW9nK0xJwi",
        "outputId": "771470b1-264d-4e46-9c28-e5cb7071b972"
      },
      "source": [
        "import seaborn as sns\n",
        "plt.figure(figsize=(10,6))\n",
        "sns.heatmap(confusion_matrix(y_test,predictions),annot=True)\n",
        "plt.show()"
      ],
      "execution_count": 57,
      "outputs": [
        {
          "output_type": "display_data",
          "data": {
            "image/png": "[encoded data removed]",
            "text/plain": [
              "<Figure size 720x432 with 2 Axes>"
            ]
          },
          "metadata": {
            "tags": [],
            "needs_background": "light"
          }
        }
      ]
    },
    {
      "cell_type": "markdown",
      "metadata": {
        "id": "tehi90LdxfoG"
      },
      "source": [
        "# Predicting a given image"
      ]
    },
    {
      "cell_type": "code",
      "metadata": {
        "id": "fqOXMXC3xgd2"
      },
      "source": [
        "my_image = x_test[16]"
      ],
      "execution_count": 61,
      "outputs": []
    },
    {
      "cell_type": "code",
      "metadata": {
        "colab": {
          "base_uri": "https://localhost:8080/",
          "height": 105
        },
        "id": "CxUpErPEx442",
        "outputId": "097c6997-4a97-4951-983f-9daee7ae8c68"
      },
      "source": [
        "plt.figure(figsize=(1,1))\n",
        "plt.imshow(my_image)\n",
        "plt.show()"
      ],
      "execution_count": 62,
      "outputs": [
        {
          "output_type": "display_data",
          "data": {
            "image/png": "[encoded data removed]",
            "text/plain": [
              "<Figure size 72x72 with 1 Axes>"
            ]
          },
          "metadata": {
            "tags": [],
            "needs_background": "light"
          }
        }
      ]
    },
    {
      "cell_type": "code",
      "metadata": {
        "colab": {
          "base_uri": "https://localhost:8080/"
        },
        "id": "11TuVWAyyN-l",
        "outputId": "b6845207-e1ce-4df7-9a5c-1f9cee6a1ebb"
      },
      "source": [
        "# SHAPE --> (num_images,width,height,color_channels)\n",
        "print(np.argmax(model.predict(my_image.reshape(1,32,32,3)), axis=-1))"
      ],
      "execution_count": 64,
      "outputs": [
        {
          "output_type": "stream",
          "text": [
            "[5]\n"
          ],
          "name": "stdout"
        }
      ]
    },
    {
      "cell_type": "code",
      "metadata": {
        "colab": {
          "base_uri": "https://localhost:8080/"
        },
        "id": "1oxeLUnlyr6C",
        "outputId": "822200dd-8a28-47be-eade-5aacafc45eb7"
      },
      "source": [
        "print(y_test[16])"
      ],
      "execution_count": 68,
      "outputs": [
        {
          "output_type": "stream",
          "text": [
            "[5]\n"
          ],
          "name": "stdout"
        }
      ]
    },
    {
      "cell_type": "markdown",
      "metadata": {
        "id": "yTG97iUFycCS"
      },
      "source": [
        "5 is dog."
      ]
    },
    {
      "cell_type": "markdown",
      "metadata": {
        "id": "FtRlx25rtK7S"
      },
      "source": [
        "## Saving the Model"
      ]
    },
    {
      "cell_type": "code",
      "metadata": {
        "id": "I_VYPUN2tLRn"
      },
      "source": [
        "model.save('cifar10_10epochs.h5')"
      ],
      "execution_count": 69,
      "outputs": []
    }
  ]
}