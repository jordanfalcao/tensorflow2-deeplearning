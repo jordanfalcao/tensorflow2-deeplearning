{
  "nbformat": 4,
  "nbformat_minor": 0,
  "metadata": {
    "colab": {
      "name": "04-DL-CNN-Assessment.ipynb",
      "provenance": []
    },
    "kernelspec": {
      "name": "python3",
      "display_name": "Python 3"
    },
    "language_info": {
      "name": "python"
    }
  },
  "cells": [
    {
      "cell_type": "markdown",
      "metadata": {
        "id": "FHh0W1pKO_tt"
      },
      "source": [
        "# Deep Learning for Image Classification Assessment\n",
        "\n",
        "\n",
        "Welcome to your assessment! Follow the instructions in bold below to complete the assessment.\n",
        "\n",
        "------------\n",
        "\n",
        "## The Challenge\n",
        "\n",
        "**Your task is to build an image classifier with Keras and Convolutional Neural Networks for the Fashion MNIST dataset. This data set includes 10 labels of different clothing types with 28 by 28 *grayscale* images. There is a training set of 60,000 images and 10,000 test images.**\n",
        "\n",
        "    Label\tDescription\n",
        "    0\t    T-shirt/top\n",
        "    1\t    Trouser\n",
        "    2\t    Pullover\n",
        "    3\t    Dress\n",
        "    4\t    Coat\n",
        "    5\t    Sandal\n",
        "    6\t    Shirt\n",
        "    7\t    Sneaker\n",
        "    8\t    Bag\n",
        "    9\t    Ankle boot"
      ]
    },
    {
      "cell_type": "code",
      "metadata": {
        "id": "ZkFWhaoNRf_E"
      },
      "source": [
        "import numpy as np\n",
        "import pandas as pd\n",
        "import seaborn as sns"
      ],
      "execution_count": 1,
      "outputs": []
    },
    {
      "cell_type": "markdown",
      "metadata": {
        "id": "-4RC4_-rQrrz"
      },
      "source": [
        "## The Data\n",
        "\n",
        "**TASK 1: Run the code below to download the dataset using Keras.**"
      ]
    },
    {
      "cell_type": "code",
      "metadata": {
        "id": "8EkXhspSORDW"
      },
      "source": [
        "from tensorflow.keras.datasets import fashion_mnist"
      ],
      "execution_count": 2,
      "outputs": []
    },
    {
      "cell_type": "code",
      "metadata": {
        "colab": {
          "base_uri": "https://localhost:8080/"
        },
        "id": "rDPmCnB9Qapg",
        "outputId": "2ac9d1d4-6b27-493e-b7d3-ab7c0c842018"
      },
      "source": [
        "(x_train, y_train), (x_test, y_test) = fashion_mnist.load_data()"
      ],
      "execution_count": 3,
      "outputs": [
        {
          "output_type": "stream",
          "text": [
            "Downloading data from https://storage.googleapis.com/tensorflow/tf-keras-datasets/train-labels-idx1-ubyte.gz\n",
            "32768/29515 [=================================] - 0s 0us/step\n",
            "Downloading data from https://storage.googleapis.com/tensorflow/tf-keras-datasets/train-images-idx3-ubyte.gz\n",
            "26427392/26421880 [==============================] - 0s 0us/step\n",
            "Downloading data from https://storage.googleapis.com/tensorflow/tf-keras-datasets/t10k-labels-idx1-ubyte.gz\n",
            "8192/5148 [===============================================] - 0s 0us/step\n",
            "Downloading data from https://storage.googleapis.com/tensorflow/tf-keras-datasets/t10k-images-idx3-ubyte.gz\n",
            "4423680/4422102 [==============================] - 0s 0us/step\n"
          ],
          "name": "stdout"
        }
      ]
    },
    {
      "cell_type": "markdown",
      "metadata": {
        "id": "je8FDQcMQv9w"
      },
      "source": [
        "## Visualizing the Data\n",
        "\n",
        "**TASK 2: Use matplotlib to view an image from the data set. It can be any image from the data set.**"
      ]
    },
    {
      "cell_type": "code",
      "metadata": {
        "id": "x6KdWHWRQwUD"
      },
      "source": [
        "import matplotlib.pyplot as plt"
      ],
      "execution_count": 4,
      "outputs": []
    },
    {
      "cell_type": "code",
      "metadata": {
        "id": "DT7ADL-nSYe8"
      },
      "source": [
        "x_train[0]"
      ],
      "execution_count": null,
      "outputs": []
    },
    {
      "cell_type": "code",
      "metadata": {
        "colab": {
          "base_uri": "https://localhost:8080/",
          "height": 265
        },
        "id": "CGCgLZFhRl2Y",
        "outputId": "39fafe9b-ffad-4a30-8540-5fdc58aac101"
      },
      "source": [
        "plt.imshow(x_train[0], cmap='Blues_r')\n",
        "plt.show()"
      ],
      "execution_count": 6,
      "outputs": [
        {
          "output_type": "display_data",
          "data": {
            "image/png": "[encoded data removed]",
            "text/plain": [
              "<Figure size 432x288 with 1 Axes>"
            ]
          },
          "metadata": {
            "tags": [],
            "needs_background": "light"
          }
        }
      ]
    },
    {
      "cell_type": "markdown",
      "metadata": {
        "id": "oYaPmbBeQ17P"
      },
      "source": [
        "## Preprocessing the Data\n",
        "\n",
        "**TASK 3: Normalize the X train and X test data by dividing by the max value of the image arrays.**"
      ]
    },
    {
      "cell_type": "code",
      "metadata": {
        "colab": {
          "base_uri": "https://localhost:8080/"
        },
        "id": "LXuQ0_AVQ2QY",
        "outputId": "c042020a-fdb8-4857-f1a5-f2b0bd3c2999"
      },
      "source": [
        "x_train.max()"
      ],
      "execution_count": 7,
      "outputs": [
        {
          "output_type": "execute_result",
          "data": {
            "text/plain": [
              "255"
            ]
          },
          "metadata": {
            "tags": []
          },
          "execution_count": 7
        }
      ]
    },
    {
      "cell_type": "code",
      "metadata": {
        "colab": {
          "base_uri": "https://localhost:8080/"
        },
        "id": "0UC4qK74SmHt",
        "outputId": "e65eba0e-7461-4ad9-ab07-3e001bb922f3"
      },
      "source": [
        "x_train.min()"
      ],
      "execution_count": 8,
      "outputs": [
        {
          "output_type": "execute_result",
          "data": {
            "text/plain": [
              "0"
            ]
          },
          "metadata": {
            "tags": []
          },
          "execution_count": 8
        }
      ]
    },
    {
      "cell_type": "code",
      "metadata": {
        "colab": {
          "base_uri": "https://localhost:8080/"
        },
        "id": "vDujH9g7Sol2",
        "outputId": "935d893b-1ada-460e-b110-b051afea217f"
      },
      "source": [
        "x_test.max()"
      ],
      "execution_count": 9,
      "outputs": [
        {
          "output_type": "execute_result",
          "data": {
            "text/plain": [
              "255"
            ]
          },
          "metadata": {
            "tags": []
          },
          "execution_count": 9
        }
      ]
    },
    {
      "cell_type": "code",
      "metadata": {
        "colab": {
          "base_uri": "https://localhost:8080/"
        },
        "id": "2YxKqPOiSvEx",
        "outputId": "6c64092e-7909-458c-c806-0e1581b9f2e5"
      },
      "source": [
        "x_test.min()"
      ],
      "execution_count": 10,
      "outputs": [
        {
          "output_type": "execute_result",
          "data": {
            "text/plain": [
              "0"
            ]
          },
          "metadata": {
            "tags": []
          },
          "execution_count": 10
        }
      ]
    },
    {
      "cell_type": "code",
      "metadata": {
        "id": "uNUCXi9_Sfei"
      },
      "source": [
        "x_train = x_train/255"
      ],
      "execution_count": 11,
      "outputs": []
    },
    {
      "cell_type": "code",
      "metadata": {
        "id": "j_FCOrcyS1cl"
      },
      "source": [
        "x_test = x_test/255"
      ],
      "execution_count": 12,
      "outputs": []
    },
    {
      "cell_type": "markdown",
      "metadata": {
        "id": "Lw-r_6WoS_kz"
      },
      "source": [
        "**Task 4: Reshape the X arrays to include a 4 dimension of the single channel. Similar to what we did for the numbers MNIST data set.**"
      ]
    },
    {
      "cell_type": "code",
      "metadata": {
        "colab": {
          "base_uri": "https://localhost:8080/"
        },
        "id": "MgcYG0D3VF6K",
        "outputId": "07db75bd-e611-4edb-d2ef-c8d961e8ad2d"
      },
      "source": [
        "x_train.shape"
      ],
      "execution_count": 13,
      "outputs": [
        {
          "output_type": "execute_result",
          "data": {
            "text/plain": [
              "(60000, 28, 28)"
            ]
          },
          "metadata": {
            "tags": []
          },
          "execution_count": 13
        }
      ]
    },
    {
      "cell_type": "code",
      "metadata": {
        "colab": {
          "base_uri": "https://localhost:8080/"
        },
        "id": "GKAeNBlnVN4F",
        "outputId": "fc42c379-7232-4925-9715-63b005015c2a"
      },
      "source": [
        "x_test.shape"
      ],
      "execution_count": 14,
      "outputs": [
        {
          "output_type": "execute_result",
          "data": {
            "text/plain": [
              "(10000, 28, 28)"
            ]
          },
          "metadata": {
            "tags": []
          },
          "execution_count": 14
        }
      ]
    },
    {
      "cell_type": "code",
      "metadata": {
        "id": "_2FjrW-9S4Go"
      },
      "source": [
        "x_train = x_train.reshape(60000, 28, 28, 1)"
      ],
      "execution_count": 15,
      "outputs": []
    },
    {
      "cell_type": "code",
      "metadata": {
        "id": "wCQlfbZ7VJUl"
      },
      "source": [
        "x_test = x_test.reshape(10000, 28, 28, 1)"
      ],
      "execution_count": 16,
      "outputs": []
    },
    {
      "cell_type": "markdown",
      "metadata": {
        "id": "nImswjD7VbDm"
      },
      "source": [
        "**TASK 5: Convert the y_train and y_test values to be one-hot encoded for categorical analysis by Keras.**"
      ]
    },
    {
      "cell_type": "code",
      "metadata": {
        "id": "d6Q68kSsVUnS"
      },
      "source": [
        "from tensorflow.keras.utils import to_categorical"
      ],
      "execution_count": 17,
      "outputs": []
    },
    {
      "cell_type": "code",
      "metadata": {
        "colab": {
          "base_uri": "https://localhost:8080/"
        },
        "id": "ZbH99LAMV8TL",
        "outputId": "23681c96-926a-4790-b305-3c0e289cd01c"
      },
      "source": [
        "np.unique(y_test)"
      ],
      "execution_count": 18,
      "outputs": [
        {
          "output_type": "execute_result",
          "data": {
            "text/plain": [
              "array([0, 1, 2, 3, 4, 5, 6, 7, 8, 9], dtype=uint8)"
            ]
          },
          "metadata": {
            "tags": []
          },
          "execution_count": 18
        }
      ]
    },
    {
      "cell_type": "code",
      "metadata": {
        "id": "HDstd8vSV-8c"
      },
      "source": [
        "y_cat_test = to_categorical(y_test, 10)"
      ],
      "execution_count": 20,
      "outputs": []
    },
    {
      "cell_type": "code",
      "metadata": {
        "id": "fyOlLsa7g_Fn"
      },
      "source": [
        "y_cat_train = to_categorical(y_train, 10)"
      ],
      "execution_count": 21,
      "outputs": []
    },
    {
      "cell_type": "markdown",
      "metadata": {
        "id": "1QfLU30qhVD6"
      },
      "source": [
        "## Building the Model\n",
        "\n",
        "**TASK 6: Use Keras to create a model consisting of at least the following layers (but feel free to experiment):**\n",
        "\n",
        "* 2D Convolutional Layer, filters=32 and kernel_size=(4,4)\n",
        "* Pooling Layer where pool_size = (2,2)\n",
        "\n",
        "* Flatten Layer\n",
        "* Dense Layer (128 Neurons, but feel free to play around with this value), RELU activation\n",
        "\n",
        "* Final Dense Layer of 10 Neurons with a softmax activation\n",
        "\n",
        "**Then compile the model with these parameters: loss='categorical_crossentropy', optimizer='rmsprop', metrics=['accuracy']**"
      ]
    },
    {
      "cell_type": "code",
      "metadata": {
        "id": "z2_GLcDahJuj"
      },
      "source": [
        "from tensorflow.keras.layers import Dense, Conv2D, MaxPool2D, Flatten, Activation\n",
        "from tensorflow.keras.models import Sequential"
      ],
      "execution_count": 22,
      "outputs": []
    },
    {
      "cell_type": "code",
      "metadata": {
        "id": "9h8lG6rxiHf7"
      },
      "source": [
        "model = Sequential()\n",
        "\n",
        "# CONVOLUTIONAL LAYER\n",
        "model.add(Conv2D(32, kernel_size=(4,4), input_shape=(28, 28, 1), activation='relu'))\n",
        "# POOLING LAYER\n",
        "model.add(MaxPool2D(pool_size=(2,2)))\n",
        "\n",
        "# FLATTEN IMAGES FROM 28 by 28 to 764 BEFORE FINAL LAYER\n",
        "model.add(Flatten())\n",
        "\n",
        "# 128 NEURONS IN DENSE HIDDEN LAYER\n",
        "model.add(Dense(units=128, activation='relu'))\n",
        "\n",
        "# LAST LAYER IS THE CLASSIFIER, THUS 10 POSSIBLE CLASSES\n",
        "model.add(Dense(10,activation='softmax'))\n",
        "\n",
        "\n",
        "model.compile(optimizer='adam', loss='categorical_crossentropy',\n",
        "              metrics=['accuracy'])"
      ],
      "execution_count": 23,
      "outputs": []
    },
    {
      "cell_type": "code",
      "metadata": {
        "colab": {
          "base_uri": "https://localhost:8080/"
        },
        "id": "8J7-pHYvkLNf",
        "outputId": "154ceeb1-b7a8-48cc-9e89-1602a8a68b9e"
      },
      "source": [
        "model.summary()"
      ],
      "execution_count": 25,
      "outputs": [
        {
          "output_type": "stream",
          "text": [
            "Model: \"sequential\"\n",
            "_________________________________________________________________\n",
            "Layer (type)                 Output Shape              Param #   \n",
            "=================================================================\n",
            "conv2d (Conv2D)              (None, 25, 25, 32)        544       \n",
            "_________________________________________________________________\n",
            "max_pooling2d (MaxPooling2D) (None, 12, 12, 32)        0         \n",
            "_________________________________________________________________\n",
            "flatten (Flatten)            (None, 4608)              0         \n",
            "_________________________________________________________________\n",
            "dense (Dense)                (None, 128)               589952    \n",
            "_________________________________________________________________\n",
            "dense_1 (Dense)              (None, 10)                1290      \n",
            "=================================================================\n",
            "Total params: 591,786\n",
            "Trainable params: 591,786\n",
            "Non-trainable params: 0\n",
            "_________________________________________________________________\n"
          ],
          "name": "stdout"
        }
      ]
    },
    {
      "cell_type": "markdown",
      "metadata": {
        "id": "i3rUAz_qkSlF"
      },
      "source": [
        "### Training the Model\n",
        "**TASK 7: Train/Fit the model to the x_train set. Amount of epochs is up to you.**"
      ]
    },
    {
      "cell_type": "code",
      "metadata": {
        "id": "MAfTM8H3ko6K"
      },
      "source": [
        "from tensorflow.keras.callbacks import EarlyStopping"
      ],
      "execution_count": 26,
      "outputs": []
    },
    {
      "cell_type": "code",
      "metadata": {
        "id": "GbQTBIpzkpp4"
      },
      "source": [
        "early_stop = EarlyStopping(monitor='val_loss',patience=2)"
      ],
      "execution_count": 27,
      "outputs": []
    },
    {
      "cell_type": "code",
      "metadata": {
        "colab": {
          "base_uri": "https://localhost:8080/"
        },
        "id": "dgqZLsAgkMxe",
        "outputId": "36224087-702c-4251-ef70-d85eea824763"
      },
      "source": [
        "model.fit(x_train, y_cat_train, validation_data=(x_test, y_cat_test), epochs=10, callbacks=[early_stop])"
      ],
      "execution_count": 28,
      "outputs": [
        {
          "output_type": "stream",
          "text": [
            "Epoch 1/10\n",
            "1875/1875 [==============================] - 39s 20ms/step - loss: 0.4129 - accuracy: 0.8534 - val_loss: 0.3388 - val_accuracy: 0.8783\n",
            "Epoch 2/10\n",
            "1875/1875 [==============================] - 37s 20ms/step - loss: 0.2824 - accuracy: 0.8971 - val_loss: 0.2832 - val_accuracy: 0.8964\n",
            "Epoch 3/10\n",
            "1875/1875 [==============================] - 36s 19ms/step - loss: 0.2338 - accuracy: 0.9133 - val_loss: 0.2668 - val_accuracy: 0.9041\n",
            "Epoch 4/10\n",
            "1875/1875 [==============================] - 37s 19ms/step - loss: 0.2002 - accuracy: 0.9265 - val_loss: 0.2525 - val_accuracy: 0.9096\n",
            "Epoch 5/10\n",
            "1875/1875 [==============================] - 36s 19ms/step - loss: 0.1718 - accuracy: 0.9363 - val_loss: 0.2769 - val_accuracy: 0.9057\n",
            "Epoch 6/10\n",
            "1875/1875 [==============================] - 36s 19ms/step - loss: 0.1488 - accuracy: 0.9444 - val_loss: 0.2542 - val_accuracy: 0.9116\n"
          ],
          "name": "stdout"
        },
        {
          "output_type": "execute_result",
          "data": {
            "text/plain": [
              "<tensorflow.python.keras.callbacks.History at 0x7f2d18f1ad10>"
            ]
          },
          "metadata": {
            "tags": []
          },
          "execution_count": 28
        }
      ]
    },
    {
      "cell_type": "markdown",
      "metadata": {
        "id": "SftYSDz0nA7H"
      },
      "source": [
        "### Evaluating the Model\n",
        "\n",
        "**TASK 8: Show the accuracy,precision,recall,f1-score the model achieved on the x_test data set. Keep in mind, there are quite a few ways to do this, but we recommend following the same procedure we showed in the MNIST lecture.**"
      ]
    },
    {
      "cell_type": "code",
      "metadata": {
        "id": "yDDKe3_Pk8sy"
      },
      "source": [
        "metrics = pd.DataFrame(model.history.history)"
      ],
      "execution_count": 30,
      "outputs": []
    },
    {
      "cell_type": "code",
      "metadata": {
        "colab": {
          "base_uri": "https://localhost:8080/",
          "height": 204
        },
        "id": "b7wNlGqonL3d",
        "outputId": "cd61cd95-a1cb-41f6-d6f0-4272509da1a0"
      },
      "source": [
        "metrics.head()"
      ],
      "execution_count": 31,
      "outputs": [
        {
          "output_type": "execute_result",
          "data": {
            "text/html": [
              "<div>\n",
              "<style scoped>\n",
              "    .dataframe tbody tr th:only-of-type {\n",
              "        vertical-align: middle;\n",
              "    }\n",
              "\n",
              "    .dataframe tbody tr th {\n",
              "        vertical-align: top;\n",
              "    }\n",
              "\n",
              "    .dataframe thead th {\n",
              "        text-align: right;\n",
              "    }\n",
              "</style>\n",
              "<table border=\"1\" class=\"dataframe\">\n",
              "  <thead>\n",
              "    <tr style=\"text-align: right;\">\n",
              "      <th></th>\n",
              "      <th>loss</th>\n",
              "      <th>accuracy</th>\n",
              "      <th>val_loss</th>\n",
              "      <th>val_accuracy</th>\n",
              "    </tr>\n",
              "  </thead>\n",
              "  <tbody>\n",
              "    <tr>\n",
              "      <th>0</th>\n",
              "      <td>0.412911</td>\n",
              "      <td>0.853367</td>\n",
              "      <td>0.338793</td>\n",
              "      <td>0.8783</td>\n",
              "    </tr>\n",
              "    <tr>\n",
              "      <th>1</th>\n",
              "      <td>0.282442</td>\n",
              "      <td>0.897150</td>\n",
              "      <td>0.283222</td>\n",
              "      <td>0.8964</td>\n",
              "    </tr>\n",
              "    <tr>\n",
              "      <th>2</th>\n",
              "      <td>0.233761</td>\n",
              "      <td>0.913317</td>\n",
              "      <td>0.266791</td>\n",
              "      <td>0.9041</td>\n",
              "    </tr>\n",
              "    <tr>\n",
              "      <th>3</th>\n",
              "      <td>0.200179</td>\n",
              "      <td>0.926533</td>\n",
              "      <td>0.252493</td>\n",
              "      <td>0.9096</td>\n",
              "    </tr>\n",
              "    <tr>\n",
              "      <th>4</th>\n",
              "      <td>0.171783</td>\n",
              "      <td>0.936333</td>\n",
              "      <td>0.276850</td>\n",
              "      <td>0.9057</td>\n",
              "    </tr>\n",
              "  </tbody>\n",
              "</table>\n",
              "</div>"
            ],
            "text/plain": [
              "       loss  accuracy  val_loss  val_accuracy\n",
              "0  0.412911  0.853367  0.338793        0.8783\n",
              "1  0.282442  0.897150  0.283222        0.8964\n",
              "2  0.233761  0.913317  0.266791        0.9041\n",
              "3  0.200179  0.926533  0.252493        0.9096\n",
              "4  0.171783  0.936333  0.276850        0.9057"
            ]
          },
          "metadata": {
            "tags": []
          },
          "execution_count": 31
        }
      ]
    },
    {
      "cell_type": "code",
      "metadata": {
        "colab": {
          "base_uri": "https://localhost:8080/",
          "height": 265
        },
        "id": "pQVwFkdZn3CK",
        "outputId": "369d72fb-75de-4cbe-ae85-6eacaaef346d"
      },
      "source": [
        "metrics[['loss', 'val_loss']].plot()\n",
        "plt.show()"
      ],
      "execution_count": 33,
      "outputs": [
        {
          "output_type": "display_data",
          "data": {
            "image/png": "[encoded data removed]",
            "text/plain": [
              "<Figure size 432x288 with 1 Axes>"
            ]
          },
          "metadata": {
            "tags": [],
            "needs_background": "light"
          }
        }
      ]
    },
    {
      "cell_type": "code",
      "metadata": {
        "colab": {
          "base_uri": "https://localhost:8080/",
          "height": 265
        },
        "id": "dszNsVeYoAwj",
        "outputId": "6782d77e-1bc6-4374-8980-a2c0ce86db73"
      },
      "source": [
        "metrics[['accuracy', 'val_accuracy']].plot()\n",
        "plt.show()"
      ],
      "execution_count": 34,
      "outputs": [
        {
          "output_type": "display_data",
          "data": {
            "image/png": "[encoded data removed]",
            "text/plain": [
              "<Figure size 432x288 with 1 Axes>"
            ]
          },
          "metadata": {
            "tags": [],
            "needs_background": "light"
          }
        }
      ]
    },
    {
      "cell_type": "code",
      "metadata": {
        "colab": {
          "base_uri": "https://localhost:8080/"
        },
        "id": "KwjBLADEoGVx",
        "outputId": "b1b8bbdd-29b3-4d9b-d845-9171e49f520f"
      },
      "source": [
        "model.metrics_names"
      ],
      "execution_count": 35,
      "outputs": [
        {
          "output_type": "execute_result",
          "data": {
            "text/plain": [
              "['loss', 'accuracy']"
            ]
          },
          "metadata": {
            "tags": []
          },
          "execution_count": 35
        }
      ]
    },
    {
      "cell_type": "code",
      "metadata": {
        "colab": {
          "base_uri": "https://localhost:8080/"
        },
        "id": "wNYuYuUUoKL8",
        "outputId": "91bc6e44-b8ee-4b52-c974-b1241959bb5f"
      },
      "source": [
        "model.evaluate(x_test, y_cat_test)"
      ],
      "execution_count": 37,
      "outputs": [
        {
          "output_type": "stream",
          "text": [
            "313/313 [==============================] - 2s 6ms/step - loss: 0.2542 - accuracy: 0.9116\n"
          ],
          "name": "stdout"
        },
        {
          "output_type": "execute_result",
          "data": {
            "text/plain": [
              "[0.2542267441749573, 0.9115999937057495]"
            ]
          },
          "metadata": {
            "tags": []
          },
          "execution_count": 37
        }
      ]
    },
    {
      "cell_type": "code",
      "metadata": {
        "id": "OsLnb0YioSv5"
      },
      "source": [
        "from sklearn.metrics import confusion_matrix, classification_report"
      ],
      "execution_count": 38,
      "outputs": []
    },
    {
      "cell_type": "code",
      "metadata": {
        "id": "AzE6ZSisoqQt"
      },
      "source": [
        "predictions = np.argmax(model.predict(x_test), axis=-1)"
      ],
      "execution_count": 40,
      "outputs": []
    },
    {
      "cell_type": "code",
      "metadata": {
        "colab": {
          "base_uri": "https://localhost:8080/"
        },
        "id": "U2TrDAhapASW",
        "outputId": "9f296418-9221-4996-ef4d-58a06df62b4d"
      },
      "source": [
        "print(classification_report(y_test, predictions))"
      ],
      "execution_count": 41,
      "outputs": [
        {
          "output_type": "stream",
          "text": [
            "              precision    recall  f1-score   support\n",
            "\n",
            "           0       0.87      0.82      0.84      1000\n",
            "           1       0.99      0.98      0.99      1000\n",
            "           2       0.82      0.88      0.85      1000\n",
            "           3       0.90      0.94      0.92      1000\n",
            "           4       0.86      0.86      0.86      1000\n",
            "           5       0.97      0.99      0.98      1000\n",
            "           6       0.77      0.74      0.75      1000\n",
            "           7       0.97      0.96      0.97      1000\n",
            "           8       0.98      0.98      0.98      1000\n",
            "           9       0.97      0.97      0.97      1000\n",
            "\n",
            "    accuracy                           0.91     10000\n",
            "   macro avg       0.91      0.91      0.91     10000\n",
            "weighted avg       0.91      0.91      0.91     10000\n",
            "\n"
          ],
          "name": "stdout"
        }
      ]
    },
    {
      "cell_type": "code",
      "metadata": {
        "colab": {
          "base_uri": "https://localhost:8080/"
        },
        "id": "Hx-oFPM0pOeE",
        "outputId": "50d4fc50-ffec-48fd-e4b3-b8f4a3a18c57"
      },
      "source": [
        "print(confusion_matrix(y_test, predictions))"
      ],
      "execution_count": 44,
      "outputs": [
        {
          "output_type": "stream",
          "text": [
            "[[819   0  35  23   5   1 111   1   5   0]\n",
            " [  1 982   1  10   3   0   1   0   2   0]\n",
            " [ 11   1 884   8  52   0  43   0   1   0]\n",
            " [ 10   5  16 936  17   0  16   0   0   0]\n",
            " [  2   1  65  30 858   0  43   0   1   0]\n",
            " [  0   0   0   0   0 992   0   4   0   4]\n",
            " [101   1  70  26  58   0 736   0   8   0]\n",
            " [  0   0   0   0   0  17   0 957   1  25]\n",
            " [  2   1   2   3   3   5   3   1 980   0]\n",
            " [  0   0   0   0   0   8   1  19   0 972]]\n"
          ],
          "name": "stdout"
        }
      ]
    },
    {
      "cell_type": "markdown",
      "metadata": {
        "id": "2pHJS-GPpplt"
      },
      "source": [
        "# Predicting on an Image"
      ]
    },
    {
      "cell_type": "code",
      "metadata": {
        "id": "A-D9YMLJp6z6"
      },
      "source": [
        "my_image = x_test[0].reshape(1,28,28,1)"
      ],
      "execution_count": 47,
      "outputs": []
    },
    {
      "cell_type": "code",
      "metadata": {
        "colab": {
          "base_uri": "https://localhost:8080/",
          "height": 265
        },
        "id": "bMTLXmf5qT23",
        "outputId": "8e0767d4-fdc1-477f-8a03-edc728bae6c4"
      },
      "source": [
        "plt.imshow(x_test[0].reshape(28,28))\n",
        "plt.show()"
      ],
      "execution_count": 51,
      "outputs": [
        {
          "output_type": "display_data",
          "data": {
            "image/png": "[encoded data removed]",
            "text/plain": [
              "<Figure size 432x288 with 1 Axes>"
            ]
          },
          "metadata": {
            "tags": [],
            "needs_background": "light"
          }
        }
      ]
    },
    {
      "cell_type": "code",
      "metadata": {
        "colab": {
          "base_uri": "https://localhost:8080/"
        },
        "id": "rXGIaKVTpXeS",
        "outputId": "084629aa-0f86-4441-ed8c-f3935576ebd6"
      },
      "source": [
        "np.argmax(model.predict(my_image), axis=-1)"
      ],
      "execution_count": 48,
      "outputs": [
        {
          "output_type": "execute_result",
          "data": {
            "text/plain": [
              "array([9])"
            ]
          },
          "metadata": {
            "tags": []
          },
          "execution_count": 48
        }
      ]
    },
    {
      "cell_type": "markdown",
      "metadata": {
        "id": "8rB6D780qpln"
      },
      "source": [
        "9 = ankle boot."
      ]
    },
    {
      "cell_type": "markdown",
      "metadata": {
        "id": "imIdgL0irFLS"
      },
      "source": [
        "## Saving the Model"
      ]
    },
    {
      "cell_type": "code",
      "metadata": {
        "id": "mBYY12zWqywZ"
      },
      "source": [
        "model.save('fashion_mnist_model.h5')"
      ],
      "execution_count": 52,
      "outputs": []
    }
  ]
}