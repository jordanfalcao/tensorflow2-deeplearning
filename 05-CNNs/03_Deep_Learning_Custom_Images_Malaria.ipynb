{
  "nbformat": 4,
  "nbformat_minor": 0,
  "metadata": {
    "colab": {
      "name": "03-Deep-Learning-Custom-Images-Malaria.ipynb",
      "provenance": []
    },
    "kernelspec": {
      "name": "python3",
      "display_name": "Python 3"
    },
    "language_info": {
      "name": "python"
    }
  },
  "cells": [
    {
      "cell_type": "markdown",
      "metadata": {
        "id": "CKIDA3qPt6EO"
      },
      "source": [
        "# Working with Custom Images\n",
        "\n",
        "Let's explore what its like to work with a more realistic data set.\n",
        "\n",
        "## The Data\n",
        "\n",
        "----------\n",
        "--------\n",
        "\n",
        "ORIGINAL DATA SOURCE:\n",
        "\n",
        "The dataset contains 2 folders - Infected - Uninfected\n",
        "\n",
        "And a total of 27,558 images.\n",
        "\n",
        "Acknowledgements\n",
        "This Dataset is taken from the official NIH Website: https://ceb.nlm.nih.gov/repositories/malaria-datasets/ \n",
        "\n",
        "**Note: We will be dealing with real image files, NOT numpy arrays. Which means a large part of this process will be learning how to work with and deal with large groups of image files. This is too much data to fit in memory as a numpy array, so we'll need to feed it into our model in batches.**\n",
        "\n",
        "### Visualizing the Data\n",
        "\n",
        "\n",
        "-------\n",
        "Let's take a closer look at the data."
      ]
    },
    {
      "cell_type": "code",
      "metadata": {
        "id": "vSEtUkmzg55e"
      },
      "source": [
        "# !unrar x cell_images.rar"
      ],
      "execution_count": null,
      "outputs": []
    },
    {
      "cell_type": "code",
      "metadata": {
        "id": "363pnL46hx_B"
      },
      "source": [
        "# zip_path = base/’size_test/cats_dogs.zip’\n",
        "# !cp “{zip_path}” .\n",
        "# !unzip -q cats_dogs.zip\n",
        "# !rm cats_dogs.zip\n"
      ],
      "execution_count": 40,
      "outputs": []
    },
    {
      "cell_type": "code",
      "metadata": {
        "colab": {
          "base_uri": "https://localhost:8080/"
        },
        "id": "jWr3Uz3zRNLK",
        "outputId": "02908cf4-f5b3-471b-a49b-270cd01c83e7"
      },
      "source": [
        "#  mounts the Google drive\n",
        "from google.colab import drive\n",
        "drive.mount('/content/drive')"
      ],
      "execution_count": 3,
      "outputs": [
        {
          "output_type": "stream",
          "text": [
            "Drive already mounted at /content/drive; to attempt to forcibly remount, call drive.mount(\"/content/drive\", force_remount=True).\n"
          ],
          "name": "stdout"
        }
      ]
    },
    {
      "cell_type": "code",
      "metadata": {
        "id": "01cXdCImmlif"
      },
      "source": [
        "import pandas as pd\n",
        "import numpy as np\n",
        "import seaborn as sns\n",
        "import matplotlib.pyplot as plt\n",
        "from matplotlib.image import imread\n",
        "\n",
        "import zipfile\n",
        "import os"
      ],
      "execution_count": 2,
      "outputs": []
    },
    {
      "cell_type": "code",
      "metadata": {
        "id": "BMdiTrwyCF_5"
      },
      "source": [
        "# drive path\n",
        "zip_path = '/content/drive/MyDrive/cell_images.rar'"
      ],
      "execution_count": 4,
      "outputs": []
    },
    {
      "cell_type": "code",
      "metadata": {
        "id": "-3aT98QYCF4H"
      },
      "source": [
        "# copying the file from drive to colab\n",
        "!cp \"{zip_path}\" ."
      ],
      "execution_count": 6,
      "outputs": []
    },
    {
      "cell_type": "code",
      "metadata": {
        "id": "vgq6Qtf6CFuJ"
      },
      "source": [
        "# unrar the file\n",
        "!unrar x cell_images.rar"
      ],
      "execution_count": null,
      "outputs": []
    },
    {
      "cell_type": "code",
      "metadata": {
        "id": "cBLUDR6mnBdy"
      },
      "source": [
        "#!unrar x \"/content/drive/MyDrive/cell_images.rar\" \"/content/drive/MyDrive/Tensorflow\""
      ],
      "execution_count": 3,
      "outputs": []
    },
    {
      "cell_type": "code",
      "metadata": {
        "id": "QwR4C-yKn8p5"
      },
      "source": [
        "my_data_dir = '/content/cell_images'"
      ],
      "execution_count": 12,
      "outputs": []
    },
    {
      "cell_type": "code",
      "metadata": {
        "colab": {
          "base_uri": "https://localhost:8080/"
        },
        "id": "rNAf78UFreO7",
        "outputId": "ac706b31-f3b2-4404-de80-3e3122a0a860"
      },
      "source": [
        "# CONFIRM THAT THIS REPORTS BACK 'test', and 'train'\n",
        "os.listdir(my_data_dir) "
      ],
      "execution_count": 13,
      "outputs": [
        {
          "output_type": "execute_result",
          "data": {
            "text/plain": [
              "['train', 'test']"
            ]
          },
          "metadata": {
            "tags": []
          },
          "execution_count": 13
        }
      ]
    },
    {
      "cell_type": "code",
      "metadata": {
        "id": "yLj3_NYArhcf"
      },
      "source": [
        "test_path = my_data_dir+'/test'\n",
        "train_path = my_data_dir+'/train'"
      ],
      "execution_count": 14,
      "outputs": []
    },
    {
      "cell_type": "code",
      "metadata": {
        "colab": {
          "base_uri": "https://localhost:8080/"
        },
        "id": "GurdQW7BrrsQ",
        "outputId": "38ea4df4-444e-4c03-ffe0-47be452b3222"
      },
      "source": [
        "os.listdir(test_path)"
      ],
      "execution_count": 15,
      "outputs": [
        {
          "output_type": "execute_result",
          "data": {
            "text/plain": [
              "['parasitized', 'uninfected']"
            ]
          },
          "metadata": {
            "tags": []
          },
          "execution_count": 15
        }
      ]
    },
    {
      "cell_type": "code",
      "metadata": {
        "colab": {
          "base_uri": "https://localhost:8080/"
        },
        "id": "0PN_RuEbrt-F",
        "outputId": "a537f763-2222-41a6-e523-90e7e808f80f"
      },
      "source": [
        "os.listdir(train_path)"
      ],
      "execution_count": 16,
      "outputs": [
        {
          "output_type": "execute_result",
          "data": {
            "text/plain": [
              "['parasitized', 'uninfected']"
            ]
          },
          "metadata": {
            "tags": []
          },
          "execution_count": 16
        }
      ]
    },
    {
      "cell_type": "markdown",
      "metadata": {
        "id": "s_bBRxDuwEB-"
      },
      "source": [
        "**Let's check how many images there are.**"
      ]
    },
    {
      "cell_type": "code",
      "metadata": {
        "colab": {
          "base_uri": "https://localhost:8080/"
        },
        "id": "EAos0A0nsBlj",
        "outputId": "1c604f5a-61f2-4160-b28d-213288746aaa"
      },
      "source": [
        "len(os.listdir('/content/cell_images/test/parasitized'))"
      ],
      "execution_count": 17,
      "outputs": [
        {
          "output_type": "execute_result",
          "data": {
            "text/plain": [
              "1300"
            ]
          },
          "metadata": {
            "tags": []
          },
          "execution_count": 17
        }
      ]
    },
    {
      "cell_type": "code",
      "metadata": {
        "colab": {
          "base_uri": "https://localhost:8080/"
        },
        "id": "qaiTQo3OuTqa",
        "outputId": "f33cb83b-2f94-439b-8988-4b23fbd27120"
      },
      "source": [
        "len(os.listdir('/content/cell_images/test/uninfected'))"
      ],
      "execution_count": 18,
      "outputs": [
        {
          "output_type": "execute_result",
          "data": {
            "text/plain": [
              "1300"
            ]
          },
          "metadata": {
            "tags": []
          },
          "execution_count": 18
        }
      ]
    },
    {
      "cell_type": "code",
      "metadata": {
        "colab": {
          "base_uri": "https://localhost:8080/"
        },
        "id": "kKrhKg4UucXN",
        "outputId": "bd277407-7dde-4b44-ffd7-e673c74fc9d7"
      },
      "source": [
        "len(os.listdir('/content/cell_images/train/parasitized'))"
      ],
      "execution_count": 19,
      "outputs": [
        {
          "output_type": "execute_result",
          "data": {
            "text/plain": [
              "12480"
            ]
          },
          "metadata": {
            "tags": []
          },
          "execution_count": 19
        }
      ]
    },
    {
      "cell_type": "code",
      "metadata": {
        "colab": {
          "base_uri": "https://localhost:8080/"
        },
        "id": "2mbu6ZENufzZ",
        "outputId": "8a9bb1a3-d3ab-4dfc-faf1-7d05f691e4ab"
      },
      "source": [
        "len(os.listdir('/content/cell_images/train/uninfected'))"
      ],
      "execution_count": 20,
      "outputs": [
        {
          "output_type": "execute_result",
          "data": {
            "text/plain": [
              "12480"
            ]
          },
          "metadata": {
            "tags": []
          },
          "execution_count": 20
        }
      ]
    },
    {
      "cell_type": "markdown",
      "metadata": {
        "id": "xdTAACdR7XcK"
      },
      "source": [
        "**Single image.**"
      ]
    },
    {
      "cell_type": "code",
      "metadata": {
        "colab": {
          "base_uri": "https://localhost:8080/",
          "height": 35
        },
        "id": "Yj19MU1juiI0",
        "outputId": "99c9e284-9756-4582-ae98-31f91e5a9656"
      },
      "source": [
        "os.listdir(train_path+'/parasitized')[0]"
      ],
      "execution_count": 21,
      "outputs": [
        {
          "output_type": "execute_result",
          "data": {
            "application/vnd.google.colaboratory.intrinsic+json": {
              "type": "string"
            },
            "text/plain": [
              "'C182P143NThinF_IMG_20151201_172257_cell_188.png'"
            ]
          },
          "metadata": {
            "tags": []
          },
          "execution_count": 21
        }
      ]
    },
    {
      "cell_type": "code",
      "metadata": {
        "id": "PZg0FCCMu_be"
      },
      "source": [
        "para_cell = train_path+'/parasitized'+'/C100P61ThinF_IMG_20150918_144104_cell_162.png'"
      ],
      "execution_count": 22,
      "outputs": []
    },
    {
      "cell_type": "code",
      "metadata": {
        "id": "0uqIi8AkvFbw"
      },
      "source": [
        "para_img = imread(para_cell)"
      ],
      "execution_count": 23,
      "outputs": []
    },
    {
      "cell_type": "code",
      "metadata": {
        "colab": {
          "base_uri": "https://localhost:8080/",
          "height": 269
        },
        "id": "hsfwVJR4vIIP",
        "outputId": "b167beaa-a5df-49e9-d55e-6c073dd5b4e9"
      },
      "source": [
        "plt.imshow(para_img)\n",
        "plt.show()"
      ],
      "execution_count": 26,
      "outputs": [
        {
          "output_type": "display_data",
          "data": {
            "image/png": "[encoded data removed]",
            "text/plain": [
              "<Figure size 432x288 with 1 Axes>"
            ]
          },
          "metadata": {
            "tags": [],
            "needs_background": "light"
          }
        }
      ]
    },
    {
      "cell_type": "code",
      "metadata": {
        "id": "BILYnXdSL2sO",
        "outputId": "dcccbf53-40f9-42f8-f049-582bc4ab402f",
        "colab": {
          "base_uri": "https://localhost:8080/",
          "height": 35
        }
      },
      "source": [
        "os.listdir(train_path+'/uninfected')[0]"
      ],
      "execution_count": 56,
      "outputs": [
        {
          "output_type": "execute_result",
          "data": {
            "application/vnd.google.colaboratory.intrinsic+json": {
              "type": "string"
            },
            "text/plain": [
              "'C145P106ThinF_IMG_20151016_154719_cell_57.png'"
            ]
          },
          "metadata": {
            "tags": []
          },
          "execution_count": 56
        }
      ]
    },
    {
      "cell_type": "code",
      "metadata": {
        "colab": {
          "base_uri": "https://localhost:8080/",
          "height": 268
        },
        "id": "dfa33Sy5vQgn",
        "outputId": "1ce5821f-ec85-43cd-d4d1-e4548f9828de"
      },
      "source": [
        "unifected_cell_path = train_path+'/uninfected/'+'/C145P106ThinF_IMG_20151016_154719_cell_57.png'\n",
        "unifected_cell = imread(unifected_cell_path)\n",
        "plt.imshow(unifected_cell)\n",
        "plt.show()"
      ],
      "execution_count": 57,
      "outputs": [
        {
          "output_type": "display_data",
          "data": {
            "image/png": "[encoded data removed]",
            "text/plain": [
              "<Figure size 432x288 with 1 Axes>"
            ]
          },
          "metadata": {
            "tags": [],
            "needs_background": "light"
          }
        }
      ]
    },
    {
      "cell_type": "markdown",
      "metadata": {
        "id": "y8j1nAaMwXKH"
      },
      "source": [
        "**The images have differents dimensions. Let's find out the average dimensions of these images.**"
      ]
    },
    {
      "cell_type": "code",
      "metadata": {
        "colab": {
          "base_uri": "https://localhost:8080/"
        },
        "id": "GlLCmKD2ve-t",
        "outputId": "3904386f-8617-48f4-d7a3-ad3b3c7f323e"
      },
      "source": [
        "para_img.shape"
      ],
      "execution_count": 33,
      "outputs": [
        {
          "output_type": "execute_result",
          "data": {
            "text/plain": [
              "(148, 142, 3)"
            ]
          },
          "metadata": {
            "tags": []
          },
          "execution_count": 33
        }
      ]
    },
    {
      "cell_type": "code",
      "metadata": {
        "colab": {
          "base_uri": "https://localhost:8080/"
        },
        "id": "ka7M6ngcwPse",
        "outputId": "f7946896-6893-4c1e-a68b-b38aaa739ea2"
      },
      "source": [
        "unifected_cell.shape"
      ],
      "execution_count": 34,
      "outputs": [
        {
          "output_type": "execute_result",
          "data": {
            "text/plain": [
              "(103, 109, 3)"
            ]
          },
          "metadata": {
            "tags": []
          },
          "execution_count": 34
        }
      ]
    },
    {
      "cell_type": "code",
      "metadata": {
        "id": "kavHMbRGwSny"
      },
      "source": [
        " # Other options: https://stackoverflow.com/questions/1507084/how-to-check-dimensions-of-all-images-in-a-directory-using-python\n",
        " dim1 = []\n",
        " dim2 = []\n",
        "\n",
        " for image_filename in os.listdir(test_path+'/uninfected'):\n",
        "\n",
        "   img = imread(test_path+'/uninfected/'+image_filename)\n",
        "   d1, d2, colors_channel = img.shape\n",
        "   dim1.append(d1)\n",
        "   dim2.append(d2)\n",
        "   "
      ],
      "execution_count": 38,
      "outputs": []
    },
    {
      "cell_type": "code",
      "metadata": {
        "colab": {
          "base_uri": "https://localhost:8080/",
          "height": 441
        },
        "id": "3NVDvDFWOj0a",
        "outputId": "2769c773-42d9-4831-a73e-e43a88a0988f"
      },
      "source": [
        "sns.jointplot(x= dim1, y = dim2)\n",
        "plt.show()"
      ],
      "execution_count": 39,
      "outputs": [
        {
          "output_type": "display_data",
          "data": {
            "image/png": "[encoded data removed]",
            "text/plain": [
              "<Figure size 432x432 with 3 Axes>"
            ]
          },
          "metadata": {
            "tags": [],
            "needs_background": "light"
          }
        }
      ]
    },
    {
      "cell_type": "code",
      "metadata": {
        "colab": {
          "base_uri": "https://localhost:8080/"
        },
        "id": "oMxquKxzR4YE",
        "outputId": "029d770b-1397-49e6-ee7b-078823fbd2c6"
      },
      "source": [
        "# width pixel mean\n",
        "np.mean(dim1)"
      ],
      "execution_count": 43,
      "outputs": [
        {
          "output_type": "execute_result",
          "data": {
            "text/plain": [
              "130.92538461538462"
            ]
          },
          "metadata": {
            "tags": []
          },
          "execution_count": 43
        }
      ]
    },
    {
      "cell_type": "code",
      "metadata": {
        "colab": {
          "base_uri": "https://localhost:8080/"
        },
        "id": "wgwWJe9Rd8sU",
        "outputId": "14b06e59-ac47-44ad-c001-520a286623d5"
      },
      "source": [
        "# height pixel mean\n",
        "np.mean(dim2)"
      ],
      "execution_count": 41,
      "outputs": [
        {
          "output_type": "execute_result",
          "data": {
            "text/plain": [
              "130.75"
            ]
          },
          "metadata": {
            "tags": []
          },
          "execution_count": 41
        }
      ]
    },
    {
      "cell_type": "code",
      "metadata": {
        "id": "f-DXhyUWd-Cp"
      },
      "source": [
        "# setting the average image dimension\n",
        "image_shape = (130,130,3)"
      ],
      "execution_count": 42,
      "outputs": []
    },
    {
      "cell_type": "markdown",
      "metadata": {
        "id": "Xa4i5TyPeaAQ"
      },
      "source": [
        "## Preparing the Data for the model\n",
        "\n",
        "There is too much data for us to read all at once in memory. We can use some built in functions in Keras to automatically process the data, generate a flow of batches from a directory, and also manipulate the images.\n",
        "\n",
        "### Image Manipulation\n",
        "\n",
        "Its usually a good idea to manipulate the images with rotation, resizing, and scaling so the model becomes more robust to different images that our data set doesn't have. We can use the **ImageDataGenerator** to do this automatically for us. Check out the documentation for a full list of all the parameters you can use here!"
      ]
    },
    {
      "cell_type": "code",
      "metadata": {
        "colab": {
          "base_uri": "https://localhost:8080/"
        },
        "id": "j0PTk-kMjI_0",
        "outputId": "d4ca102e-edb1-4607-9c08-3ae329cc3409"
      },
      "source": [
        "para_img.max()"
      ],
      "execution_count": 60,
      "outputs": [
        {
          "output_type": "execute_result",
          "data": {
            "text/plain": [
              "0.9098039"
            ]
          },
          "metadata": {
            "tags": []
          },
          "execution_count": 60
        }
      ]
    },
    {
      "cell_type": "code",
      "metadata": {
        "id": "90N24fYbWzHq",
        "outputId": "0bfe0e19-3b53-4e17-a4cc-c33eb6646c34",
        "colab": {
          "base_uri": "https://localhost:8080/"
        }
      },
      "source": [
        "unifected_cell.max()"
      ],
      "execution_count": 61,
      "outputs": [
        {
          "output_type": "execute_result",
          "data": {
            "text/plain": [
              "0.7607843"
            ]
          },
          "metadata": {
            "tags": []
          },
          "execution_count": 61
        }
      ]
    },
    {
      "cell_type": "code",
      "metadata": {
        "id": "lNGmtMP8X3rc",
        "outputId": "b34575d0-4f3d-4f9d-c690-a7402c52ae1c",
        "colab": {
          "base_uri": "https://localhost:8080/"
        }
      },
      "source": [
        "unifected_cell.min()"
      ],
      "execution_count": 62,
      "outputs": [
        {
          "output_type": "execute_result",
          "data": {
            "text/plain": [
              "0.0"
            ]
          },
          "metadata": {
            "tags": []
          },
          "execution_count": 62
        }
      ]
    },
    {
      "cell_type": "code",
      "metadata": {
        "id": "ktLvm9zpX_Gi",
        "outputId": "c1705560-a82f-4bbf-e15e-8bb98c68bea8",
        "colab": {
          "base_uri": "https://localhost:8080/"
        }
      },
      "source": [
        "para_img.min()"
      ],
      "execution_count": 64,
      "outputs": [
        {
          "output_type": "execute_result",
          "data": {
            "text/plain": [
              "0.0"
            ]
          },
          "metadata": {
            "tags": []
          },
          "execution_count": 64
        }
      ]
    },
    {
      "cell_type": "code",
      "metadata": {
        "id": "ykanl4ggYAy5"
      },
      "source": [
        "from tensorflow.keras.preprocessing.image import ImageDataGenerator"
      ],
      "execution_count": 65,
      "outputs": []
    },
    {
      "cell_type": "code",
      "metadata": {
        "id": "3BI5oVclc_Ee",
        "outputId": "23fb1731-ea5c-4e08-aa18-77f174adbe76",
        "colab": {
          "base_uri": "https://localhost:8080/"
        }
      },
      "source": [
        "# many way to change the images\n",
        "help(ImageDataGenerator)"
      ],
      "execution_count": 66,
      "outputs": [
        {
          "output_type": "stream",
          "text": [
            "Help on class ImageDataGenerator in module tensorflow.python.keras.preprocessing.image:\n",
            "\n",
            "class ImageDataGenerator(keras_preprocessing.image.image_data_generator.ImageDataGenerator)\n",
            " |  ImageDataGenerator(featurewise_center=False, samplewise_center=False, featurewise_std_normalization=False, samplewise_std_normalization=False, zca_whitening=False, zca_epsilon=1e-06, rotation_range=0, width_shift_range=0.0, height_shift_range=0.0, brightness_range=None, shear_range=0.0, zoom_range=0.0, channel_shift_range=0.0, fill_mode='nearest', cval=0.0, horizontal_flip=False, vertical_flip=False, rescale=None, preprocessing_function=None, data_format=None, validation_split=0.0, dtype=None)\n",
            " |  \n",
            " |  Generate batches of tensor image data with real-time data augmentation.\n",
            " |  \n",
            " |   The data will be looped over (in batches).\n",
            " |  \n",
            " |  Args:\n",
            " |      featurewise_center: Boolean.\n",
            " |          Set input mean to 0 over the dataset, feature-wise.\n",
            " |      samplewise_center: Boolean. Set each sample mean to 0.\n",
            " |      featurewise_std_normalization: Boolean.\n",
            " |          Divide inputs by std of the dataset, feature-wise.\n",
            " |      samplewise_std_normalization: Boolean. Divide each input by its std.\n",
            " |      zca_epsilon: epsilon for ZCA whitening. Default is 1e-6.\n",
            " |      zca_whitening: Boolean. Apply ZCA whitening.\n",
            " |      rotation_range: Int. Degree range for random rotations.\n",
            " |      width_shift_range: Float, 1-D array-like or int\n",
            " |          - float: fraction of total width, if < 1, or pixels if >= 1.\n",
            " |          - 1-D array-like: random elements from the array.\n",
            " |          - int: integer number of pixels from interval\n",
            " |              `(-width_shift_range, +width_shift_range)`\n",
            " |          - With `width_shift_range=2` possible values\n",
            " |              are integers `[-1, 0, +1]`,\n",
            " |              same as with `width_shift_range=[-1, 0, +1]`,\n",
            " |              while with `width_shift_range=1.0` possible values are floats\n",
            " |              in the interval [-1.0, +1.0).\n",
            " |      height_shift_range: Float, 1-D array-like or int\n",
            " |          - float: fraction of total height, if < 1, or pixels if >= 1.\n",
            " |          - 1-D array-like: random elements from the array.\n",
            " |          - int: integer number of pixels from interval\n",
            " |              `(-height_shift_range, +height_shift_range)`\n",
            " |          - With `height_shift_range=2` possible values\n",
            " |              are integers `[-1, 0, +1]`,\n",
            " |              same as with `height_shift_range=[-1, 0, +1]`,\n",
            " |              while with `height_shift_range=1.0` possible values are floats\n",
            " |              in the interval [-1.0, +1.0).\n",
            " |      brightness_range: Tuple or list of two floats. Range for picking\n",
            " |          a brightness shift value from.\n",
            " |      shear_range: Float. Shear Intensity\n",
            " |          (Shear angle in counter-clockwise direction in degrees)\n",
            " |      zoom_range: Float or [lower, upper]. Range for random zoom.\n",
            " |          If a float, `[lower, upper] = [1-zoom_range, 1+zoom_range]`.\n",
            " |      channel_shift_range: Float. Range for random channel shifts.\n",
            " |      fill_mode: One of {\"constant\", \"nearest\", \"reflect\" or \"wrap\"}.\n",
            " |          Default is 'nearest'.\n",
            " |          Points outside the boundaries of the input are filled\n",
            " |          according to the given mode:\n",
            " |          - 'constant': kkkkkkkk|abcd|kkkkkkkk (cval=k)\n",
            " |          - 'nearest':  aaaaaaaa|abcd|dddddddd\n",
            " |          - 'reflect':  abcddcba|abcd|dcbaabcd\n",
            " |          - 'wrap':  abcdabcd|abcd|abcdabcd\n",
            " |      cval: Float or Int.\n",
            " |          Value used for points outside the boundaries\n",
            " |          when `fill_mode = \"constant\"`.\n",
            " |      horizontal_flip: Boolean. Randomly flip inputs horizontally.\n",
            " |      vertical_flip: Boolean. Randomly flip inputs vertically.\n",
            " |      rescale: rescaling factor. Defaults to None.\n",
            " |          If None or 0, no rescaling is applied,\n",
            " |          otherwise we multiply the data by the value provided\n",
            " |          (after applying all other transformations).\n",
            " |      preprocessing_function: function that will be applied on each input.\n",
            " |          The function will run after the image is resized and augmented.\n",
            " |          The function should take one argument:\n",
            " |          one image (Numpy tensor with rank 3),\n",
            " |          and should output a Numpy tensor with the same shape.\n",
            " |      data_format: Image data format,\n",
            " |          either \"channels_first\" or \"channels_last\".\n",
            " |          \"channels_last\" mode means that the images should have shape\n",
            " |          `(samples, height, width, channels)`,\n",
            " |          \"channels_first\" mode means that the images should have shape\n",
            " |          `(samples, channels, height, width)`.\n",
            " |          It defaults to the `image_data_format` value found in your\n",
            " |          Keras config file at `~/.keras/keras.json`.\n",
            " |          If you never set it, then it will be \"channels_last\".\n",
            " |      validation_split: Float. Fraction of images reserved for validation\n",
            " |          (strictly between 0 and 1).\n",
            " |      dtype: Dtype to use for the generated arrays.\n",
            " |  \n",
            " |  Raises:\n",
            " |    ValueError: If the value of the argument, `data_format` is other than\n",
            " |          `\"channels_last\"` or `\"channels_first\"`.\n",
            " |    ValueError: If the value of the argument, `validation_split` > 1\n",
            " |          or `validation_split` < 0.\n",
            " |  \n",
            " |  Examples:\n",
            " |  \n",
            " |  Example of using `.flow(x, y)`:\n",
            " |  \n",
            " |  ```python\n",
            " |  (x_train, y_train), (x_test, y_test) = cifar10.load_data()\n",
            " |  y_train = utils.to_categorical(y_train, num_classes)\n",
            " |  y_test = utils.to_categorical(y_test, num_classes)\n",
            " |  datagen = ImageDataGenerator(\n",
            " |      featurewise_center=True,\n",
            " |      featurewise_std_normalization=True,\n",
            " |      rotation_range=20,\n",
            " |      width_shift_range=0.2,\n",
            " |      height_shift_range=0.2,\n",
            " |      horizontal_flip=True,\n",
            " |      validation_split=0.2)\n",
            " |  # compute quantities required for featurewise normalization\n",
            " |  # (std, mean, and principal components if ZCA whitening is applied)\n",
            " |  datagen.fit(x_train)\n",
            " |  # fits the model on batches with real-time data augmentation:\n",
            " |  model.fit(datagen.flow(x_train, y_train, batch_size=32,\n",
            " |           subset='training'),\n",
            " |           validation_data=datagen.flow(x_train, y_train,\n",
            " |           batch_size=8, subset='validation'),\n",
            " |           steps_per_epoch=len(x_train) / 32, epochs=epochs)\n",
            " |  # here's a more \"manual\" example\n",
            " |  for e in range(epochs):\n",
            " |      print('Epoch', e)\n",
            " |      batches = 0\n",
            " |      for x_batch, y_batch in datagen.flow(x_train, y_train, batch_size=32):\n",
            " |          model.fit(x_batch, y_batch)\n",
            " |          batches += 1\n",
            " |          if batches >= len(x_train) / 32:\n",
            " |              # we need to break the loop by hand because\n",
            " |              # the generator loops indefinitely\n",
            " |              break\n",
            " |  ```\n",
            " |  \n",
            " |  Example of using `.flow_from_directory(directory)`:\n",
            " |  \n",
            " |  ```python\n",
            " |  train_datagen = ImageDataGenerator(\n",
            " |          rescale=1./255,\n",
            " |          shear_range=0.2,\n",
            " |          zoom_range=0.2,\n",
            " |          horizontal_flip=True)\n",
            " |  test_datagen = ImageDataGenerator(rescale=1./255)\n",
            " |  train_generator = train_datagen.flow_from_directory(\n",
            " |          'data/train',\n",
            " |          target_size=(150, 150),\n",
            " |          batch_size=32,\n",
            " |          class_mode='binary')\n",
            " |  validation_generator = test_datagen.flow_from_directory(\n",
            " |          'data/validation',\n",
            " |          target_size=(150, 150),\n",
            " |          batch_size=32,\n",
            " |          class_mode='binary')\n",
            " |  model.fit(\n",
            " |          train_generator,\n",
            " |          steps_per_epoch=2000,\n",
            " |          epochs=50,\n",
            " |          validation_data=validation_generator,\n",
            " |          validation_steps=800)\n",
            " |  ```\n",
            " |  \n",
            " |  Example of transforming images and masks together.\n",
            " |  \n",
            " |  ```python\n",
            " |  # we create two instances with the same arguments\n",
            " |  data_gen_args = dict(featurewise_center=True,\n",
            " |                       featurewise_std_normalization=True,\n",
            " |                       rotation_range=90,\n",
            " |                       width_shift_range=0.1,\n",
            " |                       height_shift_range=0.1,\n",
            " |                       zoom_range=0.2)\n",
            " |  image_datagen = ImageDataGenerator(**data_gen_args)\n",
            " |  mask_datagen = ImageDataGenerator(**data_gen_args)\n",
            " |  # Provide the same seed and keyword arguments to the fit and flow methods\n",
            " |  seed = 1\n",
            " |  image_datagen.fit(images, augment=True, seed=seed)\n",
            " |  mask_datagen.fit(masks, augment=True, seed=seed)\n",
            " |  image_generator = image_datagen.flow_from_directory(\n",
            " |      'data/images',\n",
            " |      class_mode=None,\n",
            " |      seed=seed)\n",
            " |  mask_generator = mask_datagen.flow_from_directory(\n",
            " |      'data/masks',\n",
            " |      class_mode=None,\n",
            " |      seed=seed)\n",
            " |  # combine generators into one which yields image and masks\n",
            " |  train_generator = zip(image_generator, mask_generator)\n",
            " |  model.fit(\n",
            " |      train_generator,\n",
            " |      steps_per_epoch=2000,\n",
            " |      epochs=50)\n",
            " |  ```\n",
            " |  \n",
            " |  Method resolution order:\n",
            " |      ImageDataGenerator\n",
            " |      keras_preprocessing.image.image_data_generator.ImageDataGenerator\n",
            " |      builtins.object\n",
            " |  \n",
            " |  Methods defined here:\n",
            " |  \n",
            " |  __init__(self, featurewise_center=False, samplewise_center=False, featurewise_std_normalization=False, samplewise_std_normalization=False, zca_whitening=False, zca_epsilon=1e-06, rotation_range=0, width_shift_range=0.0, height_shift_range=0.0, brightness_range=None, shear_range=0.0, zoom_range=0.0, channel_shift_range=0.0, fill_mode='nearest', cval=0.0, horizontal_flip=False, vertical_flip=False, rescale=None, preprocessing_function=None, data_format=None, validation_split=0.0, dtype=None)\n",
            " |      Initialize self.  See help(type(self)) for accurate signature.\n",
            " |  \n",
            " |  flow(self, x, y=None, batch_size=32, shuffle=True, sample_weight=None, seed=None, save_to_dir=None, save_prefix='', save_format='png', subset=None)\n",
            " |      Takes data & label arrays, generates batches of augmented data.\n",
            " |      \n",
            " |      Args:\n",
            " |          x: Input data. Numpy array of rank 4 or a tuple. If tuple, the first\n",
            " |            element should contain the images and the second element another numpy\n",
            " |            array or a list of numpy arrays that gets passed to the output without\n",
            " |            any modifications. Can be used to feed the model miscellaneous data\n",
            " |            along with the images. In case of grayscale data, the channels axis of\n",
            " |            the image array should have value 1, in case of RGB data, it should\n",
            " |            have value 3, and in case of RGBA data, it should have value 4.\n",
            " |          y: Labels.\n",
            " |          batch_size: Int (default: 32).\n",
            " |          shuffle: Boolean (default: True).\n",
            " |          sample_weight: Sample weights.\n",
            " |          seed: Int (default: None).\n",
            " |          save_to_dir: None or str (default: None). This allows you to optionally\n",
            " |            specify a directory to which to save the augmented pictures being\n",
            " |            generated (useful for visualizing what you are doing).\n",
            " |          save_prefix: Str (default: `''`). Prefix to use for filenames of saved\n",
            " |            pictures (only relevant if `save_to_dir` is set).\n",
            " |          save_format: one of \"png\", \"jpeg\", \"bmp\", \"pdf\", \"ppm\", \"gif\",\n",
            " |              \"tif\", \"jpg\"\n",
            " |              (only relevant if `save_to_dir` is set). Default: \"png\".\n",
            " |          subset: Subset of data (`\"training\"` or `\"validation\"`) if\n",
            " |            `validation_split` is set in `ImageDataGenerator`.\n",
            " |      \n",
            " |      Returns:\n",
            " |          An `Iterator` yielding tuples of `(x, y)`\n",
            " |              where `x` is a numpy array of image data\n",
            " |              (in the case of a single image input) or a list\n",
            " |              of numpy arrays (in the case with\n",
            " |              additional inputs) and `y` is a numpy array\n",
            " |              of corresponding labels. If 'sample_weight' is not None,\n",
            " |              the yielded tuples are of the form `(x, y, sample_weight)`.\n",
            " |              If `y` is None, only the numpy array `x` is returned.\n",
            " |      Raises:\n",
            " |        ValueError: If the Value of the argument, `subset` is other than\n",
            " |              \"training\" or \"validation\".\n",
            " |  \n",
            " |  flow_from_dataframe(self, dataframe, directory=None, x_col='filename', y_col='class', weight_col=None, target_size=(256, 256), color_mode='rgb', classes=None, class_mode='categorical', batch_size=32, shuffle=True, seed=None, save_to_dir=None, save_prefix='', save_format='png', subset=None, interpolation='nearest', validate_filenames=True, **kwargs)\n",
            " |      Takes the dataframe and the path to a directory + generates batches.\n",
            " |      \n",
            " |       The generated batches contain augmented/normalized data.\n",
            " |      \n",
            " |      **A simple tutorial can be found **[here](\n",
            " |                                  http://bit.ly/keras_flow_from_dataframe).\n",
            " |      \n",
            " |      Args:\n",
            " |          dataframe: Pandas dataframe containing the filepaths relative to\n",
            " |            `directory` (or absolute paths if `directory` is None) of the images\n",
            " |            in a string column. It should include other column/s\n",
            " |              depending on the `class_mode`:\n",
            " |              - if `class_mode` is `\"categorical\"` (default value) it must include\n",
            " |                the `y_col` column with the class/es of each image. Values in\n",
            " |                column can be string/list/tuple if a single class or list/tuple if\n",
            " |                multiple classes.\n",
            " |              - if `class_mode` is `\"binary\"` or `\"sparse\"` it must include the\n",
            " |                given `y_col` column with class values as strings.\n",
            " |              - if `class_mode` is `\"raw\"` or `\"multi_output\"` it should contain\n",
            " |                the columns specified in `y_col`.\n",
            " |              - if `class_mode` is `\"input\"` or `None` no extra column is needed.\n",
            " |          directory: string, path to the directory to read images from. If `None`,\n",
            " |            data in `x_col` column should be absolute paths.\n",
            " |          x_col: string, column in `dataframe` that contains the filenames (or\n",
            " |            absolute paths if `directory` is `None`).\n",
            " |          y_col: string or list, column/s in `dataframe` that has the target data.\n",
            " |          weight_col: string, column in `dataframe` that contains the sample\n",
            " |              weights. Default: `None`.\n",
            " |          target_size: tuple of integers `(height, width)`, default: `(256, 256)`.\n",
            " |            The dimensions to which all images found will be resized.\n",
            " |          color_mode: one of \"grayscale\", \"rgb\", \"rgba\". Default: \"rgb\". Whether\n",
            " |            the images will be converted to have 1 or 3 color channels.\n",
            " |          classes: optional list of classes (e.g. `['dogs', 'cats']`). Default is\n",
            " |            None. If not provided, the list of classes will be automatically\n",
            " |            inferred from the `y_col`, which will map to the label indices, will\n",
            " |            be alphanumeric). The dictionary containing the mapping from class\n",
            " |            names to class indices can be obtained via the attribute\n",
            " |            `class_indices`.\n",
            " |          class_mode: one of \"binary\", \"categorical\", \"input\", \"multi_output\",\n",
            " |              \"raw\", sparse\" or None. Default: \"categorical\".\n",
            " |              Mode for yielding the targets:\n",
            " |              - `\"binary\"`: 1D numpy array of binary labels,\n",
            " |              - `\"categorical\"`: 2D numpy array of one-hot encoded labels.\n",
            " |                Supports multi-label output.\n",
            " |              - `\"input\"`: images identical to input images (mainly used to work\n",
            " |                with autoencoders),\n",
            " |              - `\"multi_output\"`: list with the values of the different columns,\n",
            " |              - `\"raw\"`: numpy array of values in `y_col` column(s),\n",
            " |              - `\"sparse\"`: 1D numpy array of integer labels,\n",
            " |              - `None`, no targets are returned (the generator will only yield\n",
            " |                batches of image data, which is useful to use in\n",
            " |                `model.predict()`).\n",
            " |          batch_size: size of the batches of data (default: 32).\n",
            " |          shuffle: whether to shuffle the data (default: True)\n",
            " |          seed: optional random seed for shuffling and transformations.\n",
            " |          save_to_dir: None or str (default: None). This allows you to optionally\n",
            " |            specify a directory to which to save the augmented pictures being\n",
            " |            generated (useful for visualizing what you are doing).\n",
            " |          save_prefix: str. Prefix to use for filenames of saved pictures (only\n",
            " |            relevant if `save_to_dir` is set).\n",
            " |          save_format: one of \"png\", \"jpeg\", \"bmp\", \"pdf\", \"ppm\", \"gif\",\n",
            " |              \"tif\", \"jpg\"\n",
            " |              (only relevant if `save_to_dir` is set). Default: \"png\".\n",
            " |          subset: Subset of data (`\"training\"` or `\"validation\"`) if\n",
            " |            `validation_split` is set in `ImageDataGenerator`.\n",
            " |          interpolation: Interpolation method used to resample the image if the\n",
            " |            target size is different from that of the loaded image. Supported\n",
            " |            methods are `\"nearest\"`, `\"bilinear\"`, and `\"bicubic\"`. If PIL version\n",
            " |            1.1.3 or newer is installed, `\"lanczos\"` is also supported. If PIL\n",
            " |            version 3.4.0 or newer is installed, `\"box\"` and `\"hamming\"` are also\n",
            " |            supported. By default, `\"nearest\"` is used.\n",
            " |          validate_filenames: Boolean, whether to validate image filenames in\n",
            " |            `x_col`. If `True`, invalid images will be ignored. Disabling this\n",
            " |            option can lead to speed-up in the execution of this function.\n",
            " |            Defaults to `True`.\n",
            " |          **kwargs: legacy arguments for raising deprecation warnings.\n",
            " |      \n",
            " |      Returns:\n",
            " |          A `DataFrameIterator` yielding tuples of `(x, y)`\n",
            " |          where `x` is a numpy array containing a batch\n",
            " |          of images with shape `(batch_size, *target_size, channels)`\n",
            " |          and `y` is a numpy array of corresponding labels.\n",
            " |  \n",
            " |  flow_from_directory(self, directory, target_size=(256, 256), color_mode='rgb', classes=None, class_mode='categorical', batch_size=32, shuffle=True, seed=None, save_to_dir=None, save_prefix='', save_format='png', follow_links=False, subset=None, interpolation='nearest')\n",
            " |      Takes the path to a directory & generates batches of augmented data.\n",
            " |      \n",
            " |      Args:\n",
            " |          directory: string, path to the target directory. It should contain one\n",
            " |            subdirectory per class. Any PNG, JPG, BMP, PPM or TIF images inside\n",
            " |            each of the subdirectories directory tree will be included in the\n",
            " |            generator. See [this script](\n",
            " |              https://gist.github.com/fchollet/0830affa1f7f19fd47b06d4cf89ed44d)\n",
            " |                for more details.\n",
            " |          target_size: Tuple of integers `(height, width)`, defaults to `(256,\n",
            " |            256)`. The dimensions to which all images found will be resized.\n",
            " |          color_mode: One of \"grayscale\", \"rgb\", \"rgba\". Default: \"rgb\". Whether\n",
            " |            the images will be converted to have 1, 3, or 4 channels.\n",
            " |          classes: Optional list of class subdirectories\n",
            " |              (e.g. `['dogs', 'cats']`). Default: None. If not provided, the list\n",
            " |                of classes will be automatically inferred from the subdirectory\n",
            " |                names/structure under `directory`, where each subdirectory will be\n",
            " |                treated as a different class (and the order of the classes, which\n",
            " |                will map to the label indices, will be alphanumeric). The\n",
            " |                dictionary containing the mapping from class names to class\n",
            " |                indices can be obtained via the attribute `class_indices`.\n",
            " |          class_mode: One of \"categorical\", \"binary\", \"sparse\",\n",
            " |              \"input\", or None. Default: \"categorical\".\n",
            " |              Determines the type of label arrays that are returned:\n",
            " |              - \"categorical\" will be 2D one-hot encoded labels,\n",
            " |              - \"binary\" will be 1D binary labels,\n",
            " |              - \"sparse\" will be 1D integer labels,\n",
            " |              - \"input\"  will be images identical to input images (mainly used to\n",
            " |                work with autoencoders).\n",
            " |              - If None, no labels are returned (the generator will only yield\n",
            " |                batches of image data, which is useful to use with\n",
            " |                `model.predict()`).\n",
            " |              Please note that in case of class_mode None, the data still needs to\n",
            " |              reside in a subdirectory of `directory` for it to work correctly.\n",
            " |          batch_size: Size of the batches of data (default: 32).\n",
            " |          shuffle: Whether to shuffle the data (default: True) If set to False,\n",
            " |            sorts the data in alphanumeric order.\n",
            " |          seed: Optional random seed for shuffling and transformations.\n",
            " |          save_to_dir: None or str (default: None). This allows you to optionally\n",
            " |            specify a directory to which to save the augmented pictures being\n",
            " |            generated (useful for visualizing what you are doing).\n",
            " |          save_prefix: Str. Prefix to use for filenames of saved pictures (only\n",
            " |            relevant if `save_to_dir` is set).\n",
            " |          save_format: one of \"png\", \"jpeg\", \"bmp\", \"pdf\", \"ppm\", \"gif\",\n",
            " |              \"tif\", \"jpg\"\n",
            " |              (only relevant if `save_to_dir` is set). Default: \"png\".\n",
            " |          follow_links: Whether to follow symlinks inside\n",
            " |              class subdirectories (default: False).\n",
            " |          subset: Subset of data (`\"training\"` or `\"validation\"`) if\n",
            " |            `validation_split` is set in `ImageDataGenerator`.\n",
            " |          interpolation: Interpolation method used to resample the image if the\n",
            " |            target size is different from that of the loaded image. Supported\n",
            " |            methods are `\"nearest\"`, `\"bilinear\"`, and `\"bicubic\"`. If PIL version\n",
            " |            1.1.3 or newer is installed, `\"lanczos\"` is also supported. If PIL\n",
            " |            version 3.4.0 or newer is installed, `\"box\"` and `\"hamming\"` are also\n",
            " |            supported. By default, `\"nearest\"` is used.\n",
            " |      \n",
            " |      Returns:\n",
            " |          A `DirectoryIterator` yielding tuples of `(x, y)`\n",
            " |              where `x` is a numpy array containing a batch\n",
            " |              of images with shape `(batch_size, *target_size, channels)`\n",
            " |              and `y` is a numpy array of corresponding labels.\n",
            " |  \n",
            " |  ----------------------------------------------------------------------\n",
            " |  Methods inherited from keras_preprocessing.image.image_data_generator.ImageDataGenerator:\n",
            " |  \n",
            " |  apply_transform(self, x, transform_parameters)\n",
            " |      Applies a transformation to an image according to given parameters.\n",
            " |      \n",
            " |      # Arguments\n",
            " |          x: 3D tensor, single image.\n",
            " |          transform_parameters: Dictionary with string - parameter pairs\n",
            " |              describing the transformation.\n",
            " |              Currently, the following parameters\n",
            " |              from the dictionary are used:\n",
            " |              - `'theta'`: Float. Rotation angle in degrees.\n",
            " |              - `'tx'`: Float. Shift in the x direction.\n",
            " |              - `'ty'`: Float. Shift in the y direction.\n",
            " |              - `'shear'`: Float. Shear angle in degrees.\n",
            " |              - `'zx'`: Float. Zoom in the x direction.\n",
            " |              - `'zy'`: Float. Zoom in the y direction.\n",
            " |              - `'flip_horizontal'`: Boolean. Horizontal flip.\n",
            " |              - `'flip_vertical'`: Boolean. Vertical flip.\n",
            " |              - `'channel_shift_intensity'`: Float. Channel shift intensity.\n",
            " |              - `'brightness'`: Float. Brightness shift intensity.\n",
            " |      \n",
            " |      # Returns\n",
            " |          A transformed version of the input (same shape).\n",
            " |  \n",
            " |  fit(self, x, augment=False, rounds=1, seed=None)\n",
            " |      Fits the data generator to some sample data.\n",
            " |      \n",
            " |      This computes the internal data stats related to the\n",
            " |      data-dependent transformations, based on an array of sample data.\n",
            " |      \n",
            " |      Only required if `featurewise_center` or\n",
            " |      `featurewise_std_normalization` or `zca_whitening` are set to True.\n",
            " |      \n",
            " |      When `rescale` is set to a value, rescaling is applied to\n",
            " |      sample data before computing the internal data stats.\n",
            " |      \n",
            " |      # Arguments\n",
            " |          x: Sample data. Should have rank 4.\n",
            " |           In case of grayscale data,\n",
            " |           the channels axis should have value 1, in case\n",
            " |           of RGB data, it should have value 3, and in case\n",
            " |           of RGBA data, it should have value 4.\n",
            " |          augment: Boolean (default: False).\n",
            " |              Whether to fit on randomly augmented samples.\n",
            " |          rounds: Int (default: 1).\n",
            " |              If using data augmentation (`augment=True`),\n",
            " |              this is how many augmentation passes over the data to use.\n",
            " |          seed: Int (default: None). Random seed.\n",
            " |  \n",
            " |  get_random_transform(self, img_shape, seed=None)\n",
            " |      Generates random parameters for a transformation.\n",
            " |      \n",
            " |      # Arguments\n",
            " |          seed: Random seed.\n",
            " |          img_shape: Tuple of integers.\n",
            " |              Shape of the image that is transformed.\n",
            " |      \n",
            " |      # Returns\n",
            " |          A dictionary containing randomly chosen parameters describing the\n",
            " |          transformation.\n",
            " |  \n",
            " |  random_transform(self, x, seed=None)\n",
            " |      Applies a random transformation to an image.\n",
            " |      \n",
            " |      # Arguments\n",
            " |          x: 3D tensor, single image.\n",
            " |          seed: Random seed.\n",
            " |      \n",
            " |      # Returns\n",
            " |          A randomly transformed version of the input (same shape).\n",
            " |  \n",
            " |  standardize(self, x)\n",
            " |      Applies the normalization configuration in-place to a batch of inputs.\n",
            " |      \n",
            " |      `x` is changed in-place since the function is mainly used internally\n",
            " |      to standardize images and feed them to your network. If a copy of `x`\n",
            " |      would be created instead it would have a significant performance cost.\n",
            " |      If you want to apply this method without changing the input in-place\n",
            " |      you can call the method creating a copy before:\n",
            " |      \n",
            " |      standardize(np.copy(x))\n",
            " |      \n",
            " |      # Arguments\n",
            " |          x: Batch of inputs to be normalized.\n",
            " |      \n",
            " |      # Returns\n",
            " |          The inputs, normalized.\n",
            " |  \n",
            " |  ----------------------------------------------------------------------\n",
            " |  Data descriptors inherited from keras_preprocessing.image.image_data_generator.ImageDataGenerator:\n",
            " |  \n",
            " |  __dict__\n",
            " |      dictionary for instance variables (if defined)\n",
            " |  \n",
            " |  __weakref__\n",
            " |      list of weak references to the object (if defined)\n",
            "\n"
          ],
          "name": "stdout"
        }
      ]
    },
    {
      "cell_type": "code",
      "metadata": {
        "id": "bWS9jwsDdBOo"
      },
      "source": [
        "image_gen = ImageDataGenerator(rotation_range=20, # rotate the image 20 degrees\n",
        "                               width_shift_range=0.10, # Shift the pic width by a max of 5%\n",
        "                               height_shift_range=0.10, # Shift the pic height by a max of 5%\n",
        "                               #rescale=1/255, # our data is already scaled.\n",
        "                               shear_range=0.1, # Shear means cutting away part of the image (max 10%)\n",
        "                               zoom_range=0.1, # Zoom in by 10% max\n",
        "                               horizontal_flip=True, # Allo horizontal flipping\n",
        "                               fill_mode='nearest' # Fill in missing pixels with the nearest filled value\n",
        "                              )"
      ],
      "execution_count": 67,
      "outputs": []
    },
    {
      "cell_type": "code",
      "metadata": {
        "id": "nAXbft2Id7mp",
        "outputId": "c9fcde3c-c5fd-42a5-b6ee-ad7e9b602575",
        "colab": {
          "base_uri": "https://localhost:8080/",
          "height": 269
        }
      },
      "source": [
        "plt.imshow(para_img)\n",
        "plt.show()"
      ],
      "execution_count": 69,
      "outputs": [
        {
          "output_type": "display_data",
          "data": {
            "image/png": "[encoded data removed]",
            "text/plain": [
              "<Figure size 432x288 with 1 Axes>"
            ]
          },
          "metadata": {
            "tags": [],
            "needs_background": "light"
          }
        }
      ]
    },
    {
      "cell_type": "code",
      "metadata": {
        "id": "oEbFmmxbeZzc",
        "outputId": "a26ebcee-d11e-43c8-c13a-0da0e0943b34",
        "colab": {
          "base_uri": "https://localhost:8080/",
          "height": 269
        }
      },
      "source": [
        "# randomly transforming the image\n",
        "plt.imshow(image_gen.random_transform(para_img))\n",
        "plt.show()"
      ],
      "execution_count": 71,
      "outputs": [
        {
          "output_type": "display_data",
          "data": {
            "image/png": "[encoded data removed]",
            "text/plain": [
              "<Figure size 432x288 with 1 Axes>"
            ]
          },
          "metadata": {
            "tags": [],
            "needs_background": "light"
          }
        }
      ]
    },
    {
      "cell_type": "code",
      "metadata": {
        "id": "WtfezYoDejYo",
        "outputId": "4a52739f-7928-4410-fe77-2a4a5293e172",
        "colab": {
          "base_uri": "https://localhost:8080/",
          "height": 269
        }
      },
      "source": [
        "# randomly transforming the image\n",
        "plt.imshow(image_gen.random_transform(para_img))\n",
        "plt.show()"
      ],
      "execution_count": 72,
      "outputs": [
        {
          "output_type": "display_data",
          "data": {
            "image/png": "[encoded data removed]",
            "text/plain": [
              "<Figure size 432x288 with 1 Axes>"
            ]
          },
          "metadata": {
            "tags": [],
            "needs_background": "light"
          }
        }
      ]
    },
    {
      "cell_type": "markdown",
      "metadata": {
        "id": "e7V54YXSe1up"
      },
      "source": [
        "### Generating many manipulated images from a directory\n",
        "\n",
        "\n",
        "In order to use .flow_from_directory, you must organize the images in sub-directories. This is an absolute requirement, otherwise the method won't work. The directories should only contain images of one class, so one folder per class of images.\n",
        "\n",
        "Structure Needed:\n",
        "\n",
        "* Image Data Folder\n",
        "    * Class 1\n",
        "        * 0.jpg\n",
        "        * 1.jpg\n",
        "        * ...\n",
        "    * Class 2\n",
        "        * 0.jpg\n",
        "        * 1.jpg\n",
        "        * ...\n",
        "    * ...\n",
        "    * Class n"
      ]
    },
    {
      "cell_type": "code",
      "metadata": {
        "id": "m78HaoNiem_h",
        "outputId": "86a2912a-6e8c-4d38-be8c-4be720f68738",
        "colab": {
          "base_uri": "https://localhost:8080/"
        }
      },
      "source": [
        "# our data is separated in 2 directories\n",
        "image_gen.flow_from_directory(train_path)"
      ],
      "execution_count": 73,
      "outputs": [
        {
          "output_type": "stream",
          "text": [
            "Found 24958 images belonging to 2 classes.\n"
          ],
          "name": "stdout"
        },
        {
          "output_type": "execute_result",
          "data": {
            "text/plain": [
              "<tensorflow.python.keras.preprocessing.image.DirectoryIterator at 0x7f360363c7d0>"
            ]
          },
          "metadata": {
            "tags": []
          },
          "execution_count": 73
        }
      ]
    },
    {
      "cell_type": "code",
      "metadata": {
        "id": "mkhJFVnne69W",
        "outputId": "c9fcea0b-3318-443e-d4cc-08a3252178f9",
        "colab": {
          "base_uri": "https://localhost:8080/"
        }
      },
      "source": [
        "# our data is separated in 2 directories\n",
        "image_gen.flow_from_directory(test_path)"
      ],
      "execution_count": 74,
      "outputs": [
        {
          "output_type": "stream",
          "text": [
            "Found 2600 images belonging to 2 classes.\n"
          ],
          "name": "stdout"
        },
        {
          "output_type": "execute_result",
          "data": {
            "text/plain": [
              "<tensorflow.python.keras.preprocessing.image.DirectoryIterator at 0x7f36035f4f10>"
            ]
          },
          "metadata": {
            "tags": []
          },
          "execution_count": 74
        }
      ]
    },
    {
      "cell_type": "markdown",
      "metadata": {
        "id": "vrauNwLnfJyo"
      },
      "source": [
        "# Creating the Model"
      ]
    },
    {
      "cell_type": "code",
      "metadata": {
        "id": "up8GpVHvfF7S"
      },
      "source": [
        "from tensorflow.keras.models import Sequential\n",
        "from tensorflow.keras.layers import Activation, Dropout, Flatten, Dense, Conv2D, MaxPooling2D"
      ],
      "execution_count": 75,
      "outputs": []
    },
    {
      "cell_type": "code",
      "metadata": {
        "id": "WxNb8faMfNm9"
      },
      "source": [
        ""
      ],
      "execution_count": null,
      "outputs": []
    }
  ]
}