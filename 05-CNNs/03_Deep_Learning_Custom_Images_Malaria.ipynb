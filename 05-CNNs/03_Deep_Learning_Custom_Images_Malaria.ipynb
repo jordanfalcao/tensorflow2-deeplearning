{
  "nbformat": 4,
  "nbformat_minor": 0,
  "metadata": {
    "colab": {
      "name": "03-Deep-Learning-Custom-Images-Malaria.ipynb",
      "provenance": []
    },
    "kernelspec": {
      "name": "python3",
      "display_name": "Python 3"
    },
    "language_info": {
      "name": "python"
    }
  },
  "cells": [
    {
      "cell_type": "markdown",
      "metadata": {
        "id": "CKIDA3qPt6EO"
      },
      "source": [
        "# Working with Custom Images\n",
        "\n",
        "Let's explore what its like to work with a more realistic data set.\n",
        "\n",
        "## The Data\n",
        "\n",
        "----------\n",
        "--------\n",
        "\n",
        "ORIGINAL DATA SOURCE:\n",
        "\n",
        "The dataset contains 2 folders - Infected - Uninfected\n",
        "\n",
        "And a total of 27,558 images.\n",
        "\n",
        "Acknowledgements\n",
        "This Dataset is taken from the official NIH Website: https://ceb.nlm.nih.gov/repositories/malaria-datasets/ \n",
        "\n",
        "**Note: We will be dealing with real image files, NOT numpy arrays. Which means a large part of this process will be learning how to work with and deal with large groups of image files. This is too much data to fit in memory as a numpy array, so we'll need to feed it into our model in batches.**\n",
        "\n",
        "### Visualizing the Data\n",
        "\n",
        "\n",
        "-------\n",
        "Let's take a closer look at the data."
      ]
    },
    {
      "cell_type": "code",
      "metadata": {
        "id": "vSEtUkmzg55e"
      },
      "source": [
        "# !unrar x cell_images.rar"
      ],
      "execution_count": null,
      "outputs": []
    },
    {
      "cell_type": "code",
      "metadata": {
        "id": "363pnL46hx_B"
      },
      "source": [
        "# zip_path = base/’size_test/cats_dogs.zip’\n",
        "# !cp “{zip_path}” .\n",
        "# !unzip -q cats_dogs.zip\n",
        "# !rm cats_dogs.zip\n"
      ],
      "execution_count": 40,
      "outputs": []
    },
    {
      "cell_type": "code",
      "metadata": {
        "colab": {
          "base_uri": "https://localhost:8080/"
        },
        "id": "jWr3Uz3zRNLK",
        "outputId": "cd3eba36-a51e-4632-bc06-a131a75fcda7"
      },
      "source": [
        "#  mounts the Google drive\n",
        "from google.colab import drive\n",
        "drive.mount('/content/drive')"
      ],
      "execution_count": 1,
      "outputs": [
        {
          "output_type": "stream",
          "text": [
            "Drive already mounted at /content/drive; to attempt to forcibly remount, call drive.mount(\"/content/drive\", force_remount=True).\n"
          ],
          "name": "stdout"
        }
      ]
    },
    {
      "cell_type": "code",
      "metadata": {
        "id": "01cXdCImmlif"
      },
      "source": [
        "import pandas as pd\n",
        "import numpy as np\n",
        "import seaborn as sns\n",
        "import matplotlib.pyplot as plt\n",
        "from matplotlib.image import imread\n",
        "\n",
        "import zipfile\n",
        "import os"
      ],
      "execution_count": 2,
      "outputs": []
    },
    {
      "cell_type": "code",
      "metadata": {
        "id": "cBLUDR6mnBdy"
      },
      "source": [
        "#!unrar x \"/content/drive/MyDrive/cell_images.rar\" \"/content/drive/MyDrive/Tensorflow\""
      ],
      "execution_count": 3,
      "outputs": []
    },
    {
      "cell_type": "code",
      "metadata": {
        "id": "QwR4C-yKn8p5"
      },
      "source": [
        "my_data_dir = '/content/drive/MyDrive/Tensorflow/cell_images'"
      ],
      "execution_count": 4,
      "outputs": []
    },
    {
      "cell_type": "code",
      "metadata": {
        "colab": {
          "base_uri": "https://localhost:8080/"
        },
        "id": "rNAf78UFreO7",
        "outputId": "4349a5f1-bae7-43ba-b99f-720c8588bb66"
      },
      "source": [
        "# CONFIRM THAT THIS REPORTS BACK 'test', and 'train'\n",
        "os.listdir(my_data_dir) "
      ],
      "execution_count": 5,
      "outputs": [
        {
          "output_type": "execute_result",
          "data": {
            "text/plain": [
              "['test', 'train']"
            ]
          },
          "metadata": {
            "tags": []
          },
          "execution_count": 5
        }
      ]
    },
    {
      "cell_type": "code",
      "metadata": {
        "id": "yLj3_NYArhcf"
      },
      "source": [
        "test_path = my_data_dir+'/test'\n",
        "train_path = my_data_dir+'/train'"
      ],
      "execution_count": 6,
      "outputs": []
    },
    {
      "cell_type": "code",
      "metadata": {
        "colab": {
          "base_uri": "https://localhost:8080/"
        },
        "id": "GurdQW7BrrsQ",
        "outputId": "30a7ae2d-e7a4-489c-fd20-3076a122fe98"
      },
      "source": [
        "os.listdir(test_path)"
      ],
      "execution_count": 7,
      "outputs": [
        {
          "output_type": "execute_result",
          "data": {
            "text/plain": [
              "['parasitized', 'uninfected']"
            ]
          },
          "metadata": {
            "tags": []
          },
          "execution_count": 7
        }
      ]
    },
    {
      "cell_type": "code",
      "metadata": {
        "colab": {
          "base_uri": "https://localhost:8080/"
        },
        "id": "0PN_RuEbrt-F",
        "outputId": "1c91f0ec-74a2-4778-941d-b5e42362a0eb"
      },
      "source": [
        "os.listdir(train_path)"
      ],
      "execution_count": 8,
      "outputs": [
        {
          "output_type": "execute_result",
          "data": {
            "text/plain": [
              "['uninfected', 'parasitized']"
            ]
          },
          "metadata": {
            "tags": []
          },
          "execution_count": 8
        }
      ]
    },
    {
      "cell_type": "markdown",
      "metadata": {
        "id": "s_bBRxDuwEB-"
      },
      "source": [
        "**Let's check how many images there are.**"
      ]
    },
    {
      "cell_type": "code",
      "metadata": {
        "colab": {
          "base_uri": "https://localhost:8080/"
        },
        "id": "EAos0A0nsBlj",
        "outputId": "a788609c-3189-49d1-a92f-7d36b021bbb0"
      },
      "source": [
        "len(os.listdir('/content/drive/MyDrive/Tensorflow/cell_images/test/parasitized'))"
      ],
      "execution_count": 9,
      "outputs": [
        {
          "output_type": "execute_result",
          "data": {
            "text/plain": [
              "1300"
            ]
          },
          "metadata": {
            "tags": []
          },
          "execution_count": 9
        }
      ]
    },
    {
      "cell_type": "code",
      "metadata": {
        "colab": {
          "base_uri": "https://localhost:8080/"
        },
        "id": "qaiTQo3OuTqa",
        "outputId": "a23a35ed-a9d7-4cd1-97a2-3921ce819170"
      },
      "source": [
        "len(os.listdir('/content/drive/MyDrive/Tensorflow/cell_images/test/uninfected'))"
      ],
      "execution_count": 10,
      "outputs": [
        {
          "output_type": "execute_result",
          "data": {
            "text/plain": [
              "1300"
            ]
          },
          "metadata": {
            "tags": []
          },
          "execution_count": 10
        }
      ]
    },
    {
      "cell_type": "code",
      "metadata": {
        "colab": {
          "base_uri": "https://localhost:8080/"
        },
        "id": "kKrhKg4UucXN",
        "outputId": "9ac1c634-ef9d-40b0-bdb8-d2727f954b2f"
      },
      "source": [
        "len(os.listdir('/content/drive/MyDrive/Tensorflow/cell_images/train/parasitized'))"
      ],
      "execution_count": 11,
      "outputs": [
        {
          "output_type": "execute_result",
          "data": {
            "text/plain": [
              "12480"
            ]
          },
          "metadata": {
            "tags": []
          },
          "execution_count": 11
        }
      ]
    },
    {
      "cell_type": "code",
      "metadata": {
        "colab": {
          "base_uri": "https://localhost:8080/"
        },
        "id": "2mbu6ZENufzZ",
        "outputId": "ad16f2b7-79fc-4660-f4fa-8255f7582262"
      },
      "source": [
        "len(os.listdir('/content/drive/MyDrive/Tensorflow/cell_images/train/uninfected'))"
      ],
      "execution_count": 12,
      "outputs": [
        {
          "output_type": "execute_result",
          "data": {
            "text/plain": [
              "12480"
            ]
          },
          "metadata": {
            "tags": []
          },
          "execution_count": 12
        }
      ]
    },
    {
      "cell_type": "markdown",
      "metadata": {
        "id": "xdTAACdR7XcK"
      },
      "source": [
        "**Single image.**"
      ]
    },
    {
      "cell_type": "code",
      "metadata": {
        "colab": {
          "base_uri": "https://localhost:8080/",
          "height": 35
        },
        "id": "Yj19MU1juiI0",
        "outputId": "15d5c67b-2c32-4b74-86b7-0dbd75c657f7"
      },
      "source": [
        "os.listdir(train_path+'/parasitized')[0]"
      ],
      "execution_count": 13,
      "outputs": [
        {
          "output_type": "execute_result",
          "data": {
            "application/vnd.google.colaboratory.intrinsic+json": {
              "type": "string"
            },
            "text/plain": [
              "'C91P52ThinF_IMG_20150821_125256_cell_15.png'"
            ]
          },
          "metadata": {
            "tags": []
          },
          "execution_count": 13
        }
      ]
    },
    {
      "cell_type": "code",
      "metadata": {
        "id": "PZg0FCCMu_be"
      },
      "source": [
        "para_cell = train_path+'/parasitized'+'/C100P61ThinF_IMG_20150918_144104_cell_162.png'"
      ],
      "execution_count": 14,
      "outputs": []
    },
    {
      "cell_type": "code",
      "metadata": {
        "id": "0uqIi8AkvFbw"
      },
      "source": [
        "para_img = imread(para_cell)"
      ],
      "execution_count": 15,
      "outputs": []
    },
    {
      "cell_type": "code",
      "metadata": {
        "colab": {
          "base_uri": "https://localhost:8080/",
          "height": 269
        },
        "id": "hsfwVJR4vIIP",
        "outputId": "4b1be607-3e4f-4e5f-b136-fede3528f46b"
      },
      "source": [
        "plt.imshow(para_img)\n",
        "plt.show()"
      ],
      "execution_count": 16,
      "outputs": [
        {
          "output_type": "display_data",
          "data": {
            "image/png": "[encoded data removed]",
            "text/plain": [
              "<Figure size 432x288 with 1 Axes>"
            ]
          },
          "metadata": {
            "tags": [],
            "needs_background": "light"
          }
        }
      ]
    },
    {
      "cell_type": "code",
      "metadata": {
        "colab": {
          "base_uri": "https://localhost:8080/",
          "height": 269
        },
        "id": "dfa33Sy5vQgn",
        "outputId": "d60bb60a-2702-49fe-8829-fb77d7d8b4a6"
      },
      "source": [
        "unifected_cell_path = train_path+'/uninfected/'+os.listdir(train_path+'/uninfected')[0]\n",
        "unifected_cell = imread(unifected_cell_path)\n",
        "plt.imshow(unifected_cell)\n",
        "plt.show()"
      ],
      "execution_count": 17,
      "outputs": [
        {
          "output_type": "display_data",
          "data": {
            "image/png": "[encoded data removed]",
            "text/plain": [
              "<Figure size 432x288 with 1 Axes>"
            ]
          },
          "metadata": {
            "tags": [],
            "needs_background": "light"
          }
        }
      ]
    },
    {
      "cell_type": "markdown",
      "metadata": {
        "id": "y8j1nAaMwXKH"
      },
      "source": [
        "**The images have differents dimensions. Let's find out the average dimensions of these images.**"
      ]
    },
    {
      "cell_type": "code",
      "metadata": {
        "colab": {
          "base_uri": "https://localhost:8080/"
        },
        "id": "GlLCmKD2ve-t",
        "outputId": "e824a94d-fa0d-488b-da1b-7da0d452bcfb"
      },
      "source": [
        "para_img.shape"
      ],
      "execution_count": 18,
      "outputs": [
        {
          "output_type": "execute_result",
          "data": {
            "text/plain": [
              "(148, 142, 3)"
            ]
          },
          "metadata": {
            "tags": []
          },
          "execution_count": 18
        }
      ]
    },
    {
      "cell_type": "code",
      "metadata": {
        "colab": {
          "base_uri": "https://localhost:8080/"
        },
        "id": "ka7M6ngcwPse",
        "outputId": "7507e0f0-f9c0-4925-8c86-cfbb2c2709e2"
      },
      "source": [
        "unifected_cell.shape"
      ],
      "execution_count": 19,
      "outputs": [
        {
          "output_type": "execute_result",
          "data": {
            "text/plain": [
              "(142, 115, 3)"
            ]
          },
          "metadata": {
            "tags": []
          },
          "execution_count": 19
        }
      ]
    },
    {
      "cell_type": "code",
      "metadata": {
        "id": "kavHMbRGwSny"
      },
      "source": [
        " # Other options: https://stackoverflow.com/questions/1507084/how-to-check-dimensions-of-all-images-in-a-directory-using-python\n",
        " dim1 = []\n",
        " dim2 = []\n",
        "\n",
        " for image_filename in os.listdir(test_path+'/uninfected'):\n",
        "\n",
        "   img = imread(test_path+'/uninfected/'+image_filename)\n",
        "   d1, d2, colors_channel = img.shape\n",
        "   dim1.append(d1)\n",
        "   dim2.append(d2)\n",
        "   "
      ],
      "execution_count": 20,
      "outputs": []
    },
    {
      "cell_type": "code",
      "metadata": {
        "colab": {
          "base_uri": "https://localhost:8080/",
          "height": 441
        },
        "id": "3NVDvDFWOj0a",
        "outputId": "db432b9c-cb23-4609-c80d-4272c99924a3"
      },
      "source": [
        "sns.jointplot(x= dim1, y = dim2)\n",
        "plt.show()"
      ],
      "execution_count": 34,
      "outputs": [
        {
          "output_type": "display_data",
          "data": {
            "image/png": "[encoded data removed]",
            "text/plain": [
              "<Figure size 432x432 with 3 Axes>"
            ]
          },
          "metadata": {
            "tags": [],
            "needs_background": "light"
          }
        }
      ]
    },
    {
      "cell_type": "code",
      "metadata": {
        "colab": {
          "base_uri": "https://localhost:8080/"
        },
        "id": "oMxquKxzR4YE",
        "outputId": "417638c0-7ce9-443b-a7b3-edea42582e52"
      },
      "source": [
        "# width pixel mean\n",
        "np.mean(dim1)"
      ],
      "execution_count": 31,
      "outputs": [
        {
          "output_type": "execute_result",
          "data": {
            "text/plain": [
              "130.92538461538462"
            ]
          },
          "metadata": {
            "tags": []
          },
          "execution_count": 31
        }
      ]
    },
    {
      "cell_type": "code",
      "metadata": {
        "id": "wgwWJe9Rd8sU",
        "outputId": "49ef36f5-40d1-4aaf-f304-824e789f8b6b",
        "colab": {
          "base_uri": "https://localhost:8080/"
        }
      },
      "source": [
        "# height pixel mean\n",
        "np.mean(dim2)"
      ],
      "execution_count": 32,
      "outputs": [
        {
          "output_type": "execute_result",
          "data": {
            "text/plain": [
              "130.75"
            ]
          },
          "metadata": {
            "tags": []
          },
          "execution_count": 32
        }
      ]
    },
    {
      "cell_type": "code",
      "metadata": {
        "id": "f-DXhyUWd-Cp"
      },
      "source": [
        "# setting the average image dimension\n",
        "image_shape = (130,130,3)"
      ],
      "execution_count": 33,
      "outputs": []
    },
    {
      "cell_type": "markdown",
      "metadata": {
        "id": "Xa4i5TyPeaAQ"
      },
      "source": [
        "## Preparing the Data for the model\n",
        "\n",
        "There is too much data for us to read all at once in memory. We can use some built in functions in Keras to automatically process the data, generate a flow of batches from a directory, and also manipulate the images.\n",
        "\n",
        "### Image Manipulation\n",
        "\n",
        "Its usually a good idea to manipulate the images with rotation, resizing, and scaling so the model becomes more robust to different images that our data set doesn't have. We can use the **ImageDataGenerator** to do this automatically for us. Check out the documentation for a full list of all the parameters you can use here!"
      ]
    },
    {
      "cell_type": "code",
      "metadata": {
        "id": "P4d3GLjBeVOp"
      },
      "source": [
        "data_dir = 'cell_images'"
      ],
      "execution_count": 37,
      "outputs": []
    },
    {
      "cell_type": "code",
      "metadata": {
        "id": "jHi5YGhqgTJ4",
        "outputId": "b9f785ef-0a0d-4f5b-d407-350725bc3794",
        "colab": {
          "base_uri": "https://localhost:8080/"
        }
      },
      "source": [
        "os.listdir(data_dir) "
      ],
      "execution_count": 38,
      "outputs": [
        {
          "output_type": "execute_result",
          "data": {
            "text/plain": [
              "['test', 'train']"
            ]
          },
          "metadata": {
            "tags": []
          },
          "execution_count": 38
        }
      ]
    },
    {
      "cell_type": "code",
      "metadata": {
        "id": "SQ-Hi80ThsPw",
        "outputId": "f26128fe-0bea-4576-8b80-da4678877f82",
        "colab": {
          "base_uri": "https://localhost:8080/"
        }
      },
      "source": [
        "len(os.listdir('cell_images/test/parasitized'))"
      ],
      "execution_count": 41,
      "outputs": [
        {
          "output_type": "execute_result",
          "data": {
            "text/plain": [
              "1300"
            ]
          },
          "metadata": {
            "tags": []
          },
          "execution_count": 41
        }
      ]
    },
    {
      "cell_type": "code",
      "metadata": {
        "id": "D8e0PvNrjFAk",
        "outputId": "30c335bf-e180-4061-d922-e4b93e2ce9b3",
        "colab": {
          "base_uri": "https://localhost:8080/"
        }
      },
      "source": [
        "len(os.listdir('cell_images/test/uninfected'))"
      ],
      "execution_count": 42,
      "outputs": [
        {
          "output_type": "execute_result",
          "data": {
            "text/plain": [
              "1300"
            ]
          },
          "metadata": {
            "tags": []
          },
          "execution_count": 42
        }
      ]
    },
    {
      "cell_type": "code",
      "metadata": {
        "id": "j0PTk-kMjI_0"
      },
      "source": [
        ""
      ],
      "execution_count": null,
      "outputs": []
    }
  ]
}