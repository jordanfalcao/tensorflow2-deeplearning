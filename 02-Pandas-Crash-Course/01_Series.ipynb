{
  "nbformat": 4,
  "nbformat_minor": 0,
  "metadata": {
    "colab": {
      "name": "01-Series.ipynb",
      "provenance": []
    },
    "kernelspec": {
      "name": "python3",
      "display_name": "Python 3"
    },
    "language_info": {
      "name": "python"
    }
  },
  "cells": [
    {
      "cell_type": "markdown",
      "metadata": {
        "id": "9oXU6tY0QIVR"
      },
      "source": [
        "# Series"
      ]
    },
    {
      "cell_type": "code",
      "metadata": {
        "id": "5EZQmsaHQD89"
      },
      "source": [
        "import numpy as np\n",
        "import pandas as pd"
      ],
      "execution_count": 1,
      "outputs": []
    },
    {
      "cell_type": "markdown",
      "metadata": {
        "id": "jY72K74lQPx3"
      },
      "source": [
        "## Creating a Series\n",
        "\n",
        "You can convert a list,numpy array, or dictionary to a Series:"
      ]
    },
    {
      "cell_type": "code",
      "metadata": {
        "id": "wqOWyx9cQKzd"
      },
      "source": [
        "# criando lista, array numpy e dicionário\n",
        "labels = ['a','b','c']\n",
        "my_list = [10,20,30]\n",
        "arr = np.array([10,20,30])\n",
        "d = {'a':10,'b':20,'c':30}"
      ],
      "execution_count": 2,
      "outputs": []
    },
    {
      "cell_type": "markdown",
      "metadata": {
        "id": "TR3phmufQmG8"
      },
      "source": [
        "### Using Lists\n"
      ]
    },
    {
      "cell_type": "code",
      "metadata": {
        "colab": {
          "base_uri": "https://localhost:8080/"
        },
        "id": "-YLKz2dlQiRX",
        "outputId": "9f418cfb-d3b1-4207-b66f-4a8f29fa6a8c"
      },
      "source": [
        "pd.Series(my_list, index = labels)"
      ],
      "execution_count": 6,
      "outputs": [
        {
          "output_type": "execute_result",
          "data": {
            "text/plain": [
              "a    10\n",
              "b    20\n",
              "c    30\n",
              "dtype: int64"
            ]
          },
          "metadata": {
            "tags": []
          },
          "execution_count": 6
        }
      ]
    },
    {
      "cell_type": "markdown",
      "metadata": {
        "id": "NOH6x_GSR0vK"
      },
      "source": [
        "###Using NumPy Arrays"
      ]
    },
    {
      "cell_type": "code",
      "metadata": {
        "colab": {
          "base_uri": "https://localhost:8080/"
        },
        "id": "uksop1LjQuYR",
        "outputId": "4cf972a0-6e11-4aa6-b280-a56d3f6370dc"
      },
      "source": [
        "pd.Series(arr, labels)"
      ],
      "execution_count": 7,
      "outputs": [
        {
          "output_type": "execute_result",
          "data": {
            "text/plain": [
              "a    10\n",
              "b    20\n",
              "c    30\n",
              "dtype: int64"
            ]
          },
          "metadata": {
            "tags": []
          },
          "execution_count": 7
        }
      ]
    },
    {
      "cell_type": "markdown",
      "metadata": {
        "id": "fHAeHT0DR7D2"
      },
      "source": [
        "###Using Dictionaries"
      ]
    },
    {
      "cell_type": "code",
      "metadata": {
        "colab": {
          "base_uri": "https://localhost:8080/"
        },
        "id": "LWet0UZDResL",
        "outputId": "663f811b-936b-4c93-f545-d0996ca175de"
      },
      "source": [
        "pd.Series(d)"
      ],
      "execution_count": 8,
      "outputs": [
        {
          "output_type": "execute_result",
          "data": {
            "text/plain": [
              "a    10\n",
              "b    20\n",
              "c    30\n",
              "dtype: int64"
            ]
          },
          "metadata": {
            "tags": []
          },
          "execution_count": 8
        }
      ]
    },
    {
      "cell_type": "markdown",
      "metadata": {
        "id": "4RO4iLZbSU09"
      },
      "source": [
        "###Using an Index"
      ]
    },
    {
      "cell_type": "code",
      "metadata": {
        "id": "nb1Dxc18Ri0V"
      },
      "source": [
        "sales_Q1 = pd.Series(data=[250,450,200,150],index = ['USA', 'China','India', 'Brazil'])  "
      ],
      "execution_count": 9,
      "outputs": []
    },
    {
      "cell_type": "code",
      "metadata": {
        "colab": {
          "base_uri": "https://localhost:8080/"
        },
        "id": "Q4FHje3SSiY-",
        "outputId": "d25099c9-57cd-4239-940a-9cca27d21b44"
      },
      "source": [
        "sales_Q1"
      ],
      "execution_count": 10,
      "outputs": [
        {
          "output_type": "execute_result",
          "data": {
            "text/plain": [
              "USA       250\n",
              "China     450\n",
              "India     200\n",
              "Brazil    150\n",
              "dtype: int64"
            ]
          },
          "metadata": {
            "tags": []
          },
          "execution_count": 10
        }
      ]
    },
    {
      "cell_type": "code",
      "metadata": {
        "id": "zsaQYNbdS0NV"
      },
      "source": [
        "sales_Q2 = pd.Series([260,500,210,100],index = ['USA', 'China','India', 'Japan'])     "
      ],
      "execution_count": 11,
      "outputs": []
    },
    {
      "cell_type": "code",
      "metadata": {
        "colab": {
          "base_uri": "https://localhost:8080/"
        },
        "id": "4y2GfhsiTEhb",
        "outputId": "1bfbd2c6-fed2-4fd4-c32e-8959746cb915"
      },
      "source": [
        "# acessando um index da Serie\n",
        "sales_Q2['China']"
      ],
      "execution_count": 13,
      "outputs": [
        {
          "output_type": "execute_result",
          "data": {
            "text/plain": [
              "500"
            ]
          },
          "metadata": {
            "tags": []
          },
          "execution_count": 13
        }
      ]
    },
    {
      "cell_type": "code",
      "metadata": {
        "colab": {
          "base_uri": "https://localhost:8080/"
        },
        "id": "GfbfWmKWTFvv",
        "outputId": "440ee38b-ebb6-496d-ed0a-9759159f0dd0"
      },
      "source": [
        "# outra forma\n",
        "sales_Q2.India"
      ],
      "execution_count": 15,
      "outputs": [
        {
          "output_type": "execute_result",
          "data": {
            "text/plain": [
              "210"
            ]
          },
          "metadata": {
            "tags": []
          },
          "execution_count": 15
        }
      ]
    },
    {
      "cell_type": "code",
      "metadata": {
        "colab": {
          "base_uri": "https://localhost:8080/"
        },
        "id": "Hp15SZW2Tcmi",
        "outputId": "b70bf0ed-9668-43d5-dae6-3e816ab79fd2"
      },
      "source": [
        "# índice\n",
        "sales_Q2[0]"
      ],
      "execution_count": 17,
      "outputs": [
        {
          "output_type": "execute_result",
          "data": {
            "text/plain": [
              "260"
            ]
          },
          "metadata": {
            "tags": []
          },
          "execution_count": 17
        }
      ]
    },
    {
      "cell_type": "markdown",
      "metadata": {
        "id": "rXsR8vHOT5nW"
      },
      "source": [
        "Operations are then also done based off of index:"
      ]
    },
    {
      "cell_type": "code",
      "metadata": {
        "colab": {
          "base_uri": "https://localhost:8080/"
        },
        "id": "kE49LMYmTjzY",
        "outputId": "8878c6c7-a0bb-4ce7-cf7c-33807207781c"
      },
      "source": [
        "# retorna NaN em operações com índices diferentes\n",
        "sales_Q2 + sales_Q1"
      ],
      "execution_count": 20,
      "outputs": [
        {
          "output_type": "execute_result",
          "data": {
            "text/plain": [
              "Brazil      NaN\n",
              "China     950.0\n",
              "India     410.0\n",
              "Japan       NaN\n",
              "USA       510.0\n",
              "dtype: float64"
            ]
          },
          "metadata": {
            "tags": []
          },
          "execution_count": 20
        }
      ]
    }
  ]
}