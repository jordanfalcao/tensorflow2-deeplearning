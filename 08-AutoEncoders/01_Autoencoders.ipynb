{
  "nbformat": 4,
  "nbformat_minor": 0,
  "metadata": {
    "colab": {
      "name": "01-Autoencoders.ipynb",
      "provenance": []
    },
    "kernelspec": {
      "name": "python3",
      "display_name": "Python 3"
    },
    "language_info": {
      "name": "python"
    }
  },
  "cells": [
    {
      "cell_type": "markdown",
      "metadata": {
        "id": "FOXmSOx2phHN"
      },
      "source": [
        "# AutoEncoders for Dimensionality Reduction"
      ]
    },
    {
      "cell_type": "code",
      "metadata": {
        "id": "KyiDKu8opcFJ"
      },
      "source": [
        "import numpy as np\n",
        "import pandas as pd\n",
        "import seaborn as sns\n",
        "import matplotlib.pyplot as plt"
      ],
      "execution_count": 1,
      "outputs": []
    },
    {
      "cell_type": "code",
      "metadata": {
        "id": "svW01J-mpjBa"
      },
      "source": [
        "# enerate isotropic Gaussian blobs for clustering\n",
        "from sklearn.datasets import make_blobs"
      ],
      "execution_count": 2,
      "outputs": []
    },
    {
      "cell_type": "code",
      "metadata": {
        "id": "_rF7noO7rmoR"
      },
      "source": [
        "data = make_blobs(n_samples=300,\n",
        "    n_features=2,\n",
        "    centers=2,       # 2 clusters\n",
        "    cluster_std=1.0,random_state=101)"
      ],
      "execution_count": 3,
      "outputs": []
    },
    {
      "cell_type": "code",
      "metadata": {
        "id": "ysrSTgIYtTEJ"
      },
      "source": [
        "# data"
      ],
      "execution_count": 4,
      "outputs": []
    },
    {
      "cell_type": "code",
      "metadata": {
        "id": "kQcabK96tOZd"
      },
      "source": [
        "X,y = data"
      ],
      "execution_count": 5,
      "outputs": []
    },
    {
      "cell_type": "code",
      "metadata": {
        "colab": {
          "base_uri": "https://localhost:8080/"
        },
        "id": "lIpObdbwtQUX",
        "outputId": "18a9cd67-1c1e-402a-e5e1-1d207063f7ea"
      },
      "source": [
        "y"
      ],
      "execution_count": 6,
      "outputs": [
        {
          "output_type": "execute_result",
          "data": {
            "text/plain": [
              "array([1, 0, 0, 1, 1, 1, 0, 1, 0, 0, 1, 1, 0, 1, 0, 1, 0, 0, 0, 0, 1, 0,\n",
              "       0, 1, 1, 0, 0, 0, 1, 1, 1, 1, 0, 0, 1, 1, 0, 0, 0, 0, 0, 1, 0, 1,\n",
              "       0, 1, 1, 1, 1, 1, 1, 1, 0, 0, 0, 0, 0, 0, 1, 0, 1, 1, 1, 0, 0, 0,\n",
              "       1, 1, 1, 1, 1, 0, 1, 1, 1, 0, 0, 1, 0, 0, 1, 0, 0, 0, 0, 1, 0, 0,\n",
              "       1, 0, 0, 1, 1, 1, 1, 1, 0, 0, 0, 0, 0, 1, 1, 0, 0, 1, 0, 1, 1, 0,\n",
              "       0, 0, 1, 1, 1, 1, 1, 1, 0, 0, 1, 1, 1, 1, 1, 1, 1, 0, 0, 0, 0, 1,\n",
              "       1, 1, 1, 1, 0, 0, 1, 1, 1, 1, 1, 1, 0, 0, 1, 1, 0, 0, 1, 1, 0, 1,\n",
              "       0, 0, 1, 0, 0, 0, 1, 0, 1, 1, 0, 0, 0, 1, 0, 1, 1, 0, 0, 0, 0, 1,\n",
              "       0, 0, 1, 0, 1, 1, 0, 1, 0, 1, 1, 0, 1, 0, 1, 1, 1, 1, 0, 0, 1, 0,\n",
              "       1, 0, 0, 1, 0, 0, 0, 1, 0, 0, 1, 1, 1, 1, 0, 1, 1, 1, 0, 0, 0, 0,\n",
              "       0, 1, 1, 0, 0, 1, 1, 0, 0, 0, 1, 0, 0, 1, 0, 1, 0, 0, 0, 1, 0, 0,\n",
              "       0, 1, 1, 0, 0, 1, 1, 0, 0, 0, 0, 0, 1, 1, 0, 0, 0, 1, 1, 0, 1, 1,\n",
              "       1, 1, 0, 1, 1, 1, 0, 0, 1, 0, 1, 1, 1, 0, 0, 0, 0, 1, 0, 1, 1, 0,\n",
              "       0, 1, 1, 0, 1, 1, 0, 1, 0, 0, 1, 1, 1, 0])"
            ]
          },
          "metadata": {
            "tags": []
          },
          "execution_count": 6
        }
      ]
    },
    {
      "cell_type": "code",
      "metadata": {
        "colab": {
          "base_uri": "https://localhost:8080/"
        },
        "id": "c0thVsLVtRCl",
        "outputId": "51fbd23c-b731-47f2-9dfe-552c134519a1"
      },
      "source": [
        "X.shape"
      ],
      "execution_count": 7,
      "outputs": [
        {
          "output_type": "execute_result",
          "data": {
            "text/plain": [
              "(300, 2)"
            ]
          },
          "metadata": {
            "tags": []
          },
          "execution_count": 7
        }
      ]
    },
    {
      "cell_type": "code",
      "metadata": {
        "id": "4K_7GGSWtV6g"
      },
      "source": [
        "# third feature, just noise\n",
        "np.random.seed(seed=101)\n",
        "z_noise = np.random.normal(size=len(X))\n",
        "z_noise = pd.Series(z_noise)"
      ],
      "execution_count": 8,
      "outputs": []
    },
    {
      "cell_type": "code",
      "metadata": {
        "colab": {
          "base_uri": "https://localhost:8080/"
        },
        "id": "KgfqaqLttpd2",
        "outputId": "1ccfd470-7eb5-4f71-93b0-858fcc0a9d84"
      },
      "source": [
        "z_noise"
      ],
      "execution_count": 9,
      "outputs": [
        {
          "output_type": "execute_result",
          "data": {
            "text/plain": [
              "0      2.706850\n",
              "1      0.628133\n",
              "2      0.907969\n",
              "3      0.503826\n",
              "4      0.651118\n",
              "         ...   \n",
              "295    1.523750\n",
              "296    1.290230\n",
              "297   -1.478319\n",
              "298    0.214234\n",
              "299   -0.240510\n",
              "Length: 300, dtype: float64"
            ]
          },
          "metadata": {
            "tags": []
          },
          "execution_count": 9
        }
      ]
    },
    {
      "cell_type": "code",
      "metadata": {
        "colab": {
          "base_uri": "https://localhost:8080/",
          "height": 202
        },
        "id": "AwBmgm5jtx-m",
        "outputId": "73c52454-97af-480e-f702-7ef96b134430"
      },
      "source": [
        "feat = pd.DataFrame(X)\n",
        "feat.head()"
      ],
      "execution_count": 10,
      "outputs": [
        {
          "output_type": "execute_result",
          "data": {
            "text/html": [
              "<div>\n",
              "<style scoped>\n",
              "    .dataframe tbody tr th:only-of-type {\n",
              "        vertical-align: middle;\n",
              "    }\n",
              "\n",
              "    .dataframe tbody tr th {\n",
              "        vertical-align: top;\n",
              "    }\n",
              "\n",
              "    .dataframe thead th {\n",
              "        text-align: right;\n",
              "    }\n",
              "</style>\n",
              "<table border=\"1\" class=\"dataframe\">\n",
              "  <thead>\n",
              "    <tr style=\"text-align: right;\">\n",
              "      <th></th>\n",
              "      <th>0</th>\n",
              "      <th>1</th>\n",
              "    </tr>\n",
              "  </thead>\n",
              "  <tbody>\n",
              "    <tr>\n",
              "      <th>0</th>\n",
              "      <td>-8.877721</td>\n",
              "      <td>-6.760078</td>\n",
              "    </tr>\n",
              "    <tr>\n",
              "      <th>1</th>\n",
              "      <td>0.630638</td>\n",
              "      <td>3.107075</td>\n",
              "    </tr>\n",
              "    <tr>\n",
              "      <th>2</th>\n",
              "      <td>-0.240609</td>\n",
              "      <td>2.820690</td>\n",
              "    </tr>\n",
              "    <tr>\n",
              "      <th>3</th>\n",
              "      <td>-7.839091</td>\n",
              "      <td>-8.207545</td>\n",
              "    </tr>\n",
              "    <tr>\n",
              "      <th>4</th>\n",
              "      <td>-10.972908</td>\n",
              "      <td>-7.390676</td>\n",
              "    </tr>\n",
              "  </tbody>\n",
              "</table>\n",
              "</div>"
            ],
            "text/plain": [
              "           0         1\n",
              "0  -8.877721 -6.760078\n",
              "1   0.630638  3.107075\n",
              "2  -0.240609  2.820690\n",
              "3  -7.839091 -8.207545\n",
              "4 -10.972908 -7.390676"
            ]
          },
          "metadata": {
            "tags": []
          },
          "execution_count": 10
        }
      ]
    },
    {
      "cell_type": "code",
      "metadata": {
        "id": "-1fNZM-Zt51g"
      },
      "source": [
        "feat = pd.concat([feat,z_noise],axis=1)\n",
        "feat.columns = ['X1','X2','X3']"
      ],
      "execution_count": 11,
      "outputs": []
    },
    {
      "cell_type": "code",
      "metadata": {
        "colab": {
          "base_uri": "https://localhost:8080/",
          "height": 202
        },
        "id": "rUCUToUOt_rv",
        "outputId": "c464aad8-afd6-454d-b6aa-180e486de0da"
      },
      "source": [
        "feat.head()"
      ],
      "execution_count": 12,
      "outputs": [
        {
          "output_type": "execute_result",
          "data": {
            "text/html": [
              "<div>\n",
              "<style scoped>\n",
              "    .dataframe tbody tr th:only-of-type {\n",
              "        vertical-align: middle;\n",
              "    }\n",
              "\n",
              "    .dataframe tbody tr th {\n",
              "        vertical-align: top;\n",
              "    }\n",
              "\n",
              "    .dataframe thead th {\n",
              "        text-align: right;\n",
              "    }\n",
              "</style>\n",
              "<table border=\"1\" class=\"dataframe\">\n",
              "  <thead>\n",
              "    <tr style=\"text-align: right;\">\n",
              "      <th></th>\n",
              "      <th>X1</th>\n",
              "      <th>X2</th>\n",
              "      <th>X3</th>\n",
              "    </tr>\n",
              "  </thead>\n",
              "  <tbody>\n",
              "    <tr>\n",
              "      <th>0</th>\n",
              "      <td>-8.877721</td>\n",
              "      <td>-6.760078</td>\n",
              "      <td>2.706850</td>\n",
              "    </tr>\n",
              "    <tr>\n",
              "      <th>1</th>\n",
              "      <td>0.630638</td>\n",
              "      <td>3.107075</td>\n",
              "      <td>0.628133</td>\n",
              "    </tr>\n",
              "    <tr>\n",
              "      <th>2</th>\n",
              "      <td>-0.240609</td>\n",
              "      <td>2.820690</td>\n",
              "      <td>0.907969</td>\n",
              "    </tr>\n",
              "    <tr>\n",
              "      <th>3</th>\n",
              "      <td>-7.839091</td>\n",
              "      <td>-8.207545</td>\n",
              "      <td>0.503826</td>\n",
              "    </tr>\n",
              "    <tr>\n",
              "      <th>4</th>\n",
              "      <td>-10.972908</td>\n",
              "      <td>-7.390676</td>\n",
              "      <td>0.651118</td>\n",
              "    </tr>\n",
              "  </tbody>\n",
              "</table>\n",
              "</div>"
            ],
            "text/plain": [
              "          X1        X2        X3\n",
              "0  -8.877721 -6.760078  2.706850\n",
              "1   0.630638  3.107075  0.628133\n",
              "2  -0.240609  2.820690  0.907969\n",
              "3  -7.839091 -8.207545  0.503826\n",
              "4 -10.972908 -7.390676  0.651118"
            ]
          },
          "metadata": {
            "tags": []
          },
          "execution_count": 12
        }
      ]
    },
    {
      "cell_type": "code",
      "metadata": {
        "colab": {
          "base_uri": "https://localhost:8080/",
          "height": 320
        },
        "id": "iWqMGDXxuBJC",
        "outputId": "5663e3e2-d288-4267-db20-943bf8ea2f33"
      },
      "source": [
        "# 2 visible clusters\n",
        "plt.figure(figsize=(8,5))\n",
        "plt.scatter(feat['X1'],feat['X2'],c=y)\n",
        "plt.show()"
      ],
      "execution_count": 13,
      "outputs": [
        {
          "output_type": "display_data",
          "data": {
            "image/png": "[encoded data removed]",
            "text/plain": [
              "<Figure size 576x360 with 1 Axes>"
            ]
          },
          "metadata": {
            "tags": [],
            "needs_background": "light"
          }
        }
      ]
    },
    {
      "cell_type": "markdown",
      "metadata": {
        "id": "iRQvW3zMuU5x"
      },
      "source": [
        "https://matplotlib.org/mpl_toolkits/mplot3d/tutorial.html#scatter-plots"
      ]
    },
    {
      "cell_type": "code",
      "metadata": {
        "id": "dScM-RvSuMpA"
      },
      "source": [
        "from mpl_toolkits.mplot3d import Axes3D"
      ],
      "execution_count": 14,
      "outputs": []
    },
    {
      "cell_type": "code",
      "metadata": {
        "id": "i0SV5iHsvpto"
      },
      "source": [
        "# %matplotlib notebook"
      ],
      "execution_count": 15,
      "outputs": []
    },
    {
      "cell_type": "code",
      "metadata": {
        "colab": {
          "base_uri": "https://localhost:8080/",
          "height": 265
        },
        "id": "YaqfSVudvPWK",
        "outputId": "638b8b89-7331-4d2a-f09d-ee2ccd445c24"
      },
      "source": [
        "# third dimension, only noise\n",
        "fig = plt.figure()\n",
        "ax = fig.add_subplot(111, projection='3d')\n",
        "ax.scatter(feat['X1'], feat['X2'], feat['X3'], c=y)"
      ],
      "execution_count": 16,
      "outputs": [
        {
          "output_type": "execute_result",
          "data": {
            "text/plain": [
              "<mpl_toolkits.mplot3d.art3d.Path3DCollection at 0x7f5078059b90>"
            ]
          },
          "metadata": {
            "tags": []
          },
          "execution_count": 16
        },
        {
          "output_type": "display_data",
          "data": {
            "image/png": "[encoded data removed]",
            "text/plain": [
              "<Figure size 432x288 with 1 Axes>"
            ]
          },
          "metadata": {
            "tags": [],
            "needs_background": "light"
          }
        }
      ]
    },
    {
      "cell_type": "markdown",
      "metadata": {
        "id": "xP5Z6IbMx5AL"
      },
      "source": [
        "# Encoder and Decoder"
      ]
    },
    {
      "cell_type": "code",
      "metadata": {
        "id": "3hDkRvPsvj4_"
      },
      "source": [
        "from tensorflow.keras.models import Sequential\n",
        "from tensorflow.keras.layers import Dense\n",
        "from tensorflow.keras.optimizers import SGD  # stochastic gradient descent"
      ],
      "execution_count": 17,
      "outputs": []
    },
    {
      "cell_type": "code",
      "metadata": {
        "id": "mLxbcJgox7Vf"
      },
      "source": [
        "# 3 --> 2\n",
        "encoder = Sequential()\n",
        "encoder.add(Dense(units=2,activation='relu',input_shape=[3]))"
      ],
      "execution_count": 18,
      "outputs": []
    },
    {
      "cell_type": "code",
      "metadata": {
        "id": "nV1LSWbPzgk0"
      },
      "source": [
        "# 2 ---> 3\n",
        "decoder = Sequential()\n",
        "decoder.add(Dense(units=3,activation='relu',input_shape=[2]))"
      ],
      "execution_count": 19,
      "outputs": []
    },
    {
      "cell_type": "code",
      "metadata": {
        "id": "eUp8r7klzkk8"
      },
      "source": [
        "# ENCODER\n",
        "# 3 ---> 2 ----> 3\n",
        "autoencoder = Sequential([encoder,decoder])  # list"
      ],
      "execution_count": 20,
      "outputs": []
    },
    {
      "cell_type": "code",
      "metadata": {
        "id": "YDYOODHPz20A"
      },
      "source": [
        "autoencoder.compile(loss=\"mse\" ,optimizer=SGD(learning_rate=1.5))"
      ],
      "execution_count": 22,
      "outputs": []
    },
    {
      "cell_type": "markdown",
      "metadata": {
        "id": "na1heOux0Gbe"
      },
      "source": [
        "## Scaler"
      ]
    },
    {
      "cell_type": "code",
      "metadata": {
        "id": "6KVAf1Fd0BDF"
      },
      "source": [
        "from sklearn.preprocessing import MinMaxScaler"
      ],
      "execution_count": 23,
      "outputs": []
    },
    {
      "cell_type": "code",
      "metadata": {
        "id": "6hBQv7110f86"
      },
      "source": [
        "scaler = MinMaxScaler()"
      ],
      "execution_count": 24,
      "outputs": []
    },
    {
      "cell_type": "code",
      "metadata": {
        "id": "SoQPMvt20Iip"
      },
      "source": [
        "# Note how all the data is used! There is no \"right\" answer here\n",
        "# so we don't split the data\n",
        "scaled_data = scaler.fit_transform(feat)"
      ],
      "execution_count": 25,
      "outputs": []
    },
    {
      "cell_type": "markdown",
      "metadata": {
        "id": "k1AEYCoT0lq4"
      },
      "source": [
        "## Fit the model"
      ]
    },
    {
      "cell_type": "code",
      "metadata": {
        "colab": {
          "base_uri": "https://localhost:8080/"
        },
        "id": "BsibliRv0ge6",
        "outputId": "8618aa52-9aa9-4061-e2fa-01c5376c17f4"
      },
      "source": [
        "autoencoder.fit(scaled_data,scaled_data,epochs=5)"
      ],
      "execution_count": 26,
      "outputs": [
        {
          "output_type": "stream",
          "text": [
            "Epoch 1/5\n",
            "10/10 [==============================] - 1s 3ms/step - loss: 0.2591\n",
            "Epoch 2/5\n",
            "10/10 [==============================] - 0s 4ms/step - loss: 0.1650\n",
            "Epoch 3/5\n",
            "10/10 [==============================] - 0s 4ms/step - loss: 0.1332\n",
            "Epoch 4/5\n",
            "10/10 [==============================] - 0s 4ms/step - loss: 0.1178\n",
            "Epoch 5/5\n",
            "10/10 [==============================] - 0s 4ms/step - loss: 0.1107\n"
          ],
          "name": "stdout"
        },
        {
          "output_type": "execute_result",
          "data": {
            "text/plain": [
              "<tensorflow.python.keras.callbacks.History at 0x7f502c927c90>"
            ]
          },
          "metadata": {
            "tags": []
          },
          "execution_count": 26
        }
      ]
    },
    {
      "cell_type": "code",
      "metadata": {
        "id": "QIzetuXO0oQW"
      },
      "source": [
        "# just the ENCODER: 3 ---> 2\n",
        "encoded_2dim = encoder.predict(scaled_data)"
      ],
      "execution_count": 27,
      "outputs": []
    },
    {
      "cell_type": "code",
      "metadata": {
        "colab": {
          "base_uri": "https://localhost:8080/"
        },
        "id": "UXyq2EuL1FIW",
        "outputId": "9f155807-457a-4991-e6bc-09c6eee43205"
      },
      "source": [
        "encoded_2dim"
      ],
      "execution_count": 28,
      "outputs": [
        {
          "output_type": "execute_result",
          "data": {
            "text/plain": [
              "array([[0.        , 0.09547722],\n",
              "       [0.        , 1.3681123 ],\n",
              "       [0.        , 1.3218791 ],\n",
              "       [0.        , 0.        ],\n",
              "       [0.        , 0.        ],\n",
              "       [0.        , 0.        ],\n",
              "       [0.        , 1.0130606 ],\n",
              "       [0.        , 0.        ],\n",
              "       [0.        , 1.2116709 ],\n",
              "       [0.        , 1.26109   ],\n",
              "       [0.        , 0.06142426],\n",
              "       [0.        , 0.        ],\n",
              "       [0.        , 1.3644428 ],\n",
              "       [0.        , 0.        ],\n",
              "       [0.        , 1.0335736 ],\n",
              "       [0.        , 0.00373131],\n",
              "       [0.        , 1.201469  ],\n",
              "       [0.        , 1.3070145 ],\n",
              "       [0.        , 1.264226  ],\n",
              "       [0.        , 1.0408018 ],\n",
              "       [0.        , 0.        ],\n",
              "       [0.        , 1.4158387 ],\n",
              "       [0.        , 1.2433288 ],\n",
              "       [0.        , 0.        ],\n",
              "       [0.        , 0.        ],\n",
              "       [0.        , 1.230134  ],\n",
              "       [0.        , 1.2756572 ],\n",
              "       [0.        , 1.0215211 ],\n",
              "       [0.        , 0.        ],\n",
              "       [0.        , 0.        ],\n",
              "       [0.        , 0.        ],\n",
              "       [0.        , 0.        ],\n",
              "       [0.        , 1.1981697 ],\n",
              "       [0.        , 1.1769648 ],\n",
              "       [0.        , 0.        ],\n",
              "       [0.        , 0.06571829],\n",
              "       [0.        , 1.2633252 ],\n",
              "       [0.        , 1.4056978 ],\n",
              "       [0.        , 1.347245  ],\n",
              "       [0.        , 1.2262115 ],\n",
              "       [0.        , 1.0140314 ],\n",
              "       [0.        , 0.02041632],\n",
              "       [0.        , 0.917077  ],\n",
              "       [0.        , 0.        ],\n",
              "       [0.        , 1.1772146 ],\n",
              "       [0.        , 0.        ],\n",
              "       [0.        , 0.        ],\n",
              "       [0.        , 0.        ],\n",
              "       [0.        , 0.11060643],\n",
              "       [0.        , 0.        ],\n",
              "       [0.        , 0.        ],\n",
              "       [0.        , 0.        ],\n",
              "       [0.        , 1.1692979 ],\n",
              "       [0.        , 1.1559157 ],\n",
              "       [0.        , 1.1042361 ],\n",
              "       [0.        , 1.1025314 ],\n",
              "       [0.        , 1.0762751 ],\n",
              "       [0.        , 1.1915517 ],\n",
              "       [0.        , 0.        ],\n",
              "       [0.        , 1.2479362 ],\n",
              "       [0.        , 0.        ],\n",
              "       [0.        , 0.        ],\n",
              "       [0.        , 0.        ],\n",
              "       [0.        , 1.354274  ],\n",
              "       [0.        , 1.2063472 ],\n",
              "       [0.        , 1.2246821 ],\n",
              "       [0.        , 0.03090662],\n",
              "       [0.        , 0.02490443],\n",
              "       [0.        , 0.        ],\n",
              "       [0.        , 0.        ],\n",
              "       [0.        , 0.        ],\n",
              "       [0.        , 1.1606009 ],\n",
              "       [0.        , 0.        ],\n",
              "       [0.        , 0.16710913],\n",
              "       [0.        , 0.        ],\n",
              "       [0.        , 1.0313768 ],\n",
              "       [0.        , 1.237436  ],\n",
              "       [0.        , 0.09710968],\n",
              "       [0.        , 0.9909163 ],\n",
              "       [0.        , 1.0339158 ],\n",
              "       [0.        , 0.        ],\n",
              "       [0.        , 1.2473257 ],\n",
              "       [0.        , 1.1784685 ],\n",
              "       [0.        , 1.3086681 ],\n",
              "       [0.        , 1.1224284 ],\n",
              "       [0.        , 0.05598545],\n",
              "       [0.        , 1.3336041 ],\n",
              "       [0.        , 1.2320969 ],\n",
              "       [0.        , 0.        ],\n",
              "       [0.        , 1.0832443 ],\n",
              "       [0.        , 1.0970528 ],\n",
              "       [0.        , 0.        ],\n",
              "       [0.        , 0.        ],\n",
              "       [0.        , 0.        ],\n",
              "       [0.        , 0.        ],\n",
              "       [0.        , 0.        ],\n",
              "       [0.        , 1.0616229 ],\n",
              "       [0.        , 0.9687156 ],\n",
              "       [0.        , 1.2147276 ],\n",
              "       [0.        , 1.2901847 ],\n",
              "       [0.        , 1.2244542 ],\n",
              "       [0.        , 0.        ],\n",
              "       [0.        , 0.        ],\n",
              "       [0.        , 1.0337701 ],\n",
              "       [0.        , 0.9428527 ],\n",
              "       [0.        , 0.        ],\n",
              "       [0.        , 1.0428038 ],\n",
              "       [0.        , 0.        ],\n",
              "       [0.        , 0.        ],\n",
              "       [0.        , 1.0567596 ],\n",
              "       [0.        , 1.1304846 ],\n",
              "       [0.        , 1.1918952 ],\n",
              "       [0.        , 0.        ],\n",
              "       [0.        , 0.        ],\n",
              "       [0.        , 0.        ],\n",
              "       [0.        , 0.08523828],\n",
              "       [0.        , 0.        ],\n",
              "       [0.        , 0.00697005],\n",
              "       [0.        , 1.289226  ],\n",
              "       [0.        , 1.2909219 ],\n",
              "       [0.        , 0.        ],\n",
              "       [0.        , 0.        ],\n",
              "       [0.        , 0.        ],\n",
              "       [0.        , 0.        ],\n",
              "       [0.        , 0.        ],\n",
              "       [0.        , 0.        ],\n",
              "       [0.        , 0.        ],\n",
              "       [0.        , 1.3310809 ],\n",
              "       [0.        , 1.2503984 ],\n",
              "       [0.        , 1.249213  ],\n",
              "       [0.        , 1.1335287 ],\n",
              "       [0.        , 0.        ],\n",
              "       [0.        , 0.01451278],\n",
              "       [0.        , 0.0585984 ],\n",
              "       [0.        , 0.04649901],\n",
              "       [0.        , 0.        ],\n",
              "       [0.        , 1.1046627 ],\n",
              "       [0.        , 1.2329912 ],\n",
              "       [0.        , 0.        ],\n",
              "       [0.        , 0.        ],\n",
              "       [0.        , 0.        ],\n",
              "       [0.        , 0.        ],\n",
              "       [0.        , 0.        ],\n",
              "       [0.        , 0.04425198],\n",
              "       [0.        , 1.0515604 ],\n",
              "       [0.        , 1.1850972 ],\n",
              "       [0.        , 0.0183602 ],\n",
              "       [0.        , 0.00247985],\n",
              "       [0.        , 0.96933264],\n",
              "       [0.        , 1.1805909 ],\n",
              "       [0.        , 0.        ],\n",
              "       [0.        , 0.        ],\n",
              "       [0.        , 1.2036629 ],\n",
              "       [0.        , 0.        ],\n",
              "       [0.        , 1.2179599 ],\n",
              "       [0.        , 1.2255569 ],\n",
              "       [0.        , 0.        ],\n",
              "       [0.        , 1.2167878 ],\n",
              "       [0.        , 1.3101878 ],\n",
              "       [0.        , 1.0400739 ],\n",
              "       [0.        , 0.09822983],\n",
              "       [0.        , 1.1615629 ],\n",
              "       [0.        , 0.        ],\n",
              "       [0.        , 0.        ],\n",
              "       [0.        , 0.9681278 ],\n",
              "       [0.        , 1.2218933 ],\n",
              "       [0.        , 0.9703911 ],\n",
              "       [0.        , 0.05806911],\n",
              "       [0.        , 1.0531845 ],\n",
              "       [0.        , 0.        ],\n",
              "       [0.        , 0.        ],\n",
              "       [0.        , 1.5229614 ],\n",
              "       [0.        , 1.2756746 ],\n",
              "       [0.        , 1.2412145 ],\n",
              "       [0.        , 1.1842313 ],\n",
              "       [0.        , 0.        ],\n",
              "       [0.        , 1.0302262 ],\n",
              "       [0.        , 1.0739207 ],\n",
              "       [0.        , 0.        ],\n",
              "       [0.        , 1.0103521 ],\n",
              "       [0.        , 0.        ],\n",
              "       [0.        , 0.        ],\n",
              "       [0.        , 1.2129903 ],\n",
              "       [0.        , 0.        ],\n",
              "       [0.        , 1.0603812 ],\n",
              "       [0.        , 0.01952237],\n",
              "       [0.        , 0.        ],\n",
              "       [0.        , 1.3620923 ],\n",
              "       [0.        , 0.        ],\n",
              "       [0.        , 1.3058088 ],\n",
              "       [0.        , 0.        ],\n",
              "       [0.        , 0.        ],\n",
              "       [0.        , 0.        ],\n",
              "       [0.        , 0.        ],\n",
              "       [0.        , 1.1731367 ],\n",
              "       [0.        , 1.2837918 ],\n",
              "       [0.        , 0.        ],\n",
              "       [0.        , 1.1404674 ],\n",
              "       [0.        , 0.06803161],\n",
              "       [0.        , 1.0819271 ],\n",
              "       [0.        , 1.1284151 ],\n",
              "       [0.        , 0.17658913],\n",
              "       [0.        , 1.0346177 ],\n",
              "       [0.        , 0.98954755],\n",
              "       [0.        , 1.1248047 ],\n",
              "       [0.        , 0.        ],\n",
              "       [0.        , 1.1805153 ],\n",
              "       [0.        , 1.0009527 ],\n",
              "       [0.        , 0.        ],\n",
              "       [0.        , 0.        ],\n",
              "       [0.        , 0.        ],\n",
              "       [0.        , 0.06937397],\n",
              "       [0.        , 1.1887224 ],\n",
              "       [0.        , 0.        ],\n",
              "       [0.        , 0.06451064],\n",
              "       [0.        , 0.        ],\n",
              "       [0.        , 1.2947166 ],\n",
              "       [0.        , 0.9865305 ],\n",
              "       [0.        , 1.1120346 ],\n",
              "       [0.        , 1.1534834 ],\n",
              "       [0.        , 0.9290431 ],\n",
              "       [0.        , 0.10588312],\n",
              "       [0.        , 0.        ],\n",
              "       [0.        , 0.9661128 ],\n",
              "       [0.        , 1.2951274 ],\n",
              "       [0.        , 0.        ],\n",
              "       [0.        , 0.        ],\n",
              "       [0.        , 1.1185865 ],\n",
              "       [0.        , 1.3773706 ],\n",
              "       [0.        , 1.257395  ],\n",
              "       [0.        , 0.        ],\n",
              "       [0.        , 1.2856314 ],\n",
              "       [0.        , 0.86940414],\n",
              "       [0.        , 0.        ],\n",
              "       [0.        , 1.0398824 ],\n",
              "       [0.        , 0.        ],\n",
              "       [0.        , 1.2769322 ],\n",
              "       [0.        , 1.029717  ],\n",
              "       [0.        , 1.1943846 ],\n",
              "       [0.        , 0.        ],\n",
              "       [0.        , 1.0747252 ],\n",
              "       [0.        , 1.025975  ],\n",
              "       [0.        , 1.1964741 ],\n",
              "       [0.        , 0.00351578],\n",
              "       [0.        , 0.        ],\n",
              "       [0.        , 1.2762575 ],\n",
              "       [0.        , 1.0994647 ],\n",
              "       [0.        , 0.        ],\n",
              "       [0.        , 0.09312683],\n",
              "       [0.        , 1.1959052 ],\n",
              "       [0.        , 1.124768  ],\n",
              "       [0.        , 0.96459347],\n",
              "       [0.        , 0.8323278 ],\n",
              "       [0.        , 1.2954156 ],\n",
              "       [0.        , 0.00469226],\n",
              "       [0.        , 0.2256617 ],\n",
              "       [0.        , 1.1099832 ],\n",
              "       [0.        , 1.1171196 ],\n",
              "       [0.        , 0.8031114 ],\n",
              "       [0.        , 0.        ],\n",
              "       [0.        , 0.        ],\n",
              "       [0.        , 1.2478766 ],\n",
              "       [0.        , 0.15411657],\n",
              "       [0.        , 0.00594699],\n",
              "       [0.        , 0.        ],\n",
              "       [0.        , 0.11566097],\n",
              "       [0.        , 1.0701048 ],\n",
              "       [0.        , 0.        ],\n",
              "       [0.        , 0.04754758],\n",
              "       [0.        , 0.11179447],\n",
              "       [0.        , 1.211277  ],\n",
              "       [0.        , 1.1201961 ],\n",
              "       [0.        , 0.        ],\n",
              "       [0.        , 1.2847402 ],\n",
              "       [0.        , 0.15547752],\n",
              "       [0.        , 0.        ],\n",
              "       [0.01217864, 0.        ],\n",
              "       [0.        , 1.1466641 ],\n",
              "       [0.        , 0.9785319 ],\n",
              "       [0.        , 0.84842473],\n",
              "       [0.        , 1.0605037 ],\n",
              "       [0.        , 0.        ],\n",
              "       [0.        , 1.250745  ],\n",
              "       [0.        , 0.        ],\n",
              "       [0.        , 0.        ],\n",
              "       [0.        , 1.118231  ],\n",
              "       [0.        , 1.0406122 ],\n",
              "       [0.        , 0.        ],\n",
              "       [0.        , 0.        ],\n",
              "       [0.        , 1.1069007 ],\n",
              "       [0.        , 0.        ],\n",
              "       [0.        , 0.        ],\n",
              "       [0.        , 1.169965  ],\n",
              "       [0.        , 0.        ],\n",
              "       [0.        , 1.2917681 ],\n",
              "       [0.        , 1.4023235 ],\n",
              "       [0.        , 0.11364424],\n",
              "       [0.        , 0.        ],\n",
              "       [0.        , 0.        ],\n",
              "       [0.        , 1.0842879 ]], dtype=float32)"
            ]
          },
          "metadata": {
            "tags": []
          },
          "execution_count": 28
        }
      ]
    },
    {
      "cell_type": "code",
      "metadata": {
        "colab": {
          "base_uri": "https://localhost:8080/"
        },
        "id": "rzRiQGrf1Ryb",
        "outputId": "b6fd48e5-6f00-4b34-fff1-5356a1619664"
      },
      "source": [
        "scaled_data.shape"
      ],
      "execution_count": 30,
      "outputs": [
        {
          "output_type": "execute_result",
          "data": {
            "text/plain": [
              "(300, 3)"
            ]
          },
          "metadata": {
            "tags": []
          },
          "execution_count": 30
        }
      ]
    },
    {
      "cell_type": "code",
      "metadata": {
        "colab": {
          "base_uri": "https://localhost:8080/"
        },
        "id": "lMyyz1q-1JtN",
        "outputId": "77cdaa42-08db-4d55-c234-e5de76aa0c78"
      },
      "source": [
        "# 3 ---> 2\n",
        "encoded_2dim.shape"
      ],
      "execution_count": 29,
      "outputs": [
        {
          "output_type": "execute_result",
          "data": {
            "text/plain": [
              "(300, 2)"
            ]
          },
          "metadata": {
            "tags": []
          },
          "execution_count": 29
        }
      ]
    },
    {
      "cell_type": "code",
      "metadata": {
        "colab": {
          "base_uri": "https://localhost:8080/",
          "height": 264
        },
        "id": "TFW03LAR1V1b",
        "outputId": "de72f1eb-9691-4755-dc2e-58761fbae773"
      },
      "source": [
        "plt.scatter(encoded_2dim[:,0],encoded_2dim[:,1],c=y)\n",
        "plt.show()"
      ],
      "execution_count": 32,
      "outputs": [
        {
          "output_type": "display_data",
          "data": {
            "image/png": "[encoded data removed]",
            "text/plain": [
              "<Figure size 432x288 with 1 Axes>"
            ]
          },
          "metadata": {
            "tags": [],
            "needs_background": "light"
          }
        }
      ]
    }
  ]
}