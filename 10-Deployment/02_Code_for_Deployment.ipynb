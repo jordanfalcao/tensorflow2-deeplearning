{
  "nbformat": 4,
  "nbformat_minor": 0,
  "metadata": {
    "colab": {
      "name": "02-Code-for-Deployment.ipynb",
      "provenance": []
    },
    "kernelspec": {
      "name": "python3",
      "display_name": "Python 3"
    },
    "language_info": {
      "name": "python"
    }
  },
  "cells": [
    {
      "cell_type": "markdown",
      "metadata": {
        "id": "LpPcNECD59NE"
      },
      "source": [
        "# CODE FOR DEPLOYMENT:"
      ]
    },
    {
      "cell_type": "code",
      "metadata": {
        "id": "IpNP3WK05znZ"
      },
      "source": [
        "from tensorflow.keras.models import load_model\n",
        "import joblib\n",
        "import numpy as np"
      ],
      "execution_count": 1,
      "outputs": []
    },
    {
      "cell_type": "code",
      "metadata": {
        "id": "eAl-ENAM6Nvo"
      },
      "source": [
        "# grab model and scaler\n",
        "flower_model = load_model(\"final_iris_model.h5\")\n",
        "flower_scaler = joblib.load(\"iris_scaler.pkl\")"
      ],
      "execution_count": 2,
      "outputs": []
    },
    {
      "cell_type": "code",
      "metadata": {
        "id": "RYfn_D_z6Sxt"
      },
      "source": [
        "# function definition\n",
        "\n",
        "def return_prediction(model,scaler,sample_json):\n",
        "    \n",
        "    # For larger data features, you should probably write a for loop\n",
        "    # That builds out this array for you\n",
        "    \n",
        "    s_len = sample_json['sepal_length']\n",
        "    s_wid = sample_json['sepal_width']\n",
        "    p_len = sample_json['petal_length']\n",
        "    p_wid = sample_json['petal_width']\n",
        "    \n",
        "    flower = [[s_len,s_wid,p_len,p_wid]]\n",
        "    \n",
        "    flower = scaler.transform(flower)\n",
        "    \n",
        "    classes = np.array(['setosa', 'versicolor', 'virginica'])\n",
        "    \n",
        "    class_ind = np.argmax(model.predict(flower), axis=-1)\n",
        "\n",
        "    # deprecated\n",
        "    # class_ind = model.predict_classes(flower)\n",
        "    \n",
        "    return classes[class_ind][0]"
      ],
      "execution_count": 4,
      "outputs": []
    },
    {
      "cell_type": "code",
      "metadata": {
        "id": "UrOhqgZw6Y0g"
      },
      "source": [
        "flower_example = {\n",
        "\"sepal_length\":5.1,\n",
        "\"sepal_width\":3.5,\n",
        "\"petal_length\":1.4,\n",
        "\"petal_width\":0.2\n",
        "}"
      ],
      "execution_count": 5,
      "outputs": []
    },
    {
      "cell_type": "code",
      "metadata": {
        "colab": {
          "base_uri": "https://localhost:8080/",
          "height": 35
        },
        "id": "Y5y3F3ZQ6d5w",
        "outputId": "e9720d01-0018-461d-e146-212ff7d8378f"
      },
      "source": [
        "# calling the fuction \n",
        "return_prediction(flower_model,flower_scaler,flower_example)"
      ],
      "execution_count": 6,
      "outputs": [
        {
          "output_type": "execute_result",
          "data": {
            "application/vnd.google.colaboratory.intrinsic+json": {
              "type": "string"
            },
            "text/plain": [
              "'setosa'"
            ]
          },
          "metadata": {
            "tags": []
          },
          "execution_count": 6
        }
      ]
    }
  ]
}