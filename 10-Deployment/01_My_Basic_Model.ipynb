{
  "nbformat": 4,
  "nbformat_minor": 0,
  "metadata": {
    "colab": {
      "name": "01-My-Basic-Model.ipynb",
      "provenance": []
    },
    "kernelspec": {
      "name": "python3",
      "display_name": "Python 3"
    },
    "language_info": {
      "name": "python"
    }
  },
  "cells": [
    {
      "cell_type": "markdown",
      "metadata": {
        "id": "oYRm4eZSj1jV"
      },
      "source": [
        "# DEPLOYMENT\n",
        "\n",
        "**Welcome to deployment section! In this section of the course, we will go through the entire deployment process, starting as if you had to create a servicable model from scratch, then deploy it for others to use, either through API or a web form.**\n",
        "\n",
        "# Data\n",
        "\n",
        "For this example we use the very common data set: [iris dataset](https://en.wikipedia.org/wiki/Iris_flower_data_set), which is about flowers. \n",
        "\n",
        "From Wikipedia:\n",
        "The Iris flower data set or Fisher's Iris data set is a multivariate data set introduced by the British statistician and biologist Ronald Fisher in his 1936 paper The use of multiple measurements in taxonomic problems as an example of linear discriminant analysis.[1] It is sometimes called Anderson's Iris data set because Edgar Anderson collected the data to quantify the morphologic variation of Iris flowers of three related species.[2] Two of the three species were collected in the Gaspé Peninsula \"all from the same pasture, and picked on the same day and measured at the same time by the same person with the same apparatus\".[3]\n",
        "\n",
        "The data set consists of 50 samples from each of three species of Iris (Iris setosa, Iris virginica and Iris versicolor). Four features were measured from each sample: the length and the width of the sepals and petals, in centimeters. "
      ]
    },
    {
      "cell_type": "code",
      "metadata": {
        "id": "LxtOozv-jnHH"
      },
      "source": [
        "import numpy as np\n",
        "import pandas as pd\n",
        "import matplotlib.pyplot as plt"
      ],
      "execution_count": 2,
      "outputs": []
    },
    {
      "cell_type": "code",
      "metadata": {
        "id": "SdjB4Ah2j6lO"
      },
      "source": [
        "iris = pd.read_csv(\"iris.csv\")"
      ],
      "execution_count": 3,
      "outputs": []
    },
    {
      "cell_type": "code",
      "metadata": {
        "colab": {
          "base_uri": "https://localhost:8080/",
          "height": 204
        },
        "id": "U0buaV_8AKsY",
        "outputId": "e72ea17d-b81a-4689-eb33-9626aaeb49f0"
      },
      "source": [
        "iris.head()"
      ],
      "execution_count": 4,
      "outputs": [
        {
          "output_type": "execute_result",
          "data": {
            "text/html": [
              "<div>\n",
              "<style scoped>\n",
              "    .dataframe tbody tr th:only-of-type {\n",
              "        vertical-align: middle;\n",
              "    }\n",
              "\n",
              "    .dataframe tbody tr th {\n",
              "        vertical-align: top;\n",
              "    }\n",
              "\n",
              "    .dataframe thead th {\n",
              "        text-align: right;\n",
              "    }\n",
              "</style>\n",
              "<table border=\"1\" class=\"dataframe\">\n",
              "  <thead>\n",
              "    <tr style=\"text-align: right;\">\n",
              "      <th></th>\n",
              "      <th>sepal_length</th>\n",
              "      <th>sepal_width</th>\n",
              "      <th>petal_length</th>\n",
              "      <th>petal_width</th>\n",
              "      <th>species</th>\n",
              "    </tr>\n",
              "  </thead>\n",
              "  <tbody>\n",
              "    <tr>\n",
              "      <th>0</th>\n",
              "      <td>5.1</td>\n",
              "      <td>3.5</td>\n",
              "      <td>1.4</td>\n",
              "      <td>0.2</td>\n",
              "      <td>setosa</td>\n",
              "    </tr>\n",
              "    <tr>\n",
              "      <th>1</th>\n",
              "      <td>4.9</td>\n",
              "      <td>3.0</td>\n",
              "      <td>1.4</td>\n",
              "      <td>0.2</td>\n",
              "      <td>setosa</td>\n",
              "    </tr>\n",
              "    <tr>\n",
              "      <th>2</th>\n",
              "      <td>4.7</td>\n",
              "      <td>3.2</td>\n",
              "      <td>1.3</td>\n",
              "      <td>0.2</td>\n",
              "      <td>setosa</td>\n",
              "    </tr>\n",
              "    <tr>\n",
              "      <th>3</th>\n",
              "      <td>4.6</td>\n",
              "      <td>3.1</td>\n",
              "      <td>1.5</td>\n",
              "      <td>0.2</td>\n",
              "      <td>setosa</td>\n",
              "    </tr>\n",
              "    <tr>\n",
              "      <th>4</th>\n",
              "      <td>5.0</td>\n",
              "      <td>3.6</td>\n",
              "      <td>1.4</td>\n",
              "      <td>0.2</td>\n",
              "      <td>setosa</td>\n",
              "    </tr>\n",
              "  </tbody>\n",
              "</table>\n",
              "</div>"
            ],
            "text/plain": [
              "   sepal_length  sepal_width  petal_length  petal_width species\n",
              "0           5.1          3.5           1.4          0.2  setosa\n",
              "1           4.9          3.0           1.4          0.2  setosa\n",
              "2           4.7          3.2           1.3          0.2  setosa\n",
              "3           4.6          3.1           1.5          0.2  setosa\n",
              "4           5.0          3.6           1.4          0.2  setosa"
            ]
          },
          "metadata": {
            "tags": []
          },
          "execution_count": 4
        }
      ]
    },
    {
      "cell_type": "markdown",
      "metadata": {
        "id": "-pFkpDXOAQ_U"
      },
      "source": [
        "## Data Processing"
      ]
    },
    {
      "cell_type": "markdown",
      "metadata": {
        "id": "3RPGnGp5AToH"
      },
      "source": [
        "### Features and Target"
      ]
    },
    {
      "cell_type": "code",
      "metadata": {
        "id": "jHaLiATpAOZr"
      },
      "source": [
        "X = iris.drop('species',axis=1)"
      ],
      "execution_count": 5,
      "outputs": []
    },
    {
      "cell_type": "code",
      "metadata": {
        "id": "mNVmEuNSAX_C"
      },
      "source": [
        "y = iris['species']"
      ],
      "execution_count": 6,
      "outputs": []
    },
    {
      "cell_type": "code",
      "metadata": {
        "colab": {
          "base_uri": "https://localhost:8080/"
        },
        "id": "lBuz6DvPAYZe",
        "outputId": "12c4b662-59c8-4059-d244-d04bce614766"
      },
      "source": [
        "y.unique()"
      ],
      "execution_count": 8,
      "outputs": [
        {
          "output_type": "execute_result",
          "data": {
            "text/plain": [
              "array(['setosa', 'versicolor', 'virginica'], dtype=object)"
            ]
          },
          "metadata": {
            "tags": []
          },
          "execution_count": 8
        }
      ]
    },
    {
      "cell_type": "code",
      "metadata": {
        "id": "YP0JomVIAbP5"
      },
      "source": [
        "# Lots of ways to one hot encode\n",
        "# https://stackoverflow.com/questions/47573293/unable-to-transform-string-column-to-categorical-matrix-using-keras-and-sklearn\n",
        "# https://stackoverflow.com/questions/35107559/one-hot-encoding-of-string-categorical-features"
      ],
      "execution_count": 9,
      "outputs": []
    },
    {
      "cell_type": "code",
      "metadata": {
        "id": "1EdNLawOAs0_"
      },
      "source": [
        "from sklearn.preprocessing import LabelBinarizer"
      ],
      "execution_count": 10,
      "outputs": []
    },
    {
      "cell_type": "code",
      "metadata": {
        "id": "XnnoBQ6oAvYV"
      },
      "source": [
        "encoder = LabelBinarizer()"
      ],
      "execution_count": 11,
      "outputs": []
    },
    {
      "cell_type": "code",
      "metadata": {
        "id": "0xmYTDSIAw2n"
      },
      "source": [
        "y = encoder.fit_transform(y)"
      ],
      "execution_count": 12,
      "outputs": []
    },
    {
      "cell_type": "code",
      "metadata": {
        "colab": {
          "base_uri": "https://localhost:8080/"
        },
        "id": "3Ft91C2cAxa0",
        "outputId": "37562119-b1c9-4363-e222-ad27fed79de4"
      },
      "source": [
        "y[45:55]"
      ],
      "execution_count": 20,
      "outputs": [
        {
          "output_type": "execute_result",
          "data": {
            "text/plain": [
              "array([[1, 0, 0],\n",
              "       [1, 0, 0],\n",
              "       [1, 0, 0],\n",
              "       [1, 0, 0],\n",
              "       [1, 0, 0],\n",
              "       [0, 1, 0],\n",
              "       [0, 1, 0],\n",
              "       [0, 1, 0],\n",
              "       [0, 1, 0],\n",
              "       [0, 1, 0]])"
            ]
          },
          "metadata": {
            "tags": []
          },
          "execution_count": 20
        }
      ]
    },
    {
      "cell_type": "markdown",
      "metadata": {
        "id": "olAEy4--GZzW"
      },
      "source": [
        "## Train Test Split"
      ]
    },
    {
      "cell_type": "code",
      "metadata": {
        "id": "iR1UeHOnA4MG"
      },
      "source": [
        "from sklearn.model_selection import train_test_split\n",
        "from sklearn.preprocessing import MinMaxScaler"
      ],
      "execution_count": 21,
      "outputs": []
    },
    {
      "cell_type": "code",
      "metadata": {
        "id": "1-PznB3rGZCX"
      },
      "source": [
        "X_train, X_test, y_train, y_test = train_test_split(X, y, test_size=0.2, random_state=101)"
      ],
      "execution_count": 22,
      "outputs": []
    },
    {
      "cell_type": "markdown",
      "metadata": {
        "id": "U0DT7vF4GiW6"
      },
      "source": [
        "### Scaling"
      ]
    },
    {
      "cell_type": "code",
      "metadata": {
        "id": "2iK2MzEmGeki"
      },
      "source": [
        "scaler = MinMaxScaler()"
      ],
      "execution_count": 23,
      "outputs": []
    },
    {
      "cell_type": "code",
      "metadata": {
        "colab": {
          "base_uri": "https://localhost:8080/"
        },
        "id": "krlHeJemGkW9",
        "outputId": "90139012-048c-4778-c3b4-88a4c65fecbd"
      },
      "source": [
        "scaler.fit(X_train)"
      ],
      "execution_count": 24,
      "outputs": [
        {
          "output_type": "execute_result",
          "data": {
            "text/plain": [
              "MinMaxScaler(copy=True, feature_range=(0, 1))"
            ]
          },
          "metadata": {
            "tags": []
          },
          "execution_count": 24
        }
      ]
    },
    {
      "cell_type": "code",
      "metadata": {
        "id": "WVI0aXDkMm22"
      },
      "source": [
        "scaled_X_train = scaler.transform(X_train)"
      ],
      "execution_count": 25,
      "outputs": []
    },
    {
      "cell_type": "code",
      "metadata": {
        "id": "6ruEf7FtMogQ"
      },
      "source": [
        "scaled_X_test = scaler.transform(X_test)"
      ],
      "execution_count": 26,
      "outputs": []
    },
    {
      "cell_type": "markdown",
      "metadata": {
        "id": "heBkV6IRMsGw"
      },
      "source": [
        "## Model\n",
        "\n",
        "\n",
        "### Creating the Model"
      ]
    },
    {
      "cell_type": "code",
      "metadata": {
        "id": "KBHXAXbnMp-7"
      },
      "source": [
        "from tensorflow.keras.models import Sequential\n",
        "from tensorflow.keras.layers import Dense"
      ],
      "execution_count": 27,
      "outputs": []
    },
    {
      "cell_type": "code",
      "metadata": {
        "id": "G-uteo4hMt7E"
      },
      "source": [
        "model = Sequential()\n",
        "\n",
        "model.add(Dense(units=4,activation='relu',input_shape=[4,]))\n",
        "\n",
        "# Last layer for multi-class classification of 3 species\n",
        "model.add(Dense(units=3,activation='softmax'))\n",
        "\n",
        "model.compile(optimizer='adam', loss='categorical_crossentropy', metrics=['accuracy'])"
      ],
      "execution_count": 28,
      "outputs": []
    },
    {
      "cell_type": "markdown",
      "metadata": {
        "id": "fsHbOhxOPOcM"
      },
      "source": [
        ""
      ]
    },
    {
      "cell_type": "markdown",
      "metadata": {
        "id": "XM4t5_zIPOQN"
      },
      "source": [
        "## Model Training"
      ]
    },
    {
      "cell_type": "code",
      "metadata": {
        "id": "cObBMkSJPLqu"
      },
      "source": [
        "from tensorflow.keras.callbacks import EarlyStopping"
      ],
      "execution_count": 29,
      "outputs": []
    },
    {
      "cell_type": "code",
      "metadata": {
        "id": "U2VNVb2wPRC5"
      },
      "source": [
        "early_stop = EarlyStopping(patience=10)"
      ],
      "execution_count": 30,
      "outputs": []
    },
    {
      "cell_type": "code",
      "metadata": {
        "colab": {
          "base_uri": "https://localhost:8080/"
        },
        "id": "Txz561HEPYFN",
        "outputId": "8d39b442-c02b-4f8a-e74e-7a49f62f7751"
      },
      "source": [
        "model.fit(x=scaled_X_train, \n",
        "          y=y_train, \n",
        "          epochs=300,\n",
        "          validation_data=(scaled_X_test, y_test), verbose=1 ,callbacks=[early_stop])"
      ],
      "execution_count": 31,
      "outputs": [
        {
          "output_type": "stream",
          "text": [
            "Epoch 1/300\n",
            "4/4 [==============================] - 1s 75ms/step - loss: 1.1224 - accuracy: 0.0583 - val_loss: 1.1438 - val_accuracy: 0.0333\n",
            "Epoch 2/300\n",
            "4/4 [==============================] - 0s 11ms/step - loss: 1.1173 - accuracy: 0.1000 - val_loss: 1.1380 - val_accuracy: 0.1000\n",
            "Epoch 3/300\n",
            "4/4 [==============================] - 0s 11ms/step - loss: 1.1123 - accuracy: 0.1250 - val_loss: 1.1330 - val_accuracy: 0.1000\n",
            "Epoch 4/300\n",
            "4/4 [==============================] - 0s 9ms/step - loss: 1.1073 - accuracy: 0.1917 - val_loss: 1.1282 - val_accuracy: 0.1333\n",
            "Epoch 5/300\n",
            "4/4 [==============================] - 0s 10ms/step - loss: 1.1026 - accuracy: 0.2833 - val_loss: 1.1236 - val_accuracy: 0.1667\n",
            "Epoch 6/300\n",
            "4/4 [==============================] - 0s 9ms/step - loss: 1.0982 - accuracy: 0.3083 - val_loss: 1.1191 - val_accuracy: 0.1667\n",
            "Epoch 7/300\n",
            "4/4 [==============================] - 0s 11ms/step - loss: 1.0937 - accuracy: 0.3333 - val_loss: 1.1148 - val_accuracy: 0.2333\n",
            "Epoch 8/300\n",
            "4/4 [==============================] - 0s 10ms/step - loss: 1.0895 - accuracy: 0.3500 - val_loss: 1.1105 - val_accuracy: 0.2333\n",
            "Epoch 9/300\n",
            "4/4 [==============================] - 0s 11ms/step - loss: 1.0855 - accuracy: 0.3500 - val_loss: 1.1062 - val_accuracy: 0.2333\n",
            "Epoch 10/300\n",
            "4/4 [==============================] - 0s 9ms/step - loss: 1.0815 - accuracy: 0.3500 - val_loss: 1.1022 - val_accuracy: 0.2333\n",
            "Epoch 11/300\n",
            "4/4 [==============================] - 0s 11ms/step - loss: 1.0776 - accuracy: 0.3500 - val_loss: 1.0979 - val_accuracy: 0.2333\n",
            "Epoch 12/300\n",
            "4/4 [==============================] - 0s 10ms/step - loss: 1.0738 - accuracy: 0.3500 - val_loss: 1.0932 - val_accuracy: 0.3000\n",
            "Epoch 13/300\n",
            "4/4 [==============================] - 0s 9ms/step - loss: 1.0696 - accuracy: 0.3667 - val_loss: 1.0888 - val_accuracy: 0.2667\n",
            "Epoch 14/300\n",
            "4/4 [==============================] - 0s 13ms/step - loss: 1.0657 - accuracy: 0.3750 - val_loss: 1.0846 - val_accuracy: 0.2667\n",
            "Epoch 15/300\n",
            "4/4 [==============================] - 0s 10ms/step - loss: 1.0617 - accuracy: 0.3750 - val_loss: 1.0808 - val_accuracy: 0.2667\n",
            "Epoch 16/300\n",
            "4/4 [==============================] - 0s 9ms/step - loss: 1.0579 - accuracy: 0.3750 - val_loss: 1.0770 - val_accuracy: 0.3000\n",
            "Epoch 17/300\n",
            "4/4 [==============================] - 0s 9ms/step - loss: 1.0540 - accuracy: 0.3917 - val_loss: 1.0726 - val_accuracy: 0.3000\n",
            "Epoch 18/300\n",
            "4/4 [==============================] - 0s 9ms/step - loss: 1.0496 - accuracy: 0.4000 - val_loss: 1.0685 - val_accuracy: 0.3000\n",
            "Epoch 19/300\n",
            "4/4 [==============================] - 0s 9ms/step - loss: 1.0456 - accuracy: 0.4000 - val_loss: 1.0645 - val_accuracy: 0.3000\n",
            "Epoch 20/300\n",
            "4/4 [==============================] - 0s 11ms/step - loss: 1.0413 - accuracy: 0.4083 - val_loss: 1.0604 - val_accuracy: 0.3000\n",
            "Epoch 21/300\n",
            "4/4 [==============================] - 0s 11ms/step - loss: 1.0373 - accuracy: 0.4167 - val_loss: 1.0565 - val_accuracy: 0.3000\n",
            "Epoch 22/300\n",
            "4/4 [==============================] - 0s 9ms/step - loss: 1.0330 - accuracy: 0.4167 - val_loss: 1.0527 - val_accuracy: 0.3000\n",
            "Epoch 23/300\n",
            "4/4 [==============================] - 0s 10ms/step - loss: 1.0291 - accuracy: 0.4167 - val_loss: 1.0489 - val_accuracy: 0.3000\n",
            "Epoch 24/300\n",
            "4/4 [==============================] - 0s 10ms/step - loss: 1.0248 - accuracy: 0.4167 - val_loss: 1.0450 - val_accuracy: 0.3333\n",
            "Epoch 25/300\n",
            "4/4 [==============================] - 0s 12ms/step - loss: 1.0206 - accuracy: 0.4167 - val_loss: 1.0409 - val_accuracy: 0.3667\n",
            "Epoch 26/300\n",
            "4/4 [==============================] - 0s 13ms/step - loss: 1.0167 - accuracy: 0.4250 - val_loss: 1.0365 - val_accuracy: 0.3667\n",
            "Epoch 27/300\n",
            "4/4 [==============================] - 0s 12ms/step - loss: 1.0125 - accuracy: 0.4333 - val_loss: 1.0326 - val_accuracy: 0.3667\n",
            "Epoch 28/300\n",
            "4/4 [==============================] - 0s 10ms/step - loss: 1.0085 - accuracy: 0.4333 - val_loss: 1.0285 - val_accuracy: 0.3667\n",
            "Epoch 29/300\n",
            "4/4 [==============================] - 0s 9ms/step - loss: 1.0045 - accuracy: 0.4333 - val_loss: 1.0246 - val_accuracy: 0.4000\n",
            "Epoch 30/300\n",
            "4/4 [==============================] - 0s 9ms/step - loss: 1.0003 - accuracy: 0.4250 - val_loss: 1.0209 - val_accuracy: 0.4000\n",
            "Epoch 31/300\n",
            "4/4 [==============================] - 0s 14ms/step - loss: 0.9962 - accuracy: 0.4333 - val_loss: 1.0174 - val_accuracy: 0.4000\n",
            "Epoch 32/300\n",
            "4/4 [==============================] - 0s 10ms/step - loss: 0.9922 - accuracy: 0.4417 - val_loss: 1.0143 - val_accuracy: 0.3667\n",
            "Epoch 33/300\n",
            "4/4 [==============================] - 0s 11ms/step - loss: 0.9880 - accuracy: 0.4417 - val_loss: 1.0107 - val_accuracy: 0.4000\n",
            "Epoch 34/300\n",
            "4/4 [==============================] - 0s 11ms/step - loss: 0.9840 - accuracy: 0.4417 - val_loss: 1.0075 - val_accuracy: 0.4000\n",
            "Epoch 35/300\n",
            "4/4 [==============================] - 0s 12ms/step - loss: 0.9799 - accuracy: 0.4417 - val_loss: 1.0038 - val_accuracy: 0.4333\n",
            "Epoch 36/300\n",
            "4/4 [==============================] - 0s 10ms/step - loss: 0.9760 - accuracy: 0.4500 - val_loss: 1.0011 - val_accuracy: 0.4000\n",
            "Epoch 37/300\n",
            "4/4 [==============================] - 0s 12ms/step - loss: 0.9718 - accuracy: 0.4583 - val_loss: 0.9981 - val_accuracy: 0.4000\n",
            "Epoch 38/300\n",
            "4/4 [==============================] - 0s 11ms/step - loss: 0.9677 - accuracy: 0.4583 - val_loss: 0.9947 - val_accuracy: 0.4000\n",
            "Epoch 39/300\n",
            "4/4 [==============================] - 0s 11ms/step - loss: 0.9639 - accuracy: 0.4583 - val_loss: 0.9919 - val_accuracy: 0.4000\n",
            "Epoch 40/300\n",
            "4/4 [==============================] - 0s 10ms/step - loss: 0.9599 - accuracy: 0.4833 - val_loss: 0.9885 - val_accuracy: 0.4000\n",
            "Epoch 41/300\n",
            "4/4 [==============================] - 0s 10ms/step - loss: 0.9563 - accuracy: 0.4917 - val_loss: 0.9852 - val_accuracy: 0.4333\n",
            "Epoch 42/300\n",
            "4/4 [==============================] - 0s 9ms/step - loss: 0.9525 - accuracy: 0.5000 - val_loss: 0.9826 - val_accuracy: 0.4000\n",
            "Epoch 43/300\n",
            "4/4 [==============================] - 0s 11ms/step - loss: 0.9490 - accuracy: 0.5000 - val_loss: 0.9794 - val_accuracy: 0.4333\n",
            "Epoch 44/300\n",
            "4/4 [==============================] - 0s 10ms/step - loss: 0.9454 - accuracy: 0.5167 - val_loss: 0.9767 - val_accuracy: 0.4667\n",
            "Epoch 45/300\n",
            "4/4 [==============================] - 0s 11ms/step - loss: 0.9419 - accuracy: 0.5333 - val_loss: 0.9739 - val_accuracy: 0.4000\n",
            "Epoch 46/300\n",
            "4/4 [==============================] - 0s 11ms/step - loss: 0.9384 - accuracy: 0.5333 - val_loss: 0.9710 - val_accuracy: 0.4000\n",
            "Epoch 47/300\n",
            "4/4 [==============================] - 0s 11ms/step - loss: 0.9350 - accuracy: 0.5750 - val_loss: 0.9682 - val_accuracy: 0.4000\n",
            "Epoch 48/300\n",
            "4/4 [==============================] - 0s 11ms/step - loss: 0.9315 - accuracy: 0.5750 - val_loss: 0.9653 - val_accuracy: 0.4000\n",
            "Epoch 49/300\n",
            "4/4 [==============================] - 0s 12ms/step - loss: 0.9282 - accuracy: 0.6167 - val_loss: 0.9624 - val_accuracy: 0.4000\n",
            "Epoch 50/300\n",
            "4/4 [==============================] - 0s 10ms/step - loss: 0.9248 - accuracy: 0.6333 - val_loss: 0.9597 - val_accuracy: 0.4333\n",
            "Epoch 51/300\n",
            "4/4 [==============================] - 0s 12ms/step - loss: 0.9214 - accuracy: 0.6667 - val_loss: 0.9568 - val_accuracy: 0.4333\n",
            "Epoch 52/300\n",
            "4/4 [==============================] - 0s 14ms/step - loss: 0.9183 - accuracy: 0.6750 - val_loss: 0.9543 - val_accuracy: 0.4333\n",
            "Epoch 53/300\n",
            "4/4 [==============================] - 0s 11ms/step - loss: 0.9150 - accuracy: 0.6917 - val_loss: 0.9513 - val_accuracy: 0.4667\n",
            "Epoch 54/300\n",
            "4/4 [==============================] - 0s 11ms/step - loss: 0.9117 - accuracy: 0.7167 - val_loss: 0.9487 - val_accuracy: 0.4667\n",
            "Epoch 55/300\n",
            "4/4 [==============================] - 0s 10ms/step - loss: 0.9084 - accuracy: 0.7333 - val_loss: 0.9462 - val_accuracy: 0.5333\n",
            "Epoch 56/300\n",
            "4/4 [==============================] - 0s 9ms/step - loss: 0.9052 - accuracy: 0.7333 - val_loss: 0.9434 - val_accuracy: 0.5333\n",
            "Epoch 57/300\n",
            "4/4 [==============================] - 0s 12ms/step - loss: 0.9020 - accuracy: 0.7417 - val_loss: 0.9406 - val_accuracy: 0.5667\n",
            "Epoch 58/300\n",
            "4/4 [==============================] - 0s 11ms/step - loss: 0.8989 - accuracy: 0.7333 - val_loss: 0.9381 - val_accuracy: 0.5667\n",
            "Epoch 59/300\n",
            "4/4 [==============================] - 0s 10ms/step - loss: 0.8956 - accuracy: 0.7417 - val_loss: 0.9355 - val_accuracy: 0.5667\n",
            "Epoch 60/300\n",
            "4/4 [==============================] - 0s 10ms/step - loss: 0.8925 - accuracy: 0.7500 - val_loss: 0.9327 - val_accuracy: 0.6000\n",
            "Epoch 61/300\n",
            "4/4 [==============================] - 0s 12ms/step - loss: 0.8893 - accuracy: 0.7500 - val_loss: 0.9300 - val_accuracy: 0.6000\n",
            "Epoch 62/300\n",
            "4/4 [==============================] - 0s 11ms/step - loss: 0.8860 - accuracy: 0.7500 - val_loss: 0.9270 - val_accuracy: 0.6000\n",
            "Epoch 63/300\n",
            "4/4 [==============================] - 0s 10ms/step - loss: 0.8828 - accuracy: 0.7500 - val_loss: 0.9238 - val_accuracy: 0.6000\n",
            "Epoch 64/300\n",
            "4/4 [==============================] - 0s 13ms/step - loss: 0.8797 - accuracy: 0.7667 - val_loss: 0.9204 - val_accuracy: 0.6000\n",
            "Epoch 65/300\n",
            "4/4 [==============================] - 0s 11ms/step - loss: 0.8765 - accuracy: 0.7833 - val_loss: 0.9174 - val_accuracy: 0.6000\n",
            "Epoch 66/300\n",
            "4/4 [==============================] - 0s 11ms/step - loss: 0.8733 - accuracy: 0.7833 - val_loss: 0.9150 - val_accuracy: 0.6333\n",
            "Epoch 67/300\n",
            "4/4 [==============================] - 0s 11ms/step - loss: 0.8701 - accuracy: 0.7917 - val_loss: 0.9123 - val_accuracy: 0.6333\n",
            "Epoch 68/300\n",
            "4/4 [==============================] - 0s 11ms/step - loss: 0.8669 - accuracy: 0.8000 - val_loss: 0.9097 - val_accuracy: 0.7000\n",
            "Epoch 69/300\n",
            "4/4 [==============================] - 0s 12ms/step - loss: 0.8635 - accuracy: 0.8000 - val_loss: 0.9066 - val_accuracy: 0.7000\n",
            "Epoch 70/300\n",
            "4/4 [==============================] - 0s 10ms/step - loss: 0.8603 - accuracy: 0.8000 - val_loss: 0.9037 - val_accuracy: 0.7000\n",
            "Epoch 71/300\n",
            "4/4 [==============================] - 0s 12ms/step - loss: 0.8571 - accuracy: 0.8000 - val_loss: 0.9006 - val_accuracy: 0.7000\n",
            "Epoch 72/300\n",
            "4/4 [==============================] - 0s 11ms/step - loss: 0.8538 - accuracy: 0.8083 - val_loss: 0.8974 - val_accuracy: 0.7000\n",
            "Epoch 73/300\n",
            "4/4 [==============================] - 0s 13ms/step - loss: 0.8506 - accuracy: 0.8083 - val_loss: 0.8940 - val_accuracy: 0.7000\n",
            "Epoch 74/300\n",
            "4/4 [==============================] - 0s 11ms/step - loss: 0.8474 - accuracy: 0.8167 - val_loss: 0.8909 - val_accuracy: 0.7000\n",
            "Epoch 75/300\n",
            "4/4 [==============================] - 0s 11ms/step - loss: 0.8442 - accuracy: 0.8167 - val_loss: 0.8876 - val_accuracy: 0.7000\n",
            "Epoch 76/300\n",
            "4/4 [==============================] - 0s 10ms/step - loss: 0.8408 - accuracy: 0.8167 - val_loss: 0.8849 - val_accuracy: 0.7000\n",
            "Epoch 77/300\n",
            "4/4 [==============================] - 0s 11ms/step - loss: 0.8376 - accuracy: 0.8167 - val_loss: 0.8824 - val_accuracy: 0.7000\n",
            "Epoch 78/300\n",
            "4/4 [==============================] - 0s 11ms/step - loss: 0.8343 - accuracy: 0.8167 - val_loss: 0.8796 - val_accuracy: 0.7000\n",
            "Epoch 79/300\n",
            "4/4 [==============================] - 0s 11ms/step - loss: 0.8315 - accuracy: 0.8167 - val_loss: 0.8773 - val_accuracy: 0.7000\n",
            "Epoch 80/300\n",
            "4/4 [==============================] - 0s 13ms/step - loss: 0.8279 - accuracy: 0.8083 - val_loss: 0.8744 - val_accuracy: 0.7000\n",
            "Epoch 81/300\n",
            "4/4 [==============================] - 0s 15ms/step - loss: 0.8250 - accuracy: 0.8167 - val_loss: 0.8708 - val_accuracy: 0.7000\n",
            "Epoch 82/300\n",
            "4/4 [==============================] - 0s 12ms/step - loss: 0.8218 - accuracy: 0.8167 - val_loss: 0.8684 - val_accuracy: 0.7333\n",
            "Epoch 83/300\n",
            "4/4 [==============================] - 0s 14ms/step - loss: 0.8184 - accuracy: 0.8000 - val_loss: 0.8658 - val_accuracy: 0.7333\n",
            "Epoch 84/300\n",
            "4/4 [==============================] - 0s 11ms/step - loss: 0.8152 - accuracy: 0.8167 - val_loss: 0.8622 - val_accuracy: 0.7667\n",
            "Epoch 85/300\n",
            "4/4 [==============================] - 0s 12ms/step - loss: 0.8120 - accuracy: 0.8167 - val_loss: 0.8594 - val_accuracy: 0.7667\n",
            "Epoch 86/300\n",
            "4/4 [==============================] - 0s 11ms/step - loss: 0.8087 - accuracy: 0.8167 - val_loss: 0.8560 - val_accuracy: 0.7667\n",
            "Epoch 87/300\n",
            "4/4 [==============================] - 0s 15ms/step - loss: 0.8055 - accuracy: 0.8167 - val_loss: 0.8528 - val_accuracy: 0.7667\n",
            "Epoch 88/300\n",
            "4/4 [==============================] - 0s 13ms/step - loss: 0.8024 - accuracy: 0.8167 - val_loss: 0.8495 - val_accuracy: 0.7667\n",
            "Epoch 89/300\n",
            "4/4 [==============================] - 0s 12ms/step - loss: 0.7992 - accuracy: 0.8167 - val_loss: 0.8461 - val_accuracy: 0.7667\n",
            "Epoch 90/300\n",
            "4/4 [==============================] - 0s 11ms/step - loss: 0.7960 - accuracy: 0.8167 - val_loss: 0.8429 - val_accuracy: 0.8000\n",
            "Epoch 91/300\n",
            "4/4 [==============================] - 0s 12ms/step - loss: 0.7930 - accuracy: 0.8167 - val_loss: 0.8402 - val_accuracy: 0.7667\n",
            "Epoch 92/300\n",
            "4/4 [==============================] - 0s 10ms/step - loss: 0.7897 - accuracy: 0.8167 - val_loss: 0.8370 - val_accuracy: 0.8000\n",
            "Epoch 93/300\n",
            "4/4 [==============================] - 0s 10ms/step - loss: 0.7867 - accuracy: 0.8167 - val_loss: 0.8341 - val_accuracy: 0.8000\n",
            "Epoch 94/300\n",
            "4/4 [==============================] - 0s 11ms/step - loss: 0.7835 - accuracy: 0.8167 - val_loss: 0.8309 - val_accuracy: 0.8000\n",
            "Epoch 95/300\n",
            "4/4 [==============================] - 0s 11ms/step - loss: 0.7802 - accuracy: 0.8167 - val_loss: 0.8277 - val_accuracy: 0.8000\n",
            "Epoch 96/300\n",
            "4/4 [==============================] - 0s 11ms/step - loss: 0.7772 - accuracy: 0.8167 - val_loss: 0.8246 - val_accuracy: 0.8000\n",
            "Epoch 97/300\n",
            "4/4 [==============================] - 0s 11ms/step - loss: 0.7740 - accuracy: 0.8167 - val_loss: 0.8218 - val_accuracy: 0.8000\n",
            "Epoch 98/300\n",
            "4/4 [==============================] - 0s 10ms/step - loss: 0.7710 - accuracy: 0.8167 - val_loss: 0.8190 - val_accuracy: 0.8000\n",
            "Epoch 99/300\n",
            "4/4 [==============================] - 0s 12ms/step - loss: 0.7678 - accuracy: 0.8167 - val_loss: 0.8163 - val_accuracy: 0.8000\n",
            "Epoch 100/300\n",
            "4/4 [==============================] - 0s 11ms/step - loss: 0.7648 - accuracy: 0.8167 - val_loss: 0.8135 - val_accuracy: 0.8000\n",
            "Epoch 101/300\n",
            "4/4 [==============================] - 0s 12ms/step - loss: 0.7617 - accuracy: 0.8167 - val_loss: 0.8107 - val_accuracy: 0.8000\n",
            "Epoch 102/300\n",
            "4/4 [==============================] - 0s 11ms/step - loss: 0.7589 - accuracy: 0.8167 - val_loss: 0.8081 - val_accuracy: 0.8000\n",
            "Epoch 103/300\n",
            "4/4 [==============================] - 0s 11ms/step - loss: 0.7557 - accuracy: 0.8167 - val_loss: 0.8054 - val_accuracy: 0.8000\n",
            "Epoch 104/300\n",
            "4/4 [==============================] - 0s 14ms/step - loss: 0.7527 - accuracy: 0.8167 - val_loss: 0.8025 - val_accuracy: 0.8000\n",
            "Epoch 105/300\n",
            "4/4 [==============================] - 0s 12ms/step - loss: 0.7499 - accuracy: 0.8167 - val_loss: 0.8002 - val_accuracy: 0.8000\n",
            "Epoch 106/300\n",
            "4/4 [==============================] - 0s 11ms/step - loss: 0.7467 - accuracy: 0.8167 - val_loss: 0.7973 - val_accuracy: 0.8000\n",
            "Epoch 107/300\n",
            "4/4 [==============================] - 0s 11ms/step - loss: 0.7440 - accuracy: 0.8250 - val_loss: 0.7941 - val_accuracy: 0.8000\n",
            "Epoch 108/300\n",
            "4/4 [==============================] - 0s 10ms/step - loss: 0.7410 - accuracy: 0.8250 - val_loss: 0.7914 - val_accuracy: 0.8000\n",
            "Epoch 109/300\n",
            "4/4 [==============================] - 0s 11ms/step - loss: 0.7381 - accuracy: 0.8250 - val_loss: 0.7889 - val_accuracy: 0.8000\n",
            "Epoch 110/300\n",
            "4/4 [==============================] - 0s 10ms/step - loss: 0.7353 - accuracy: 0.8250 - val_loss: 0.7866 - val_accuracy: 0.8000\n",
            "Epoch 111/300\n",
            "4/4 [==============================] - 0s 10ms/step - loss: 0.7325 - accuracy: 0.8250 - val_loss: 0.7838 - val_accuracy: 0.8000\n",
            "Epoch 112/300\n",
            "4/4 [==============================] - 0s 12ms/step - loss: 0.7297 - accuracy: 0.8250 - val_loss: 0.7814 - val_accuracy: 0.8000\n",
            "Epoch 113/300\n",
            "4/4 [==============================] - 0s 11ms/step - loss: 0.7269 - accuracy: 0.8250 - val_loss: 0.7789 - val_accuracy: 0.8000\n",
            "Epoch 114/300\n",
            "4/4 [==============================] - 0s 10ms/step - loss: 0.7243 - accuracy: 0.8250 - val_loss: 0.7766 - val_accuracy: 0.8000\n",
            "Epoch 115/300\n",
            "4/4 [==============================] - 0s 12ms/step - loss: 0.7219 - accuracy: 0.8167 - val_loss: 0.7744 - val_accuracy: 0.8000\n",
            "Epoch 116/300\n",
            "4/4 [==============================] - 0s 13ms/step - loss: 0.7191 - accuracy: 0.8167 - val_loss: 0.7713 - val_accuracy: 0.8000\n",
            "Epoch 117/300\n",
            "4/4 [==============================] - 0s 12ms/step - loss: 0.7163 - accuracy: 0.8333 - val_loss: 0.7688 - val_accuracy: 0.8000\n",
            "Epoch 118/300\n",
            "4/4 [==============================] - 0s 12ms/step - loss: 0.7138 - accuracy: 0.8333 - val_loss: 0.7663 - val_accuracy: 0.8000\n",
            "Epoch 119/300\n",
            "4/4 [==============================] - 0s 11ms/step - loss: 0.7111 - accuracy: 0.8333 - val_loss: 0.7640 - val_accuracy: 0.8000\n",
            "Epoch 120/300\n",
            "4/4 [==============================] - 0s 12ms/step - loss: 0.7087 - accuracy: 0.8333 - val_loss: 0.7618 - val_accuracy: 0.8000\n",
            "Epoch 121/300\n",
            "4/4 [==============================] - 0s 10ms/step - loss: 0.7061 - accuracy: 0.8333 - val_loss: 0.7595 - val_accuracy: 0.8000\n",
            "Epoch 122/300\n",
            "4/4 [==============================] - 0s 14ms/step - loss: 0.7040 - accuracy: 0.8167 - val_loss: 0.7575 - val_accuracy: 0.8000\n",
            "Epoch 123/300\n",
            "4/4 [==============================] - 0s 12ms/step - loss: 0.7012 - accuracy: 0.8167 - val_loss: 0.7549 - val_accuracy: 0.8000\n",
            "Epoch 124/300\n",
            "4/4 [==============================] - 0s 13ms/step - loss: 0.6989 - accuracy: 0.8333 - val_loss: 0.7521 - val_accuracy: 0.8333\n",
            "Epoch 125/300\n",
            "4/4 [==============================] - 0s 11ms/step - loss: 0.6964 - accuracy: 0.8417 - val_loss: 0.7496 - val_accuracy: 0.8333\n",
            "Epoch 126/300\n",
            "4/4 [==============================] - 0s 12ms/step - loss: 0.6940 - accuracy: 0.8417 - val_loss: 0.7473 - val_accuracy: 0.8333\n",
            "Epoch 127/300\n",
            "4/4 [==============================] - 0s 11ms/step - loss: 0.6917 - accuracy: 0.8417 - val_loss: 0.7448 - val_accuracy: 0.8333\n",
            "Epoch 128/300\n",
            "4/4 [==============================] - 0s 14ms/step - loss: 0.6894 - accuracy: 0.8417 - val_loss: 0.7424 - val_accuracy: 0.8333\n",
            "Epoch 129/300\n",
            "4/4 [==============================] - 0s 11ms/step - loss: 0.6870 - accuracy: 0.8417 - val_loss: 0.7404 - val_accuracy: 0.8333\n",
            "Epoch 130/300\n",
            "4/4 [==============================] - 0s 11ms/step - loss: 0.6846 - accuracy: 0.8417 - val_loss: 0.7382 - val_accuracy: 0.8333\n",
            "Epoch 131/300\n",
            "4/4 [==============================] - 0s 14ms/step - loss: 0.6824 - accuracy: 0.8417 - val_loss: 0.7364 - val_accuracy: 0.8333\n",
            "Epoch 132/300\n",
            "4/4 [==============================] - 0s 11ms/step - loss: 0.6803 - accuracy: 0.8417 - val_loss: 0.7346 - val_accuracy: 0.8333\n",
            "Epoch 133/300\n",
            "4/4 [==============================] - 0s 10ms/step - loss: 0.6779 - accuracy: 0.8333 - val_loss: 0.7322 - val_accuracy: 0.8333\n",
            "Epoch 134/300\n",
            "4/4 [==============================] - 0s 10ms/step - loss: 0.6756 - accuracy: 0.8333 - val_loss: 0.7297 - val_accuracy: 0.8333\n",
            "Epoch 135/300\n",
            "4/4 [==============================] - 0s 11ms/step - loss: 0.6734 - accuracy: 0.8500 - val_loss: 0.7274 - val_accuracy: 0.8333\n",
            "Epoch 136/300\n",
            "4/4 [==============================] - 0s 12ms/step - loss: 0.6711 - accuracy: 0.8500 - val_loss: 0.7254 - val_accuracy: 0.8333\n",
            "Epoch 137/300\n",
            "4/4 [==============================] - 0s 12ms/step - loss: 0.6690 - accuracy: 0.8500 - val_loss: 0.7235 - val_accuracy: 0.8333\n",
            "Epoch 138/300\n",
            "4/4 [==============================] - 0s 12ms/step - loss: 0.6668 - accuracy: 0.8500 - val_loss: 0.7214 - val_accuracy: 0.8333\n",
            "Epoch 139/300\n",
            "4/4 [==============================] - 0s 10ms/step - loss: 0.6647 - accuracy: 0.8500 - val_loss: 0.7193 - val_accuracy: 0.8333\n",
            "Epoch 140/300\n",
            "4/4 [==============================] - 0s 11ms/step - loss: 0.6625 - accuracy: 0.8417 - val_loss: 0.7174 - val_accuracy: 0.8333\n",
            "Epoch 141/300\n",
            "4/4 [==============================] - 0s 11ms/step - loss: 0.6603 - accuracy: 0.8500 - val_loss: 0.7153 - val_accuracy: 0.8333\n",
            "Epoch 142/300\n",
            "4/4 [==============================] - 0s 11ms/step - loss: 0.6584 - accuracy: 0.8417 - val_loss: 0.7135 - val_accuracy: 0.8333\n",
            "Epoch 143/300\n",
            "4/4 [==============================] - 0s 11ms/step - loss: 0.6561 - accuracy: 0.8500 - val_loss: 0.7110 - val_accuracy: 0.8333\n",
            "Epoch 144/300\n",
            "4/4 [==============================] - 0s 17ms/step - loss: 0.6541 - accuracy: 0.8500 - val_loss: 0.7086 - val_accuracy: 0.8667\n",
            "Epoch 145/300\n",
            "4/4 [==============================] - 0s 12ms/step - loss: 0.6520 - accuracy: 0.8500 - val_loss: 0.7066 - val_accuracy: 0.8667\n",
            "Epoch 146/300\n",
            "4/4 [==============================] - 0s 11ms/step - loss: 0.6499 - accuracy: 0.8500 - val_loss: 0.7045 - val_accuracy: 0.8667\n",
            "Epoch 147/300\n",
            "4/4 [==============================] - 0s 10ms/step - loss: 0.6478 - accuracy: 0.8500 - val_loss: 0.7025 - val_accuracy: 0.8667\n",
            "Epoch 148/300\n",
            "4/4 [==============================] - 0s 11ms/step - loss: 0.6457 - accuracy: 0.8500 - val_loss: 0.7006 - val_accuracy: 0.8667\n",
            "Epoch 149/300\n",
            "4/4 [==============================] - 0s 11ms/step - loss: 0.6438 - accuracy: 0.8500 - val_loss: 0.6983 - val_accuracy: 0.8667\n",
            "Epoch 150/300\n",
            "4/4 [==============================] - 0s 11ms/step - loss: 0.6418 - accuracy: 0.8500 - val_loss: 0.6961 - val_accuracy: 0.8667\n",
            "Epoch 151/300\n",
            "4/4 [==============================] - 0s 10ms/step - loss: 0.6397 - accuracy: 0.8500 - val_loss: 0.6942 - val_accuracy: 0.8667\n",
            "Epoch 152/300\n",
            "4/4 [==============================] - 0s 12ms/step - loss: 0.6378 - accuracy: 0.8500 - val_loss: 0.6927 - val_accuracy: 0.8667\n",
            "Epoch 153/300\n",
            "4/4 [==============================] - 0s 12ms/step - loss: 0.6357 - accuracy: 0.8500 - val_loss: 0.6906 - val_accuracy: 0.8667\n",
            "Epoch 154/300\n",
            "4/4 [==============================] - 0s 12ms/step - loss: 0.6337 - accuracy: 0.8500 - val_loss: 0.6885 - val_accuracy: 0.8667\n",
            "Epoch 155/300\n",
            "4/4 [==============================] - 0s 10ms/step - loss: 0.6317 - accuracy: 0.8500 - val_loss: 0.6866 - val_accuracy: 0.8667\n",
            "Epoch 156/300\n",
            "4/4 [==============================] - 0s 12ms/step - loss: 0.6299 - accuracy: 0.8500 - val_loss: 0.6846 - val_accuracy: 0.8667\n",
            "Epoch 157/300\n",
            "4/4 [==============================] - 0s 10ms/step - loss: 0.6278 - accuracy: 0.8500 - val_loss: 0.6826 - val_accuracy: 0.8667\n",
            "Epoch 158/300\n",
            "4/4 [==============================] - 0s 12ms/step - loss: 0.6260 - accuracy: 0.8583 - val_loss: 0.6807 - val_accuracy: 0.8667\n",
            "Epoch 159/300\n",
            "4/4 [==============================] - 0s 11ms/step - loss: 0.6239 - accuracy: 0.8500 - val_loss: 0.6791 - val_accuracy: 0.8667\n",
            "Epoch 160/300\n",
            "4/4 [==============================] - 0s 14ms/step - loss: 0.6223 - accuracy: 0.8500 - val_loss: 0.6778 - val_accuracy: 0.8667\n",
            "Epoch 161/300\n",
            "4/4 [==============================] - 0s 10ms/step - loss: 0.6205 - accuracy: 0.8500 - val_loss: 0.6755 - val_accuracy: 0.8667\n",
            "Epoch 162/300\n",
            "4/4 [==============================] - 0s 11ms/step - loss: 0.6182 - accuracy: 0.8583 - val_loss: 0.6739 - val_accuracy: 0.8667\n",
            "Epoch 163/300\n",
            "4/4 [==============================] - 0s 11ms/step - loss: 0.6164 - accuracy: 0.8500 - val_loss: 0.6720 - val_accuracy: 0.8667\n",
            "Epoch 164/300\n",
            "4/4 [==============================] - 0s 11ms/step - loss: 0.6145 - accuracy: 0.8583 - val_loss: 0.6701 - val_accuracy: 0.8667\n",
            "Epoch 165/300\n",
            "4/4 [==============================] - 0s 12ms/step - loss: 0.6129 - accuracy: 0.8583 - val_loss: 0.6686 - val_accuracy: 0.8667\n",
            "Epoch 166/300\n",
            "4/4 [==============================] - 0s 12ms/step - loss: 0.6110 - accuracy: 0.8583 - val_loss: 0.6662 - val_accuracy: 0.9000\n",
            "Epoch 167/300\n",
            "4/4 [==============================] - 0s 13ms/step - loss: 0.6089 - accuracy: 0.8583 - val_loss: 0.6645 - val_accuracy: 0.9000\n",
            "Epoch 168/300\n",
            "4/4 [==============================] - 0s 11ms/step - loss: 0.6071 - accuracy: 0.8583 - val_loss: 0.6625 - val_accuracy: 0.9000\n",
            "Epoch 169/300\n",
            "4/4 [==============================] - 0s 12ms/step - loss: 0.6052 - accuracy: 0.8583 - val_loss: 0.6607 - val_accuracy: 0.9000\n",
            "Epoch 170/300\n",
            "4/4 [==============================] - 0s 11ms/step - loss: 0.6036 - accuracy: 0.8583 - val_loss: 0.6590 - val_accuracy: 0.9000\n",
            "Epoch 171/300\n",
            "4/4 [==============================] - 0s 12ms/step - loss: 0.6017 - accuracy: 0.8583 - val_loss: 0.6570 - val_accuracy: 0.9000\n",
            "Epoch 172/300\n",
            "4/4 [==============================] - 0s 10ms/step - loss: 0.6002 - accuracy: 0.8667 - val_loss: 0.6546 - val_accuracy: 0.8667\n",
            "Epoch 173/300\n",
            "4/4 [==============================] - 0s 11ms/step - loss: 0.5981 - accuracy: 0.8667 - val_loss: 0.6527 - val_accuracy: 0.8667\n",
            "Epoch 174/300\n",
            "4/4 [==============================] - 0s 10ms/step - loss: 0.5963 - accuracy: 0.8667 - val_loss: 0.6509 - val_accuracy: 0.8667\n",
            "Epoch 175/300\n",
            "4/4 [==============================] - 0s 11ms/step - loss: 0.5947 - accuracy: 0.8667 - val_loss: 0.6488 - val_accuracy: 0.8667\n",
            "Epoch 176/300\n",
            "4/4 [==============================] - 0s 11ms/step - loss: 0.5929 - accuracy: 0.8667 - val_loss: 0.6469 - val_accuracy: 0.9000\n",
            "Epoch 177/300\n",
            "4/4 [==============================] - 0s 15ms/step - loss: 0.5912 - accuracy: 0.8750 - val_loss: 0.6452 - val_accuracy: 0.9000\n",
            "Epoch 178/300\n",
            "4/4 [==============================] - 0s 13ms/step - loss: 0.5894 - accuracy: 0.8667 - val_loss: 0.6437 - val_accuracy: 0.8667\n",
            "Epoch 179/300\n",
            "4/4 [==============================] - 0s 14ms/step - loss: 0.5879 - accuracy: 0.8667 - val_loss: 0.6423 - val_accuracy: 0.8667\n",
            "Epoch 180/300\n",
            "4/4 [==============================] - 0s 13ms/step - loss: 0.5860 - accuracy: 0.8667 - val_loss: 0.6408 - val_accuracy: 0.8667\n",
            "Epoch 181/300\n",
            "4/4 [==============================] - 0s 13ms/step - loss: 0.5844 - accuracy: 0.8667 - val_loss: 0.6389 - val_accuracy: 0.8667\n",
            "Epoch 182/300\n",
            "4/4 [==============================] - 0s 12ms/step - loss: 0.5825 - accuracy: 0.8667 - val_loss: 0.6374 - val_accuracy: 0.8667\n",
            "Epoch 183/300\n",
            "4/4 [==============================] - 0s 16ms/step - loss: 0.5809 - accuracy: 0.8667 - val_loss: 0.6358 - val_accuracy: 0.8667\n",
            "Epoch 184/300\n",
            "4/4 [==============================] - 0s 12ms/step - loss: 0.5793 - accuracy: 0.8667 - val_loss: 0.6341 - val_accuracy: 0.8667\n",
            "Epoch 185/300\n",
            "4/4 [==============================] - 0s 11ms/step - loss: 0.5775 - accuracy: 0.8667 - val_loss: 0.6326 - val_accuracy: 0.8667\n",
            "Epoch 186/300\n",
            "4/4 [==============================] - 0s 11ms/step - loss: 0.5763 - accuracy: 0.8667 - val_loss: 0.6306 - val_accuracy: 0.8667\n",
            "Epoch 187/300\n",
            "4/4 [==============================] - 0s 12ms/step - loss: 0.5742 - accuracy: 0.8667 - val_loss: 0.6292 - val_accuracy: 0.8667\n",
            "Epoch 188/300\n",
            "4/4 [==============================] - 0s 12ms/step - loss: 0.5726 - accuracy: 0.8667 - val_loss: 0.6278 - val_accuracy: 0.8667\n",
            "Epoch 189/300\n",
            "4/4 [==============================] - 0s 12ms/step - loss: 0.5709 - accuracy: 0.8667 - val_loss: 0.6262 - val_accuracy: 0.8667\n",
            "Epoch 190/300\n",
            "4/4 [==============================] - 0s 12ms/step - loss: 0.5693 - accuracy: 0.8667 - val_loss: 0.6245 - val_accuracy: 0.8667\n",
            "Epoch 191/300\n",
            "4/4 [==============================] - 0s 13ms/step - loss: 0.5679 - accuracy: 0.8667 - val_loss: 0.6232 - val_accuracy: 0.8667\n",
            "Epoch 192/300\n",
            "4/4 [==============================] - 0s 13ms/step - loss: 0.5662 - accuracy: 0.8667 - val_loss: 0.6212 - val_accuracy: 0.8667\n",
            "Epoch 193/300\n",
            "4/4 [==============================] - 0s 11ms/step - loss: 0.5645 - accuracy: 0.8750 - val_loss: 0.6195 - val_accuracy: 0.8667\n",
            "Epoch 194/300\n",
            "4/4 [==============================] - 0s 11ms/step - loss: 0.5629 - accuracy: 0.8750 - val_loss: 0.6180 - val_accuracy: 0.8667\n",
            "Epoch 195/300\n",
            "4/4 [==============================] - 0s 11ms/step - loss: 0.5614 - accuracy: 0.8667 - val_loss: 0.6165 - val_accuracy: 0.8667\n",
            "Epoch 196/300\n",
            "4/4 [==============================] - 0s 12ms/step - loss: 0.5598 - accuracy: 0.8750 - val_loss: 0.6148 - val_accuracy: 0.8667\n",
            "Epoch 197/300\n",
            "4/4 [==============================] - 0s 13ms/step - loss: 0.5582 - accuracy: 0.8750 - val_loss: 0.6131 - val_accuracy: 0.8667\n",
            "Epoch 198/300\n",
            "4/4 [==============================] - 0s 14ms/step - loss: 0.5565 - accuracy: 0.8750 - val_loss: 0.6114 - val_accuracy: 0.9000\n",
            "Epoch 199/300\n",
            "4/4 [==============================] - 0s 12ms/step - loss: 0.5550 - accuracy: 0.8750 - val_loss: 0.6097 - val_accuracy: 0.9000\n",
            "Epoch 200/300\n",
            "4/4 [==============================] - 0s 11ms/step - loss: 0.5534 - accuracy: 0.8750 - val_loss: 0.6081 - val_accuracy: 0.9000\n",
            "Epoch 201/300\n",
            "4/4 [==============================] - 0s 10ms/step - loss: 0.5519 - accuracy: 0.8833 - val_loss: 0.6066 - val_accuracy: 0.9000\n",
            "Epoch 202/300\n",
            "4/4 [==============================] - 0s 10ms/step - loss: 0.5503 - accuracy: 0.8833 - val_loss: 0.6051 - val_accuracy: 0.9000\n",
            "Epoch 203/300\n",
            "4/4 [==============================] - 0s 11ms/step - loss: 0.5487 - accuracy: 0.8750 - val_loss: 0.6036 - val_accuracy: 0.9000\n",
            "Epoch 204/300\n",
            "4/4 [==============================] - 0s 12ms/step - loss: 0.5473 - accuracy: 0.8750 - val_loss: 0.6023 - val_accuracy: 0.8667\n",
            "Epoch 205/300\n",
            "4/4 [==============================] - 0s 12ms/step - loss: 0.5458 - accuracy: 0.8750 - val_loss: 0.6008 - val_accuracy: 0.8667\n",
            "Epoch 206/300\n",
            "4/4 [==============================] - 0s 12ms/step - loss: 0.5445 - accuracy: 0.8750 - val_loss: 0.5988 - val_accuracy: 0.9000\n",
            "Epoch 207/300\n",
            "4/4 [==============================] - 0s 13ms/step - loss: 0.5427 - accuracy: 0.8833 - val_loss: 0.5975 - val_accuracy: 0.9000\n",
            "Epoch 208/300\n",
            "4/4 [==============================] - 0s 12ms/step - loss: 0.5412 - accuracy: 0.8833 - val_loss: 0.5960 - val_accuracy: 0.9000\n",
            "Epoch 209/300\n",
            "4/4 [==============================] - 0s 13ms/step - loss: 0.5398 - accuracy: 0.8833 - val_loss: 0.5943 - val_accuracy: 0.9000\n",
            "Epoch 210/300\n",
            "4/4 [==============================] - 0s 11ms/step - loss: 0.5383 - accuracy: 0.8917 - val_loss: 0.5928 - val_accuracy: 0.9000\n",
            "Epoch 211/300\n",
            "4/4 [==============================] - 0s 11ms/step - loss: 0.5367 - accuracy: 0.8917 - val_loss: 0.5913 - val_accuracy: 0.9000\n",
            "Epoch 212/300\n",
            "4/4 [==============================] - 0s 12ms/step - loss: 0.5352 - accuracy: 0.8917 - val_loss: 0.5897 - val_accuracy: 0.9000\n",
            "Epoch 213/300\n",
            "4/4 [==============================] - 0s 12ms/step - loss: 0.5338 - accuracy: 0.8917 - val_loss: 0.5881 - val_accuracy: 0.9000\n",
            "Epoch 214/300\n",
            "4/4 [==============================] - 0s 11ms/step - loss: 0.5324 - accuracy: 0.8917 - val_loss: 0.5864 - val_accuracy: 0.9000\n",
            "Epoch 215/300\n",
            "4/4 [==============================] - 0s 12ms/step - loss: 0.5309 - accuracy: 0.8917 - val_loss: 0.5849 - val_accuracy: 0.9000\n",
            "Epoch 216/300\n",
            "4/4 [==============================] - 0s 11ms/step - loss: 0.5294 - accuracy: 0.8917 - val_loss: 0.5836 - val_accuracy: 0.9000\n",
            "Epoch 217/300\n",
            "4/4 [==============================] - 0s 12ms/step - loss: 0.5279 - accuracy: 0.8917 - val_loss: 0.5824 - val_accuracy: 0.9000\n",
            "Epoch 218/300\n",
            "4/4 [==============================] - 0s 13ms/step - loss: 0.5265 - accuracy: 0.8917 - val_loss: 0.5811 - val_accuracy: 0.9000\n",
            "Epoch 219/300\n",
            "4/4 [==============================] - 0s 12ms/step - loss: 0.5253 - accuracy: 0.8917 - val_loss: 0.5800 - val_accuracy: 0.9000\n",
            "Epoch 220/300\n",
            "4/4 [==============================] - 0s 13ms/step - loss: 0.5237 - accuracy: 0.8917 - val_loss: 0.5786 - val_accuracy: 0.9000\n",
            "Epoch 221/300\n",
            "4/4 [==============================] - 0s 12ms/step - loss: 0.5223 - accuracy: 0.8917 - val_loss: 0.5770 - val_accuracy: 0.9000\n",
            "Epoch 222/300\n",
            "4/4 [==============================] - 0s 14ms/step - loss: 0.5212 - accuracy: 0.8917 - val_loss: 0.5752 - val_accuracy: 0.9000\n",
            "Epoch 223/300\n",
            "4/4 [==============================] - 0s 11ms/step - loss: 0.5195 - accuracy: 0.8917 - val_loss: 0.5737 - val_accuracy: 0.9000\n",
            "Epoch 224/300\n",
            "4/4 [==============================] - 0s 12ms/step - loss: 0.5181 - accuracy: 0.8917 - val_loss: 0.5723 - val_accuracy: 0.9000\n",
            "Epoch 225/300\n",
            "4/4 [==============================] - 0s 10ms/step - loss: 0.5167 - accuracy: 0.8917 - val_loss: 0.5710 - val_accuracy: 0.9000\n",
            "Epoch 226/300\n",
            "4/4 [==============================] - 0s 10ms/step - loss: 0.5154 - accuracy: 0.8917 - val_loss: 0.5694 - val_accuracy: 0.9000\n",
            "Epoch 227/300\n",
            "4/4 [==============================] - 0s 12ms/step - loss: 0.5140 - accuracy: 0.8917 - val_loss: 0.5682 - val_accuracy: 0.9000\n",
            "Epoch 228/300\n",
            "4/4 [==============================] - 0s 12ms/step - loss: 0.5125 - accuracy: 0.8917 - val_loss: 0.5668 - val_accuracy: 0.9000\n",
            "Epoch 229/300\n",
            "4/4 [==============================] - 0s 10ms/step - loss: 0.5112 - accuracy: 0.8917 - val_loss: 0.5654 - val_accuracy: 0.9000\n",
            "Epoch 230/300\n",
            "4/4 [==============================] - 0s 12ms/step - loss: 0.5099 - accuracy: 0.8917 - val_loss: 0.5638 - val_accuracy: 0.9000\n",
            "Epoch 231/300\n",
            "4/4 [==============================] - 0s 12ms/step - loss: 0.5086 - accuracy: 0.8917 - val_loss: 0.5622 - val_accuracy: 0.9000\n",
            "Epoch 232/300\n",
            "4/4 [==============================] - 0s 13ms/step - loss: 0.5074 - accuracy: 0.8917 - val_loss: 0.5606 - val_accuracy: 0.9000\n",
            "Epoch 233/300\n",
            "4/4 [==============================] - 0s 11ms/step - loss: 0.5058 - accuracy: 0.8917 - val_loss: 0.5593 - val_accuracy: 0.9000\n",
            "Epoch 234/300\n",
            "4/4 [==============================] - 0s 13ms/step - loss: 0.5044 - accuracy: 0.8917 - val_loss: 0.5583 - val_accuracy: 0.9000\n",
            "Epoch 235/300\n",
            "4/4 [==============================] - 0s 11ms/step - loss: 0.5031 - accuracy: 0.8917 - val_loss: 0.5574 - val_accuracy: 0.9000\n",
            "Epoch 236/300\n",
            "4/4 [==============================] - 0s 12ms/step - loss: 0.5020 - accuracy: 0.8917 - val_loss: 0.5559 - val_accuracy: 0.9000\n",
            "Epoch 237/300\n",
            "4/4 [==============================] - 0s 11ms/step - loss: 0.5006 - accuracy: 0.8917 - val_loss: 0.5550 - val_accuracy: 0.9000\n",
            "Epoch 238/300\n",
            "4/4 [==============================] - 0s 11ms/step - loss: 0.4994 - accuracy: 0.8917 - val_loss: 0.5539 - val_accuracy: 0.9000\n",
            "Epoch 239/300\n",
            "4/4 [==============================] - 0s 11ms/step - loss: 0.4979 - accuracy: 0.8917 - val_loss: 0.5522 - val_accuracy: 0.9000\n",
            "Epoch 240/300\n",
            "4/4 [==============================] - 0s 10ms/step - loss: 0.4966 - accuracy: 0.8917 - val_loss: 0.5506 - val_accuracy: 0.9000\n",
            "Epoch 241/300\n",
            "4/4 [==============================] - 0s 11ms/step - loss: 0.4952 - accuracy: 0.8917 - val_loss: 0.5492 - val_accuracy: 0.9000\n",
            "Epoch 242/300\n",
            "4/4 [==============================] - 0s 14ms/step - loss: 0.4942 - accuracy: 0.8917 - val_loss: 0.5480 - val_accuracy: 0.9000\n",
            "Epoch 243/300\n",
            "4/4 [==============================] - 0s 11ms/step - loss: 0.4928 - accuracy: 0.8917 - val_loss: 0.5463 - val_accuracy: 0.9000\n",
            "Epoch 244/300\n",
            "4/4 [==============================] - 0s 11ms/step - loss: 0.4914 - accuracy: 0.9000 - val_loss: 0.5448 - val_accuracy: 0.9000\n",
            "Epoch 245/300\n",
            "4/4 [==============================] - 0s 12ms/step - loss: 0.4901 - accuracy: 0.9000 - val_loss: 0.5434 - val_accuracy: 0.9000\n",
            "Epoch 246/300\n",
            "4/4 [==============================] - 0s 12ms/step - loss: 0.4889 - accuracy: 0.9000 - val_loss: 0.5423 - val_accuracy: 0.9000\n",
            "Epoch 247/300\n",
            "4/4 [==============================] - 0s 11ms/step - loss: 0.4876 - accuracy: 0.9000 - val_loss: 0.5408 - val_accuracy: 0.9000\n",
            "Epoch 248/300\n",
            "4/4 [==============================] - 0s 10ms/step - loss: 0.4863 - accuracy: 0.9000 - val_loss: 0.5397 - val_accuracy: 0.9000\n",
            "Epoch 249/300\n",
            "4/4 [==============================] - 0s 11ms/step - loss: 0.4850 - accuracy: 0.9000 - val_loss: 0.5384 - val_accuracy: 0.9000\n",
            "Epoch 250/300\n",
            "4/4 [==============================] - 0s 14ms/step - loss: 0.4838 - accuracy: 0.9000 - val_loss: 0.5371 - val_accuracy: 0.9000\n",
            "Epoch 251/300\n",
            "4/4 [==============================] - 0s 12ms/step - loss: 0.4826 - accuracy: 0.9000 - val_loss: 0.5359 - val_accuracy: 0.9000\n",
            "Epoch 252/300\n",
            "4/4 [==============================] - 0s 13ms/step - loss: 0.4813 - accuracy: 0.9000 - val_loss: 0.5345 - val_accuracy: 0.9000\n",
            "Epoch 253/300\n",
            "4/4 [==============================] - 0s 12ms/step - loss: 0.4800 - accuracy: 0.9083 - val_loss: 0.5332 - val_accuracy: 0.9000\n",
            "Epoch 254/300\n",
            "4/4 [==============================] - 0s 13ms/step - loss: 0.4788 - accuracy: 0.9083 - val_loss: 0.5319 - val_accuracy: 0.9000\n",
            "Epoch 255/300\n",
            "4/4 [==============================] - 0s 11ms/step - loss: 0.4775 - accuracy: 0.9083 - val_loss: 0.5305 - val_accuracy: 0.9333\n",
            "Epoch 256/300\n",
            "4/4 [==============================] - 0s 10ms/step - loss: 0.4767 - accuracy: 0.9083 - val_loss: 0.5295 - val_accuracy: 0.9000\n",
            "Epoch 257/300\n",
            "4/4 [==============================] - 0s 11ms/step - loss: 0.4751 - accuracy: 0.9083 - val_loss: 0.5281 - val_accuracy: 0.9333\n",
            "Epoch 258/300\n",
            "4/4 [==============================] - 0s 11ms/step - loss: 0.4738 - accuracy: 0.9083 - val_loss: 0.5266 - val_accuracy: 0.9333\n",
            "Epoch 259/300\n",
            "4/4 [==============================] - 0s 10ms/step - loss: 0.4727 - accuracy: 0.9000 - val_loss: 0.5254 - val_accuracy: 0.9333\n",
            "Epoch 260/300\n",
            "4/4 [==============================] - 0s 11ms/step - loss: 0.4717 - accuracy: 0.9000 - val_loss: 0.5239 - val_accuracy: 0.9333\n",
            "Epoch 261/300\n",
            "4/4 [==============================] - 0s 12ms/step - loss: 0.4706 - accuracy: 0.9083 - val_loss: 0.5225 - val_accuracy: 0.9333\n",
            "Epoch 262/300\n",
            "4/4 [==============================] - 0s 11ms/step - loss: 0.4693 - accuracy: 0.9167 - val_loss: 0.5214 - val_accuracy: 0.9333\n",
            "Epoch 263/300\n",
            "4/4 [==============================] - 0s 13ms/step - loss: 0.4679 - accuracy: 0.9000 - val_loss: 0.5203 - val_accuracy: 0.9333\n",
            "Epoch 264/300\n",
            "4/4 [==============================] - 0s 12ms/step - loss: 0.4667 - accuracy: 0.9000 - val_loss: 0.5190 - val_accuracy: 0.9333\n",
            "Epoch 265/300\n",
            "4/4 [==============================] - 0s 13ms/step - loss: 0.4655 - accuracy: 0.9083 - val_loss: 0.5178 - val_accuracy: 0.9333\n",
            "Epoch 266/300\n",
            "4/4 [==============================] - 0s 11ms/step - loss: 0.4643 - accuracy: 0.9167 - val_loss: 0.5165 - val_accuracy: 0.9333\n",
            "Epoch 267/300\n",
            "4/4 [==============================] - 0s 14ms/step - loss: 0.4631 - accuracy: 0.9167 - val_loss: 0.5153 - val_accuracy: 0.9333\n",
            "Epoch 268/300\n",
            "4/4 [==============================] - 0s 14ms/step - loss: 0.4619 - accuracy: 0.9167 - val_loss: 0.5141 - val_accuracy: 0.9333\n",
            "Epoch 269/300\n",
            "4/4 [==============================] - 0s 11ms/step - loss: 0.4607 - accuracy: 0.9167 - val_loss: 0.5129 - val_accuracy: 0.9333\n",
            "Epoch 270/300\n",
            "4/4 [==============================] - 0s 11ms/step - loss: 0.4597 - accuracy: 0.9167 - val_loss: 0.5117 - val_accuracy: 0.9333\n",
            "Epoch 271/300\n",
            "4/4 [==============================] - 0s 12ms/step - loss: 0.4584 - accuracy: 0.9167 - val_loss: 0.5105 - val_accuracy: 0.9333\n",
            "Epoch 272/300\n",
            "4/4 [==============================] - 0s 14ms/step - loss: 0.4573 - accuracy: 0.9167 - val_loss: 0.5095 - val_accuracy: 0.9333\n",
            "Epoch 273/300\n",
            "4/4 [==============================] - 0s 13ms/step - loss: 0.4562 - accuracy: 0.9167 - val_loss: 0.5085 - val_accuracy: 0.9333\n",
            "Epoch 274/300\n",
            "4/4 [==============================] - 0s 12ms/step - loss: 0.4550 - accuracy: 0.9167 - val_loss: 0.5072 - val_accuracy: 0.9333\n",
            "Epoch 275/300\n",
            "4/4 [==============================] - 0s 18ms/step - loss: 0.4538 - accuracy: 0.9167 - val_loss: 0.5060 - val_accuracy: 0.9333\n",
            "Epoch 276/300\n",
            "4/4 [==============================] - 0s 12ms/step - loss: 0.4530 - accuracy: 0.9167 - val_loss: 0.5049 - val_accuracy: 0.9333\n",
            "Epoch 277/300\n",
            "4/4 [==============================] - 0s 11ms/step - loss: 0.4515 - accuracy: 0.9167 - val_loss: 0.5036 - val_accuracy: 0.9333\n",
            "Epoch 278/300\n",
            "4/4 [==============================] - 0s 12ms/step - loss: 0.4503 - accuracy: 0.9167 - val_loss: 0.5024 - val_accuracy: 0.9333\n",
            "Epoch 279/300\n",
            "4/4 [==============================] - 0s 11ms/step - loss: 0.4493 - accuracy: 0.9167 - val_loss: 0.5010 - val_accuracy: 0.9333\n",
            "Epoch 280/300\n",
            "4/4 [==============================] - 0s 13ms/step - loss: 0.4482 - accuracy: 0.9167 - val_loss: 0.4998 - val_accuracy: 0.9333\n",
            "Epoch 281/300\n",
            "4/4 [==============================] - 0s 13ms/step - loss: 0.4471 - accuracy: 0.9167 - val_loss: 0.4986 - val_accuracy: 0.9333\n",
            "Epoch 282/300\n",
            "4/4 [==============================] - 0s 12ms/step - loss: 0.4458 - accuracy: 0.9167 - val_loss: 0.4976 - val_accuracy: 0.9333\n",
            "Epoch 283/300\n",
            "4/4 [==============================] - 0s 10ms/step - loss: 0.4449 - accuracy: 0.9167 - val_loss: 0.4964 - val_accuracy: 0.9333\n",
            "Epoch 284/300\n",
            "4/4 [==============================] - 0s 12ms/step - loss: 0.4437 - accuracy: 0.9167 - val_loss: 0.4954 - val_accuracy: 0.9333\n",
            "Epoch 285/300\n",
            "4/4 [==============================] - 0s 13ms/step - loss: 0.4426 - accuracy: 0.9167 - val_loss: 0.4942 - val_accuracy: 0.9333\n",
            "Epoch 286/300\n",
            "4/4 [==============================] - 0s 11ms/step - loss: 0.4414 - accuracy: 0.9167 - val_loss: 0.4931 - val_accuracy: 0.9333\n",
            "Epoch 287/300\n",
            "4/4 [==============================] - 0s 11ms/step - loss: 0.4404 - accuracy: 0.9167 - val_loss: 0.4920 - val_accuracy: 0.9333\n",
            "Epoch 288/300\n",
            "4/4 [==============================] - 0s 15ms/step - loss: 0.4392 - accuracy: 0.9167 - val_loss: 0.4910 - val_accuracy: 0.9333\n",
            "Epoch 289/300\n",
            "4/4 [==============================] - 0s 12ms/step - loss: 0.4381 - accuracy: 0.9167 - val_loss: 0.4899 - val_accuracy: 0.9333\n",
            "Epoch 290/300\n",
            "4/4 [==============================] - 0s 14ms/step - loss: 0.4371 - accuracy: 0.9167 - val_loss: 0.4889 - val_accuracy: 0.9333\n",
            "Epoch 291/300\n",
            "4/4 [==============================] - 0s 13ms/step - loss: 0.4362 - accuracy: 0.9167 - val_loss: 0.4875 - val_accuracy: 0.9333\n",
            "Epoch 292/300\n",
            "4/4 [==============================] - 0s 11ms/step - loss: 0.4349 - accuracy: 0.9167 - val_loss: 0.4864 - val_accuracy: 0.9333\n",
            "Epoch 293/300\n",
            "4/4 [==============================] - 0s 12ms/step - loss: 0.4338 - accuracy: 0.9167 - val_loss: 0.4852 - val_accuracy: 0.9333\n",
            "Epoch 294/300\n",
            "4/4 [==============================] - 0s 14ms/step - loss: 0.4327 - accuracy: 0.9167 - val_loss: 0.4842 - val_accuracy: 0.9333\n",
            "Epoch 295/300\n",
            "4/4 [==============================] - 0s 11ms/step - loss: 0.4315 - accuracy: 0.9167 - val_loss: 0.4830 - val_accuracy: 0.9333\n",
            "Epoch 296/300\n",
            "4/4 [==============================] - 0s 11ms/step - loss: 0.4306 - accuracy: 0.9167 - val_loss: 0.4819 - val_accuracy: 0.9333\n",
            "Epoch 297/300\n",
            "4/4 [==============================] - 0s 13ms/step - loss: 0.4295 - accuracy: 0.9167 - val_loss: 0.4807 - val_accuracy: 0.9333\n",
            "Epoch 298/300\n",
            "4/4 [==============================] - 0s 13ms/step - loss: 0.4283 - accuracy: 0.9083 - val_loss: 0.4795 - val_accuracy: 0.9333\n",
            "Epoch 299/300\n",
            "4/4 [==============================] - 0s 12ms/step - loss: 0.4273 - accuracy: 0.9083 - val_loss: 0.4783 - val_accuracy: 0.9333\n",
            "Epoch 300/300\n",
            "4/4 [==============================] - 0s 10ms/step - loss: 0.4263 - accuracy: 0.9083 - val_loss: 0.4771 - val_accuracy: 0.9333\n"
          ],
          "name": "stdout"
        },
        {
          "output_type": "execute_result",
          "data": {
            "text/plain": [
              "<tensorflow.python.keras.callbacks.History at 0x7f2dd0ec8910>"
            ]
          },
          "metadata": {
            "tags": []
          },
          "execution_count": 31
        }
      ]
    },
    {
      "cell_type": "markdown",
      "metadata": {
        "id": "pAQlvsoZPmQJ"
      },
      "source": [
        "## Model Evaluation"
      ]
    },
    {
      "cell_type": "code",
      "metadata": {
        "id": "VT1diaCKPeLA"
      },
      "source": [
        "metrics = pd.DataFrame(model.history.history)"
      ],
      "execution_count": 32,
      "outputs": []
    },
    {
      "cell_type": "code",
      "metadata": {
        "colab": {
          "base_uri": "https://localhost:8080/",
          "height": 204
        },
        "id": "56dZ9X-FPpzI",
        "outputId": "1d719a00-b60e-4eb5-a68f-915db6766041"
      },
      "source": [
        "metrics.head()"
      ],
      "execution_count": 33,
      "outputs": [
        {
          "output_type": "execute_result",
          "data": {
            "text/html": [
              "<div>\n",
              "<style scoped>\n",
              "    .dataframe tbody tr th:only-of-type {\n",
              "        vertical-align: middle;\n",
              "    }\n",
              "\n",
              "    .dataframe tbody tr th {\n",
              "        vertical-align: top;\n",
              "    }\n",
              "\n",
              "    .dataframe thead th {\n",
              "        text-align: right;\n",
              "    }\n",
              "</style>\n",
              "<table border=\"1\" class=\"dataframe\">\n",
              "  <thead>\n",
              "    <tr style=\"text-align: right;\">\n",
              "      <th></th>\n",
              "      <th>loss</th>\n",
              "      <th>accuracy</th>\n",
              "      <th>val_loss</th>\n",
              "      <th>val_accuracy</th>\n",
              "    </tr>\n",
              "  </thead>\n",
              "  <tbody>\n",
              "    <tr>\n",
              "      <th>0</th>\n",
              "      <td>1.122380</td>\n",
              "      <td>0.058333</td>\n",
              "      <td>1.143848</td>\n",
              "      <td>0.033333</td>\n",
              "    </tr>\n",
              "    <tr>\n",
              "      <th>1</th>\n",
              "      <td>1.117274</td>\n",
              "      <td>0.100000</td>\n",
              "      <td>1.138028</td>\n",
              "      <td>0.100000</td>\n",
              "    </tr>\n",
              "    <tr>\n",
              "      <th>2</th>\n",
              "      <td>1.112324</td>\n",
              "      <td>0.125000</td>\n",
              "      <td>1.133032</td>\n",
              "      <td>0.100000</td>\n",
              "    </tr>\n",
              "    <tr>\n",
              "      <th>3</th>\n",
              "      <td>1.107258</td>\n",
              "      <td>0.191667</td>\n",
              "      <td>1.128244</td>\n",
              "      <td>0.133333</td>\n",
              "    </tr>\n",
              "    <tr>\n",
              "      <th>4</th>\n",
              "      <td>1.102564</td>\n",
              "      <td>0.283333</td>\n",
              "      <td>1.123644</td>\n",
              "      <td>0.166667</td>\n",
              "    </tr>\n",
              "  </tbody>\n",
              "</table>\n",
              "</div>"
            ],
            "text/plain": [
              "       loss  accuracy  val_loss  val_accuracy\n",
              "0  1.122380  0.058333  1.143848      0.033333\n",
              "1  1.117274  0.100000  1.138028      0.100000\n",
              "2  1.112324  0.125000  1.133032      0.100000\n",
              "3  1.107258  0.191667  1.128244      0.133333\n",
              "4  1.102564  0.283333  1.123644      0.166667"
            ]
          },
          "metadata": {
            "tags": []
          },
          "execution_count": 33
        }
      ]
    },
    {
      "cell_type": "code",
      "metadata": {
        "colab": {
          "base_uri": "https://localhost:8080/",
          "height": 265
        },
        "id": "bKvFo-vQPrE5",
        "outputId": "2dfe1e74-a4cb-4fca-b094-b91b203738f3"
      },
      "source": [
        "metrics[['loss','val_loss']].plot()\n",
        "plt.show()"
      ],
      "execution_count": 35,
      "outputs": [
        {
          "output_type": "display_data",
          "data": {
            "image/png": "[encoded data removed]",
            "text/plain": [
              "<Figure size 432x288 with 1 Axes>"
            ]
          },
          "metadata": {
            "tags": [],
            "needs_background": "light"
          }
        }
      ]
    },
    {
      "cell_type": "code",
      "metadata": {
        "colab": {
          "base_uri": "https://localhost:8080/",
          "height": 265
        },
        "id": "YCQqsuRXPtPh",
        "outputId": "0fc09e39-fcf7-43ab-fe04-e6e44987c7e6"
      },
      "source": [
        "metrics[['accuracy','val_accuracy']].plot()\n",
        "plt.show()"
      ],
      "execution_count": 36,
      "outputs": [
        {
          "output_type": "display_data",
          "data": {
            "image/png": "[encoded data removed]",
            "text/plain": [
              "<Figure size 432x288 with 1 Axes>"
            ]
          },
          "metadata": {
            "tags": [],
            "needs_background": "light"
          }
        }
      ]
    },
    {
      "cell_type": "code",
      "metadata": {
        "colab": {
          "base_uri": "https://localhost:8080/"
        },
        "id": "IwtAtB0TPxmF",
        "outputId": "d97839fe-ea95-498a-b9f2-243b7cb3b8f0"
      },
      "source": [
        "model.evaluate(scaled_X_test,y_test,verbose=0)"
      ],
      "execution_count": 37,
      "outputs": [
        {
          "output_type": "execute_result",
          "data": {
            "text/plain": [
              "[0.4770860970020294, 0.9333333373069763]"
            ]
          },
          "metadata": {
            "tags": []
          },
          "execution_count": 37
        }
      ]
    },
    {
      "cell_type": "markdown",
      "metadata": {
        "id": "pOpEwQhmP3r0"
      },
      "source": [
        "## Ready Model for Deployment"
      ]
    },
    {
      "cell_type": "code",
      "metadata": {
        "id": "JO15ilmFP0zj"
      },
      "source": [
        "epochs = len(metrics)"
      ],
      "execution_count": 38,
      "outputs": []
    },
    {
      "cell_type": "code",
      "metadata": {
        "id": "HTKkT4SdP6sv"
      },
      "source": [
        "# all the data\n",
        "scaled_X = scaler.fit_transform(X)"
      ],
      "execution_count": 39,
      "outputs": []
    },
    {
      "cell_type": "code",
      "metadata": {
        "id": "hHfWiab6RCRY"
      },
      "source": [
        "model = Sequential()\n",
        "\n",
        "model.add(Dense(units=4,activation='relu'))\n",
        "\n",
        "# Last layer for multi-class classification of 3 species\n",
        "model.add(Dense(units=3,activation='softmax'))\n",
        "\n",
        "model.compile(optimizer='adam',\n",
        "              loss='categorical_crossentropy',metrics=['accuracy'])"
      ],
      "execution_count": 40,
      "outputs": []
    },
    {
      "cell_type": "code",
      "metadata": {
        "colab": {
          "base_uri": "https://localhost:8080/"
        },
        "id": "zXIjN3PgRLNZ",
        "outputId": "d110f4fd-dc49-4eee-8564-c241a15db52a"
      },
      "source": [
        "model.fit(scaled_X,y,epochs=epochs)"
      ],
      "execution_count": 41,
      "outputs": [
        {
          "output_type": "stream",
          "text": [
            "Epoch 1/300\n",
            "5/5 [==============================] - 0s 4ms/step - loss: 1.0739 - accuracy: 0.3333\n",
            "Epoch 2/300\n",
            "5/5 [==============================] - 0s 3ms/step - loss: 1.0695 - accuracy: 0.3333\n",
            "Epoch 3/300\n",
            "5/5 [==============================] - 0s 3ms/step - loss: 1.0651 - accuracy: 0.3333\n",
            "Epoch 4/300\n",
            "5/5 [==============================] - 0s 4ms/step - loss: 1.0607 - accuracy: 0.3333\n",
            "Epoch 5/300\n",
            "5/5 [==============================] - 0s 3ms/step - loss: 1.0560 - accuracy: 0.3333\n",
            "Epoch 6/300\n",
            "5/5 [==============================] - 0s 3ms/step - loss: 1.0515 - accuracy: 0.3333\n",
            "Epoch 7/300\n",
            "5/5 [==============================] - 0s 3ms/step - loss: 1.0468 - accuracy: 0.3333\n",
            "Epoch 8/300\n",
            "5/5 [==============================] - 0s 3ms/step - loss: 1.0421 - accuracy: 0.3333\n",
            "Epoch 9/300\n",
            "5/5 [==============================] - 0s 3ms/step - loss: 1.0374 - accuracy: 0.3333\n",
            "Epoch 10/300\n",
            "5/5 [==============================] - 0s 3ms/step - loss: 1.0327 - accuracy: 0.3333\n",
            "Epoch 11/300\n",
            "5/5 [==============================] - 0s 4ms/step - loss: 1.0279 - accuracy: 0.3333\n",
            "Epoch 12/300\n",
            "5/5 [==============================] - 0s 4ms/step - loss: 1.0231 - accuracy: 0.3333\n",
            "Epoch 13/300\n",
            "5/5 [==============================] - 0s 3ms/step - loss: 1.0183 - accuracy: 0.3333\n",
            "Epoch 14/300\n",
            "5/5 [==============================] - 0s 3ms/step - loss: 1.0134 - accuracy: 0.3333\n",
            "Epoch 15/300\n",
            "5/5 [==============================] - 0s 3ms/step - loss: 1.0085 - accuracy: 0.3333\n",
            "Epoch 16/300\n",
            "5/5 [==============================] - 0s 3ms/step - loss: 1.0037 - accuracy: 0.3333\n",
            "Epoch 17/300\n",
            "5/5 [==============================] - 0s 4ms/step - loss: 0.9988 - accuracy: 0.3333\n",
            "Epoch 18/300\n",
            "5/5 [==============================] - 0s 4ms/step - loss: 0.9939 - accuracy: 0.3333\n",
            "Epoch 19/300\n",
            "5/5 [==============================] - 0s 3ms/step - loss: 0.9890 - accuracy: 0.3333\n",
            "Epoch 20/300\n",
            "5/5 [==============================] - 0s 3ms/step - loss: 0.9841 - accuracy: 0.3333\n",
            "Epoch 21/300\n",
            "5/5 [==============================] - 0s 4ms/step - loss: 0.9792 - accuracy: 0.3333\n",
            "Epoch 22/300\n",
            "5/5 [==============================] - 0s 4ms/step - loss: 0.9743 - accuracy: 0.3333\n",
            "Epoch 23/300\n",
            "5/5 [==============================] - 0s 4ms/step - loss: 0.9694 - accuracy: 0.3333\n",
            "Epoch 24/300\n",
            "5/5 [==============================] - 0s 3ms/step - loss: 0.9645 - accuracy: 0.3333\n",
            "Epoch 25/300\n",
            "5/5 [==============================] - 0s 4ms/step - loss: 0.9598 - accuracy: 0.3333\n",
            "Epoch 26/300\n",
            "5/5 [==============================] - 0s 3ms/step - loss: 0.9551 - accuracy: 0.3333\n",
            "Epoch 27/300\n",
            "5/5 [==============================] - 0s 3ms/step - loss: 0.9506 - accuracy: 0.3533\n",
            "Epoch 28/300\n",
            "5/5 [==============================] - 0s 4ms/step - loss: 0.9460 - accuracy: 0.3667\n",
            "Epoch 29/300\n",
            "5/5 [==============================] - 0s 3ms/step - loss: 0.9414 - accuracy: 0.3867\n",
            "Epoch 30/300\n",
            "5/5 [==============================] - 0s 3ms/step - loss: 0.9370 - accuracy: 0.3867\n",
            "Epoch 31/300\n",
            "5/5 [==============================] - 0s 3ms/step - loss: 0.9325 - accuracy: 0.3933\n",
            "Epoch 32/300\n",
            "5/5 [==============================] - 0s 4ms/step - loss: 0.9281 - accuracy: 0.4000\n",
            "Epoch 33/300\n",
            "5/5 [==============================] - 0s 3ms/step - loss: 0.9238 - accuracy: 0.4133\n",
            "Epoch 34/300\n",
            "5/5 [==============================] - 0s 4ms/step - loss: 0.9195 - accuracy: 0.4667\n",
            "Epoch 35/300\n",
            "5/5 [==============================] - 0s 3ms/step - loss: 0.9151 - accuracy: 0.5067\n",
            "Epoch 36/300\n",
            "5/5 [==============================] - 0s 3ms/step - loss: 0.9108 - accuracy: 0.5200\n",
            "Epoch 37/300\n",
            "5/5 [==============================] - 0s 3ms/step - loss: 0.9066 - accuracy: 0.5533\n",
            "Epoch 38/300\n",
            "5/5 [==============================] - 0s 3ms/step - loss: 0.9024 - accuracy: 0.5667\n",
            "Epoch 39/300\n",
            "5/5 [==============================] - 0s 3ms/step - loss: 0.8981 - accuracy: 0.5667\n",
            "Epoch 40/300\n",
            "5/5 [==============================] - 0s 3ms/step - loss: 0.8940 - accuracy: 0.6067\n",
            "Epoch 41/300\n",
            "5/5 [==============================] - 0s 6ms/step - loss: 0.8898 - accuracy: 0.6200\n",
            "Epoch 42/300\n",
            "5/5 [==============================] - 0s 4ms/step - loss: 0.8855 - accuracy: 0.6333\n",
            "Epoch 43/300\n",
            "5/5 [==============================] - 0s 3ms/step - loss: 0.8813 - accuracy: 0.6400\n",
            "Epoch 44/300\n",
            "5/5 [==============================] - 0s 4ms/step - loss: 0.8773 - accuracy: 0.6400\n",
            "Epoch 45/300\n",
            "5/5 [==============================] - 0s 4ms/step - loss: 0.8731 - accuracy: 0.6400\n",
            "Epoch 46/300\n",
            "5/5 [==============================] - 0s 3ms/step - loss: 0.8690 - accuracy: 0.6467\n",
            "Epoch 47/300\n",
            "5/5 [==============================] - 0s 3ms/step - loss: 0.8650 - accuracy: 0.6467\n",
            "Epoch 48/300\n",
            "5/5 [==============================] - 0s 4ms/step - loss: 0.8609 - accuracy: 0.6467\n",
            "Epoch 49/300\n",
            "5/5 [==============================] - 0s 3ms/step - loss: 0.8570 - accuracy: 0.6533\n",
            "Epoch 50/300\n",
            "5/5 [==============================] - 0s 4ms/step - loss: 0.8530 - accuracy: 0.6533\n",
            "Epoch 51/300\n",
            "5/5 [==============================] - 0s 3ms/step - loss: 0.8490 - accuracy: 0.6667\n",
            "Epoch 52/300\n",
            "5/5 [==============================] - 0s 3ms/step - loss: 0.8450 - accuracy: 0.6667\n",
            "Epoch 53/300\n",
            "5/5 [==============================] - 0s 4ms/step - loss: 0.8412 - accuracy: 0.6667\n",
            "Epoch 54/300\n",
            "5/5 [==============================] - 0s 6ms/step - loss: 0.8373 - accuracy: 0.6667\n",
            "Epoch 55/300\n",
            "5/5 [==============================] - 0s 4ms/step - loss: 0.8333 - accuracy: 0.6667\n",
            "Epoch 56/300\n",
            "5/5 [==============================] - 0s 4ms/step - loss: 0.8294 - accuracy: 0.6733\n",
            "Epoch 57/300\n",
            "5/5 [==============================] - 0s 3ms/step - loss: 0.8255 - accuracy: 0.6800\n",
            "Epoch 58/300\n",
            "5/5 [==============================] - 0s 4ms/step - loss: 0.8216 - accuracy: 0.6733\n",
            "Epoch 59/300\n",
            "5/5 [==============================] - 0s 4ms/step - loss: 0.8177 - accuracy: 0.6800\n",
            "Epoch 60/300\n",
            "5/5 [==============================] - 0s 3ms/step - loss: 0.8139 - accuracy: 0.6800\n",
            "Epoch 61/300\n",
            "5/5 [==============================] - 0s 3ms/step - loss: 0.8099 - accuracy: 0.6800\n",
            "Epoch 62/300\n",
            "5/5 [==============================] - 0s 3ms/step - loss: 0.8061 - accuracy: 0.6800\n",
            "Epoch 63/300\n",
            "5/5 [==============================] - 0s 3ms/step - loss: 0.8022 - accuracy: 0.6800\n",
            "Epoch 64/300\n",
            "5/5 [==============================] - 0s 3ms/step - loss: 0.7983 - accuracy: 0.6800\n",
            "Epoch 65/300\n",
            "5/5 [==============================] - 0s 4ms/step - loss: 0.7943 - accuracy: 0.6800\n",
            "Epoch 66/300\n",
            "5/5 [==============================] - 0s 3ms/step - loss: 0.7906 - accuracy: 0.6800\n",
            "Epoch 67/300\n",
            "5/5 [==============================] - 0s 3ms/step - loss: 0.7866 - accuracy: 0.6800\n",
            "Epoch 68/300\n",
            "5/5 [==============================] - 0s 3ms/step - loss: 0.7828 - accuracy: 0.6800\n",
            "Epoch 69/300\n",
            "5/5 [==============================] - 0s 3ms/step - loss: 0.7789 - accuracy: 0.6867\n",
            "Epoch 70/300\n",
            "5/5 [==============================] - 0s 3ms/step - loss: 0.7749 - accuracy: 0.6867\n",
            "Epoch 71/300\n",
            "5/5 [==============================] - 0s 3ms/step - loss: 0.7712 - accuracy: 0.6933\n",
            "Epoch 72/300\n",
            "5/5 [==============================] - 0s 4ms/step - loss: 0.7674 - accuracy: 0.6933\n",
            "Epoch 73/300\n",
            "5/5 [==============================] - 0s 3ms/step - loss: 0.7634 - accuracy: 0.6933\n",
            "Epoch 74/300\n",
            "5/5 [==============================] - 0s 3ms/step - loss: 0.7596 - accuracy: 0.6933\n",
            "Epoch 75/300\n",
            "5/5 [==============================] - 0s 4ms/step - loss: 0.7556 - accuracy: 0.6933\n",
            "Epoch 76/300\n",
            "5/5 [==============================] - 0s 5ms/step - loss: 0.7518 - accuracy: 0.6933\n",
            "Epoch 77/300\n",
            "5/5 [==============================] - 0s 5ms/step - loss: 0.7479 - accuracy: 0.6933\n",
            "Epoch 78/300\n",
            "5/5 [==============================] - 0s 5ms/step - loss: 0.7441 - accuracy: 0.6933\n",
            "Epoch 79/300\n",
            "5/5 [==============================] - 0s 4ms/step - loss: 0.7402 - accuracy: 0.6933\n",
            "Epoch 80/300\n",
            "5/5 [==============================] - 0s 4ms/step - loss: 0.7363 - accuracy: 0.6933\n",
            "Epoch 81/300\n",
            "5/5 [==============================] - 0s 3ms/step - loss: 0.7326 - accuracy: 0.7000\n",
            "Epoch 82/300\n",
            "5/5 [==============================] - 0s 4ms/step - loss: 0.7286 - accuracy: 0.7067\n",
            "Epoch 83/300\n",
            "5/5 [==============================] - 0s 4ms/step - loss: 0.7248 - accuracy: 0.7067\n",
            "Epoch 84/300\n",
            "5/5 [==============================] - 0s 4ms/step - loss: 0.7210 - accuracy: 0.7067\n",
            "Epoch 85/300\n",
            "5/5 [==============================] - 0s 3ms/step - loss: 0.7171 - accuracy: 0.7067\n",
            "Epoch 86/300\n",
            "5/5 [==============================] - 0s 6ms/step - loss: 0.7133 - accuracy: 0.7133\n",
            "Epoch 87/300\n",
            "5/5 [==============================] - 0s 3ms/step - loss: 0.7095 - accuracy: 0.7133\n",
            "Epoch 88/300\n",
            "5/5 [==============================] - 0s 4ms/step - loss: 0.7056 - accuracy: 0.7133\n",
            "Epoch 89/300\n",
            "5/5 [==============================] - 0s 4ms/step - loss: 0.7019 - accuracy: 0.7133\n",
            "Epoch 90/300\n",
            "5/5 [==============================] - 0s 3ms/step - loss: 0.6980 - accuracy: 0.7133\n",
            "Epoch 91/300\n",
            "5/5 [==============================] - 0s 3ms/step - loss: 0.6941 - accuracy: 0.7133\n",
            "Epoch 92/300\n",
            "5/5 [==============================] - 0s 3ms/step - loss: 0.6904 - accuracy: 0.7133\n",
            "Epoch 93/300\n",
            "5/5 [==============================] - 0s 3ms/step - loss: 0.6865 - accuracy: 0.7133\n",
            "Epoch 94/300\n",
            "5/5 [==============================] - 0s 4ms/step - loss: 0.6826 - accuracy: 0.7133\n",
            "Epoch 95/300\n",
            "5/5 [==============================] - 0s 3ms/step - loss: 0.6787 - accuracy: 0.7133\n",
            "Epoch 96/300\n",
            "5/5 [==============================] - 0s 4ms/step - loss: 0.6751 - accuracy: 0.7200\n",
            "Epoch 97/300\n",
            "5/5 [==============================] - 0s 3ms/step - loss: 0.6712 - accuracy: 0.7267\n",
            "Epoch 98/300\n",
            "5/5 [==============================] - 0s 4ms/step - loss: 0.6673 - accuracy: 0.7267\n",
            "Epoch 99/300\n",
            "5/5 [==============================] - 0s 5ms/step - loss: 0.6636 - accuracy: 0.7267\n",
            "Epoch 100/300\n",
            "5/5 [==============================] - 0s 4ms/step - loss: 0.6601 - accuracy: 0.7333\n",
            "Epoch 101/300\n",
            "5/5 [==============================] - 0s 4ms/step - loss: 0.6561 - accuracy: 0.7333\n",
            "Epoch 102/300\n",
            "5/5 [==============================] - 0s 5ms/step - loss: 0.6523 - accuracy: 0.7333\n",
            "Epoch 103/300\n",
            "5/5 [==============================] - 0s 4ms/step - loss: 0.6487 - accuracy: 0.7333\n",
            "Epoch 104/300\n",
            "5/5 [==============================] - 0s 4ms/step - loss: 0.6449 - accuracy: 0.7333\n",
            "Epoch 105/300\n",
            "5/5 [==============================] - 0s 4ms/step - loss: 0.6413 - accuracy: 0.7333\n",
            "Epoch 106/300\n",
            "5/5 [==============================] - 0s 4ms/step - loss: 0.6375 - accuracy: 0.7333\n",
            "Epoch 107/300\n",
            "5/5 [==============================] - 0s 4ms/step - loss: 0.6340 - accuracy: 0.7333\n",
            "Epoch 108/300\n",
            "5/5 [==============================] - 0s 3ms/step - loss: 0.6304 - accuracy: 0.7333\n",
            "Epoch 109/300\n",
            "5/5 [==============================] - 0s 4ms/step - loss: 0.6268 - accuracy: 0.7333\n",
            "Epoch 110/300\n",
            "5/5 [==============================] - 0s 3ms/step - loss: 0.6232 - accuracy: 0.7333\n",
            "Epoch 111/300\n",
            "5/5 [==============================] - 0s 4ms/step - loss: 0.6196 - accuracy: 0.7333\n",
            "Epoch 112/300\n",
            "5/5 [==============================] - 0s 5ms/step - loss: 0.6159 - accuracy: 0.7333\n",
            "Epoch 113/300\n",
            "5/5 [==============================] - 0s 4ms/step - loss: 0.6124 - accuracy: 0.7467\n",
            "Epoch 114/300\n",
            "5/5 [==============================] - 0s 5ms/step - loss: 0.6090 - accuracy: 0.7467\n",
            "Epoch 115/300\n",
            "5/5 [==============================] - 0s 3ms/step - loss: 0.6054 - accuracy: 0.7533\n",
            "Epoch 116/300\n",
            "5/5 [==============================] - 0s 4ms/step - loss: 0.6021 - accuracy: 0.7600\n",
            "Epoch 117/300\n",
            "5/5 [==============================] - 0s 4ms/step - loss: 0.5985 - accuracy: 0.7600\n",
            "Epoch 118/300\n",
            "5/5 [==============================] - 0s 4ms/step - loss: 0.5951 - accuracy: 0.7600\n",
            "Epoch 119/300\n",
            "5/5 [==============================] - 0s 4ms/step - loss: 0.5917 - accuracy: 0.7600\n",
            "Epoch 120/300\n",
            "5/5 [==============================] - 0s 4ms/step - loss: 0.5884 - accuracy: 0.7600\n",
            "Epoch 121/300\n",
            "5/5 [==============================] - 0s 4ms/step - loss: 0.5850 - accuracy: 0.7667\n",
            "Epoch 122/300\n",
            "5/5 [==============================] - 0s 5ms/step - loss: 0.5817 - accuracy: 0.7733\n",
            "Epoch 123/300\n",
            "5/5 [==============================] - 0s 4ms/step - loss: 0.5784 - accuracy: 0.7733\n",
            "Epoch 124/300\n",
            "5/5 [==============================] - 0s 6ms/step - loss: 0.5753 - accuracy: 0.7800\n",
            "Epoch 125/300\n",
            "5/5 [==============================] - 0s 3ms/step - loss: 0.5720 - accuracy: 0.7867\n",
            "Epoch 126/300\n",
            "5/5 [==============================] - 0s 5ms/step - loss: 0.5689 - accuracy: 0.7933\n",
            "Epoch 127/300\n",
            "5/5 [==============================] - 0s 4ms/step - loss: 0.5658 - accuracy: 0.8000\n",
            "Epoch 128/300\n",
            "5/5 [==============================] - 0s 4ms/step - loss: 0.5627 - accuracy: 0.8067\n",
            "Epoch 129/300\n",
            "5/5 [==============================] - 0s 3ms/step - loss: 0.5597 - accuracy: 0.8000\n",
            "Epoch 130/300\n",
            "5/5 [==============================] - 0s 3ms/step - loss: 0.5565 - accuracy: 0.8000\n",
            "Epoch 131/300\n",
            "5/5 [==============================] - 0s 5ms/step - loss: 0.5537 - accuracy: 0.8000\n",
            "Epoch 132/300\n",
            "5/5 [==============================] - 0s 4ms/step - loss: 0.5508 - accuracy: 0.8000\n",
            "Epoch 133/300\n",
            "5/5 [==============================] - 0s 4ms/step - loss: 0.5476 - accuracy: 0.8000\n",
            "Epoch 134/300\n",
            "5/5 [==============================] - 0s 4ms/step - loss: 0.5447 - accuracy: 0.8133\n",
            "Epoch 135/300\n",
            "5/5 [==============================] - 0s 3ms/step - loss: 0.5418 - accuracy: 0.8133\n",
            "Epoch 136/300\n",
            "5/5 [==============================] - 0s 3ms/step - loss: 0.5389 - accuracy: 0.8133\n",
            "Epoch 137/300\n",
            "5/5 [==============================] - 0s 4ms/step - loss: 0.5361 - accuracy: 0.8133\n",
            "Epoch 138/300\n",
            "5/5 [==============================] - 0s 3ms/step - loss: 0.5333 - accuracy: 0.8267\n",
            "Epoch 139/300\n",
            "5/5 [==============================] - 0s 3ms/step - loss: 0.5306 - accuracy: 0.8267\n",
            "Epoch 140/300\n",
            "5/5 [==============================] - 0s 3ms/step - loss: 0.5278 - accuracy: 0.8267\n",
            "Epoch 141/300\n",
            "5/5 [==============================] - 0s 3ms/step - loss: 0.5251 - accuracy: 0.8267\n",
            "Epoch 142/300\n",
            "5/5 [==============================] - 0s 3ms/step - loss: 0.5224 - accuracy: 0.8267\n",
            "Epoch 143/300\n",
            "5/5 [==============================] - 0s 3ms/step - loss: 0.5200 - accuracy: 0.8267\n",
            "Epoch 144/300\n",
            "5/5 [==============================] - 0s 3ms/step - loss: 0.5174 - accuracy: 0.8333\n",
            "Epoch 145/300\n",
            "5/5 [==============================] - 0s 3ms/step - loss: 0.5145 - accuracy: 0.8267\n",
            "Epoch 146/300\n",
            "5/5 [==============================] - 0s 4ms/step - loss: 0.5121 - accuracy: 0.8333\n",
            "Epoch 147/300\n",
            "5/5 [==============================] - 0s 4ms/step - loss: 0.5094 - accuracy: 0.8467\n",
            "Epoch 148/300\n",
            "5/5 [==============================] - 0s 4ms/step - loss: 0.5070 - accuracy: 0.8533\n",
            "Epoch 149/300\n",
            "5/5 [==============================] - 0s 3ms/step - loss: 0.5045 - accuracy: 0.8533\n",
            "Epoch 150/300\n",
            "5/5 [==============================] - 0s 5ms/step - loss: 0.5021 - accuracy: 0.8533\n",
            "Epoch 151/300\n",
            "5/5 [==============================] - 0s 4ms/step - loss: 0.4997 - accuracy: 0.8533\n",
            "Epoch 152/300\n",
            "5/5 [==============================] - 0s 3ms/step - loss: 0.4974 - accuracy: 0.8533\n",
            "Epoch 153/300\n",
            "5/5 [==============================] - 0s 5ms/step - loss: 0.4951 - accuracy: 0.8467\n",
            "Epoch 154/300\n",
            "5/5 [==============================] - 0s 4ms/step - loss: 0.4928 - accuracy: 0.8533\n",
            "Epoch 155/300\n",
            "5/5 [==============================] - 0s 4ms/step - loss: 0.4904 - accuracy: 0.8533\n",
            "Epoch 156/300\n",
            "5/5 [==============================] - 0s 3ms/step - loss: 0.4881 - accuracy: 0.8533\n",
            "Epoch 157/300\n",
            "5/5 [==============================] - 0s 4ms/step - loss: 0.4859 - accuracy: 0.8533\n",
            "Epoch 158/300\n",
            "5/5 [==============================] - 0s 4ms/step - loss: 0.4838 - accuracy: 0.8533\n",
            "Epoch 159/300\n",
            "5/5 [==============================] - 0s 4ms/step - loss: 0.4814 - accuracy: 0.8533\n",
            "Epoch 160/300\n",
            "5/5 [==============================] - 0s 4ms/step - loss: 0.4792 - accuracy: 0.8533\n",
            "Epoch 161/300\n",
            "5/5 [==============================] - 0s 4ms/step - loss: 0.4772 - accuracy: 0.8600\n",
            "Epoch 162/300\n",
            "5/5 [==============================] - 0s 5ms/step - loss: 0.4750 - accuracy: 0.8600\n",
            "Epoch 163/300\n",
            "5/5 [==============================] - 0s 4ms/step - loss: 0.4729 - accuracy: 0.8733\n",
            "Epoch 164/300\n",
            "5/5 [==============================] - 0s 4ms/step - loss: 0.4707 - accuracy: 0.8800\n",
            "Epoch 165/300\n",
            "5/5 [==============================] - 0s 7ms/step - loss: 0.4687 - accuracy: 0.8800\n",
            "Epoch 166/300\n",
            "5/5 [==============================] - 0s 4ms/step - loss: 0.4666 - accuracy: 0.8800\n",
            "Epoch 167/300\n",
            "5/5 [==============================] - 0s 4ms/step - loss: 0.4646 - accuracy: 0.8800\n",
            "Epoch 168/300\n",
            "5/5 [==============================] - 0s 3ms/step - loss: 0.4626 - accuracy: 0.8800\n",
            "Epoch 169/300\n",
            "5/5 [==============================] - 0s 3ms/step - loss: 0.4607 - accuracy: 0.8800\n",
            "Epoch 170/300\n",
            "5/5 [==============================] - 0s 3ms/step - loss: 0.4586 - accuracy: 0.8867\n",
            "Epoch 171/300\n",
            "5/5 [==============================] - 0s 5ms/step - loss: 0.4570 - accuracy: 0.8800\n",
            "Epoch 172/300\n",
            "5/5 [==============================] - 0s 4ms/step - loss: 0.4548 - accuracy: 0.8800\n",
            "Epoch 173/300\n",
            "5/5 [==============================] - 0s 3ms/step - loss: 0.4529 - accuracy: 0.8800\n",
            "Epoch 174/300\n",
            "5/5 [==============================] - 0s 4ms/step - loss: 0.4511 - accuracy: 0.8800\n",
            "Epoch 175/300\n",
            "5/5 [==============================] - 0s 2ms/step - loss: 0.4492 - accuracy: 0.8800\n",
            "Epoch 176/300\n",
            "5/5 [==============================] - 0s 3ms/step - loss: 0.4472 - accuracy: 0.8800\n",
            "Epoch 177/300\n",
            "5/5 [==============================] - 0s 2ms/step - loss: 0.4455 - accuracy: 0.8867\n",
            "Epoch 178/300\n",
            "5/5 [==============================] - 0s 3ms/step - loss: 0.4437 - accuracy: 0.8867\n",
            "Epoch 179/300\n",
            "5/5 [==============================] - 0s 5ms/step - loss: 0.4417 - accuracy: 0.8867\n",
            "Epoch 180/300\n",
            "5/5 [==============================] - 0s 4ms/step - loss: 0.4401 - accuracy: 0.8933\n",
            "Epoch 181/300\n",
            "5/5 [==============================] - 0s 3ms/step - loss: 0.4382 - accuracy: 0.9000\n",
            "Epoch 182/300\n",
            "5/5 [==============================] - 0s 6ms/step - loss: 0.4366 - accuracy: 0.9000\n",
            "Epoch 183/300\n",
            "5/5 [==============================] - 0s 4ms/step - loss: 0.4347 - accuracy: 0.9000\n",
            "Epoch 184/300\n",
            "5/5 [==============================] - 0s 3ms/step - loss: 0.4330 - accuracy: 0.9000\n",
            "Epoch 185/300\n",
            "5/5 [==============================] - 0s 4ms/step - loss: 0.4312 - accuracy: 0.9000\n",
            "Epoch 186/300\n",
            "5/5 [==============================] - 0s 4ms/step - loss: 0.4296 - accuracy: 0.9000\n",
            "Epoch 187/300\n",
            "5/5 [==============================] - 0s 3ms/step - loss: 0.4280 - accuracy: 0.9000\n",
            "Epoch 188/300\n",
            "5/5 [==============================] - 0s 3ms/step - loss: 0.4263 - accuracy: 0.9000\n",
            "Epoch 189/300\n",
            "5/5 [==============================] - 0s 3ms/step - loss: 0.4248 - accuracy: 0.9067\n",
            "Epoch 190/300\n",
            "5/5 [==============================] - 0s 5ms/step - loss: 0.4229 - accuracy: 0.9200\n",
            "Epoch 191/300\n",
            "5/5 [==============================] - 0s 3ms/step - loss: 0.4213 - accuracy: 0.9200\n",
            "Epoch 192/300\n",
            "5/5 [==============================] - 0s 3ms/step - loss: 0.4198 - accuracy: 0.9200\n",
            "Epoch 193/300\n",
            "5/5 [==============================] - 0s 6ms/step - loss: 0.4181 - accuracy: 0.9200\n",
            "Epoch 194/300\n",
            "5/5 [==============================] - 0s 3ms/step - loss: 0.4165 - accuracy: 0.9200\n",
            "Epoch 195/300\n",
            "5/5 [==============================] - 0s 4ms/step - loss: 0.4149 - accuracy: 0.9200\n",
            "Epoch 196/300\n",
            "5/5 [==============================] - 0s 3ms/step - loss: 0.4133 - accuracy: 0.9200\n",
            "Epoch 197/300\n",
            "5/5 [==============================] - 0s 3ms/step - loss: 0.4118 - accuracy: 0.9200\n",
            "Epoch 198/300\n",
            "5/5 [==============================] - 0s 4ms/step - loss: 0.4103 - accuracy: 0.9200\n",
            "Epoch 199/300\n",
            "5/5 [==============================] - 0s 4ms/step - loss: 0.4087 - accuracy: 0.9200\n",
            "Epoch 200/300\n",
            "5/5 [==============================] - 0s 4ms/step - loss: 0.4073 - accuracy: 0.9267\n",
            "Epoch 201/300\n",
            "5/5 [==============================] - 0s 4ms/step - loss: 0.4057 - accuracy: 0.9267\n",
            "Epoch 202/300\n",
            "5/5 [==============================] - 0s 3ms/step - loss: 0.4042 - accuracy: 0.9267\n",
            "Epoch 203/300\n",
            "5/5 [==============================] - 0s 5ms/step - loss: 0.4026 - accuracy: 0.9267\n",
            "Epoch 204/300\n",
            "5/5 [==============================] - 0s 5ms/step - loss: 0.4013 - accuracy: 0.9200\n",
            "Epoch 205/300\n",
            "5/5 [==============================] - 0s 4ms/step - loss: 0.3998 - accuracy: 0.9200\n",
            "Epoch 206/300\n",
            "5/5 [==============================] - 0s 4ms/step - loss: 0.3983 - accuracy: 0.9200\n",
            "Epoch 207/300\n",
            "5/5 [==============================] - 0s 6ms/step - loss: 0.3970 - accuracy: 0.9267\n",
            "Epoch 208/300\n",
            "5/5 [==============================] - 0s 4ms/step - loss: 0.3953 - accuracy: 0.9333\n",
            "Epoch 209/300\n",
            "5/5 [==============================] - 0s 6ms/step - loss: 0.3939 - accuracy: 0.9333\n",
            "Epoch 210/300\n",
            "5/5 [==============================] - 0s 6ms/step - loss: 0.3925 - accuracy: 0.9333\n",
            "Epoch 211/300\n",
            "5/5 [==============================] - 0s 4ms/step - loss: 0.3910 - accuracy: 0.9333\n",
            "Epoch 212/300\n",
            "5/5 [==============================] - 0s 4ms/step - loss: 0.3896 - accuracy: 0.9333\n",
            "Epoch 213/300\n",
            "5/5 [==============================] - 0s 3ms/step - loss: 0.3882 - accuracy: 0.9333\n",
            "Epoch 214/300\n",
            "5/5 [==============================] - 0s 4ms/step - loss: 0.3867 - accuracy: 0.9333\n",
            "Epoch 215/300\n",
            "5/5 [==============================] - 0s 4ms/step - loss: 0.3854 - accuracy: 0.9333\n",
            "Epoch 216/300\n",
            "5/5 [==============================] - 0s 5ms/step - loss: 0.3843 - accuracy: 0.9333\n",
            "Epoch 217/300\n",
            "5/5 [==============================] - 0s 5ms/step - loss: 0.3826 - accuracy: 0.9333\n",
            "Epoch 218/300\n",
            "5/5 [==============================] - 0s 4ms/step - loss: 0.3812 - accuracy: 0.9333\n",
            "Epoch 219/300\n",
            "5/5 [==============================] - 0s 5ms/step - loss: 0.3798 - accuracy: 0.9333\n",
            "Epoch 220/300\n",
            "5/5 [==============================] - 0s 5ms/step - loss: 0.3788 - accuracy: 0.9333\n",
            "Epoch 221/300\n",
            "5/5 [==============================] - 0s 3ms/step - loss: 0.3772 - accuracy: 0.9333\n",
            "Epoch 222/300\n",
            "5/5 [==============================] - 0s 7ms/step - loss: 0.3759 - accuracy: 0.9333\n",
            "Epoch 223/300\n",
            "5/5 [==============================] - 0s 3ms/step - loss: 0.3746 - accuracy: 0.9333\n",
            "Epoch 224/300\n",
            "5/5 [==============================] - 0s 3ms/step - loss: 0.3732 - accuracy: 0.9333\n",
            "Epoch 225/300\n",
            "5/5 [==============================] - 0s 4ms/step - loss: 0.3719 - accuracy: 0.9333\n",
            "Epoch 226/300\n",
            "5/5 [==============================] - 0s 4ms/step - loss: 0.3707 - accuracy: 0.9333\n",
            "Epoch 227/300\n",
            "5/5 [==============================] - 0s 4ms/step - loss: 0.3693 - accuracy: 0.9333\n",
            "Epoch 228/300\n",
            "5/5 [==============================] - 0s 3ms/step - loss: 0.3680 - accuracy: 0.9333\n",
            "Epoch 229/300\n",
            "5/5 [==============================] - 0s 4ms/step - loss: 0.3667 - accuracy: 0.9333\n",
            "Epoch 230/300\n",
            "5/5 [==============================] - 0s 3ms/step - loss: 0.3658 - accuracy: 0.9333\n",
            "Epoch 231/300\n",
            "5/5 [==============================] - 0s 4ms/step - loss: 0.3641 - accuracy: 0.9333\n",
            "Epoch 232/300\n",
            "5/5 [==============================] - 0s 4ms/step - loss: 0.3628 - accuracy: 0.9333\n",
            "Epoch 233/300\n",
            "5/5 [==============================] - 0s 3ms/step - loss: 0.3616 - accuracy: 0.9400\n",
            "Epoch 234/300\n",
            "5/5 [==============================] - 0s 4ms/step - loss: 0.3603 - accuracy: 0.9400\n",
            "Epoch 235/300\n",
            "5/5 [==============================] - 0s 3ms/step - loss: 0.3590 - accuracy: 0.9400\n",
            "Epoch 236/300\n",
            "5/5 [==============================] - 0s 3ms/step - loss: 0.3577 - accuracy: 0.9400\n",
            "Epoch 237/300\n",
            "5/5 [==============================] - 0s 3ms/step - loss: 0.3565 - accuracy: 0.9400\n",
            "Epoch 238/300\n",
            "5/5 [==============================] - 0s 4ms/step - loss: 0.3552 - accuracy: 0.9400\n",
            "Epoch 239/300\n",
            "5/5 [==============================] - 0s 4ms/step - loss: 0.3540 - accuracy: 0.9400\n",
            "Epoch 240/300\n",
            "5/5 [==============================] - 0s 4ms/step - loss: 0.3529 - accuracy: 0.9333\n",
            "Epoch 241/300\n",
            "5/5 [==============================] - 0s 5ms/step - loss: 0.3515 - accuracy: 0.9333\n",
            "Epoch 242/300\n",
            "5/5 [==============================] - 0s 4ms/step - loss: 0.3503 - accuracy: 0.9400\n",
            "Epoch 243/300\n",
            "5/5 [==============================] - 0s 3ms/step - loss: 0.3490 - accuracy: 0.9400\n",
            "Epoch 244/300\n",
            "5/5 [==============================] - 0s 4ms/step - loss: 0.3479 - accuracy: 0.9400\n",
            "Epoch 245/300\n",
            "5/5 [==============================] - 0s 3ms/step - loss: 0.3466 - accuracy: 0.9333\n",
            "Epoch 246/300\n",
            "5/5 [==============================] - 0s 3ms/step - loss: 0.3455 - accuracy: 0.9400\n",
            "Epoch 247/300\n",
            "5/5 [==============================] - 0s 3ms/step - loss: 0.3442 - accuracy: 0.9400\n",
            "Epoch 248/300\n",
            "5/5 [==============================] - 0s 3ms/step - loss: 0.3430 - accuracy: 0.9333\n",
            "Epoch 249/300\n",
            "5/5 [==============================] - 0s 4ms/step - loss: 0.3419 - accuracy: 0.9333\n",
            "Epoch 250/300\n",
            "5/5 [==============================] - 0s 3ms/step - loss: 0.3406 - accuracy: 0.9400\n",
            "Epoch 251/300\n",
            "5/5 [==============================] - 0s 4ms/step - loss: 0.3394 - accuracy: 0.9400\n",
            "Epoch 252/300\n",
            "5/5 [==============================] - 0s 3ms/step - loss: 0.3382 - accuracy: 0.9400\n",
            "Epoch 253/300\n",
            "5/5 [==============================] - 0s 4ms/step - loss: 0.3372 - accuracy: 0.9400\n",
            "Epoch 254/300\n",
            "5/5 [==============================] - 0s 4ms/step - loss: 0.3358 - accuracy: 0.9400\n",
            "Epoch 255/300\n",
            "5/5 [==============================] - 0s 4ms/step - loss: 0.3352 - accuracy: 0.9400\n",
            "Epoch 256/300\n",
            "5/5 [==============================] - 0s 3ms/step - loss: 0.3337 - accuracy: 0.9400\n",
            "Epoch 257/300\n",
            "5/5 [==============================] - 0s 3ms/step - loss: 0.3324 - accuracy: 0.9400\n",
            "Epoch 258/300\n",
            "5/5 [==============================] - 0s 3ms/step - loss: 0.3312 - accuracy: 0.9400\n",
            "Epoch 259/300\n",
            "5/5 [==============================] - 0s 4ms/step - loss: 0.3305 - accuracy: 0.9467\n",
            "Epoch 260/300\n",
            "5/5 [==============================] - 0s 3ms/step - loss: 0.3290 - accuracy: 0.9400\n",
            "Epoch 261/300\n",
            "5/5 [==============================] - 0s 4ms/step - loss: 0.3277 - accuracy: 0.9400\n",
            "Epoch 262/300\n",
            "5/5 [==============================] - 0s 3ms/step - loss: 0.3266 - accuracy: 0.9400\n",
            "Epoch 263/300\n",
            "5/5 [==============================] - 0s 3ms/step - loss: 0.3256 - accuracy: 0.9400\n",
            "Epoch 264/300\n",
            "5/5 [==============================] - 0s 4ms/step - loss: 0.3246 - accuracy: 0.9400\n",
            "Epoch 265/300\n",
            "5/5 [==============================] - 0s 4ms/step - loss: 0.3233 - accuracy: 0.9400\n",
            "Epoch 266/300\n",
            "5/5 [==============================] - 0s 4ms/step - loss: 0.3223 - accuracy: 0.9400\n",
            "Epoch 267/300\n",
            "5/5 [==============================] - 0s 4ms/step - loss: 0.3210 - accuracy: 0.9400\n",
            "Epoch 268/300\n",
            "5/5 [==============================] - 0s 4ms/step - loss: 0.3201 - accuracy: 0.9533\n",
            "Epoch 269/300\n",
            "5/5 [==============================] - 0s 4ms/step - loss: 0.3189 - accuracy: 0.9533\n",
            "Epoch 270/300\n",
            "5/5 [==============================] - 0s 4ms/step - loss: 0.3178 - accuracy: 0.9533\n",
            "Epoch 271/300\n",
            "5/5 [==============================] - 0s 4ms/step - loss: 0.3167 - accuracy: 0.9467\n",
            "Epoch 272/300\n",
            "5/5 [==============================] - 0s 4ms/step - loss: 0.3156 - accuracy: 0.9533\n",
            "Epoch 273/300\n",
            "5/5 [==============================] - 0s 3ms/step - loss: 0.3145 - accuracy: 0.9467\n",
            "Epoch 274/300\n",
            "5/5 [==============================] - 0s 3ms/step - loss: 0.3135 - accuracy: 0.9533\n",
            "Epoch 275/300\n",
            "5/5 [==============================] - 0s 5ms/step - loss: 0.3123 - accuracy: 0.9600\n",
            "Epoch 276/300\n",
            "5/5 [==============================] - 0s 5ms/step - loss: 0.3114 - accuracy: 0.9600\n",
            "Epoch 277/300\n",
            "5/5 [==============================] - 0s 3ms/step - loss: 0.3102 - accuracy: 0.9667\n",
            "Epoch 278/300\n",
            "5/5 [==============================] - 0s 3ms/step - loss: 0.3092 - accuracy: 0.9600\n",
            "Epoch 279/300\n",
            "5/5 [==============================] - 0s 3ms/step - loss: 0.3081 - accuracy: 0.9533\n",
            "Epoch 280/300\n",
            "5/5 [==============================] - 0s 3ms/step - loss: 0.3071 - accuracy: 0.9533\n",
            "Epoch 281/300\n",
            "5/5 [==============================] - 0s 7ms/step - loss: 0.3061 - accuracy: 0.9533\n",
            "Epoch 282/300\n",
            "5/5 [==============================] - 0s 3ms/step - loss: 0.3050 - accuracy: 0.9533\n",
            "Epoch 283/300\n",
            "5/5 [==============================] - 0s 3ms/step - loss: 0.3040 - accuracy: 0.9533\n",
            "Epoch 284/300\n",
            "5/5 [==============================] - 0s 3ms/step - loss: 0.3030 - accuracy: 0.9533\n",
            "Epoch 285/300\n",
            "5/5 [==============================] - 0s 4ms/step - loss: 0.3019 - accuracy: 0.9533\n",
            "Epoch 286/300\n",
            "5/5 [==============================] - 0s 4ms/step - loss: 0.3009 - accuracy: 0.9667\n",
            "Epoch 287/300\n",
            "5/5 [==============================] - 0s 4ms/step - loss: 0.2999 - accuracy: 0.9667\n",
            "Epoch 288/300\n",
            "5/5 [==============================] - 0s 4ms/step - loss: 0.2988 - accuracy: 0.9667\n",
            "Epoch 289/300\n",
            "5/5 [==============================] - 0s 3ms/step - loss: 0.2978 - accuracy: 0.9667\n",
            "Epoch 290/300\n",
            "5/5 [==============================] - 0s 5ms/step - loss: 0.2968 - accuracy: 0.9667\n",
            "Epoch 291/300\n",
            "5/5 [==============================] - 0s 5ms/step - loss: 0.2958 - accuracy: 0.9667\n",
            "Epoch 292/300\n",
            "5/5 [==============================] - 0s 5ms/step - loss: 0.2949 - accuracy: 0.9600\n",
            "Epoch 293/300\n",
            "5/5 [==============================] - 0s 4ms/step - loss: 0.2940 - accuracy: 0.9667\n",
            "Epoch 294/300\n",
            "5/5 [==============================] - 0s 3ms/step - loss: 0.2928 - accuracy: 0.9667\n",
            "Epoch 295/300\n",
            "5/5 [==============================] - 0s 4ms/step - loss: 0.2923 - accuracy: 0.9667\n",
            "Epoch 296/300\n",
            "5/5 [==============================] - 0s 5ms/step - loss: 0.2908 - accuracy: 0.9600\n",
            "Epoch 297/300\n",
            "5/5 [==============================] - 0s 4ms/step - loss: 0.2900 - accuracy: 0.9600\n",
            "Epoch 298/300\n",
            "5/5 [==============================] - 0s 3ms/step - loss: 0.2890 - accuracy: 0.9600\n",
            "Epoch 299/300\n",
            "5/5 [==============================] - 0s 4ms/step - loss: 0.2880 - accuracy: 0.9600\n",
            "Epoch 300/300\n",
            "5/5 [==============================] - 0s 5ms/step - loss: 0.2870 - accuracy: 0.9667\n"
          ],
          "name": "stdout"
        },
        {
          "output_type": "execute_result",
          "data": {
            "text/plain": [
              "<tensorflow.python.keras.callbacks.History at 0x7f2d8a25fc90>"
            ]
          },
          "metadata": {
            "tags": []
          },
          "execution_count": 41
        }
      ]
    },
    {
      "cell_type": "code",
      "metadata": {
        "colab": {
          "base_uri": "https://localhost:8080/"
        },
        "id": "8tTdoUlbRN1R",
        "outputId": "5f49ffb6-b495-4313-f7ce-83415a365167"
      },
      "source": [
        "model.evaluate(scaled_X_test,y_test,verbose=0)"
      ],
      "execution_count": 42,
      "outputs": [
        {
          "output_type": "execute_result",
          "data": {
            "text/plain": [
              "[0.3098078966140747, 0.9666666388511658]"
            ]
          },
          "metadata": {
            "tags": []
          },
          "execution_count": 42
        }
      ]
    },
    {
      "cell_type": "code",
      "metadata": {
        "id": "a0ValsogRU7W"
      },
      "source": [
        "model.save(\"final_iris_model.h5\")"
      ],
      "execution_count": 43,
      "outputs": []
    },
    {
      "cell_type": "markdown",
      "metadata": {
        "id": "x47qmPeaRiET"
      },
      "source": [
        "### Saving Scaler"
      ]
    },
    {
      "cell_type": "code",
      "metadata": {
        "id": "9Z68QXKNRd6d"
      },
      "source": [
        "import joblib"
      ],
      "execution_count": 44,
      "outputs": []
    },
    {
      "cell_type": "code",
      "metadata": {
        "colab": {
          "base_uri": "https://localhost:8080/"
        },
        "id": "3LOQcJG3Rn2k",
        "outputId": "ab22ec65-2901-455a-ed1f-ca6bd6607447"
      },
      "source": [
        "joblib.dump(scaler,'iris_scaler.pkl')"
      ],
      "execution_count": 45,
      "outputs": [
        {
          "output_type": "execute_result",
          "data": {
            "text/plain": [
              "['iris_scaler.pkl']"
            ]
          },
          "metadata": {
            "tags": []
          },
          "execution_count": 45
        }
      ]
    },
    {
      "cell_type": "markdown",
      "metadata": {
        "id": "dchX56tqSAWk"
      },
      "source": [
        "## Predicting a Single New Flower"
      ]
    },
    {
      "cell_type": "code",
      "metadata": {
        "id": "U3Wcmn4dRpw0"
      },
      "source": [
        "from tensorflow.keras.models import load_model"
      ],
      "execution_count": 46,
      "outputs": []
    },
    {
      "cell_type": "code",
      "metadata": {
        "id": "3NBH1VlUSC64"
      },
      "source": [
        "flower_model = load_model(\"final_iris_model.h5\")"
      ],
      "execution_count": 47,
      "outputs": []
    },
    {
      "cell_type": "code",
      "metadata": {
        "id": "ZtXuO_L8SHGk"
      },
      "source": [
        "flower_scaler = joblib.load(\"iris_scaler.pkl\")"
      ],
      "execution_count": 48,
      "outputs": []
    },
    {
      "cell_type": "code",
      "metadata": {
        "colab": {
          "base_uri": "https://localhost:8080/",
          "height": 80
        },
        "id": "AU17zTU_SIOm",
        "outputId": "94fc8f74-bd09-47d0-e0a8-6bd8d4525e56"
      },
      "source": [
        "iris.head(1)"
      ],
      "execution_count": 49,
      "outputs": [
        {
          "output_type": "execute_result",
          "data": {
            "text/html": [
              "<div>\n",
              "<style scoped>\n",
              "    .dataframe tbody tr th:only-of-type {\n",
              "        vertical-align: middle;\n",
              "    }\n",
              "\n",
              "    .dataframe tbody tr th {\n",
              "        vertical-align: top;\n",
              "    }\n",
              "\n",
              "    .dataframe thead th {\n",
              "        text-align: right;\n",
              "    }\n",
              "</style>\n",
              "<table border=\"1\" class=\"dataframe\">\n",
              "  <thead>\n",
              "    <tr style=\"text-align: right;\">\n",
              "      <th></th>\n",
              "      <th>sepal_length</th>\n",
              "      <th>sepal_width</th>\n",
              "      <th>petal_length</th>\n",
              "      <th>petal_width</th>\n",
              "      <th>species</th>\n",
              "    </tr>\n",
              "  </thead>\n",
              "  <tbody>\n",
              "    <tr>\n",
              "      <th>0</th>\n",
              "      <td>5.1</td>\n",
              "      <td>3.5</td>\n",
              "      <td>1.4</td>\n",
              "      <td>0.2</td>\n",
              "      <td>setosa</td>\n",
              "    </tr>\n",
              "  </tbody>\n",
              "</table>\n",
              "</div>"
            ],
            "text/plain": [
              "   sepal_length  sepal_width  petal_length  petal_width species\n",
              "0           5.1          3.5           1.4          0.2  setosa"
            ]
          },
          "metadata": {
            "tags": []
          },
          "execution_count": 49
        }
      ]
    },
    {
      "cell_type": "code",
      "metadata": {
        "id": "SjTqfpm4SN73"
      },
      "source": [
        "flower_example = {'sepal_length':5.1,\n",
        "                 'sepal_width':3.5,\n",
        "                 'petal_length':1.4,\n",
        "                 'petal_width':0.2}"
      ],
      "execution_count": 50,
      "outputs": []
    },
    {
      "cell_type": "code",
      "metadata": {
        "colab": {
          "base_uri": "https://localhost:8080/"
        },
        "id": "EcELJgWXSPyx",
        "outputId": "81f5ccc4-4ba5-4bdc-ffe9-f42bfe767905"
      },
      "source": [
        "flower_example.keys()"
      ],
      "execution_count": 51,
      "outputs": [
        {
          "output_type": "execute_result",
          "data": {
            "text/plain": [
              "dict_keys(['sepal_length', 'sepal_width', 'petal_length', 'petal_width'])"
            ]
          },
          "metadata": {
            "tags": []
          },
          "execution_count": 51
        }
      ]
    },
    {
      "cell_type": "code",
      "metadata": {
        "colab": {
          "base_uri": "https://localhost:8080/"
        },
        "id": "DJWFFsibSREb",
        "outputId": "848c2a58-54aa-4bdd-e607-3eded4ec9598"
      },
      "source": [
        "encoder.classes_"
      ],
      "execution_count": 52,
      "outputs": [
        {
          "output_type": "execute_result",
          "data": {
            "text/plain": [
              "array(['setosa', 'versicolor', 'virginica'], dtype='<U10')"
            ]
          },
          "metadata": {
            "tags": []
          },
          "execution_count": 52
        }
      ]
    },
    {
      "cell_type": "code",
      "metadata": {
        "id": "Nkie-df_SUkQ"
      },
      "source": [
        ""
      ],
      "execution_count": null,
      "outputs": []
    }
  ]
}