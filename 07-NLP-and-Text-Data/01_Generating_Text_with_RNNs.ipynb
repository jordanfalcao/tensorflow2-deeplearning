{
  "nbformat": 4,
  "nbformat_minor": 0,
  "metadata": {
    "colab": {
      "name": "01_Generating_Text_with_RNNs.ipynb",
      "provenance": []
    },
    "kernelspec": {
      "name": "python3",
      "display_name": "Python 3"
    },
    "language_info": {
      "name": "python"
    },
    "accelerator": "GPU"
  },
  "cells": [
    {
      "cell_type": "markdown",
      "metadata": {
        "id": "vc9MP-ncBjbz"
      },
      "source": [
        "# Text Generation with Neural Networks\n",
        "\n",
        "In this notebook we will create a network that can generate text, here we show it being done character by character. Very awesome write up on this here: http://karpathy.github.io/2015/05/21/rnn-effectiveness/\n",
        "\n",
        "We organized the process into \"steps\" so you can easily follow along with your own data sets."
      ]
    },
    {
      "cell_type": "code",
      "metadata": {
        "id": "XGz8KDsp5K1d"
      },
      "source": [
        "import numpy as np\n",
        "import pandas as pd\n",
        "import matplotlib.pyplot as plt\n",
        "import tensorflow as tf"
      ],
      "execution_count": 1,
      "outputs": []
    },
    {
      "cell_type": "code",
      "metadata": {
        "colab": {
          "base_uri": "https://localhost:8080/",
          "height": 35
        },
        "id": "XYlKbE-O5q68",
        "outputId": "78ed2ff2-c899-4f4e-d0e8-330828bf3c66"
      },
      "source": [
        "tf.__version__"
      ],
      "execution_count": 2,
      "outputs": [
        {
          "output_type": "execute_result",
          "data": {
            "application/vnd.google.colaboratory.intrinsic+json": {
              "type": "string"
            },
            "text/plain": [
              "'2.5.0'"
            ]
          },
          "metadata": {
            "tags": []
          },
          "execution_count": 2
        }
      ]
    },
    {
      "cell_type": "code",
      "metadata": {
        "colab": {
          "base_uri": "https://localhost:8080/"
        },
        "id": "LpJb6CYm5dPZ",
        "outputId": "799c9c46-558a-4226-a5ec-64f09f42a5cc"
      },
      "source": [
        "print(\"Num GPUs Available: \", len(tf.config.list_physical_devices('GPU')))"
      ],
      "execution_count": 3,
      "outputs": [
        {
          "output_type": "stream",
          "text": [
            "Num GPUs Available:  1\n"
          ],
          "name": "stdout"
        }
      ]
    },
    {
      "cell_type": "markdown",
      "metadata": {
        "id": "f951M9hpB2dd"
      },
      "source": [
        "## Step 1: The Data\n",
        "\n",
        "You can grab any free text you want from here: https://www.gutenberg.org/\n",
        "\n",
        "We'll choose all of shakespeare's works (which we have already downloaded for you), mainly for two reasons:\n",
        "\n",
        "1. Its a large corpus of text, its usually recommended you have at least a source of 1 million characters total to get realistic text generation.\n",
        "\n",
        "2. It has a very distinctive style. Since the text data uses old style english and is formatted in the style of a stage play, it will be very obvious to us if the model is able to reproduce similar results."
      ]
    },
    {
      "cell_type": "code",
      "metadata": {
        "id": "Gfx1WmaQ5xqi"
      },
      "source": [
        "text = open('shakespeare.txt', 'r').read()"
      ],
      "execution_count": 4,
      "outputs": []
    },
    {
      "cell_type": "code",
      "metadata": {
        "colab": {
          "base_uri": "https://localhost:8080/"
        },
        "id": "B82P_dm47aoc",
        "outputId": "6b265ed5-100e-41ff-c18b-65e4c4243ab1"
      },
      "source": [
        "type(text)"
      ],
      "execution_count": 5,
      "outputs": [
        {
          "output_type": "execute_result",
          "data": {
            "text/plain": [
              "str"
            ]
          },
          "metadata": {
            "tags": []
          },
          "execution_count": 5
        }
      ]
    },
    {
      "cell_type": "code",
      "metadata": {
        "colab": {
          "base_uri": "https://localhost:8080/"
        },
        "id": "QrmHc76G7d94",
        "outputId": "cb3e5bb0-02a8-40bc-f252-21edd0880887"
      },
      "source": [
        "len(text)"
      ],
      "execution_count": 6,
      "outputs": [
        {
          "output_type": "execute_result",
          "data": {
            "text/plain": [
              "5445609"
            ]
          },
          "metadata": {
            "tags": []
          },
          "execution_count": 6
        }
      ]
    },
    {
      "cell_type": "code",
      "metadata": {
        "colab": {
          "base_uri": "https://localhost:8080/"
        },
        "id": "R8vrE42RDZt9",
        "outputId": "505aae2b-315c-4e7f-f109-ad74a7cd7182"
      },
      "source": [
        "print(text[:667])"
      ],
      "execution_count": 7,
      "outputs": [
        {
          "output_type": "stream",
          "text": [
            "\n",
            "                     1\n",
            "  From fairest creatures we desire increase,\n",
            "  That thereby beauty's rose might never die,\n",
            "  But as the riper should by time decease,\n",
            "  His tender heir might bear his memory:\n",
            "  But thou contracted to thine own bright eyes,\n",
            "  Feed'st thy light's flame with self-substantial fuel,\n",
            "  Making a famine where abundance lies,\n",
            "  Thy self thy foe, to thy sweet self too cruel:\n",
            "  Thou that art now the world's fresh ornament,\n",
            "  And only herald to the gaudy spring,\n",
            "  Within thine own bud buriest thy content,\n",
            "  And tender churl mak'st waste in niggarding:\n",
            "    Pity the world, or else this glutton be,\n",
            "    To eat the world's due, by the grave and thee.\n",
            "\n",
            "\n"
          ],
          "name": "stdout"
        }
      ]
    },
    {
      "cell_type": "markdown",
      "metadata": {
        "id": "RFVeOFgrB7ag"
      },
      "source": [
        "### Understanding unique characters"
      ]
    },
    {
      "cell_type": "code",
      "metadata": {
        "colab": {
          "base_uri": "https://localhost:8080/"
        },
        "id": "IRUMAT-67f4X",
        "outputId": "c55bb840-6265-49c8-9b63-2648789e3002"
      },
      "source": [
        "# The unique characters in the file\n",
        "vocab = sorted(set(text))\n",
        "print(vocab)\n",
        "len(vocab)"
      ],
      "execution_count": 8,
      "outputs": [
        {
          "output_type": "stream",
          "text": [
            "['\\n', ' ', '!', '\"', '&', \"'\", '(', ')', ',', '-', '.', '0', '1', '2', '3', '4', '5', '6', '7', '8', '9', ':', ';', '<', '>', '?', 'A', 'B', 'C', 'D', 'E', 'F', 'G', 'H', 'I', 'J', 'K', 'L', 'M', 'N', 'O', 'P', 'Q', 'R', 'S', 'T', 'U', 'V', 'W', 'X', 'Y', 'Z', '[', ']', '_', '`', 'a', 'b', 'c', 'd', 'e', 'f', 'g', 'h', 'i', 'j', 'k', 'l', 'm', 'n', 'o', 'p', 'q', 'r', 's', 't', 'u', 'v', 'w', 'x', 'y', 'z', '|', '}']\n"
          ],
          "name": "stdout"
        },
        {
          "output_type": "execute_result",
          "data": {
            "text/plain": [
              "84"
            ]
          },
          "metadata": {
            "tags": []
          },
          "execution_count": 8
        }
      ]
    },
    {
      "cell_type": "markdown",
      "metadata": {
        "id": "KWAdpPe2B-gR"
      },
      "source": [
        "## Step 2: Text Processing"
      ]
    },
    {
      "cell_type": "markdown",
      "metadata": {
        "id": "cA823Q8aCBkE"
      },
      "source": [
        "### Text Vectorization\n",
        "\n",
        "We know a neural network can't take in the raw string data, we need to assign numbers to each character. Let's create two dictionaries that can go from numeric index to character and character to numeric index."
      ]
    },
    {
      "cell_type": "code",
      "metadata": {
        "id": "14bNhtbf7nX8"
      },
      "source": [
        "# creating a dict\n",
        "char_to_ind = {char:ind for ind, char in enumerate(vocab)}"
      ],
      "execution_count": 9,
      "outputs": []
    },
    {
      "cell_type": "code",
      "metadata": {
        "colab": {
          "base_uri": "https://localhost:8080/"
        },
        "id": "55dy1oXy3BMx",
        "outputId": "133adcd5-b403-4ed5-86e3-47750fbdf9ec"
      },
      "source": [
        "char_to_ind"
      ],
      "execution_count": 10,
      "outputs": [
        {
          "output_type": "execute_result",
          "data": {
            "text/plain": [
              "{'\\n': 0,\n",
              " ' ': 1,\n",
              " '!': 2,\n",
              " '\"': 3,\n",
              " '&': 4,\n",
              " \"'\": 5,\n",
              " '(': 6,\n",
              " ')': 7,\n",
              " ',': 8,\n",
              " '-': 9,\n",
              " '.': 10,\n",
              " '0': 11,\n",
              " '1': 12,\n",
              " '2': 13,\n",
              " '3': 14,\n",
              " '4': 15,\n",
              " '5': 16,\n",
              " '6': 17,\n",
              " '7': 18,\n",
              " '8': 19,\n",
              " '9': 20,\n",
              " ':': 21,\n",
              " ';': 22,\n",
              " '<': 23,\n",
              " '>': 24,\n",
              " '?': 25,\n",
              " 'A': 26,\n",
              " 'B': 27,\n",
              " 'C': 28,\n",
              " 'D': 29,\n",
              " 'E': 30,\n",
              " 'F': 31,\n",
              " 'G': 32,\n",
              " 'H': 33,\n",
              " 'I': 34,\n",
              " 'J': 35,\n",
              " 'K': 36,\n",
              " 'L': 37,\n",
              " 'M': 38,\n",
              " 'N': 39,\n",
              " 'O': 40,\n",
              " 'P': 41,\n",
              " 'Q': 42,\n",
              " 'R': 43,\n",
              " 'S': 44,\n",
              " 'T': 45,\n",
              " 'U': 46,\n",
              " 'V': 47,\n",
              " 'W': 48,\n",
              " 'X': 49,\n",
              " 'Y': 50,\n",
              " 'Z': 51,\n",
              " '[': 52,\n",
              " ']': 53,\n",
              " '_': 54,\n",
              " '`': 55,\n",
              " 'a': 56,\n",
              " 'b': 57,\n",
              " 'c': 58,\n",
              " 'd': 59,\n",
              " 'e': 60,\n",
              " 'f': 61,\n",
              " 'g': 62,\n",
              " 'h': 63,\n",
              " 'i': 64,\n",
              " 'j': 65,\n",
              " 'k': 66,\n",
              " 'l': 67,\n",
              " 'm': 68,\n",
              " 'n': 69,\n",
              " 'o': 70,\n",
              " 'p': 71,\n",
              " 'q': 72,\n",
              " 'r': 73,\n",
              " 's': 74,\n",
              " 't': 75,\n",
              " 'u': 76,\n",
              " 'v': 77,\n",
              " 'w': 78,\n",
              " 'x': 79,\n",
              " 'y': 80,\n",
              " 'z': 81,\n",
              " '|': 82,\n",
              " '}': 83}"
            ]
          },
          "metadata": {
            "tags": []
          },
          "execution_count": 10
        }
      ]
    },
    {
      "cell_type": "code",
      "metadata": {
        "id": "PP5MwTCT3CPa"
      },
      "source": [
        "ind_to_char = np.array(vocab)"
      ],
      "execution_count": 11,
      "outputs": []
    },
    {
      "cell_type": "code",
      "metadata": {
        "colab": {
          "base_uri": "https://localhost:8080/"
        },
        "id": "XdCSTbJT3H_g",
        "outputId": "4b7caebc-bd1d-4ed0-c7e5-46af1619bc4a"
      },
      "source": [
        "ind_to_char"
      ],
      "execution_count": 12,
      "outputs": [
        {
          "output_type": "execute_result",
          "data": {
            "text/plain": [
              "array(['\\n', ' ', '!', '\"', '&', \"'\", '(', ')', ',', '-', '.', '0', '1',\n",
              "       '2', '3', '4', '5', '6', '7', '8', '9', ':', ';', '<', '>', '?',\n",
              "       'A', 'B', 'C', 'D', 'E', 'F', 'G', 'H', 'I', 'J', 'K', 'L', 'M',\n",
              "       'N', 'O', 'P', 'Q', 'R', 'S', 'T', 'U', 'V', 'W', 'X', 'Y', 'Z',\n",
              "       '[', ']', '_', '`', 'a', 'b', 'c', 'd', 'e', 'f', 'g', 'h', 'i',\n",
              "       'j', 'k', 'l', 'm', 'n', 'o', 'p', 'q', 'r', 's', 't', 'u', 'v',\n",
              "       'w', 'x', 'y', 'z', '|', '}'], dtype='<U1')"
            ]
          },
          "metadata": {
            "tags": []
          },
          "execution_count": 12
        }
      ]
    },
    {
      "cell_type": "code",
      "metadata": {
        "id": "8x7aox5M3InG"
      },
      "source": [
        "encoded_text = np.array([char_to_ind[c] for c in text])"
      ],
      "execution_count": 13,
      "outputs": []
    },
    {
      "cell_type": "markdown",
      "metadata": {
        "id": "FxHhmmtJ3kSK"
      },
      "source": [
        "We now have a mapping we can use to go back and forth from characters to numerics."
      ]
    },
    {
      "cell_type": "code",
      "metadata": {
        "colab": {
          "base_uri": "https://localhost:8080/"
        },
        "id": "cntQ8NyD3dUr",
        "outputId": "e95b97b7-f8ec-47d7-c28e-972e8db962b4"
      },
      "source": [
        "encoded_text[:667]"
      ],
      "execution_count": 14,
      "outputs": [
        {
          "output_type": "execute_result",
          "data": {
            "text/plain": [
              "array([ 0,  1,  1,  1,  1,  1,  1,  1,  1,  1,  1,  1,  1,  1,  1,  1,  1,\n",
              "        1,  1,  1,  1,  1, 12,  0,  1,  1, 31, 73, 70, 68,  1, 61, 56, 64,\n",
              "       73, 60, 74, 75,  1, 58, 73, 60, 56, 75, 76, 73, 60, 74,  1, 78, 60,\n",
              "        1, 59, 60, 74, 64, 73, 60,  1, 64, 69, 58, 73, 60, 56, 74, 60,  8,\n",
              "        0,  1,  1, 45, 63, 56, 75,  1, 75, 63, 60, 73, 60, 57, 80,  1, 57,\n",
              "       60, 56, 76, 75, 80,  5, 74,  1, 73, 70, 74, 60,  1, 68, 64, 62, 63,\n",
              "       75,  1, 69, 60, 77, 60, 73,  1, 59, 64, 60,  8,  0,  1,  1, 27, 76,\n",
              "       75,  1, 56, 74,  1, 75, 63, 60,  1, 73, 64, 71, 60, 73,  1, 74, 63,\n",
              "       70, 76, 67, 59,  1, 57, 80,  1, 75, 64, 68, 60,  1, 59, 60, 58, 60,\n",
              "       56, 74, 60,  8,  0,  1,  1, 33, 64, 74,  1, 75, 60, 69, 59, 60, 73,\n",
              "        1, 63, 60, 64, 73,  1, 68, 64, 62, 63, 75,  1, 57, 60, 56, 73,  1,\n",
              "       63, 64, 74,  1, 68, 60, 68, 70, 73, 80, 21,  0,  1,  1, 27, 76, 75,\n",
              "        1, 75, 63, 70, 76,  1, 58, 70, 69, 75, 73, 56, 58, 75, 60, 59,  1,\n",
              "       75, 70,  1, 75, 63, 64, 69, 60,  1, 70, 78, 69,  1, 57, 73, 64, 62,\n",
              "       63, 75,  1, 60, 80, 60, 74,  8,  0,  1,  1, 31, 60, 60, 59,  5, 74,\n",
              "       75,  1, 75, 63, 80,  1, 67, 64, 62, 63, 75,  5, 74,  1, 61, 67, 56,\n",
              "       68, 60,  1, 78, 64, 75, 63,  1, 74, 60, 67, 61,  9, 74, 76, 57, 74,\n",
              "       75, 56, 69, 75, 64, 56, 67,  1, 61, 76, 60, 67,  8,  0,  1,  1, 38,\n",
              "       56, 66, 64, 69, 62,  1, 56,  1, 61, 56, 68, 64, 69, 60,  1, 78, 63,\n",
              "       60, 73, 60,  1, 56, 57, 76, 69, 59, 56, 69, 58, 60,  1, 67, 64, 60,\n",
              "       74,  8,  0,  1,  1, 45, 63, 80,  1, 74, 60, 67, 61,  1, 75, 63, 80,\n",
              "        1, 61, 70, 60,  8,  1, 75, 70,  1, 75, 63, 80,  1, 74, 78, 60, 60,\n",
              "       75,  1, 74, 60, 67, 61,  1, 75, 70, 70,  1, 58, 73, 76, 60, 67, 21,\n",
              "        0,  1,  1, 45, 63, 70, 76,  1, 75, 63, 56, 75,  1, 56, 73, 75,  1,\n",
              "       69, 70, 78,  1, 75, 63, 60,  1, 78, 70, 73, 67, 59,  5, 74,  1, 61,\n",
              "       73, 60, 74, 63,  1, 70, 73, 69, 56, 68, 60, 69, 75,  8,  0,  1,  1,\n",
              "       26, 69, 59,  1, 70, 69, 67, 80,  1, 63, 60, 73, 56, 67, 59,  1, 75,\n",
              "       70,  1, 75, 63, 60,  1, 62, 56, 76, 59, 80,  1, 74, 71, 73, 64, 69,\n",
              "       62,  8,  0,  1,  1, 48, 64, 75, 63, 64, 69,  1, 75, 63, 64, 69, 60,\n",
              "        1, 70, 78, 69,  1, 57, 76, 59,  1, 57, 76, 73, 64, 60, 74, 75,  1,\n",
              "       75, 63, 80,  1, 58, 70, 69, 75, 60, 69, 75,  8,  0,  1,  1, 26, 69,\n",
              "       59,  1, 75, 60, 69, 59, 60, 73,  1, 58, 63, 76, 73, 67,  1, 68, 56,\n",
              "       66,  5, 74, 75,  1, 78, 56, 74, 75, 60,  1, 64, 69,  1, 69, 64, 62,\n",
              "       62, 56, 73, 59, 64, 69, 62, 21,  0,  1,  1,  1,  1, 41, 64, 75, 80,\n",
              "        1, 75, 63, 60,  1, 78, 70, 73, 67, 59,  8,  1, 70, 73,  1, 60, 67,\n",
              "       74, 60,  1, 75, 63, 64, 74,  1, 62, 67, 76, 75, 75, 70, 69,  1, 57,\n",
              "       60,  8,  0,  1,  1,  1,  1, 45, 70,  1, 60, 56, 75,  1, 75, 63, 60,\n",
              "        1, 78, 70, 73, 67, 59,  5, 74,  1, 59, 76, 60,  8,  1, 57, 80,  1,\n",
              "       75, 63, 60,  1, 62, 73, 56, 77, 60,  1, 56, 69, 59,  1, 75, 63, 60,\n",
              "       60, 10,  0,  0])"
            ]
          },
          "metadata": {
            "tags": []
          },
          "execution_count": 14
        }
      ]
    },
    {
      "cell_type": "markdown",
      "metadata": {
        "id": "8zzNCytcfvTa"
      },
      "source": [
        "## Step 3: Creating Batches\n",
        "\n",
        "Overall what we are trying to achieve is to have the model predict the next highest probability character given a historical sequence of characters. Its up to us (the user) to choose how long that historic sequence. Too short a sequence and we don't have enough information (e.g. given the letter \"a\" , what is the next character) , too long a sequence and training will take too long and most likely overfit to sequence characters that are irrelevant to characters farther out. While there is no correct sequence length choice, you should consider the text itself, how long normal phrases are in it, and a reasonable idea of what characters/words are relevant to each other."
      ]
    },
    {
      "cell_type": "code",
      "metadata": {
        "colab": {
          "base_uri": "https://localhost:8080/"
        },
        "id": "h_hzqUYN3gOM",
        "outputId": "98c8ffbe-d10f-41ea-8baf-04fc4cb701f1"
      },
      "source": [
        "print(text[:500])"
      ],
      "execution_count": 15,
      "outputs": [
        {
          "output_type": "stream",
          "text": [
            "\n",
            "                     1\n",
            "  From fairest creatures we desire increase,\n",
            "  That thereby beauty's rose might never die,\n",
            "  But as the riper should by time decease,\n",
            "  His tender heir might bear his memory:\n",
            "  But thou contracted to thine own bright eyes,\n",
            "  Feed'st thy light's flame with self-substantial fuel,\n",
            "  Making a famine where abundance lies,\n",
            "  Thy self thy foe, to thy sweet self too cruel:\n",
            "  Thou that art now the world's fresh ornament,\n",
            "  And only herald to the gaudy spring,\n",
            "  Within thine own bu\n"
          ],
          "name": "stdout"
        }
      ]
    },
    {
      "cell_type": "code",
      "metadata": {
        "id": "TklVUtUwtuM5"
      },
      "source": [
        "# first line\n",
        "line = 'From fairest creatures we desire increase,'"
      ],
      "execution_count": 16,
      "outputs": []
    },
    {
      "cell_type": "code",
      "metadata": {
        "colab": {
          "base_uri": "https://localhost:8080/"
        },
        "id": "S9k16Uovtzg8",
        "outputId": "17a99035-0ed9-4341-af3b-cf29ab47c24e"
      },
      "source": [
        "len(line)"
      ],
      "execution_count": 17,
      "outputs": [
        {
          "output_type": "execute_result",
          "data": {
            "text/plain": [
              "42"
            ]
          },
          "metadata": {
            "tags": []
          },
          "execution_count": 17
        }
      ]
    },
    {
      "cell_type": "code",
      "metadata": {
        "id": "UvL2Chgvt1ES"
      },
      "source": [
        "# catching the pattern\n",
        "part_stanza = \"\"\"From fairest creatures we desire increase,\n",
        "  That thereby beauty's rose might never die,\n",
        "  But as the riper should by time decease,\"\"\""
      ],
      "execution_count": 18,
      "outputs": []
    },
    {
      "cell_type": "code",
      "metadata": {
        "colab": {
          "base_uri": "https://localhost:8080/"
        },
        "id": "292QNOHXt8jY",
        "outputId": "7c65805d-4eea-4d27-ecfa-f43c6791c977"
      },
      "source": [
        "len(part_stanza)"
      ],
      "execution_count": 19,
      "outputs": [
        {
          "output_type": "execute_result",
          "data": {
            "text/plain": [
              "131"
            ]
          },
          "metadata": {
            "tags": []
          },
          "execution_count": 19
        }
      ]
    },
    {
      "cell_type": "markdown",
      "metadata": {
        "id": "X841GI-zuOX2"
      },
      "source": [
        "### Training Sequences\n",
        "\n",
        "The actual text data will be the text sequence shifted one character forward. For example:\n",
        "\n",
        "**Sequence In: \"Hello my nam\"**\n",
        "\n",
        "**Sequence Out: \"ello my name\"**\n",
        "\n",
        "\n",
        "We can use the `tf.data.Dataset.from_tensor_slices` function to convert a text vector into a stream of character indices (dataset)."
      ]
    },
    {
      "cell_type": "code",
      "metadata": {
        "id": "ysofUrK0t-dM"
      },
      "source": [
        "seq_len = 120"
      ],
      "execution_count": 20,
      "outputs": []
    },
    {
      "cell_type": "code",
      "metadata": {
        "id": "YUVkdGQJvmwQ"
      },
      "source": [
        "# +1: avoid ind 0 \n",
        "total_num_seq = len(text)//(seq_len+1)"
      ],
      "execution_count": 21,
      "outputs": []
    },
    {
      "cell_type": "code",
      "metadata": {
        "colab": {
          "base_uri": "https://localhost:8080/"
        },
        "id": "YdA6OFj5vrLM",
        "outputId": "d3f3dadc-9181-4ea7-93e1-f87c4f4cf447"
      },
      "source": [
        "total_num_seq"
      ],
      "execution_count": 22,
      "outputs": [
        {
          "output_type": "execute_result",
          "data": {
            "text/plain": [
              "45005"
            ]
          },
          "metadata": {
            "tags": []
          },
          "execution_count": 22
        }
      ]
    },
    {
      "cell_type": "code",
      "metadata": {
        "id": "6jUU_xrnvty9"
      },
      "source": [
        "# Create Training Sequences (dataset)\n",
        "char_dataset = tf.data.Dataset.from_tensor_slices(encoded_text)"
      ],
      "execution_count": 23,
      "outputs": []
    },
    {
      "cell_type": "code",
      "metadata": {
        "colab": {
          "base_uri": "https://localhost:8080/"
        },
        "id": "y5qVMqElvx8c",
        "outputId": "05b6840f-e87e-4d86-d308-b3feef7bbff7"
      },
      "source": [
        "# example\n",
        "for i in char_dataset.take(50):\n",
        "     print(i.numpy())"
      ],
      "execution_count": 24,
      "outputs": [
        {
          "output_type": "stream",
          "text": [
            "0\n",
            "1\n",
            "1\n",
            "1\n",
            "1\n",
            "1\n",
            "1\n",
            "1\n",
            "1\n",
            "1\n",
            "1\n",
            "1\n",
            "1\n",
            "1\n",
            "1\n",
            "1\n",
            "1\n",
            "1\n",
            "1\n",
            "1\n",
            "1\n",
            "1\n",
            "12\n",
            "0\n",
            "1\n",
            "1\n",
            "31\n",
            "73\n",
            "70\n",
            "68\n",
            "1\n",
            "61\n",
            "56\n",
            "64\n",
            "73\n",
            "60\n",
            "74\n",
            "75\n",
            "1\n",
            "58\n",
            "73\n",
            "60\n",
            "56\n",
            "75\n",
            "76\n",
            "73\n",
            "60\n",
            "74\n",
            "1\n",
            "78\n"
          ],
          "name": "stdout"
        }
      ]
    },
    {
      "cell_type": "code",
      "metadata": {
        "colab": {
          "base_uri": "https://localhost:8080/"
        },
        "id": "UNuGngCWvymG",
        "outputId": "8d8be086-23f2-4e5c-b0d2-cdcd72a2cf32"
      },
      "source": [
        "# to char - example\n",
        "for i in char_dataset.take(50):\n",
        "     print(ind_to_char[i.numpy()])"
      ],
      "execution_count": 25,
      "outputs": [
        {
          "output_type": "stream",
          "text": [
            "\n",
            "\n",
            " \n",
            " \n",
            " \n",
            " \n",
            " \n",
            " \n",
            " \n",
            " \n",
            " \n",
            " \n",
            " \n",
            " \n",
            " \n",
            " \n",
            " \n",
            " \n",
            " \n",
            " \n",
            " \n",
            " \n",
            " \n",
            "1\n",
            "\n",
            "\n",
            " \n",
            " \n",
            "F\n",
            "r\n",
            "o\n",
            "m\n",
            " \n",
            "f\n",
            "a\n",
            "i\n",
            "r\n",
            "e\n",
            "s\n",
            "t\n",
            " \n",
            "c\n",
            "r\n",
            "e\n",
            "a\n",
            "t\n",
            "u\n",
            "r\n",
            "e\n",
            "s\n",
            " \n",
            "w\n"
          ],
          "name": "stdout"
        }
      ]
    },
    {
      "cell_type": "markdown",
      "metadata": {
        "id": "w1t9V0vexbsy"
      },
      "source": [
        "The **batch** method converts these individual character calls into sequences we can feed in as a batch. We use seq_len+1 because of zero indexing. Here is what drop_remainder means:\n",
        "\n",
        "drop_remainder: (Optional.) A `tf.bool` scalar `tf.Tensor`, representing\n",
        "    whether the last batch should be dropped in the case it has fewer than\n",
        "    `batch_size` elements; the default behavior is not to drop the smaller\n",
        "    batch.\n"
      ]
    },
    {
      "cell_type": "code",
      "metadata": {
        "id": "oVN_l_PCwLaq"
      },
      "source": [
        "sequences = char_dataset.batch(batch_size=seq_len+1, drop_remainder=True)"
      ],
      "execution_count": 26,
      "outputs": []
    },
    {
      "cell_type": "markdown",
      "metadata": {
        "id": "1KfmfWVmy-Ci"
      },
      "source": [
        "Now that we have our sequences, we will perform the following steps for each one to create our target text sequences:\n",
        "\n",
        "1. Grab the input text sequence\n",
        "2. Assign the target text sequence as the input text sequence shifted by one step forward\n",
        "3. Group them together as a tuple"
      ]
    },
    {
      "cell_type": "code",
      "metadata": {
        "id": "QYdvb9hCy6mZ"
      },
      "source": [
        "def create_seq_targets(seq):\n",
        "    input_txt = seq[:-1] # grab input sequence\n",
        "    target_txt = seq[1:] # shift 1\n",
        "    return input_txt, target_txt # return a tuple"
      ],
      "execution_count": 27,
      "outputs": []
    },
    {
      "cell_type": "code",
      "metadata": {
        "id": "UjmRXIdpzfGk"
      },
      "source": [
        "dataset = sequences.map(create_seq_targets)"
      ],
      "execution_count": 28,
      "outputs": []
    },
    {
      "cell_type": "code",
      "metadata": {
        "colab": {
          "base_uri": "https://localhost:8080/"
        },
        "id": "Yz2J99UHz1WE",
        "outputId": "6f6de606-6ff9-4685-9df9-75f31bb5e3ed"
      },
      "source": [
        "# example\n",
        "for input_txt, target_txt in dataset.take(1):\n",
        "    print(input_txt.numpy())\n",
        "    print(''.join(ind_to_char[input_txt.numpy()]))\n",
        "    print('\\n')\n",
        "\n",
        "    print(target_txt.numpy())\n",
        "    print(''.join(ind_to_char[target_txt.numpy()]))     # There is an extra whitespace at the end!"
      ],
      "execution_count": 29,
      "outputs": [
        {
          "output_type": "stream",
          "text": [
            "[ 0  1  1  1  1  1  1  1  1  1  1  1  1  1  1  1  1  1  1  1  1  1 12  0\n",
            "  1  1 31 73 70 68  1 61 56 64 73 60 74 75  1 58 73 60 56 75 76 73 60 74\n",
            "  1 78 60  1 59 60 74 64 73 60  1 64 69 58 73 60 56 74 60  8  0  1  1 45\n",
            " 63 56 75  1 75 63 60 73 60 57 80  1 57 60 56 76 75 80  5 74  1 73 70 74\n",
            " 60  1 68 64 62 63 75  1 69 60 77 60 73  1 59 64 60  8  0  1  1 27 76 75]\n",
            "\n",
            "                     1\n",
            "  From fairest creatures we desire increase,\n",
            "  That thereby beauty's rose might never die,\n",
            "  But\n",
            "\n",
            "\n",
            "[ 1  1  1  1  1  1  1  1  1  1  1  1  1  1  1  1  1  1  1  1  1 12  0  1\n",
            "  1 31 73 70 68  1 61 56 64 73 60 74 75  1 58 73 60 56 75 76 73 60 74  1\n",
            " 78 60  1 59 60 74 64 73 60  1 64 69 58 73 60 56 74 60  8  0  1  1 45 63\n",
            " 56 75  1 75 63 60 73 60 57 80  1 57 60 56 76 75 80  5 74  1 73 70 74 60\n",
            "  1 68 64 62 63 75  1 69 60 77 60 73  1 59 64 60  8  0  1  1 27 76 75  1]\n",
            "                     1\n",
            "  From fairest creatures we desire increase,\n",
            "  That thereby beauty's rose might never die,\n",
            "  But \n"
          ],
          "name": "stdout"
        }
      ]
    },
    {
      "cell_type": "markdown",
      "metadata": {
        "id": "0IWlj6aY0yWy"
      },
      "source": [
        "### Generating training batches\n",
        "\n",
        "Now that we have the actual sequences, we will create the batches, we want to shuffle these sequences into a random order, so the model doesn't overfit to any section of the text, but can instead generate characters given any seed text."
      ]
    },
    {
      "cell_type": "code",
      "metadata": {
        "id": "XePZ32jP0cQx"
      },
      "source": [
        "# Batch size - 128 sequences per time\n",
        "batch_size = 128"
      ],
      "execution_count": 30,
      "outputs": []
    },
    {
      "cell_type": "code",
      "metadata": {
        "id": "AXsgTXj11uX1"
      },
      "source": [
        "# Buffer size to shuffle the dataset so it doesn't attempt to shuffle the\n",
        "# entire sequence in memory. Instead, it maintains a buffer in which it shuffles elements\n",
        "buffer_size = 10000\n",
        "\n",
        "dataset = dataset.shuffle(buffer_size).batch(batch_size, drop_remainder=True)"
      ],
      "execution_count": 31,
      "outputs": []
    },
    {
      "cell_type": "code",
      "metadata": {
        "colab": {
          "base_uri": "https://localhost:8080/"
        },
        "id": "RX2u_F_w1wIC",
        "outputId": "e5f2ee31-6100-41c4-fa9f-0f011d089dc9"
      },
      "source": [
        "# (input text), (target text), 128 sequences of length 120\n",
        "dataset"
      ],
      "execution_count": 32,
      "outputs": [
        {
          "output_type": "execute_result",
          "data": {
            "text/plain": [
              "<BatchDataset shapes: ((128, 120), (128, 120)), types: (tf.int64, tf.int64)>"
            ]
          },
          "metadata": {
            "tags": []
          },
          "execution_count": 32
        }
      ]
    },
    {
      "cell_type": "markdown",
      "metadata": {
        "id": "TQ8lFWrX2W8J"
      },
      "source": [
        "## Step 4: Creating the Model"
      ]
    },
    {
      "cell_type": "markdown",
      "metadata": {
        "id": "k2xPGFPz2UV-"
      },
      "source": [
        "We will use an LSTM based model with a few extra features, including an embedding layer to start off with and **two** LSTM layers. We based this model architecture off the [DeepMoji](https://deepmoji.mit.edu/) and the original source code can be found [here](https://github.com/bfelbo/DeepMoji).\n",
        "\n",
        "The embedding layer will serve as the input layer, which essentially creates a lookup table that maps the numbers indices of each character to a vector with \"embedding dim\" number of dimensions. As you can imagine, the larger this embedding size, the more complex the training. This is similar to the idea behind word2vec, where words are mapped to some n-dimensional space. Embedding before feeding straight into the LSTM usually leads to more realisitic results."
      ]
    },
    {
      "cell_type": "code",
      "metadata": {
        "id": "Px8Ww6-j2BaA"
      },
      "source": [
        "# Length of the vocabulary in chars\n",
        "vocab_size = len(vocab)\n",
        "\n",
        "# The embedding dimension - more or less the same range as the vocab size\n",
        "embed_dim = 64\n",
        "\n",
        "# Number of RNN units\n",
        "rnn_neurons = 1026"
      ],
      "execution_count": 33,
      "outputs": []
    },
    {
      "cell_type": "markdown",
      "metadata": {
        "id": "7-JGOdTG2tDu"
      },
      "source": [
        "Now let's create a function that easily adapts to different variables as shown above."
      ]
    },
    {
      "cell_type": "markdown",
      "metadata": {
        "id": "keCFnhAI20eW"
      },
      "source": [
        "### Setting up Loss Function\n",
        "\n",
        "For our loss we will use sparse categorical crossentropy, which we can import from Keras. We will also set this as logits=True"
      ]
    },
    {
      "cell_type": "code",
      "metadata": {
        "id": "XGZ5XwGm2wDZ"
      },
      "source": [
        "from tensorflow.keras.losses import sparse_categorical_crossentropy"
      ],
      "execution_count": 34,
      "outputs": []
    },
    {
      "cell_type": "code",
      "metadata": {
        "id": "MFOKTUfg25Zh"
      },
      "source": [
        "# help(sparse_categorical_crossentropy)"
      ],
      "execution_count": 35,
      "outputs": []
    },
    {
      "cell_type": "markdown",
      "metadata": {
        "id": "qb5l5BZo3L7o"
      },
      "source": [
        "https://datascience.stackexchange.com/questions/41921/sparse-categorical-crossentropy-vs-categorical-crossentropy-keras-accuracy"
      ]
    },
    {
      "cell_type": "code",
      "metadata": {
        "id": "vS482kyc2614"
      },
      "source": [
        "# custom loss function - just setting 'from_logits=True'\n",
        "def sparse_cat_loss(y_true,y_pred):\n",
        "  return sparse_categorical_crossentropy(y_true, y_pred, from_logits=True) # True because is hot encoded"
      ],
      "execution_count": 36,
      "outputs": []
    },
    {
      "cell_type": "code",
      "metadata": {
        "id": "ChUL9hVV2puN"
      },
      "source": [
        "from tensorflow.keras.models import Sequential\n",
        "from tensorflow.keras.layers import LSTM, Dense, Embedding, Dropout, GRU"
      ],
      "execution_count": 37,
      "outputs": []
    },
    {
      "cell_type": "code",
      "metadata": {
        "id": "lTzzujfR3V7s"
      },
      "source": [
        "def create_model(vocab_size, embed_dim, rnn_neurons, batch_size):\n",
        "    model = Sequential()\n",
        "\n",
        "    # ebbedding layer\n",
        "    model.add(Embedding(vocab_size, embed_dim,batch_input_shape=[batch_size, None]))\n",
        "\n",
        "    # GRU layer\n",
        "    model.add(GRU(rnn_neurons,return_sequences=True,stateful=True,recurrent_initializer='glorot_uniform'))\n",
        "\n",
        "    # Final Dense Layer to Predict\n",
        "    model.add(Dense(vocab_size))\n",
        "\n",
        "    # this is why we custom our loss fuction, we couldn't take 'from_logits=True'\n",
        "    model.compile(optimizer='adam', loss=sparse_cat_loss) \n",
        "    return model"
      ],
      "execution_count": 38,
      "outputs": []
    },
    {
      "cell_type": "code",
      "metadata": {
        "id": "DkT-dMMt7_nO"
      },
      "source": [
        "model = create_model(\n",
        "  vocab_size = vocab_size,\n",
        "  embed_dim=embed_dim,\n",
        "  rnn_neurons=rnn_neurons,\n",
        "  batch_size=batch_size)"
      ],
      "execution_count": 39,
      "outputs": []
    },
    {
      "cell_type": "code",
      "metadata": {
        "colab": {
          "base_uri": "https://localhost:8080/"
        },
        "id": "E-P0EmDt8S_D",
        "outputId": "b27a70ee-0a7c-4d3d-ba10-079872f0565e"
      },
      "source": [
        "# over 3 million parameters\n",
        "model.summary()"
      ],
      "execution_count": 40,
      "outputs": [
        {
          "output_type": "stream",
          "text": [
            "Model: \"sequential\"\n",
            "_________________________________________________________________\n",
            "Layer (type)                 Output Shape              Param #   \n",
            "=================================================================\n",
            "embedding (Embedding)        (128, None, 64)           5376      \n",
            "_________________________________________________________________\n",
            "gru (GRU)                    (128, None, 1026)         3361176   \n",
            "_________________________________________________________________\n",
            "dense (Dense)                (128, None, 84)           86268     \n",
            "=================================================================\n",
            "Total params: 3,452,820\n",
            "Trainable params: 3,452,820\n",
            "Non-trainable params: 0\n",
            "_________________________________________________________________\n"
          ],
          "name": "stdout"
        }
      ]
    },
    {
      "cell_type": "markdown",
      "metadata": {
        "id": "eTXiA4kh-hqB"
      },
      "source": [
        "## Step 5: Training the model\n",
        "\n",
        "Let's make sure everything is ok with our model before we spend too much time training! Let's pass in a batch to confirm the model currently predicts random characters without any training.\n"
      ]
    },
    {
      "cell_type": "code",
      "metadata": {
        "id": "22KHazd88Un5"
      },
      "source": [
        "for input_example_batch, target_example_batch in dataset.take(1):\n",
        "\n",
        "  # Predict off some random batch\n",
        "  example_batch_predictions = model(input_example_batch)"
      ],
      "execution_count": 41,
      "outputs": []
    },
    {
      "cell_type": "code",
      "metadata": {
        "colab": {
          "base_uri": "https://localhost:8080/"
        },
        "id": "gYk4Jsk4_4C4",
        "outputId": "54756f86-97e2-4f0d-a514-71e7cfc1e87f"
      },
      "source": [
        "# Display the dimensions of the predictions\n",
        "print(example_batch_predictions.shape, \" <=== (batch_size, sequence_length, vocab_size)\")"
      ],
      "execution_count": 42,
      "outputs": [
        {
          "output_type": "stream",
          "text": [
            "(128, 120, 84)  <=== (batch_size, sequence_length, vocab_size)\n"
          ],
          "name": "stdout"
        }
      ]
    },
    {
      "cell_type": "code",
      "metadata": {
        "colab": {
          "base_uri": "https://localhost:8080/"
        },
        "id": "VyX7VUUAABa5",
        "outputId": "197aa780-239d-46ce-d315-b8f60891a5ab"
      },
      "source": [
        "# bunch of probabilities\n",
        "example_batch_predictions[0]"
      ],
      "execution_count": 43,
      "outputs": [
        {
          "output_type": "execute_result",
          "data": {
            "text/plain": [
              "<tf.Tensor: shape=(120, 84), dtype=float32, numpy=\n",
              "array([[ 2.2651225e-03,  4.2362134e-03,  7.9701003e-03, ...,\n",
              "         2.7453364e-03,  5.3335740e-03, -3.6167685e-04],\n",
              "       [-1.8203349e-03, -1.2814200e-03, -4.1319137e-03, ...,\n",
              "         9.3049504e-04,  4.2154975e-03, -2.1727295e-03],\n",
              "       [ 1.0184464e-02,  6.6103837e-03, -3.6684514e-04, ...,\n",
              "         6.0710083e-03,  9.5062172e-03,  2.4454057e-04],\n",
              "       ...,\n",
              "       [-1.0415519e-03, -4.6648504e-04, -2.9199801e-03, ...,\n",
              "         5.8670726e-04,  1.4195786e-02, -1.2188540e-03],\n",
              "       [-3.2216355e-03,  1.2084367e-02,  3.1386609e-03, ...,\n",
              "        -1.2192044e-03,  3.2164655e-03,  3.5958568e-05],\n",
              "       [ 7.6738838e-03,  1.2011437e-02,  5.6343707e-03, ...,\n",
              "         3.3168532e-03,  8.3425911e-03,  8.8554836e-04]], dtype=float32)>"
            ]
          },
          "metadata": {
            "tags": []
          },
          "execution_count": 43
        }
      ]
    },
    {
      "cell_type": "code",
      "metadata": {
        "id": "jRFR8yOIAUAI"
      },
      "source": [
        "sampled_indices = tf.random.categorical(example_batch_predictions[0], num_samples=1)"
      ],
      "execution_count": 44,
      "outputs": []
    },
    {
      "cell_type": "code",
      "metadata": {
        "colab": {
          "base_uri": "https://localhost:8080/"
        },
        "id": "9uDUnrr9AlDi",
        "outputId": "bbc2b3c1-a8f8-4c4c-ca6e-bad841e3c3a0"
      },
      "source": [
        "sampled_indices"
      ],
      "execution_count": 45,
      "outputs": [
        {
          "output_type": "execute_result",
          "data": {
            "text/plain": [
              "<tf.Tensor: shape=(120, 1), dtype=int64, numpy=\n",
              "array([[44],\n",
              "       [65],\n",
              "       [55],\n",
              "       [48],\n",
              "       [67],\n",
              "       [41],\n",
              "       [51],\n",
              "       [42],\n",
              "       [55],\n",
              "       [62],\n",
              "       [ 0],\n",
              "       [74],\n",
              "       [25],\n",
              "       [18],\n",
              "       [48],\n",
              "       [27],\n",
              "       [39],\n",
              "       [49],\n",
              "       [10],\n",
              "       [49],\n",
              "       [48],\n",
              "       [80],\n",
              "       [67],\n",
              "       [54],\n",
              "       [61],\n",
              "       [ 2],\n",
              "       [78],\n",
              "       [56],\n",
              "       [70],\n",
              "       [35],\n",
              "       [ 2],\n",
              "       [11],\n",
              "       [74],\n",
              "       [ 1],\n",
              "       [77],\n",
              "       [74],\n",
              "       [24],\n",
              "       [30],\n",
              "       [22],\n",
              "       [42],\n",
              "       [20],\n",
              "       [44],\n",
              "       [35],\n",
              "       [49],\n",
              "       [13],\n",
              "       [48],\n",
              "       [56],\n",
              "       [22],\n",
              "       [36],\n",
              "       [42],\n",
              "       [ 8],\n",
              "       [55],\n",
              "       [31],\n",
              "       [ 9],\n",
              "       [38],\n",
              "       [33],\n",
              "       [11],\n",
              "       [50],\n",
              "       [32],\n",
              "       [81],\n",
              "       [22],\n",
              "       [68],\n",
              "       [74],\n",
              "       [48],\n",
              "       [16],\n",
              "       [46],\n",
              "       [73],\n",
              "       [54],\n",
              "       [ 9],\n",
              "       [17],\n",
              "       [21],\n",
              "       [33],\n",
              "       [79],\n",
              "       [25],\n",
              "       [30],\n",
              "       [73],\n",
              "       [61],\n",
              "       [ 8],\n",
              "       [36],\n",
              "       [82],\n",
              "       [34],\n",
              "       [31],\n",
              "       [30],\n",
              "       [52],\n",
              "       [59],\n",
              "       [51],\n",
              "       [50],\n",
              "       [38],\n",
              "       [58],\n",
              "       [53],\n",
              "       [25],\n",
              "       [29],\n",
              "       [45],\n",
              "       [47],\n",
              "       [27],\n",
              "       [24],\n",
              "       [69],\n",
              "       [12],\n",
              "       [44],\n",
              "       [ 9],\n",
              "       [35],\n",
              "       [72],\n",
              "       [ 9],\n",
              "       [82],\n",
              "       [82],\n",
              "       [24],\n",
              "       [62],\n",
              "       [77],\n",
              "       [14],\n",
              "       [38],\n",
              "       [23],\n",
              "       [34],\n",
              "       [62],\n",
              "       [41],\n",
              "       [63],\n",
              "       [75],\n",
              "       [36],\n",
              "       [27],\n",
              "       [ 8],\n",
              "       [79]])>"
            ]
          },
          "metadata": {
            "tags": []
          },
          "execution_count": 45
        }
      ]
    },
    {
      "cell_type": "code",
      "metadata": {
        "id": "eE3Vu2r2Al_C"
      },
      "source": [
        "# Reformat to not be a lists of lists\n",
        "sampled_indices = tf.squeeze(sampled_indices,axis=-1).numpy()"
      ],
      "execution_count": 46,
      "outputs": []
    },
    {
      "cell_type": "code",
      "metadata": {
        "colab": {
          "base_uri": "https://localhost:8080/"
        },
        "id": "gZnv-62jAyuD",
        "outputId": "bd8c736a-d1d7-4a72-9a11-b575ce84ed41"
      },
      "source": [
        "sampled_indices"
      ],
      "execution_count": 47,
      "outputs": [
        {
          "output_type": "execute_result",
          "data": {
            "text/plain": [
              "array([44, 65, 55, 48, 67, 41, 51, 42, 55, 62,  0, 74, 25, 18, 48, 27, 39,\n",
              "       49, 10, 49, 48, 80, 67, 54, 61,  2, 78, 56, 70, 35,  2, 11, 74,  1,\n",
              "       77, 74, 24, 30, 22, 42, 20, 44, 35, 49, 13, 48, 56, 22, 36, 42,  8,\n",
              "       55, 31,  9, 38, 33, 11, 50, 32, 81, 22, 68, 74, 48, 16, 46, 73, 54,\n",
              "        9, 17, 21, 33, 79, 25, 30, 73, 61,  8, 36, 82, 34, 31, 30, 52, 59,\n",
              "       51, 50, 38, 58, 53, 25, 29, 45, 47, 27, 24, 69, 12, 44,  9, 35, 72,\n",
              "        9, 82, 82, 24, 62, 77, 14, 38, 23, 34, 62, 41, 63, 75, 36, 27,  8,\n",
              "       79])"
            ]
          },
          "metadata": {
            "tags": []
          },
          "execution_count": 47
        }
      ]
    },
    {
      "cell_type": "code",
      "metadata": {
        "colab": {
          "base_uri": "https://localhost:8080/"
        },
        "id": "QvFSAvdCAznr",
        "outputId": "886b9b0c-3658-43d3-80aa-a32a736a10d0"
      },
      "source": [
        "ind_to_char[sampled_indices]"
      ],
      "execution_count": 48,
      "outputs": [
        {
          "output_type": "execute_result",
          "data": {
            "text/plain": [
              "array(['S', 'j', '`', 'W', 'l', 'P', 'Z', 'Q', '`', 'g', '\\n', 's', '?',\n",
              "       '7', 'W', 'B', 'N', 'X', '.', 'X', 'W', 'y', 'l', '_', 'f', '!',\n",
              "       'w', 'a', 'o', 'J', '!', '0', 's', ' ', 'v', 's', '>', 'E', ';',\n",
              "       'Q', '9', 'S', 'J', 'X', '2', 'W', 'a', ';', 'K', 'Q', ',', '`',\n",
              "       'F', '-', 'M', 'H', '0', 'Y', 'G', 'z', ';', 'm', 's', 'W', '5',\n",
              "       'U', 'r', '_', '-', '6', ':', 'H', 'x', '?', 'E', 'r', 'f', ',',\n",
              "       'K', '|', 'I', 'F', 'E', '[', 'd', 'Z', 'Y', 'M', 'c', ']', '?',\n",
              "       'D', 'T', 'V', 'B', '>', 'n', '1', 'S', '-', 'J', 'q', '-', '|',\n",
              "       '|', '>', 'g', 'v', '3', 'M', '<', 'I', 'g', 'P', 'h', 't', 'K',\n",
              "       'B', ',', 'x'], dtype='<U1')"
            ]
          },
          "metadata": {
            "tags": []
          },
          "execution_count": 48
        }
      ]
    },
    {
      "cell_type": "code",
      "metadata": {
        "colab": {
          "base_uri": "https://localhost:8080/"
        },
        "id": "8hpLHql5A9BV",
        "outputId": "86bd325d-f377-44a7-a704-d80ca794dd5c"
      },
      "source": [
        "print(\"Given the input seq: \\n\")\n",
        "print(\"\".join(ind_to_char[input_example_batch[0]]))\n",
        "print('\\n')\n",
        "print(\"Next Char Predictions: \\n\")\n",
        "print(\"\".join(ind_to_char[sampled_indices ]))"
      ],
      "execution_count": 49,
      "outputs": [
        {
          "output_type": "stream",
          "text": [
            "Given the input seq: \n",
            "\n",
            "miling to my heart; in grace whereof,\n",
            "    No jocund health that Denmark drinks to-day\n",
            "    But the great cannon to the cl\n",
            "\n",
            "\n",
            "Next Char Predictions: \n",
            "\n",
            "Sj`WlPZQ`g\n",
            "s?7WBNX.XWyl_f!waoJ!0s vs>E;Q9SJX2Wa;KQ,`F-MH0YGz;msW5Ur_-6:Hx?Erf,K|IFE[dZYMc]?DTVB>n1S-Jq-||>gv3M<IgPhtKB,x\n"
          ],
          "name": "stdout"
        }
      ]
    },
    {
      "cell_type": "markdown",
      "metadata": {
        "id": "VJGjWrIjCGIt"
      },
      "source": [
        "### Train our network!"
      ]
    },
    {
      "cell_type": "code",
      "metadata": {
        "id": "dr3U4DHrClP2"
      },
      "source": [
        "from tensorflow.keras.callbacks import EarlyStopping"
      ],
      "execution_count": 51,
      "outputs": []
    },
    {
      "cell_type": "code",
      "metadata": {
        "id": "-9XaguNXCqiH"
      },
      "source": [
        "early_stop = EarlyStopping(monitor='loss', patience=2)"
      ],
      "execution_count": 52,
      "outputs": []
    },
    {
      "cell_type": "code",
      "metadata": {
        "colab": {
          "base_uri": "https://localhost:8080/"
        },
        "id": "zo4DXDYNB6as",
        "outputId": "f57879c1-20bf-4333-ae3c-e33b87dcd7aa"
      },
      "source": [
        "model.fit(dataset,epochs=30, callbacks=[early_stop])"
      ],
      "execution_count": 53,
      "outputs": [
        {
          "output_type": "stream",
          "text": [
            "Epoch 1/30\n",
            "351/351 [==============================] - 53s 148ms/step - loss: 1.5667\n",
            "Epoch 2/30\n",
            "351/351 [==============================] - 53s 147ms/step - loss: 1.3877\n",
            "Epoch 3/30\n",
            "351/351 [==============================] - 51s 142ms/step - loss: 1.3036\n",
            "Epoch 4/30\n",
            "351/351 [==============================] - 53s 149ms/step - loss: 1.2541\n",
            "Epoch 5/30\n",
            "351/351 [==============================] - 51s 142ms/step - loss: 1.2196\n",
            "Epoch 6/30\n",
            "351/351 [==============================] - 53s 147ms/step - loss: 1.1933\n",
            "Epoch 7/30\n",
            "351/351 [==============================] - 51s 143ms/step - loss: 1.1715\n",
            "Epoch 8/30\n",
            "351/351 [==============================] - 52s 145ms/step - loss: 1.1532\n",
            "Epoch 9/30\n",
            "351/351 [==============================] - 51s 144ms/step - loss: 1.1364\n",
            "Epoch 10/30\n",
            "351/351 [==============================] - 53s 149ms/step - loss: 1.1217\n",
            "Epoch 11/30\n",
            "351/351 [==============================] - 53s 148ms/step - loss: 1.1074\n",
            "Epoch 12/30\n",
            "351/351 [==============================] - 51s 142ms/step - loss: 1.0950\n",
            "Epoch 13/30\n",
            "351/351 [==============================] - 53s 147ms/step - loss: 1.0826\n",
            "Epoch 14/30\n",
            "351/351 [==============================] - 51s 143ms/step - loss: 1.0703\n",
            "Epoch 15/30\n",
            "351/351 [==============================] - 52s 145ms/step - loss: 1.0593\n",
            "Epoch 16/30\n",
            "351/351 [==============================] - 51s 143ms/step - loss: 1.0483\n",
            "Epoch 17/30\n",
            "351/351 [==============================] - 53s 148ms/step - loss: 1.0391\n",
            "Epoch 18/30\n",
            "351/351 [==============================] - 53s 148ms/step - loss: 1.0297\n",
            "Epoch 19/30\n",
            "351/351 [==============================] - 51s 142ms/step - loss: 1.0216\n",
            "Epoch 20/30\n",
            "351/351 [==============================] - 54s 150ms/step - loss: 1.0127\n",
            "Epoch 21/30\n",
            "351/351 [==============================] - 51s 142ms/step - loss: 1.0063\n",
            "Epoch 22/30\n",
            "351/351 [==============================] - 52s 146ms/step - loss: 0.9997\n",
            "Epoch 23/30\n",
            "351/351 [==============================] - 53s 148ms/step - loss: 0.9935\n",
            "Epoch 24/30\n",
            "351/351 [==============================] - 53s 148ms/step - loss: 0.9881\n",
            "Epoch 25/30\n",
            "351/351 [==============================] - 53s 148ms/step - loss: 0.9834\n",
            "Epoch 26/30\n",
            "351/351 [==============================] - 51s 142ms/step - loss: 0.9788\n",
            "Epoch 27/30\n",
            "351/351 [==============================] - 54s 150ms/step - loss: 0.9754\n",
            "Epoch 28/30\n",
            "351/351 [==============================] - 53s 148ms/step - loss: 0.9722\n",
            "Epoch 29/30\n",
            "351/351 [==============================] - 51s 143ms/step - loss: 0.9690\n",
            "Epoch 30/30\n",
            "351/351 [==============================] - 52s 144ms/step - loss: 0.9669\n"
          ],
          "name": "stdout"
        },
        {
          "output_type": "execute_result",
          "data": {
            "text/plain": [
              "<tensorflow.python.keras.callbacks.History at 0x7fe4e7e79bd0>"
            ]
          },
          "metadata": {
            "tags": []
          },
          "execution_count": 53
        }
      ]
    },
    {
      "cell_type": "code",
      "metadata": {
        "colab": {
          "base_uri": "https://localhost:8080/",
          "height": 320
        },
        "id": "HeZ1K_MqCOT1",
        "outputId": "77be4f1b-6c17-4053-94a5-80c7f4b1cd0e"
      },
      "source": [
        "pd.DataFrame(model.history.history).plot(figsize=(8,5))\n",
        "plt.show()"
      ],
      "execution_count": 57,
      "outputs": [
        {
          "output_type": "display_data",
          "data": {
            "image/png": "[encoded data removed]",
            "text/plain": [
              "<Figure size 576x360 with 1 Axes>"
            ]
          },
          "metadata": {
            "tags": [],
            "needs_background": "light"
          }
        }
      ]
    },
    {
      "cell_type": "markdown",
      "metadata": {
        "id": "BJxy5pXPLwTJ"
      },
      "source": [
        "### Saving model"
      ]
    },
    {
      "cell_type": "code",
      "metadata": {
        "id": "c2XnLFaZK1FG"
      },
      "source": [
        "model.save('shakespeare_text_gen.h5')"
      ],
      "execution_count": 58,
      "outputs": []
    },
    {
      "cell_type": "markdown",
      "metadata": {
        "id": "GwUal9imL6sm"
      },
      "source": [
        "## Evaluating the model"
      ]
    },
    {
      "cell_type": "code",
      "metadata": {
        "id": "0Jp5BxZiMtI0"
      },
      "source": [
        "from tensorflow.keras.models import load_model"
      ],
      "execution_count": 69,
      "outputs": []
    },
    {
      "cell_type": "code",
      "metadata": {
        "id": "Ul7cYKi9MstE"
      },
      "source": [
        "# importing the model in a different way\n",
        "model = create_model(vocab_size, embed_dim, rnn_neurons, batch_size=1)\n",
        "\n",
        "model.load_weights('shakespeare_text_gen.h5')\n",
        "\n",
        "model.build(tf.TensorShape([1, None]))"
      ],
      "execution_count": 70,
      "outputs": []
    },
    {
      "cell_type": "code",
      "metadata": {
        "id": "hFctD1YCLPjg"
      },
      "source": [
        "def generate_text(model, start_seed,gen_size=100,temp=1.0):\n",
        "  '''\n",
        "  model: Trained Model to Generate Text\n",
        "  start_seed: Intial Seed text in string form\n",
        "  gen_size: Number of characters to generate\n",
        "\n",
        "  Basic idea behind this function is to take in some seed text, format it so\n",
        "  that it is in the correct shape for our network, then loop the sequence as\n",
        "  we keep adding our own predicted characters. Similar to our work in the RNN\n",
        "  time series problems.\n",
        "  '''\n",
        "\n",
        "  # Number of characters to generate\n",
        "  num_generate = gen_size\n",
        "\n",
        "  # Vecotrizing starting seed text\n",
        "  input_eval = [char_to_ind[s] for s in start_seed]\n",
        "\n",
        "  # Expand to match batch format shape\n",
        "  input_eval = tf.expand_dims(input_eval, 0)\n",
        "\n",
        "  # Empty list to hold resulting generated text\n",
        "  text_generated = []\n",
        "\n",
        "  # Temperature effects randomness in our resulting text\n",
        "  # The term is derived from entropy/thermodynamics.\n",
        "  # The temperature is used to effect probability of next characters.\n",
        "  # Higher probability == lesss surprising/ more expected\n",
        "  # Lower temperature == more surprising / less expected\n",
        " \n",
        "  temperature = temp\n",
        "\n",
        "  # Here batch size == 1\n",
        "  model.reset_states()\n",
        "\n",
        "  for i in range(num_generate):\n",
        "\n",
        "      # Generate Predictions\n",
        "      predictions = model(input_eval)\n",
        "\n",
        "      # Remove the batch shape dimension\n",
        "      predictions = tf.squeeze(predictions, 0)\n",
        "\n",
        "      # Use a cateogircal disitribution to select the next character\n",
        "      predictions = predictions / temperature\n",
        "      predicted_id = tf.random.categorical(predictions, num_samples=1)[-1,0].numpy()\n",
        "\n",
        "      # Pass the predicted charracter for the next input\n",
        "      input_eval = tf.expand_dims([predicted_id], 0)\n",
        "\n",
        "      # Transform back to character letter\n",
        "      text_generated.append(ind_to_char[predicted_id])\n",
        "\n",
        "  return (start_seed + ''.join(text_generated))"
      ],
      "execution_count": 71,
      "outputs": []
    },
    {
      "cell_type": "code",
      "metadata": {
        "colab": {
          "base_uri": "https://localhost:8080/"
        },
        "id": "qtbM8RmuMuhY",
        "outputId": "a205cc19-72bc-4d04-ddf1-a53147b849d8"
      },
      "source": [
        "print(generate_text(model,\"JULIET\",gen_size=500))"
      ],
      "execution_count": 72,
      "outputs": [
        {
          "output_type": "stream",
          "text": [
            "JULIETH. Why?\n",
            "  IACHIMO. That which we offer to me.\n",
            "  LUCENTIO. Sir, 'tis too sad broad.'\n",
            "  TROILUS. Farewell.\n",
            "  AJAX. Alas!\n",
            "  THERSITES. Sure he has not so much truly liep upon you. We dwell\n",
            "    there must all they entle is but a dan's baskin?\n",
            "DROMIO OF EPHESUS. Ay, for my Lord Claudio, let me know.\n",
            "    I did not get my word for joy in any kind.\n",
            "    He hath no still an antic Cyrimius.\n",
            "    Take this for some good messenger.\n",
            "  DESDEMONA. Why, then, there comes it straight, you mean and shame to fear\n",
            "  \n"
          ],
          "name": "stdout"
        }
      ]
    },
    {
      "cell_type": "code",
      "metadata": {
        "colab": {
          "base_uri": "https://localhost:8080/"
        },
        "id": "dDWoK3PbNZgm",
        "outputId": "21a635f3-30a7-4321-ccd3-d3f7865d4301"
      },
      "source": [
        "print(generate_text(model,\"From fairest creatures\",gen_size=500))"
      ],
      "execution_count": 75,
      "outputs": [
        {
          "output_type": "stream",
          "text": [
            "From fairest creatures\n",
            "    To quickly part the juiches of their mercy.\n",
            "  Rom. This day,\n",
            "    Let them be distemper'd from my eyes.\n",
            "  AARON. MASTINE. To be a fresher descriptioning than half, est,\n",
            "    For I did the petty wretch were they as life\n",
            "    Than you shall sun; and finding trans that we\n",
            "    Must be that neither; but I know it is;\n",
            "    His humour or my gentle and distempered.\n",
            "  OXFORD. My Lord Aumerle.\n",
            "  SEBASTIAN. A heart i' th' town!\n",
            "  SECOND SERVANT. Ay, and well favours reason.\n",
            "  SEBASTIAN. Why is this Dromio\n"
          ],
          "name": "stdout"
        }
      ]
    }
  ]
}