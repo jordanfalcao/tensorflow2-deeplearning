{
  "nbformat": 4,
  "nbformat_minor": 0,
  "metadata": {
    "colab": {
      "name": "02-DCGANS.ipynb",
      "provenance": []
    },
    "kernelspec": {
      "name": "python3",
      "display_name": "Python 3"
    },
    "language_info": {
      "name": "python"
    },
    "accelerator": "GPU"
  },
  "cells": [
    {
      "cell_type": "markdown",
      "metadata": {
        "id": "PViP4prPhVJ2"
      },
      "source": [
        "# GANs - Generative Adverserial Networks"
      ]
    },
    {
      "cell_type": "code",
      "metadata": {
        "id": "AMSSUw-XVhRZ"
      },
      "source": [
        "import pandas as pd\n",
        "import numpy as np\n",
        "import matplotlib.pyplot as plt\n",
        "import tensorflow as tf"
      ],
      "execution_count": 23,
      "outputs": []
    },
    {
      "cell_type": "code",
      "metadata": {
        "id": "Ymcd3VRtn4zQ"
      },
      "source": [
        "from tensorflow.keras.datasets import mnist"
      ],
      "execution_count": 2,
      "outputs": []
    },
    {
      "cell_type": "code",
      "metadata": {
        "colab": {
          "base_uri": "https://localhost:8080/"
        },
        "id": "KcTJEXRBoEOM",
        "outputId": "ab860a7b-50f5-460c-d387-4f84a1838d85"
      },
      "source": [
        "(X_train, y_train), (X_test, y_test) = mnist.load_data()"
      ],
      "execution_count": 3,
      "outputs": [
        {
          "output_type": "stream",
          "text": [
            "Downloading data from https://storage.googleapis.com/tensorflow/tf-keras-datasets/mnist.npz\n",
            "11493376/11490434 [==============================] - 0s 0us/step\n"
          ],
          "name": "stdout"
        }
      ]
    },
    {
      "cell_type": "code",
      "metadata": {
        "colab": {
          "base_uri": "https://localhost:8080/",
          "height": 265
        },
        "id": "Lrh8pKr_oFij",
        "outputId": "1529c245-1802-4c5f-b335-daa7a196a286"
      },
      "source": [
        "plt.imshow(X_train[0])\n",
        "plt.show()"
      ],
      "execution_count": 4,
      "outputs": [
        {
          "output_type": "display_data",
          "data": {
            "image/png": "[encoded data removed]",
            "text/plain": [
              "<Figure size 432x288 with 1 Axes>"
            ]
          },
          "metadata": {
            "tags": [],
            "needs_background": "light"
          }
        }
      ]
    },
    {
      "cell_type": "code",
      "metadata": {
        "colab": {
          "base_uri": "https://localhost:8080/"
        },
        "id": "jNUt-olboINM",
        "outputId": "b0fa3088-0521-45b4-f437-7e82568db0b8"
      },
      "source": [
        "y_train"
      ],
      "execution_count": 5,
      "outputs": [
        {
          "output_type": "execute_result",
          "data": {
            "text/plain": [
              "array([5, 0, 4, ..., 5, 6, 8], dtype=uint8)"
            ]
          },
          "metadata": {
            "tags": []
          },
          "execution_count": 5
        }
      ]
    },
    {
      "cell_type": "markdown",
      "metadata": {
        "id": "5fJgvkchoMpW"
      },
      "source": [
        "## Reshape and Rescale Images for DCGAN\n",
        "\n",
        "Generator will use tanh activation function for the last layer, so we want to reshape X_train to be within -1 to 1 limits."
      ]
    },
    {
      "cell_type": "code",
      "metadata": {
        "id": "lw9qSuVUoJrn"
      },
      "source": [
        "X_train = X_train/255"
      ],
      "execution_count": 6,
      "outputs": []
    },
    {
      "cell_type": "code",
      "metadata": {
        "id": "AbQf55pEoOTF"
      },
      "source": [
        "X_train = X_train.reshape(-1, 28, 28, 1) * 2. - 1."
      ],
      "execution_count": 7,
      "outputs": []
    },
    {
      "cell_type": "code",
      "metadata": {
        "colab": {
          "base_uri": "https://localhost:8080/"
        },
        "id": "HqcoQhAMoPeK",
        "outputId": "928596a0-5481-4bf2-8a7a-4afa78bf0d01"
      },
      "source": [
        "X_train.min()"
      ],
      "execution_count": 8,
      "outputs": [
        {
          "output_type": "execute_result",
          "data": {
            "text/plain": [
              "-1.0"
            ]
          },
          "metadata": {
            "tags": []
          },
          "execution_count": 8
        }
      ]
    },
    {
      "cell_type": "code",
      "metadata": {
        "colab": {
          "base_uri": "https://localhost:8080/"
        },
        "id": "CQpX_sn0oQ8j",
        "outputId": "7432949b-f83d-42ea-b7c2-aa1f6094c4fc"
      },
      "source": [
        "X_train.max()"
      ],
      "execution_count": 9,
      "outputs": [
        {
          "output_type": "execute_result",
          "data": {
            "text/plain": [
              "1.0"
            ]
          },
          "metadata": {
            "tags": []
          },
          "execution_count": 9
        }
      ]
    },
    {
      "cell_type": "markdown",
      "metadata": {
        "id": "0YkeN_QeoUcN"
      },
      "source": [
        "## Filtering out the Data for Faster Training on Smaller Dataset"
      ]
    },
    {
      "cell_type": "code",
      "metadata": {
        "id": "R0U3Xi7DoSBh"
      },
      "source": [
        "only_zeros = X_train[y_train==0]"
      ],
      "execution_count": 10,
      "outputs": []
    },
    {
      "cell_type": "code",
      "metadata": {
        "colab": {
          "base_uri": "https://localhost:8080/"
        },
        "id": "vtTriCVAoWAp",
        "outputId": "823d2ad3-82d4-43c5-da00-174a3a3138c8"
      },
      "source": [
        "only_zeros.shape"
      ],
      "execution_count": 11,
      "outputs": [
        {
          "output_type": "execute_result",
          "data": {
            "text/plain": [
              "(5923, 28, 28, 1)"
            ]
          },
          "metadata": {
            "tags": []
          },
          "execution_count": 11
        }
      ]
    },
    {
      "cell_type": "code",
      "metadata": {
        "id": "aSDIeMaroXBV"
      },
      "source": [
        "import tensorflow as tf\n",
        "from tensorflow.keras.layers import Dense,Reshape,Dropout,LeakyReLU,Flatten,BatchNormalization,Conv2D,Conv2DTranspose\n",
        "from tensorflow.keras.models import Sequential"
      ],
      "execution_count": 12,
      "outputs": []
    },
    {
      "cell_type": "code",
      "metadata": {
        "id": "ca7MMx7woYMp"
      },
      "source": [
        "np.random.seed(42)\n",
        "tf.random.set_seed(42)\n",
        "\n",
        "codings_size = 100"
      ],
      "execution_count": 13,
      "outputs": []
    },
    {
      "cell_type": "code",
      "metadata": {
        "id": "HJnamVunoZpQ"
      },
      "source": [
        "generator = Sequential()\n",
        "\n",
        "generator.add(Dense(7 * 7 * 128, input_shape=[codings_size]))\n",
        "generator.add(Reshape([7, 7, 128]))\n",
        "generator.add(BatchNormalization())\n",
        "generator.add(Conv2DTranspose(64, kernel_size=5, strides=2, padding=\"same\",\n",
        "                                 activation=\"relu\"))\n",
        "generator.add(BatchNormalization())\n",
        "\n",
        "generator.add(Conv2DTranspose(1, kernel_size=5, strides=2, padding=\"same\",\n",
        "                                 activation=\"tanh\"))"
      ],
      "execution_count": 14,
      "outputs": []
    },
    {
      "cell_type": "code",
      "metadata": {
        "id": "8wvKge31offp"
      },
      "source": [
        "discriminator = Sequential()\n",
        "\n",
        "discriminator.add(Conv2D(64, kernel_size=5, strides=2, padding=\"same\",\n",
        "                        activation=LeakyReLU(0.3),\n",
        "                        input_shape=[28, 28, 1]))\n",
        "discriminator.add(Dropout(0.5))\n",
        "discriminator.add(Conv2D(128, kernel_size=5, strides=2, padding=\"same\",\n",
        "                        activation=LeakyReLU(0.3)))\n",
        "discriminator.add(Dropout(0.5))\n",
        "discriminator.add(Flatten())\n",
        "# sigmoid - 0 or 1\n",
        "discriminator.add(Dense(1, activation=\"sigmoid\"))"
      ],
      "execution_count": 15,
      "outputs": []
    },
    {
      "cell_type": "code",
      "metadata": {
        "id": "GSJJ_vwYokg0"
      },
      "source": [
        "GAN = Sequential([generator, discriminator])"
      ],
      "execution_count": 16,
      "outputs": []
    },
    {
      "cell_type": "code",
      "metadata": {
        "id": "PgV2tivwomyv"
      },
      "source": [
        "discriminator.compile(loss=\"binary_crossentropy\", optimizer=\"adam\")\n",
        "discriminator.trainable = False"
      ],
      "execution_count": 17,
      "outputs": []
    },
    {
      "cell_type": "code",
      "metadata": {
        "id": "vBgSDjMqopVp"
      },
      "source": [
        "GAN.compile(loss=\"binary_crossentropy\", optimizer=\"adam\")"
      ],
      "execution_count": 18,
      "outputs": []
    },
    {
      "cell_type": "code",
      "metadata": {
        "colab": {
          "base_uri": "https://localhost:8080/"
        },
        "id": "vkm-562Jo0VR",
        "outputId": "46d0740f-4b1b-4678-9934-c1be58fbafb0"
      },
      "source": [
        "GAN.layers"
      ],
      "execution_count": 19,
      "outputs": [
        {
          "output_type": "execute_result",
          "data": {
            "text/plain": [
              "[<tensorflow.python.keras.engine.sequential.Sequential at 0x7fe08c8f9410>,\n",
              " <tensorflow.python.keras.engine.sequential.Sequential at 0x7fe080036650>]"
            ]
          },
          "metadata": {
            "tags": []
          },
          "execution_count": 19
        }
      ]
    },
    {
      "cell_type": "code",
      "metadata": {
        "colab": {
          "base_uri": "https://localhost:8080/"
        },
        "id": "D9skPPwbo2BD",
        "outputId": "8062bddb-610c-4c97-db39-e31dd001a37d"
      },
      "source": [
        "GAN.summary()"
      ],
      "execution_count": 20,
      "outputs": [
        {
          "output_type": "stream",
          "text": [
            "Model: \"sequential_2\"\n",
            "_________________________________________________________________\n",
            "Layer (type)                 Output Shape              Param #   \n",
            "=================================================================\n",
            "sequential (Sequential)      (None, 28, 28, 1)         840705    \n",
            "_________________________________________________________________\n",
            "sequential_1 (Sequential)    (None, 1)                 212865    \n",
            "=================================================================\n",
            "Total params: 1,053,570\n",
            "Trainable params: 840,321\n",
            "Non-trainable params: 213,249\n",
            "_________________________________________________________________\n"
          ],
          "name": "stdout"
        }
      ]
    },
    {
      "cell_type": "code",
      "metadata": {
        "colab": {
          "base_uri": "https://localhost:8080/"
        },
        "id": "VLggDgKoo3-Q",
        "outputId": "b96c7a0b-b4cd-4e43-a6f9-edcbdadd7800"
      },
      "source": [
        "# generator\n",
        "GAN.layers[0].summary()"
      ],
      "execution_count": 21,
      "outputs": [
        {
          "output_type": "stream",
          "text": [
            "Model: \"sequential\"\n",
            "_________________________________________________________________\n",
            "Layer (type)                 Output Shape              Param #   \n",
            "=================================================================\n",
            "dense (Dense)                (None, 6272)              633472    \n",
            "_________________________________________________________________\n",
            "reshape (Reshape)            (None, 7, 7, 128)         0         \n",
            "_________________________________________________________________\n",
            "batch_normalization (BatchNo (None, 7, 7, 128)         512       \n",
            "_________________________________________________________________\n",
            "conv2d_transpose (Conv2DTran (None, 14, 14, 64)        204864    \n",
            "_________________________________________________________________\n",
            "batch_normalization_1 (Batch (None, 14, 14, 64)        256       \n",
            "_________________________________________________________________\n",
            "conv2d_transpose_1 (Conv2DTr (None, 28, 28, 1)         1601      \n",
            "=================================================================\n",
            "Total params: 840,705\n",
            "Trainable params: 840,321\n",
            "Non-trainable params: 384\n",
            "_________________________________________________________________\n"
          ],
          "name": "stdout"
        }
      ]
    },
    {
      "cell_type": "code",
      "metadata": {
        "colab": {
          "base_uri": "https://localhost:8080/"
        },
        "id": "V-ADhxyHo50C",
        "outputId": "8ed37f94-244d-4f71-cc5b-6cf87a120071"
      },
      "source": [
        "# discriminator\n",
        "GAN.layers[1].summary()"
      ],
      "execution_count": 22,
      "outputs": [
        {
          "output_type": "stream",
          "text": [
            "Model: \"sequential_1\"\n",
            "_________________________________________________________________\n",
            "Layer (type)                 Output Shape              Param #   \n",
            "=================================================================\n",
            "conv2d (Conv2D)              (None, 14, 14, 64)        1664      \n",
            "_________________________________________________________________\n",
            "dropout (Dropout)            (None, 14, 14, 64)        0         \n",
            "_________________________________________________________________\n",
            "conv2d_1 (Conv2D)            (None, 7, 7, 128)         204928    \n",
            "_________________________________________________________________\n",
            "dropout_1 (Dropout)          (None, 7, 7, 128)         0         \n",
            "_________________________________________________________________\n",
            "flatten (Flatten)            (None, 6272)              0         \n",
            "_________________________________________________________________\n",
            "dense_1 (Dense)              (None, 1)                 6273      \n",
            "=================================================================\n",
            "Total params: 212,865\n",
            "Trainable params: 0\n",
            "Non-trainable params: 212,865\n",
            "_________________________________________________________________\n"
          ],
          "name": "stdout"
        }
      ]
    },
    {
      "cell_type": "markdown",
      "metadata": {
        "id": "fzkf3ANpo_VF"
      },
      "source": [
        "### Setting up Training Batches"
      ]
    },
    {
      "cell_type": "code",
      "metadata": {
        "id": "8zq2nicSo77Y"
      },
      "source": [
        "batch_size = 32"
      ],
      "execution_count": 24,
      "outputs": []
    },
    {
      "cell_type": "markdown",
      "metadata": {
        "id": "kQXaVPRvpHof"
      },
      "source": [
        "https://stackoverflow.com/questions/46444018/meaning-of-buffer-size-in-dataset-map-dataset-prefetch-and-dataset-shuffle\n",
        "\n",
        "The buffer_size in Dataset.shuffle() can affect the randomness of your dataset, and hence the order in which elements are produced. "
      ]
    },
    {
      "cell_type": "code",
      "metadata": {
        "id": "JINNweZlpE29"
      },
      "source": [
        "# my_data = X_train\n",
        "my_data = only_zeros"
      ],
      "execution_count": 25,
      "outputs": []
    },
    {
      "cell_type": "code",
      "metadata": {
        "id": "vb1ZRTLhpMMS"
      },
      "source": [
        "dataset = tf.data.Dataset.from_tensor_slices(my_data).shuffle(buffer_size=1000)"
      ],
      "execution_count": 26,
      "outputs": []
    },
    {
      "cell_type": "code",
      "metadata": {
        "colab": {
          "base_uri": "https://localhost:8080/"
        },
        "id": "-rKS84ikpNoW",
        "outputId": "20bc4ad7-f1fa-4af2-87f7-1d199c3488ec"
      },
      "source": [
        "type(dataset)"
      ],
      "execution_count": 27,
      "outputs": [
        {
          "output_type": "execute_result",
          "data": {
            "text/plain": [
              "tensorflow.python.data.ops.dataset_ops.ShuffleDataset"
            ]
          },
          "metadata": {
            "tags": []
          },
          "execution_count": 27
        }
      ]
    },
    {
      "cell_type": "code",
      "metadata": {
        "id": "AGRiwKvrpPjm"
      },
      "source": [
        "dataset = dataset.batch(batch_size, drop_remainder=True).prefetch(1)"
      ],
      "execution_count": 28,
      "outputs": []
    },
    {
      "cell_type": "code",
      "metadata": {
        "id": "s3ple8ATpRbT"
      },
      "source": [
        "epochs = 20"
      ],
      "execution_count": 29,
      "outputs": []
    },
    {
      "cell_type": "markdown",
      "metadata": {
        "id": "ASsIQFkLpVgU"
      },
      "source": [
        "**NOTE: The generator never actually sees any real images. It learns by viewing the gradients going back through the discriminator. The better the discrimnator gets through training, the more information the discriminator contains in its gradients, which means the generator can being to make progress in learning how to generate fake images, in our case, fake zeros.**\n",
        "\n",
        "## Training Loop"
      ]
    },
    {
      "cell_type": "code",
      "metadata": {
        "colab": {
          "base_uri": "https://localhost:8080/"
        },
        "id": "vQl4_wptpTKf",
        "outputId": "d83a8741-ff91-44da-87b4-38d292db0fc5"
      },
      "source": [
        "# Grab the seprate components\n",
        "generator, discriminator = GAN.layers\n",
        "\n",
        "# For every epcoh\n",
        "for epoch in range(epochs):\n",
        "    print(f\"Currently on Epoch {epoch+1}\")\n",
        "    i = 0\n",
        "    # For every batch in the dataset\n",
        "    for X_batch in dataset:\n",
        "        i=i+1\n",
        "        if i%20 == 0:\n",
        "            print(f\"\\tCurrently on batch number {i} of {len(my_data)//batch_size}\")\n",
        "        #####################################\n",
        "        ## TRAINING THE DISCRIMINATOR ######\n",
        "        ###################################\n",
        "        \n",
        "        # Create Noise\n",
        "        noise = tf.random.normal(shape=[batch_size, codings_size])\n",
        "        \n",
        "        # Generate numbers based just on noise input\n",
        "        gen_images = generator(noise)\n",
        "        \n",
        "        # Concatenate Generated Images against the Real Ones\n",
        "        # TO use tf.concat, the data types must match!\n",
        "        X_fake_vs_real = tf.concat([gen_images, tf.dtypes.cast(X_batch,tf.float32)], axis=0)\n",
        "        \n",
        "        # Targets set to zero for fake images and 1 for real images\n",
        "        y1 = tf.constant([[0.]] * batch_size + [[1.]] * batch_size)\n",
        "        \n",
        "        # This gets rid of a Keras warning\n",
        "        discriminator.trainable = True\n",
        "        \n",
        "        # Train the discriminator on this batch\n",
        "        discriminator.train_on_batch(X_fake_vs_real, y1)\n",
        "        \n",
        "        \n",
        "        #####################################\n",
        "        ## TRAINING THE GENERATOR     ######\n",
        "        ###################################\n",
        "        \n",
        "        # Create some noise\n",
        "        noise = tf.random.normal(shape=[batch_size, codings_size])\n",
        "        \n",
        "        # We want discriminator to belive that fake images are real\n",
        "        y2 = tf.constant([[1.]] * batch_size)\n",
        "        \n",
        "        # Avois a warning\n",
        "        discriminator.trainable = False\n",
        "        \n",
        "        GAN.train_on_batch(noise, y2)\n",
        "        \n",
        "print(\"TRAINING COMPLETE\")  "
      ],
      "execution_count": 30,
      "outputs": [
        {
          "output_type": "stream",
          "text": [
            "Currently on Epoch 1\n",
            "\tCurrently on batch number 20 of 185\n",
            "\tCurrently on batch number 40 of 185\n",
            "\tCurrently on batch number 60 of 185\n",
            "\tCurrently on batch number 80 of 185\n",
            "\tCurrently on batch number 100 of 185\n",
            "\tCurrently on batch number 120 of 185\n",
            "\tCurrently on batch number 140 of 185\n",
            "\tCurrently on batch number 160 of 185\n",
            "\tCurrently on batch number 180 of 185\n",
            "Currently on Epoch 2\n",
            "\tCurrently on batch number 20 of 185\n",
            "\tCurrently on batch number 40 of 185\n",
            "\tCurrently on batch number 60 of 185\n",
            "\tCurrently on batch number 80 of 185\n",
            "\tCurrently on batch number 100 of 185\n",
            "\tCurrently on batch number 120 of 185\n",
            "\tCurrently on batch number 140 of 185\n",
            "\tCurrently on batch number 160 of 185\n",
            "\tCurrently on batch number 180 of 185\n",
            "Currently on Epoch 3\n",
            "\tCurrently on batch number 20 of 185\n",
            "\tCurrently on batch number 40 of 185\n",
            "\tCurrently on batch number 60 of 185\n",
            "\tCurrently on batch number 80 of 185\n",
            "\tCurrently on batch number 100 of 185\n",
            "\tCurrently on batch number 120 of 185\n",
            "\tCurrently on batch number 140 of 185\n",
            "\tCurrently on batch number 160 of 185\n",
            "\tCurrently on batch number 180 of 185\n",
            "Currently on Epoch 4\n",
            "\tCurrently on batch number 20 of 185\n",
            "\tCurrently on batch number 40 of 185\n",
            "\tCurrently on batch number 60 of 185\n",
            "\tCurrently on batch number 80 of 185\n",
            "\tCurrently on batch number 100 of 185\n",
            "\tCurrently on batch number 120 of 185\n",
            "\tCurrently on batch number 140 of 185\n",
            "\tCurrently on batch number 160 of 185\n",
            "\tCurrently on batch number 180 of 185\n",
            "Currently on Epoch 5\n",
            "\tCurrently on batch number 20 of 185\n",
            "\tCurrently on batch number 40 of 185\n",
            "\tCurrently on batch number 60 of 185\n",
            "\tCurrently on batch number 80 of 185\n",
            "\tCurrently on batch number 100 of 185\n",
            "\tCurrently on batch number 120 of 185\n",
            "\tCurrently on batch number 140 of 185\n",
            "\tCurrently on batch number 160 of 185\n",
            "\tCurrently on batch number 180 of 185\n",
            "Currently on Epoch 6\n",
            "\tCurrently on batch number 20 of 185\n",
            "\tCurrently on batch number 40 of 185\n",
            "\tCurrently on batch number 60 of 185\n",
            "\tCurrently on batch number 80 of 185\n",
            "\tCurrently on batch number 100 of 185\n",
            "\tCurrently on batch number 120 of 185\n",
            "\tCurrently on batch number 140 of 185\n",
            "\tCurrently on batch number 160 of 185\n",
            "\tCurrently on batch number 180 of 185\n",
            "Currently on Epoch 7\n",
            "\tCurrently on batch number 20 of 185\n",
            "\tCurrently on batch number 40 of 185\n",
            "\tCurrently on batch number 60 of 185\n",
            "\tCurrently on batch number 80 of 185\n",
            "\tCurrently on batch number 100 of 185\n",
            "\tCurrently on batch number 120 of 185\n",
            "\tCurrently on batch number 140 of 185\n",
            "\tCurrently on batch number 160 of 185\n",
            "\tCurrently on batch number 180 of 185\n",
            "Currently on Epoch 8\n",
            "\tCurrently on batch number 20 of 185\n",
            "\tCurrently on batch number 40 of 185\n",
            "\tCurrently on batch number 60 of 185\n",
            "\tCurrently on batch number 80 of 185\n",
            "\tCurrently on batch number 100 of 185\n",
            "\tCurrently on batch number 120 of 185\n",
            "\tCurrently on batch number 140 of 185\n",
            "\tCurrently on batch number 160 of 185\n",
            "\tCurrently on batch number 180 of 185\n",
            "Currently on Epoch 9\n",
            "\tCurrently on batch number 20 of 185\n",
            "\tCurrently on batch number 40 of 185\n",
            "\tCurrently on batch number 60 of 185\n",
            "\tCurrently on batch number 80 of 185\n",
            "\tCurrently on batch number 100 of 185\n",
            "\tCurrently on batch number 120 of 185\n",
            "\tCurrently on batch number 140 of 185\n",
            "\tCurrently on batch number 160 of 185\n",
            "\tCurrently on batch number 180 of 185\n",
            "Currently on Epoch 10\n",
            "\tCurrently on batch number 20 of 185\n",
            "\tCurrently on batch number 40 of 185\n",
            "\tCurrently on batch number 60 of 185\n",
            "\tCurrently on batch number 80 of 185\n",
            "\tCurrently on batch number 100 of 185\n",
            "\tCurrently on batch number 120 of 185\n",
            "\tCurrently on batch number 140 of 185\n",
            "\tCurrently on batch number 160 of 185\n",
            "\tCurrently on batch number 180 of 185\n",
            "Currently on Epoch 11\n",
            "\tCurrently on batch number 20 of 185\n",
            "\tCurrently on batch number 40 of 185\n",
            "\tCurrently on batch number 60 of 185\n",
            "\tCurrently on batch number 80 of 185\n",
            "\tCurrently on batch number 100 of 185\n",
            "\tCurrently on batch number 120 of 185\n",
            "\tCurrently on batch number 140 of 185\n",
            "\tCurrently on batch number 160 of 185\n",
            "\tCurrently on batch number 180 of 185\n",
            "Currently on Epoch 12\n",
            "\tCurrently on batch number 20 of 185\n",
            "\tCurrently on batch number 40 of 185\n",
            "\tCurrently on batch number 60 of 185\n",
            "\tCurrently on batch number 80 of 185\n",
            "\tCurrently on batch number 100 of 185\n",
            "\tCurrently on batch number 120 of 185\n",
            "\tCurrently on batch number 140 of 185\n",
            "\tCurrently on batch number 160 of 185\n",
            "\tCurrently on batch number 180 of 185\n",
            "Currently on Epoch 13\n",
            "\tCurrently on batch number 20 of 185\n",
            "\tCurrently on batch number 40 of 185\n",
            "\tCurrently on batch number 60 of 185\n",
            "\tCurrently on batch number 80 of 185\n",
            "\tCurrently on batch number 100 of 185\n",
            "\tCurrently on batch number 120 of 185\n",
            "\tCurrently on batch number 140 of 185\n",
            "\tCurrently on batch number 160 of 185\n",
            "\tCurrently on batch number 180 of 185\n",
            "Currently on Epoch 14\n",
            "\tCurrently on batch number 20 of 185\n",
            "\tCurrently on batch number 40 of 185\n",
            "\tCurrently on batch number 60 of 185\n",
            "\tCurrently on batch number 80 of 185\n",
            "\tCurrently on batch number 100 of 185\n",
            "\tCurrently on batch number 120 of 185\n",
            "\tCurrently on batch number 140 of 185\n",
            "\tCurrently on batch number 160 of 185\n",
            "\tCurrently on batch number 180 of 185\n",
            "Currently on Epoch 15\n",
            "\tCurrently on batch number 20 of 185\n",
            "\tCurrently on batch number 40 of 185\n",
            "\tCurrently on batch number 60 of 185\n",
            "\tCurrently on batch number 80 of 185\n",
            "\tCurrently on batch number 100 of 185\n",
            "\tCurrently on batch number 120 of 185\n",
            "\tCurrently on batch number 140 of 185\n",
            "\tCurrently on batch number 160 of 185\n",
            "\tCurrently on batch number 180 of 185\n",
            "Currently on Epoch 16\n",
            "\tCurrently on batch number 20 of 185\n",
            "\tCurrently on batch number 40 of 185\n",
            "\tCurrently on batch number 60 of 185\n",
            "\tCurrently on batch number 80 of 185\n",
            "\tCurrently on batch number 100 of 185\n",
            "\tCurrently on batch number 120 of 185\n",
            "\tCurrently on batch number 140 of 185\n",
            "\tCurrently on batch number 160 of 185\n",
            "\tCurrently on batch number 180 of 185\n",
            "Currently on Epoch 17\n",
            "\tCurrently on batch number 20 of 185\n",
            "\tCurrently on batch number 40 of 185\n",
            "\tCurrently on batch number 60 of 185\n",
            "\tCurrently on batch number 80 of 185\n",
            "\tCurrently on batch number 100 of 185\n",
            "\tCurrently on batch number 120 of 185\n",
            "\tCurrently on batch number 140 of 185\n",
            "\tCurrently on batch number 160 of 185\n",
            "\tCurrently on batch number 180 of 185\n",
            "Currently on Epoch 18\n",
            "\tCurrently on batch number 20 of 185\n",
            "\tCurrently on batch number 40 of 185\n",
            "\tCurrently on batch number 60 of 185\n",
            "\tCurrently on batch number 80 of 185\n",
            "\tCurrently on batch number 100 of 185\n",
            "\tCurrently on batch number 120 of 185\n",
            "\tCurrently on batch number 140 of 185\n",
            "\tCurrently on batch number 160 of 185\n",
            "\tCurrently on batch number 180 of 185\n",
            "Currently on Epoch 19\n",
            "\tCurrently on batch number 20 of 185\n",
            "\tCurrently on batch number 40 of 185\n",
            "\tCurrently on batch number 60 of 185\n",
            "\tCurrently on batch number 80 of 185\n",
            "\tCurrently on batch number 100 of 185\n",
            "\tCurrently on batch number 120 of 185\n",
            "\tCurrently on batch number 140 of 185\n",
            "\tCurrently on batch number 160 of 185\n",
            "\tCurrently on batch number 180 of 185\n",
            "Currently on Epoch 20\n",
            "\tCurrently on batch number 20 of 185\n",
            "\tCurrently on batch number 40 of 185\n",
            "\tCurrently on batch number 60 of 185\n",
            "\tCurrently on batch number 80 of 185\n",
            "\tCurrently on batch number 100 of 185\n",
            "\tCurrently on batch number 120 of 185\n",
            "\tCurrently on batch number 140 of 185\n",
            "\tCurrently on batch number 160 of 185\n",
            "\tCurrently on batch number 180 of 185\n",
            "TRAINING COMPLETE\n"
          ],
          "name": "stdout"
        }
      ]
    },
    {
      "cell_type": "code",
      "metadata": {
        "id": "4wmgCQX3pdzh"
      },
      "source": [
        "noise = tf.random.normal(shape=[10, codings_size])"
      ],
      "execution_count": 31,
      "outputs": []
    },
    {
      "cell_type": "code",
      "metadata": {
        "colab": {
          "base_uri": "https://localhost:8080/"
        },
        "id": "ECdsKCBWqNQN",
        "outputId": "dc9c871f-b69c-4915-c160-fa8a59779ce1"
      },
      "source": [
        "noise.shape"
      ],
      "execution_count": 32,
      "outputs": [
        {
          "output_type": "execute_result",
          "data": {
            "text/plain": [
              "TensorShape([10, 100])"
            ]
          },
          "metadata": {
            "tags": []
          },
          "execution_count": 32
        }
      ]
    },
    {
      "cell_type": "code",
      "metadata": {
        "colab": {
          "base_uri": "https://localhost:8080/"
        },
        "id": "TAM3RIzdqPSu",
        "outputId": "5fefd32e-a6ca-40a7-ec1f-1a3cf7a6368f"
      },
      "source": [
        "noise.shape"
      ],
      "execution_count": 34,
      "outputs": [
        {
          "output_type": "execute_result",
          "data": {
            "text/plain": [
              "TensorShape([10, 100])"
            ]
          },
          "metadata": {
            "tags": []
          },
          "execution_count": 34
        }
      ]
    },
    {
      "cell_type": "code",
      "metadata": {
        "colab": {
          "base_uri": "https://localhost:8080/",
          "height": 84
        },
        "id": "Zlej38iBqSI7",
        "outputId": "5f0997d8-d8b9-4019-8dc5-d62a0435016e"
      },
      "source": [
        "plt.imshow(noise)\n",
        "plt.show()"
      ],
      "execution_count": 35,
      "outputs": [
        {
          "output_type": "display_data",
          "data": {
            "image/png": "[encoded data removed]",
            "text/plain": [
              "<Figure size 432x288 with 1 Axes>"
            ]
          },
          "metadata": {
            "tags": [],
            "needs_background": "light"
          }
        }
      ]
    },
    {
      "cell_type": "code",
      "metadata": {
        "id": "1CNcSHUnqYXx"
      },
      "source": [
        "images = generator(noise)"
      ],
      "execution_count": 36,
      "outputs": []
    },
    {
      "cell_type": "code",
      "metadata": {
        "colab": {
          "base_uri": "https://localhost:8080/",
          "height": 1000
        },
        "id": "UJVrlvv2qbJg",
        "outputId": "8a252f1c-fa33-417e-e69b-5db52592e34c"
      },
      "source": [
        "for image in images:\n",
        "    plt.imshow(image.numpy().reshape(28,28))\n",
        "    plt.show()"
      ],
      "execution_count": 38,
      "outputs": [
        {
          "output_type": "display_data",
          "data": {
            "image/png": "[encoded data removed]",
            "text/plain": [
              "<Figure size 432x288 with 1 Axes>"
            ]
          },
          "metadata": {
            "tags": [],
            "needs_background": "light"
          }
        },
        {
          "output_type": "display_data",
          "data": {
            "image/png": "[encoded data removed]",
            "text/plain": [
              "<Figure size 432x288 with 1 Axes>"
            ]
          },
          "metadata": {
            "tags": [],
            "needs_background": "light"
          }
        },
        {
          "output_type": "display_data",
          "data": {
            "image/png": "[encoded data removed]",
            "text/plain": [
              "<Figure size 432x288 with 1 Axes>"
            ]
          },
          "metadata": {
            "tags": [],
            "needs_background": "light"
          }
        },
        {
          "output_type": "display_data",
          "data": {
            "image/png": "[encoded data removed]",
            "text/plain": [
              "<Figure size 432x288 with 1 Axes>"
            ]
          },
          "metadata": {
            "tags": [],
            "needs_background": "light"
          }
        },
        {
          "output_type": "display_data",
          "data": {
            "image/png": "[encoded data removed]",
            "text/plain": [
              "<Figure size 432x288 with 1 Axes>"
            ]
          },
          "metadata": {
            "tags": [],
            "needs_background": "light"
          }
        },
        {
          "output_type": "display_data",
          "data": {
            "image/png": "[encoded data removed]",
            "text/plain": [
              "<Figure size 432x288 with 1 Axes>"
            ]
          },
          "metadata": {
            "tags": [],
            "needs_background": "light"
          }
        },
        {
          "output_type": "display_data",
          "data": {
            "image/png": "[encoded data removed]",
            "text/plain": [
              "<Figure size 432x288 with 1 Axes>"
            ]
          },
          "metadata": {
            "tags": [],
            "needs_background": "light"
          }
        },
        {
          "output_type": "display_data",
          "data": {
            "image/png": "[encoded data removed]",
            "text/plain": [
              "<Figure size 432x288 with 1 Axes>"
            ]
          },
          "metadata": {
            "tags": [],
            "needs_background": "light"
          }
        },
        {
          "output_type": "display_data",
          "data": {
            "image/png": "[encoded data removed]",
            "text/plain": [
              "<Figure size 432x288 with 1 Axes>"
            ]
          },
          "metadata": {
            "tags": [],
            "needs_background": "light"
          }
        },
        {
          "output_type": "display_data",
          "data": {
            "image/png": "[encoded data removed]",
            "text/plain": [
              "<Figure size 432x288 with 1 Axes>"
            ]
          },
          "metadata": {
            "tags": [],
            "needs_background": "light"
          }
        }
      ]
    },
    {
      "cell_type": "markdown",
      "metadata": {
        "id": "TPka2GMDqim-"
      },
      "source": [
        "## Saving models:"
      ]
    },
    {
      "cell_type": "code",
      "metadata": {
        "colab": {
          "base_uri": "https://localhost:8080/"
        },
        "id": "IYMP7iGRqd7S",
        "outputId": "56208e58-ff24-4fbb-8981-149108aee7ff"
      },
      "source": [
        "generator.save('mnist_GAN-CNN_generator.h5')"
      ],
      "execution_count": 39,
      "outputs": [
        {
          "output_type": "stream",
          "text": [
            "WARNING:tensorflow:Compiled the loaded model, but the compiled metrics have yet to be built. `model.compile_metrics` will be empty until you train or evaluate the model.\n"
          ],
          "name": "stdout"
        }
      ]
    },
    {
      "cell_type": "code",
      "metadata": {
        "id": "8MCceAdfqv_Y"
      },
      "source": [
        "discriminator.save('mnist_GAN-CNN_discriminator.h5')"
      ],
      "execution_count": 40,
      "outputs": []
    },
    {
      "cell_type": "code",
      "metadata": {
        "id": "of_v0rqIqygU"
      },
      "source": [
        "GAN.save('mnist_GAN-CNN_model.h5')"
      ],
      "execution_count": 41,
      "outputs": []
    }
  ]
}