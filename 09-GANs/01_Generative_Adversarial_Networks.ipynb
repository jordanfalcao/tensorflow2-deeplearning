{
  "nbformat": 4,
  "nbformat_minor": 0,
  "metadata": {
    "colab": {
      "name": "01-Generative-Adversarial-Networks.ipynb",
      "provenance": []
    },
    "kernelspec": {
      "name": "python3",
      "display_name": "Python 3"
    },
    "language_info": {
      "name": "python"
    },
    "accelerator": "GPU"
  },
  "cells": [
    {
      "cell_type": "markdown",
      "metadata": {
        "id": "9PmKeLwd_54X"
      },
      "source": [
        "# GANs - Generative Adverserial Networks"
      ]
    },
    {
      "cell_type": "code",
      "metadata": {
        "id": "Ny78EC1e_5Tk"
      },
      "source": [
        "import pandas as pd\n",
        "import numpy as np\n",
        "import matplotlib.pyplot as plt\n",
        "import tensorflow as tf"
      ],
      "execution_count": 2,
      "outputs": []
    },
    {
      "cell_type": "code",
      "metadata": {
        "id": "2QB9HzZj_ytY"
      },
      "source": [
        "from tensorflow.keras.datasets import mnist"
      ],
      "execution_count": 3,
      "outputs": []
    },
    {
      "cell_type": "code",
      "metadata": {
        "colab": {
          "base_uri": "https://localhost:8080/"
        },
        "id": "Xys6Uhl9AGvf",
        "outputId": "80809456-48cf-4550-fef6-74aae11d6f20"
      },
      "source": [
        "(X_train, y_train), (X_test, y_test) = mnist.load_data()"
      ],
      "execution_count": 4,
      "outputs": [
        {
          "output_type": "stream",
          "text": [
            "Downloading data from https://storage.googleapis.com/tensorflow/tf-keras-datasets/mnist.npz\n",
            "11493376/11490434 [==============================] - 0s 0us/step\n"
          ],
          "name": "stdout"
        }
      ]
    },
    {
      "cell_type": "code",
      "metadata": {
        "colab": {
          "base_uri": "https://localhost:8080/",
          "height": 264
        },
        "id": "JKagnzhuAH_g",
        "outputId": "f29f1fb4-2c40-425e-a69c-269ca1ebd7db"
      },
      "source": [
        "plt.imshow(X_train[0])\n",
        "plt.show()"
      ],
      "execution_count": 5,
      "outputs": [
        {
          "output_type": "display_data",
          "data": {
            "image/png": "[encoded data removed]",
            "text/plain": [
              "<Figure size 432x288 with 1 Axes>"
            ]
          },
          "metadata": {
            "tags": [],
            "needs_background": "light"
          }
        }
      ]
    },
    {
      "cell_type": "code",
      "metadata": {
        "colab": {
          "base_uri": "https://localhost:8080/"
        },
        "id": "ib3mHEYvAJ40",
        "outputId": "bc9bdcbc-37e9-4d96-9258-7666532a1d85"
      },
      "source": [
        "y_train"
      ],
      "execution_count": 6,
      "outputs": [
        {
          "output_type": "execute_result",
          "data": {
            "text/plain": [
              "array([5, 0, 4, ..., 5, 6, 8], dtype=uint8)"
            ]
          },
          "metadata": {
            "tags": []
          },
          "execution_count": 6
        }
      ]
    },
    {
      "cell_type": "markdown",
      "metadata": {
        "id": "peQ7uZF0AOqy"
      },
      "source": [
        "## Filtering out the Data for Faster Training on Smaller Dataset"
      ]
    },
    {
      "cell_type": "code",
      "metadata": {
        "id": "A_Va_ryxAMFd"
      },
      "source": [
        "only_zeros = X_train[y_train==0]"
      ],
      "execution_count": 7,
      "outputs": []
    },
    {
      "cell_type": "code",
      "metadata": {
        "colab": {
          "base_uri": "https://localhost:8080/"
        },
        "id": "5YQgNgEfBQHd",
        "outputId": "03ab3f70-5408-4922-9787-1c7604a18446"
      },
      "source": [
        "only_zeros.shape"
      ],
      "execution_count": 8,
      "outputs": [
        {
          "output_type": "execute_result",
          "data": {
            "text/plain": [
              "(5923, 28, 28)"
            ]
          },
          "metadata": {
            "tags": []
          },
          "execution_count": 8
        }
      ]
    },
    {
      "cell_type": "code",
      "metadata": {
        "colab": {
          "base_uri": "https://localhost:8080/",
          "height": 264
        },
        "id": "k54RJshABRbx",
        "outputId": "df2e9a61-0bd7-47cb-fda9-0d1f3fede3d6"
      },
      "source": [
        "plt.imshow(only_zeros[950])\n",
        "plt.show()"
      ],
      "execution_count": 9,
      "outputs": [
        {
          "output_type": "display_data",
          "data": {
            "image/png": "[encoded data removed]",
            "text/plain": [
              "<Figure size 432x288 with 1 Axes>"
            ]
          },
          "metadata": {
            "tags": [],
            "needs_background": "light"
          }
        }
      ]
    },
    {
      "cell_type": "markdown",
      "metadata": {
        "id": "udVxsXxyDWAX"
      },
      "source": [
        "## Create the model"
      ]
    },
    {
      "cell_type": "code",
      "metadata": {
        "id": "wlkovza-BTwZ"
      },
      "source": [
        "from tensorflow.keras.layers import Dense, Reshape, Flatten\n",
        "from tensorflow.keras.models import Sequential"
      ],
      "execution_count": 10,
      "outputs": []
    },
    {
      "cell_type": "markdown",
      "metadata": {
        "id": "qoIIdmXyIcp9"
      },
      "source": [
        "We compile the discriminator, but we don't compile the generator."
      ]
    },
    {
      "cell_type": "code",
      "metadata": {
        "id": "hqdDhE74BbNC"
      },
      "source": [
        "discriminator = Sequential()\n",
        "\n",
        "discriminator.add(Flatten(input_shape=[28,28]))\n",
        "discriminator.add(Dense(150, activation='relu'))\n",
        "discriminator.add(Dense(100, activation='relu'))\n",
        "\n",
        "# final output layer\n",
        "discriminator.add(Dense(1, activation='sigmoid')) # real or fake - 0 or 1\n",
        "\n",
        "discriminator.compile(loss='binary_crossentropy', optimizer='adam')"
      ],
      "execution_count": 12,
      "outputs": []
    },
    {
      "cell_type": "code",
      "metadata": {
        "id": "0WMjqpJyEAvk"
      },
      "source": [
        "# we don't compile the generator, because it's only trained through the full GAN model\n",
        "codings_size = 100\n",
        "\n",
        "# similar as autoencoder: 784 --> 150 --> 100 --> 150 --> 784\n",
        "generator = Sequential()\n",
        "\n",
        "generator.add(Dense(100, activation='relu', input_shape=[codings_size]))\n",
        "generator.add(Dense(150, activation='relu'))\n",
        "generator.add(Dense(784, activation='relu'))\n",
        "\n",
        "generator.add(Reshape([28,28]))"
      ],
      "execution_count": 13,
      "outputs": []
    },
    {
      "cell_type": "code",
      "metadata": {
        "id": "JiuriEGIIZt_"
      },
      "source": [
        "GAN = Sequential([generator, discriminator])"
      ],
      "execution_count": 14,
      "outputs": []
    },
    {
      "cell_type": "code",
      "metadata": {
        "id": "KuJ1cOSxI2iz"
      },
      "source": [
        "# the discriminator shouldn't be trained during the second phase\n",
        "discriminator.trainable = False"
      ],
      "execution_count": 15,
      "outputs": []
    },
    {
      "cell_type": "code",
      "metadata": {
        "colab": {
          "base_uri": "https://localhost:8080/"
        },
        "id": "2TcYQUU7JBLn",
        "outputId": "6d812984-4bc5-4f6f-dd60-39da59c39928"
      },
      "source": [
        "# layers\n",
        "discriminator.layers[0].trainable"
      ],
      "execution_count": 19,
      "outputs": [
        {
          "output_type": "execute_result",
          "data": {
            "text/plain": [
              "False"
            ]
          },
          "metadata": {
            "tags": []
          },
          "execution_count": 19
        }
      ]
    },
    {
      "cell_type": "code",
      "metadata": {
        "colab": {
          "base_uri": "https://localhost:8080/"
        },
        "id": "wNB6n3T_J1Rn",
        "outputId": "79e4f854-5980-4b09-febc-22556761eea2"
      },
      "source": [
        "# hidden layer\n",
        "discriminator.layers[1].trainable"
      ],
      "execution_count": 20,
      "outputs": [
        {
          "output_type": "execute_result",
          "data": {
            "text/plain": [
              "False"
            ]
          },
          "metadata": {
            "tags": []
          },
          "execution_count": 20
        }
      ]
    },
    {
      "cell_type": "code",
      "metadata": {
        "id": "n8lvtQUGKA6F"
      },
      "source": [
        "GAN.compile(loss='binary_crossentropy', optimizer='adam')"
      ],
      "execution_count": 21,
      "outputs": []
    },
    {
      "cell_type": "code",
      "metadata": {
        "id": "92E90IwVTfR0",
        "outputId": "62618fca-8f17-4f4d-982d-ae4586538df2",
        "colab": {
          "base_uri": "https://localhost:8080/"
        }
      },
      "source": [
        "# two sequential models\n",
        "GAN.layers"
      ],
      "execution_count": 32,
      "outputs": [
        {
          "output_type": "execute_result",
          "data": {
            "text/plain": [
              "[<tensorflow.python.keras.engine.sequential.Sequential at 0x7fd6104199d0>,\n",
              " <tensorflow.python.keras.engine.sequential.Sequential at 0x7fd6104a8f50>]"
            ]
          },
          "metadata": {
            "tags": []
          },
          "execution_count": 32
        }
      ]
    },
    {
      "cell_type": "code",
      "metadata": {
        "colab": {
          "base_uri": "https://localhost:8080/"
        },
        "id": "FNJUfWEgK4xg",
        "outputId": "379e44c2-43bb-4158-9947-bee600fb899c"
      },
      "source": [
        "GAN.summary()"
      ],
      "execution_count": 22,
      "outputs": [
        {
          "output_type": "stream",
          "text": [
            "Model: \"sequential_3\"\n",
            "_________________________________________________________________\n",
            "Layer (type)                 Output Shape              Param #   \n",
            "=================================================================\n",
            "sequential_2 (Sequential)    (None, 28, 28)            143634    \n",
            "_________________________________________________________________\n",
            "sequential_1 (Sequential)    (None, 1)                 132951    \n",
            "=================================================================\n",
            "Total params: 276,585\n",
            "Trainable params: 143,634\n",
            "Non-trainable params: 132,951\n",
            "_________________________________________________________________\n"
          ],
          "name": "stdout"
        }
      ]
    },
    {
      "cell_type": "code",
      "metadata": {
        "colab": {
          "base_uri": "https://localhost:8080/"
        },
        "id": "hy8yjky_MCB7",
        "outputId": "9fc327e1-95a5-44cc-a623-098839ede8cd"
      },
      "source": [
        "# generator\n",
        "GAN.layers[0].summary()"
      ],
      "execution_count": 23,
      "outputs": [
        {
          "output_type": "stream",
          "text": [
            "Model: \"sequential_2\"\n",
            "_________________________________________________________________\n",
            "Layer (type)                 Output Shape              Param #   \n",
            "=================================================================\n",
            "dense_6 (Dense)              (None, 100)               10100     \n",
            "_________________________________________________________________\n",
            "dense_7 (Dense)              (None, 150)               15150     \n",
            "_________________________________________________________________\n",
            "dense_8 (Dense)              (None, 784)               118384    \n",
            "_________________________________________________________________\n",
            "reshape (Reshape)            (None, 28, 28)            0         \n",
            "=================================================================\n",
            "Total params: 143,634\n",
            "Trainable params: 143,634\n",
            "Non-trainable params: 0\n",
            "_________________________________________________________________\n"
          ],
          "name": "stdout"
        }
      ]
    },
    {
      "cell_type": "code",
      "metadata": {
        "colab": {
          "base_uri": "https://localhost:8080/"
        },
        "id": "ikYGzwSlMK1R",
        "outputId": "57e5f93d-d03a-48ea-b384-4ff8d9cf6a43"
      },
      "source": [
        "# discriminator\n",
        "GAN.layers[1].summary()"
      ],
      "execution_count": 24,
      "outputs": [
        {
          "output_type": "stream",
          "text": [
            "Model: \"sequential_1\"\n",
            "_________________________________________________________________\n",
            "Layer (type)                 Output Shape              Param #   \n",
            "=================================================================\n",
            "flatten_1 (Flatten)          (None, 784)               0         \n",
            "_________________________________________________________________\n",
            "dense_3 (Dense)              (None, 150)               117750    \n",
            "_________________________________________________________________\n",
            "dense_4 (Dense)              (None, 100)               15100     \n",
            "_________________________________________________________________\n",
            "dense_5 (Dense)              (None, 1)                 101       \n",
            "=================================================================\n",
            "Total params: 132,951\n",
            "Trainable params: 0\n",
            "Non-trainable params: 132,951\n",
            "_________________________________________________________________\n"
          ],
          "name": "stdout"
        }
      ]
    },
    {
      "cell_type": "markdown",
      "metadata": {
        "id": "g6MLNVHwMoK8"
      },
      "source": [
        "### Setting up Training Batches"
      ]
    },
    {
      "cell_type": "code",
      "metadata": {
        "id": "tC5zq34dMkrw"
      },
      "source": [
        "batch_size = 32"
      ],
      "execution_count": 25,
      "outputs": []
    },
    {
      "cell_type": "markdown",
      "metadata": {
        "id": "ADhWpqifMvmi"
      },
      "source": [
        "https://stackoverflow.com/questions/46444018/meaning-of-buffer-size-in-dataset-map-dataset-prefetch-and-dataset-shuffle\n",
        "\n",
        "The buffer_size in Dataset.shuffle() can affect the randomness of your dataset, and hence the order in which elements are produced. "
      ]
    },
    {
      "cell_type": "code",
      "metadata": {
        "id": "k6w_q0x5MqSY"
      },
      "source": [
        "# change data, if you want\n",
        "# my_data = X_train\n",
        "my_data = only_zeros"
      ],
      "execution_count": 26,
      "outputs": []
    },
    {
      "cell_type": "code",
      "metadata": {
        "id": "x8kp5R9BP9qC"
      },
      "source": [
        "dataset = tf.data.Dataset.from_tensor_slices(my_data).shuffle(buffer_size=1000)"
      ],
      "execution_count": 27,
      "outputs": []
    },
    {
      "cell_type": "code",
      "metadata": {
        "id": "-QjhMCnlQqIJ",
        "outputId": "165866b7-583d-49b5-f21f-c8502ec74fe6",
        "colab": {
          "base_uri": "https://localhost:8080/"
        }
      },
      "source": [
        "type(dataset)"
      ],
      "execution_count": 28,
      "outputs": [
        {
          "output_type": "execute_result",
          "data": {
            "text/plain": [
              "tensorflow.python.data.ops.dataset_ops.ShuffleDataset"
            ]
          },
          "metadata": {
            "tags": []
          },
          "execution_count": 28
        }
      ]
    },
    {
      "cell_type": "code",
      "metadata": {
        "id": "AN5lchhfS6wO",
        "outputId": "c166938b-4058-4c5b-d6af-0f8939a3bc4b",
        "colab": {
          "base_uri": "https://localhost:8080/"
        }
      },
      "source": [
        "my_data.shape"
      ],
      "execution_count": 31,
      "outputs": [
        {
          "output_type": "execute_result",
          "data": {
            "text/plain": [
              "(5923, 28, 28)"
            ]
          },
          "metadata": {
            "tags": []
          },
          "execution_count": 31
        }
      ]
    },
    {
      "cell_type": "code",
      "metadata": {
        "id": "iEi8ZIr1QsEf"
      },
      "source": [
        "# drop_remainder=True, because 5923/32 != 0\n",
        "dataset = dataset.batch(batch_size, drop_remainder=True).prefetch(1)"
      ],
      "execution_count": 29,
      "outputs": []
    },
    {
      "cell_type": "code",
      "metadata": {
        "id": "txuzOU9EQwGv"
      },
      "source": [
        "epochs = 1"
      ],
      "execution_count": 33,
      "outputs": []
    },
    {
      "cell_type": "markdown",
      "metadata": {
        "id": "ofHrpiNcTST1"
      },
      "source": [
        "**NOTE: The generator never actually sees any real images. It learns by viewing the gradients going back through the discriminator. The better the discrimnator gets through training, the more information the discriminator contains in its gradients, which means the generator can being to make progress in learning how to generate fake images, in our case, fake zeros.**\n",
        "\n",
        "## Training Loop"
      ]
    },
    {
      "cell_type": "code",
      "metadata": {
        "id": "KK4qOkPeQxOA"
      },
      "source": [
        "# Grab the seprate components\n",
        "generator, discriminator = GAN.layers\n",
        "\n",
        "# For every epoch\n",
        "for epoch in range(epochs):\n",
        "  print"
      ],
      "execution_count": null,
      "outputs": []
    }
  ]
}